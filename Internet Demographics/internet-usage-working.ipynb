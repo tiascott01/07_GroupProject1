{
 "cells": [
  {
   "cell_type": "code",
   "execution_count": 1,
   "metadata": {},
   "outputs": [
    {
     "data": {
      "text/html": [
       "<div>\n",
       "<style scoped>\n",
       "    .dataframe tbody tr th:only-of-type {\n",
       "        vertical-align: middle;\n",
       "    }\n",
       "\n",
       "    .dataframe tbody tr th {\n",
       "        vertical-align: top;\n",
       "    }\n",
       "\n",
       "    .dataframe thead th {\n",
       "        text-align: right;\n",
       "    }\n",
       "</style>\n",
       "<table border=\"1\" class=\"dataframe\">\n",
       "  <thead>\n",
       "    <tr style=\"text-align: right;\">\n",
       "      <th></th>\n",
       "      <th>Country</th>\n",
       "      <th>Edition</th>\n",
       "      <th>1.1.1) Internet users</th>\n",
       "      <th>1.1.2) Fixed-line broadband subscribers</th>\n",
       "      <th>1.1.3) Mobile subscribers</th>\n",
       "      <th>1.1.4) Gender gap in internet access</th>\n",
       "      <th>1.1.5) Gender gap in mobile phone access</th>\n",
       "      <th>1.2.1) Average fixed broadband upload speed</th>\n",
       "      <th>1.2.2) Average fixed broadband download speed</th>\n",
       "      <th>1.2.3) Average fixed broadband latency</th>\n",
       "      <th>...</th>\n",
       "      <th>BG15) Internet users (population)</th>\n",
       "      <th>BG16) Offline population</th>\n",
       "      <th>BG17) Internet access gender gap</th>\n",
       "      <th>BG18) Mobile phone access gender gap</th>\n",
       "      <th>BG19) Internet users (percent of population)</th>\n",
       "      <th>BG20) Male internet users</th>\n",
       "      <th>BG21) Female internet users</th>\n",
       "      <th>BG22) Male mobile phone subscribers</th>\n",
       "      <th>BG23) Female mobile phone subscribers</th>\n",
       "      <th>BG24) Total fixed line broadband subscribers</th>\n",
       "    </tr>\n",
       "  </thead>\n",
       "  <tbody>\n",
       "    <tr>\n",
       "      <th>0</th>\n",
       "      <td>United States</td>\n",
       "      <td>E1</td>\n",
       "      <td>81.5</td>\n",
       "      <td>31.85</td>\n",
       "      <td>119.1</td>\n",
       "      <td>NaN</td>\n",
       "      <td>NaN</td>\n",
       "      <td>25.30</td>\n",
       "      <td>51.74</td>\n",
       "      <td>45.00</td>\n",
       "      <td>...</td>\n",
       "      <td>239.23</td>\n",
       "      <td>81.65</td>\n",
       "      <td>NaN</td>\n",
       "      <td>NaN</td>\n",
       "      <td>74.6</td>\n",
       "      <td>NaN</td>\n",
       "      <td>NaN</td>\n",
       "      <td>95.0</td>\n",
       "      <td>91.0</td>\n",
       "      <td>102212000</td>\n",
       "    </tr>\n",
       "    <tr>\n",
       "      <th>1</th>\n",
       "      <td>United States</td>\n",
       "      <td>E2</td>\n",
       "      <td>81.9</td>\n",
       "      <td>32.73</td>\n",
       "      <td>122.6</td>\n",
       "      <td>1.1</td>\n",
       "      <td>2.1</td>\n",
       "      <td>23.40</td>\n",
       "      <td>63.31</td>\n",
       "      <td>34.77</td>\n",
       "      <td>...</td>\n",
       "      <td>276.32</td>\n",
       "      <td>46.69</td>\n",
       "      <td>1.0</td>\n",
       "      <td>2.0</td>\n",
       "      <td>85.5</td>\n",
       "      <td>87.0</td>\n",
       "      <td>86.0</td>\n",
       "      <td>95.0</td>\n",
       "      <td>93.0</td>\n",
       "      <td>105714000</td>\n",
       "    </tr>\n",
       "    <tr>\n",
       "      <th>2</th>\n",
       "      <td>United States</td>\n",
       "      <td>E3</td>\n",
       "      <td>83.8</td>\n",
       "      <td>33.28</td>\n",
       "      <td>123.0</td>\n",
       "      <td>-3.4</td>\n",
       "      <td>0.0</td>\n",
       "      <td>31.96</td>\n",
       "      <td>83.91</td>\n",
       "      <td>34.76</td>\n",
       "      <td>...</td>\n",
       "      <td>283.72</td>\n",
       "      <td>41.37</td>\n",
       "      <td>-3.0</td>\n",
       "      <td>0.0</td>\n",
       "      <td>87.3</td>\n",
       "      <td>87.0</td>\n",
       "      <td>90.0</td>\n",
       "      <td>95.0</td>\n",
       "      <td>95.0</td>\n",
       "      <td>108199000</td>\n",
       "    </tr>\n",
       "    <tr>\n",
       "      <th>3</th>\n",
       "      <td>United States</td>\n",
       "      <td>E4</td>\n",
       "      <td>85.3</td>\n",
       "      <td>33.89</td>\n",
       "      <td>129.0</td>\n",
       "      <td>1.1</td>\n",
       "      <td>1.1</td>\n",
       "      <td>42.98</td>\n",
       "      <td>110.88</td>\n",
       "      <td>27.77</td>\n",
       "      <td>...</td>\n",
       "      <td>289.48</td>\n",
       "      <td>37.62</td>\n",
       "      <td>1.0</td>\n",
       "      <td>1.0</td>\n",
       "      <td>88.5</td>\n",
       "      <td>91.0</td>\n",
       "      <td>90.0</td>\n",
       "      <td>95.0</td>\n",
       "      <td>94.0</td>\n",
       "      <td>110865000</td>\n",
       "    </tr>\n",
       "    <tr>\n",
       "      <th>4</th>\n",
       "      <td>United States</td>\n",
       "      <td>E5</td>\n",
       "      <td>85.3</td>\n",
       "      <td>34.72</td>\n",
       "      <td>134.5</td>\n",
       "      <td>0.0</td>\n",
       "      <td>3.1</td>\n",
       "      <td>53.53</td>\n",
       "      <td>136.87</td>\n",
       "      <td>28.38</td>\n",
       "      <td>...</td>\n",
       "      <td>289.48</td>\n",
       "      <td>37.62</td>\n",
       "      <td>0.0</td>\n",
       "      <td>3.0</td>\n",
       "      <td>88.5</td>\n",
       "      <td>94.0</td>\n",
       "      <td>94.0</td>\n",
       "      <td>97.0</td>\n",
       "      <td>94.0</td>\n",
       "      <td>114093000</td>\n",
       "    </tr>\n",
       "  </tbody>\n",
       "</table>\n",
       "<p>5 rows × 86 columns</p>\n",
       "</div>"
      ],
      "text/plain": [
       "         Country Edition  1.1.1) Internet users  \\\n",
       "0  United States      E1                   81.5   \n",
       "1  United States      E2                   81.9   \n",
       "2  United States      E3                   83.8   \n",
       "3  United States      E4                   85.3   \n",
       "4  United States      E5                   85.3   \n",
       "\n",
       "   1.1.2) Fixed-line broadband subscribers  1.1.3) Mobile subscribers  \\\n",
       "0                                    31.85                      119.1   \n",
       "1                                    32.73                      122.6   \n",
       "2                                    33.28                      123.0   \n",
       "3                                    33.89                      129.0   \n",
       "4                                    34.72                      134.5   \n",
       "\n",
       "   1.1.4) Gender gap in internet access  \\\n",
       "0                                   NaN   \n",
       "1                                   1.1   \n",
       "2                                  -3.4   \n",
       "3                                   1.1   \n",
       "4                                   0.0   \n",
       "\n",
       "   1.1.5) Gender gap in mobile phone access  \\\n",
       "0                                       NaN   \n",
       "1                                       2.1   \n",
       "2                                       0.0   \n",
       "3                                       1.1   \n",
       "4                                       3.1   \n",
       "\n",
       "   1.2.1) Average fixed broadband upload speed  \\\n",
       "0                                        25.30   \n",
       "1                                        23.40   \n",
       "2                                        31.96   \n",
       "3                                        42.98   \n",
       "4                                        53.53   \n",
       "\n",
       "   1.2.2) Average fixed broadband download speed  \\\n",
       "0                                          51.74   \n",
       "1                                          63.31   \n",
       "2                                          83.91   \n",
       "3                                         110.88   \n",
       "4                                         136.87   \n",
       "\n",
       "   1.2.3) Average fixed broadband latency  ...  \\\n",
       "0                                   45.00  ...   \n",
       "1                                   34.77  ...   \n",
       "2                                   34.76  ...   \n",
       "3                                   27.77  ...   \n",
       "4                                   28.38  ...   \n",
       "\n",
       "   BG15) Internet users (population)  BG16) Offline population  \\\n",
       "0                             239.23                     81.65   \n",
       "1                             276.32                     46.69   \n",
       "2                             283.72                     41.37   \n",
       "3                             289.48                     37.62   \n",
       "4                             289.48                     37.62   \n",
       "\n",
       "   BG17) Internet access gender gap  BG18) Mobile phone access gender gap  \\\n",
       "0                               NaN                                   NaN   \n",
       "1                               1.0                                   2.0   \n",
       "2                              -3.0                                   0.0   \n",
       "3                               1.0                                   1.0   \n",
       "4                               0.0                                   3.0   \n",
       "\n",
       "   BG19) Internet users (percent of population)  BG20) Male internet users  \\\n",
       "0                                          74.6                        NaN   \n",
       "1                                          85.5                       87.0   \n",
       "2                                          87.3                       87.0   \n",
       "3                                          88.5                       91.0   \n",
       "4                                          88.5                       94.0   \n",
       "\n",
       "   BG21) Female internet users  BG22) Male mobile phone subscribers  \\\n",
       "0                          NaN                                 95.0   \n",
       "1                         86.0                                 95.0   \n",
       "2                         90.0                                 95.0   \n",
       "3                         90.0                                 95.0   \n",
       "4                         94.0                                 97.0   \n",
       "\n",
       "   BG23) Female mobile phone subscribers  \\\n",
       "0                                   91.0   \n",
       "1                                   93.0   \n",
       "2                                   95.0   \n",
       "3                                   94.0   \n",
       "4                                   94.0   \n",
       "\n",
       "   BG24) Total fixed line broadband subscribers  \n",
       "0                                     102212000  \n",
       "1                                     105714000  \n",
       "2                                     108199000  \n",
       "3                                     110865000  \n",
       "4                                     114093000  \n",
       "\n",
       "[5 rows x 86 columns]"
      ]
     },
     "execution_count": 1,
     "metadata": {},
     "output_type": "execute_result"
    }
   ],
   "source": [
    "#import dependencies\n",
    "import matplotlib.pyplot as plt\n",
    "import pandas as pd\n",
    "import numpy as np\n",
    "import seaborn as sns\n",
    "import requests\n",
    "import folium\n",
    "\n",
    "#import csv\n",
    "internet_data = pd.read_csv('../Resources/internet-data.csv')\n",
    "internet_data.head()"
   ]
  },
  {
   "cell_type": "code",
   "execution_count": 2,
   "metadata": {},
   "outputs": [
    {
     "name": "stdout",
     "output_type": "stream",
     "text": [
      "Index(['Country', 'Edition', '1.1.1) Internet users',\n",
      "       '1.1.2) Fixed-line broadband subscribers', '1.1.3) Mobile subscribers',\n",
      "       '1.1.4) Gender gap in internet access',\n",
      "       '1.1.5) Gender gap in mobile phone access',\n",
      "       '1.2.1) Average fixed broadband upload speed',\n",
      "       '1.2.2) Average fixed broadband download speed',\n",
      "       '1.2.3) Average fixed broadband latency',\n",
      "       '1.2.4) Average mobile upload speed',\n",
      "       '1.2.5) Average mobile download speed', '1.2.6) Average mobile latency',\n",
      "       '1.2.7) Bandwidth capacity', '1.3.1) Network coverage (min. 2G)',\n",
      "       '1.3.2) Network coverage (min. 3G)',\n",
      "       '1.3.3) Network coverage (min. 4G)', '1.3.4) 5G deployment',\n",
      "       '1.3.5) Government initiatives to make Wi-Fi available',\n",
      "       '1.3.6) Private sector initiatives to make Wi-Fi available',\n",
      "       '1.3.7) Unlicensed spectrum policy', '1.3.8) Internet exchange points',\n",
      "       '1.4.1) Urban electricity access', '1.4.2) Rural electricity access',\n",
      "       '2.1.1) Smartphone cost (handset)',\n",
      "       '2.1.2) Mobile phone cost (prepaid tariff)',\n",
      "       '2.1.3) Mobile phone cost (postpaid tariff)',\n",
      "       '2.1.4) Fixed-line monthly broadband cost',\n",
      "       '2.2.1) Average revenue per user (ARPU, annualized)',\n",
      "       '2.2.2) Wireless operators' market share',\n",
      "       '2.2.3) Broadband operators' market share',\n",
      "       '3.1.1) Availability of local news in local languages',\n",
      "       '3.1.2) Concentration of websites using country-level domains',\n",
      "       '3.1.3) Availability of e-Government services in the local language',\n",
      "       '3.2.1) e-Finance content', '3.2.2) Value of e-finance',\n",
      "       '3.2.3) e-Health content', '3.2.4) Value of e-health',\n",
      "       '3.2.5) e-Entertainment usage', '3.2.6) e-Commerce content',\n",
      "       '3.2.7) Value of e-Commerce', '3.2.8) Open data policies',\n",
      "       '4.1.1) Level of literacy', '4.1.2) Educational attainment',\n",
      "       '4.1.3) Support for digital literacy',\n",
      "       '4.1.4) Level of web accessibility', '4.2.1) Privacy regulations',\n",
      "       '4.2.2) Trust in online privacy',\n",
      "       '4.2.3) Trust in Government websites and apps',\n",
      "       '4.2.4) Trust in Non-government websites and apps',\n",
      "       '4.2.5) Trust in information from social media',\n",
      "       '4.2.6) e-Commerce safety',\n",
      "       '4.3.1) National female e-inclusion policies',\n",
      "       '4.3.1.1) Comprehensive female e-inclusion plan',\n",
      "       '4.3.1.2) Female digital skills training plan',\n",
      "       '4.3.1.3) Female STEM education plan',\n",
      "       '4.3.2) Government e-inclusion strategy',\n",
      "       '4.3.3) National broadband strategy',\n",
      "       '4.3.4) Funding for broadband buildout',\n",
      "       '4.3.5) Technology-neutrality policy for spectrum use',\n",
      "       '4.3.6) National digital identification system',\n",
      "       '4.3.7) Government efforts to promote 5G', 'BG1) Nominal GDP',\n",
      "       'BG2) Population', 'BG3) Urban population', 'BG4) GNI per capita',\n",
      "       'BG5) GINI coefficient', 'BG6) Population under the poverty line',\n",
      "       'BG7) Total electricity access', 'BG8) Cable landing stations',\n",
      "       'BG9) Percentage of schools with Internet access',\n",
      "       'BG10) Global Peace Index', 'BG11) Democracy Index',\n",
      "       'BG12) Corruption Perceptions Index',\n",
      "       'BG13) EIU Business Environment Rankings',\n",
      "       'BG14) UN E-Government Development Index',\n",
      "       'BG15) Internet users (population)', 'BG16) Offline population',\n",
      "       'BG17) Internet access gender gap',\n",
      "       'BG18) Mobile phone access gender gap',\n",
      "       'BG19) Internet users (percent of population)',\n",
      "       'BG20) Male internet users', 'BG21) Female internet users',\n",
      "       'BG22) Male mobile phone subscribers',\n",
      "       'BG23) Female mobile phone subscribers',\n",
      "       'BG24) Total fixed line broadband subscribers'],\n",
      "      dtype='object')\n"
     ]
    }
   ],
   "source": [
    "# printing column names just to see what we're dealing with\n",
    "\n",
    "print(internet_data.columns)"
   ]
  },
  {
   "cell_type": "code",
   "execution_count": 3,
   "metadata": {},
   "outputs": [
    {
     "data": {
      "text/html": [
       "<div>\n",
       "<style scoped>\n",
       "    .dataframe tbody tr th:only-of-type {\n",
       "        vertical-align: middle;\n",
       "    }\n",
       "\n",
       "    .dataframe tbody tr th {\n",
       "        vertical-align: top;\n",
       "    }\n",
       "\n",
       "    .dataframe thead th {\n",
       "        text-align: right;\n",
       "    }\n",
       "</style>\n",
       "<table border=\"1\" class=\"dataframe\">\n",
       "  <thead>\n",
       "    <tr style=\"text-align: right;\">\n",
       "      <th></th>\n",
       "      <th>Country</th>\n",
       "      <th>Edition</th>\n",
       "      <th>1.1.1) Internet users</th>\n",
       "      <th>1.1.2) Fixed-line broadband subscribers</th>\n",
       "      <th>1.1.3) Mobile subscribers</th>\n",
       "      <th>1.1.4) Gender gap in internet access</th>\n",
       "      <th>1.1.5) Gender gap in mobile phone access</th>\n",
       "      <th>1.2.1) Average fixed broadband upload speed</th>\n",
       "      <th>1.2.2) Average fixed broadband download speed</th>\n",
       "      <th>1.2.3) Average fixed broadband latency</th>\n",
       "      <th>...</th>\n",
       "      <th>BG15) Internet users (population)</th>\n",
       "      <th>BG16) Offline population</th>\n",
       "      <th>BG17) Internet access gender gap</th>\n",
       "      <th>BG18) Mobile phone access gender gap</th>\n",
       "      <th>BG19) Internet users (percent of population)</th>\n",
       "      <th>BG20) Male internet users</th>\n",
       "      <th>BG21) Female internet users</th>\n",
       "      <th>BG22) Male mobile phone subscribers</th>\n",
       "      <th>BG23) Female mobile phone subscribers</th>\n",
       "      <th>BG24) Total fixed line broadband subscribers</th>\n",
       "    </tr>\n",
       "  </thead>\n",
       "  <tbody>\n",
       "    <tr>\n",
       "      <th>0</th>\n",
       "      <td>United States</td>\n",
       "      <td>2017</td>\n",
       "      <td>81.5</td>\n",
       "      <td>31.85</td>\n",
       "      <td>119.1</td>\n",
       "      <td>NaN</td>\n",
       "      <td>NaN</td>\n",
       "      <td>25.30</td>\n",
       "      <td>51.74</td>\n",
       "      <td>45.00</td>\n",
       "      <td>...</td>\n",
       "      <td>239.23</td>\n",
       "      <td>81.65</td>\n",
       "      <td>NaN</td>\n",
       "      <td>NaN</td>\n",
       "      <td>74.6</td>\n",
       "      <td>NaN</td>\n",
       "      <td>NaN</td>\n",
       "      <td>95.0</td>\n",
       "      <td>91.0</td>\n",
       "      <td>102212000</td>\n",
       "    </tr>\n",
       "    <tr>\n",
       "      <th>1</th>\n",
       "      <td>United States</td>\n",
       "      <td>2018</td>\n",
       "      <td>81.9</td>\n",
       "      <td>32.73</td>\n",
       "      <td>122.6</td>\n",
       "      <td>1.1</td>\n",
       "      <td>2.1</td>\n",
       "      <td>23.40</td>\n",
       "      <td>63.31</td>\n",
       "      <td>34.77</td>\n",
       "      <td>...</td>\n",
       "      <td>276.32</td>\n",
       "      <td>46.69</td>\n",
       "      <td>1.0</td>\n",
       "      <td>2.0</td>\n",
       "      <td>85.5</td>\n",
       "      <td>87.0</td>\n",
       "      <td>86.0</td>\n",
       "      <td>95.0</td>\n",
       "      <td>93.0</td>\n",
       "      <td>105714000</td>\n",
       "    </tr>\n",
       "    <tr>\n",
       "      <th>2</th>\n",
       "      <td>United States</td>\n",
       "      <td>2019</td>\n",
       "      <td>83.8</td>\n",
       "      <td>33.28</td>\n",
       "      <td>123.0</td>\n",
       "      <td>-3.4</td>\n",
       "      <td>0.0</td>\n",
       "      <td>31.96</td>\n",
       "      <td>83.91</td>\n",
       "      <td>34.76</td>\n",
       "      <td>...</td>\n",
       "      <td>283.72</td>\n",
       "      <td>41.37</td>\n",
       "      <td>-3.0</td>\n",
       "      <td>0.0</td>\n",
       "      <td>87.3</td>\n",
       "      <td>87.0</td>\n",
       "      <td>90.0</td>\n",
       "      <td>95.0</td>\n",
       "      <td>95.0</td>\n",
       "      <td>108199000</td>\n",
       "    </tr>\n",
       "    <tr>\n",
       "      <th>3</th>\n",
       "      <td>United States</td>\n",
       "      <td>2020</td>\n",
       "      <td>85.3</td>\n",
       "      <td>33.89</td>\n",
       "      <td>129.0</td>\n",
       "      <td>1.1</td>\n",
       "      <td>1.1</td>\n",
       "      <td>42.98</td>\n",
       "      <td>110.88</td>\n",
       "      <td>27.77</td>\n",
       "      <td>...</td>\n",
       "      <td>289.48</td>\n",
       "      <td>37.62</td>\n",
       "      <td>1.0</td>\n",
       "      <td>1.0</td>\n",
       "      <td>88.5</td>\n",
       "      <td>91.0</td>\n",
       "      <td>90.0</td>\n",
       "      <td>95.0</td>\n",
       "      <td>94.0</td>\n",
       "      <td>110865000</td>\n",
       "    </tr>\n",
       "    <tr>\n",
       "      <th>4</th>\n",
       "      <td>United States</td>\n",
       "      <td>2021</td>\n",
       "      <td>85.3</td>\n",
       "      <td>34.72</td>\n",
       "      <td>134.5</td>\n",
       "      <td>0.0</td>\n",
       "      <td>3.1</td>\n",
       "      <td>53.53</td>\n",
       "      <td>136.87</td>\n",
       "      <td>28.38</td>\n",
       "      <td>...</td>\n",
       "      <td>289.48</td>\n",
       "      <td>37.62</td>\n",
       "      <td>0.0</td>\n",
       "      <td>3.0</td>\n",
       "      <td>88.5</td>\n",
       "      <td>94.0</td>\n",
       "      <td>94.0</td>\n",
       "      <td>97.0</td>\n",
       "      <td>94.0</td>\n",
       "      <td>114093000</td>\n",
       "    </tr>\n",
       "    <tr>\n",
       "      <th>...</th>\n",
       "      <td>...</td>\n",
       "      <td>...</td>\n",
       "      <td>...</td>\n",
       "      <td>...</td>\n",
       "      <td>...</td>\n",
       "      <td>...</td>\n",
       "      <td>...</td>\n",
       "      <td>...</td>\n",
       "      <td>...</td>\n",
       "      <td>...</td>\n",
       "      <td>...</td>\n",
       "      <td>...</td>\n",
       "      <td>...</td>\n",
       "      <td>...</td>\n",
       "      <td>...</td>\n",
       "      <td>...</td>\n",
       "      <td>...</td>\n",
       "      <td>...</td>\n",
       "      <td>...</td>\n",
       "      <td>...</td>\n",
       "      <td>...</td>\n",
       "    </tr>\n",
       "    <tr>\n",
       "      <th>595</th>\n",
       "      <td>Zimbabwe</td>\n",
       "      <td>2017</td>\n",
       "      <td>21.6</td>\n",
       "      <td>1.19</td>\n",
       "      <td>92.3</td>\n",
       "      <td>NaN</td>\n",
       "      <td>NaN</td>\n",
       "      <td>7.60</td>\n",
       "      <td>8.41</td>\n",
       "      <td>73.00</td>\n",
       "      <td>...</td>\n",
       "      <td>3.14</td>\n",
       "      <td>10.67</td>\n",
       "      <td>NaN</td>\n",
       "      <td>NaN</td>\n",
       "      <td>22.7</td>\n",
       "      <td>NaN</td>\n",
       "      <td>NaN</td>\n",
       "      <td>75.0</td>\n",
       "      <td>68.0</td>\n",
       "      <td>163987</td>\n",
       "    </tr>\n",
       "    <tr>\n",
       "      <th>596</th>\n",
       "      <td>Zimbabwe</td>\n",
       "      <td>2018</td>\n",
       "      <td>22.1</td>\n",
       "      <td>1.22</td>\n",
       "      <td>91.8</td>\n",
       "      <td>32.4</td>\n",
       "      <td>1.2</td>\n",
       "      <td>9.12</td>\n",
       "      <td>9.52</td>\n",
       "      <td>41.92</td>\n",
       "      <td>...</td>\n",
       "      <td>3.24</td>\n",
       "      <td>10.79</td>\n",
       "      <td>12.0</td>\n",
       "      <td>1.0</td>\n",
       "      <td>23.1</td>\n",
       "      <td>37.0</td>\n",
       "      <td>25.0</td>\n",
       "      <td>81.0</td>\n",
       "      <td>80.0</td>\n",
       "      <td>170838</td>\n",
       "    </tr>\n",
       "    <tr>\n",
       "      <th>597</th>\n",
       "      <td>Zimbabwe</td>\n",
       "      <td>2019</td>\n",
       "      <td>24.0</td>\n",
       "      <td>1.32</td>\n",
       "      <td>99.0</td>\n",
       "      <td>45.2</td>\n",
       "      <td>2.5</td>\n",
       "      <td>9.74</td>\n",
       "      <td>9.79</td>\n",
       "      <td>45.13</td>\n",
       "      <td>...</td>\n",
       "      <td>3.85</td>\n",
       "      <td>10.39</td>\n",
       "      <td>19.0</td>\n",
       "      <td>2.0</td>\n",
       "      <td>27.1</td>\n",
       "      <td>42.0</td>\n",
       "      <td>23.0</td>\n",
       "      <td>80.0</td>\n",
       "      <td>78.0</td>\n",
       "      <td>187310</td>\n",
       "    </tr>\n",
       "    <tr>\n",
       "      <th>598</th>\n",
       "      <td>Zimbabwe</td>\n",
       "      <td>2020</td>\n",
       "      <td>30.3</td>\n",
       "      <td>1.41</td>\n",
       "      <td>89.4</td>\n",
       "      <td>26.3</td>\n",
       "      <td>-2.7</td>\n",
       "      <td>11.46</td>\n",
       "      <td>12.16</td>\n",
       "      <td>55.46</td>\n",
       "      <td>...</td>\n",
       "      <td>3.85</td>\n",
       "      <td>10.39</td>\n",
       "      <td>10.0</td>\n",
       "      <td>-2.0</td>\n",
       "      <td>27.1</td>\n",
       "      <td>38.0</td>\n",
       "      <td>28.0</td>\n",
       "      <td>75.0</td>\n",
       "      <td>77.0</td>\n",
       "      <td>203056</td>\n",
       "    </tr>\n",
       "    <tr>\n",
       "      <th>599</th>\n",
       "      <td>Zimbabwe</td>\n",
       "      <td>2021</td>\n",
       "      <td>30.3</td>\n",
       "      <td>1.40</td>\n",
       "      <td>90.1</td>\n",
       "      <td>13.2</td>\n",
       "      <td>-3.7</td>\n",
       "      <td>13.30</td>\n",
       "      <td>13.46</td>\n",
       "      <td>51.66</td>\n",
       "      <td>...</td>\n",
       "      <td>3.85</td>\n",
       "      <td>10.39</td>\n",
       "      <td>5.0</td>\n",
       "      <td>-3.0</td>\n",
       "      <td>27.1</td>\n",
       "      <td>38.0</td>\n",
       "      <td>33.0</td>\n",
       "      <td>80.0</td>\n",
       "      <td>83.0</td>\n",
       "      <td>204424</td>\n",
       "    </tr>\n",
       "  </tbody>\n",
       "</table>\n",
       "<p>600 rows × 86 columns</p>\n",
       "</div>"
      ],
      "text/plain": [
       "           Country  Edition  1.1.1) Internet users  \\\n",
       "0    United States     2017                   81.5   \n",
       "1    United States     2018                   81.9   \n",
       "2    United States     2019                   83.8   \n",
       "3    United States     2020                   85.3   \n",
       "4    United States     2021                   85.3   \n",
       "..             ...      ...                    ...   \n",
       "595       Zimbabwe     2017                   21.6   \n",
       "596       Zimbabwe     2018                   22.1   \n",
       "597       Zimbabwe     2019                   24.0   \n",
       "598       Zimbabwe     2020                   30.3   \n",
       "599       Zimbabwe     2021                   30.3   \n",
       "\n",
       "     1.1.2) Fixed-line broadband subscribers  1.1.3) Mobile subscribers  \\\n",
       "0                                      31.85                      119.1   \n",
       "1                                      32.73                      122.6   \n",
       "2                                      33.28                      123.0   \n",
       "3                                      33.89                      129.0   \n",
       "4                                      34.72                      134.5   \n",
       "..                                       ...                        ...   \n",
       "595                                     1.19                       92.3   \n",
       "596                                     1.22                       91.8   \n",
       "597                                     1.32                       99.0   \n",
       "598                                     1.41                       89.4   \n",
       "599                                     1.40                       90.1   \n",
       "\n",
       "     1.1.4) Gender gap in internet access  \\\n",
       "0                                     NaN   \n",
       "1                                     1.1   \n",
       "2                                    -3.4   \n",
       "3                                     1.1   \n",
       "4                                     0.0   \n",
       "..                                    ...   \n",
       "595                                   NaN   \n",
       "596                                  32.4   \n",
       "597                                  45.2   \n",
       "598                                  26.3   \n",
       "599                                  13.2   \n",
       "\n",
       "     1.1.5) Gender gap in mobile phone access  \\\n",
       "0                                         NaN   \n",
       "1                                         2.1   \n",
       "2                                         0.0   \n",
       "3                                         1.1   \n",
       "4                                         3.1   \n",
       "..                                        ...   \n",
       "595                                       NaN   \n",
       "596                                       1.2   \n",
       "597                                       2.5   \n",
       "598                                      -2.7   \n",
       "599                                      -3.7   \n",
       "\n",
       "     1.2.1) Average fixed broadband upload speed  \\\n",
       "0                                          25.30   \n",
       "1                                          23.40   \n",
       "2                                          31.96   \n",
       "3                                          42.98   \n",
       "4                                          53.53   \n",
       "..                                           ...   \n",
       "595                                         7.60   \n",
       "596                                         9.12   \n",
       "597                                         9.74   \n",
       "598                                        11.46   \n",
       "599                                        13.30   \n",
       "\n",
       "     1.2.2) Average fixed broadband download speed  \\\n",
       "0                                            51.74   \n",
       "1                                            63.31   \n",
       "2                                            83.91   \n",
       "3                                           110.88   \n",
       "4                                           136.87   \n",
       "..                                             ...   \n",
       "595                                           8.41   \n",
       "596                                           9.52   \n",
       "597                                           9.79   \n",
       "598                                          12.16   \n",
       "599                                          13.46   \n",
       "\n",
       "     1.2.3) Average fixed broadband latency  ...  \\\n",
       "0                                     45.00  ...   \n",
       "1                                     34.77  ...   \n",
       "2                                     34.76  ...   \n",
       "3                                     27.77  ...   \n",
       "4                                     28.38  ...   \n",
       "..                                      ...  ...   \n",
       "595                                   73.00  ...   \n",
       "596                                   41.92  ...   \n",
       "597                                   45.13  ...   \n",
       "598                                   55.46  ...   \n",
       "599                                   51.66  ...   \n",
       "\n",
       "     BG15) Internet users (population)  BG16) Offline population  \\\n",
       "0                               239.23                     81.65   \n",
       "1                               276.32                     46.69   \n",
       "2                               283.72                     41.37   \n",
       "3                               289.48                     37.62   \n",
       "4                               289.48                     37.62   \n",
       "..                                 ...                       ...   \n",
       "595                               3.14                     10.67   \n",
       "596                               3.24                     10.79   \n",
       "597                               3.85                     10.39   \n",
       "598                               3.85                     10.39   \n",
       "599                               3.85                     10.39   \n",
       "\n",
       "     BG17) Internet access gender gap  BG18) Mobile phone access gender gap  \\\n",
       "0                                 NaN                                   NaN   \n",
       "1                                 1.0                                   2.0   \n",
       "2                                -3.0                                   0.0   \n",
       "3                                 1.0                                   1.0   \n",
       "4                                 0.0                                   3.0   \n",
       "..                                ...                                   ...   \n",
       "595                               NaN                                   NaN   \n",
       "596                              12.0                                   1.0   \n",
       "597                              19.0                                   2.0   \n",
       "598                              10.0                                  -2.0   \n",
       "599                               5.0                                  -3.0   \n",
       "\n",
       "     BG19) Internet users (percent of population)  BG20) Male internet users  \\\n",
       "0                                            74.6                        NaN   \n",
       "1                                            85.5                       87.0   \n",
       "2                                            87.3                       87.0   \n",
       "3                                            88.5                       91.0   \n",
       "4                                            88.5                       94.0   \n",
       "..                                            ...                        ...   \n",
       "595                                          22.7                        NaN   \n",
       "596                                          23.1                       37.0   \n",
       "597                                          27.1                       42.0   \n",
       "598                                          27.1                       38.0   \n",
       "599                                          27.1                       38.0   \n",
       "\n",
       "     BG21) Female internet users  BG22) Male mobile phone subscribers  \\\n",
       "0                            NaN                                 95.0   \n",
       "1                           86.0                                 95.0   \n",
       "2                           90.0                                 95.0   \n",
       "3                           90.0                                 95.0   \n",
       "4                           94.0                                 97.0   \n",
       "..                           ...                                  ...   \n",
       "595                          NaN                                 75.0   \n",
       "596                         25.0                                 81.0   \n",
       "597                         23.0                                 80.0   \n",
       "598                         28.0                                 75.0   \n",
       "599                         33.0                                 80.0   \n",
       "\n",
       "     BG23) Female mobile phone subscribers  \\\n",
       "0                                     91.0   \n",
       "1                                     93.0   \n",
       "2                                     95.0   \n",
       "3                                     94.0   \n",
       "4                                     94.0   \n",
       "..                                     ...   \n",
       "595                                   68.0   \n",
       "596                                   80.0   \n",
       "597                                   78.0   \n",
       "598                                   77.0   \n",
       "599                                   83.0   \n",
       "\n",
       "     BG24) Total fixed line broadband subscribers  \n",
       "0                                       102212000  \n",
       "1                                       105714000  \n",
       "2                                       108199000  \n",
       "3                                       110865000  \n",
       "4                                       114093000  \n",
       "..                                            ...  \n",
       "595                                        163987  \n",
       "596                                        170838  \n",
       "597                                        187310  \n",
       "598                                        203056  \n",
       "599                                        204424  \n",
       "\n",
       "[600 rows x 86 columns]"
      ]
     },
     "execution_count": 3,
     "metadata": {},
     "output_type": "execute_result"
    }
   ],
   "source": [
    "edition_mapping = {'E1': 2017, 'E2': 2018, 'E3': 2019, 'E4': 2020, 'E5': 2021}\n",
    "\n",
    "internet_data['Edition'] = internet_data['Edition'].map(edition_mapping)\n",
    "\n",
    "# #fill NaN values with 0\n",
    "# internet_data.fillna(0, inplace=True)\n",
    "\n",
    "internet_data"
   ]
  },
  {
   "cell_type": "code",
   "execution_count": null,
   "metadata": {},
   "outputs": [],
   "source": [
    "\n"
   ]
  },
  {
   "cell_type": "code",
   "execution_count": 4,
   "metadata": {},
   "outputs": [],
   "source": [
    "# need to figure out how to make this chart work\n",
    "\n",
    "#sizes = [internet_data[\"BG20) Male internet users\"].sum(), internet_data[\"BG21) Female internet users\"].sum()]\n",
    "#sns.violinplot(x='4.1.2) Educational attainment', y=internet_data, data=internet_data)\n",
    "#plt.title('Internet Users by Education Level')\n",
    "#plt.show()\n"
   ]
  },
  {
   "cell_type": "code",
   "execution_count": 6,
   "metadata": {},
   "outputs": [],
   "source": [
    "# internet_data_recent = internet_data.dropna(how='any')\n",
    "\n",
    "# # internet_data_recent"
   ]
  },
  {
   "cell_type": "code",
   "execution_count": 7,
   "metadata": {},
   "outputs": [
    {
     "data": {
      "text/html": [
       "<div>\n",
       "<style scoped>\n",
       "    .dataframe tbody tr th:only-of-type {\n",
       "        vertical-align: middle;\n",
       "    }\n",
       "\n",
       "    .dataframe tbody tr th {\n",
       "        vertical-align: top;\n",
       "    }\n",
       "\n",
       "    .dataframe thead th {\n",
       "        text-align: right;\n",
       "    }\n",
       "</style>\n",
       "<table border=\"1\" class=\"dataframe\">\n",
       "  <thead>\n",
       "    <tr style=\"text-align: right;\">\n",
       "      <th></th>\n",
       "      <th>Country</th>\n",
       "      <th>Edition</th>\n",
       "      <th>1.1.1) Internet users</th>\n",
       "      <th>1.1.4) Gender gap in internet access</th>\n",
       "      <th>1.1.5) Gender gap in mobile phone access</th>\n",
       "      <th>4.1.1) Level of literacy</th>\n",
       "      <th>4.1.2) Educational attainment</th>\n",
       "      <th>4.1.3) Support for digital literacy</th>\n",
       "      <th>BG2) Population</th>\n",
       "      <th>BG3) Urban population</th>\n",
       "      <th>BG4) GNI per capita</th>\n",
       "      <th>BG6) Population under the poverty line</th>\n",
       "      <th>BG17) Internet access gender gap</th>\n",
       "      <th>BG18) Mobile phone access gender gap</th>\n",
       "      <th>BG19) Internet users (percent of population)</th>\n",
       "      <th>BG20) Male internet users</th>\n",
       "      <th>BG21) Female internet users</th>\n",
       "      <th>BG22) Male mobile phone subscribers</th>\n",
       "      <th>BG23) Female mobile phone subscribers</th>\n",
       "    </tr>\n",
       "  </thead>\n",
       "  <tbody>\n",
       "    <tr>\n",
       "      <th>0</th>\n",
       "      <td>United States</td>\n",
       "      <td>2017</td>\n",
       "      <td>81.5</td>\n",
       "      <td>NaN</td>\n",
       "      <td>NaN</td>\n",
       "      <td>100.0</td>\n",
       "      <td>13.3</td>\n",
       "      <td>3.0</td>\n",
       "      <td>323.0</td>\n",
       "      <td>81.7</td>\n",
       "      <td>56740</td>\n",
       "      <td>0.9</td>\n",
       "      <td>NaN</td>\n",
       "      <td>NaN</td>\n",
       "      <td>74.6</td>\n",
       "      <td>NaN</td>\n",
       "      <td>NaN</td>\n",
       "      <td>95.0</td>\n",
       "      <td>91.0</td>\n",
       "    </tr>\n",
       "    <tr>\n",
       "      <th>1</th>\n",
       "      <td>United States</td>\n",
       "      <td>2018</td>\n",
       "      <td>81.9</td>\n",
       "      <td>1.1</td>\n",
       "      <td>2.1</td>\n",
       "      <td>100.0</td>\n",
       "      <td>13.4</td>\n",
       "      <td>3.0</td>\n",
       "      <td>325.1</td>\n",
       "      <td>81.9</td>\n",
       "      <td>57180</td>\n",
       "      <td>0.9</td>\n",
       "      <td>1.0</td>\n",
       "      <td>2.0</td>\n",
       "      <td>85.5</td>\n",
       "      <td>87.0</td>\n",
       "      <td>86.0</td>\n",
       "      <td>95.0</td>\n",
       "      <td>93.0</td>\n",
       "    </tr>\n",
       "    <tr>\n",
       "      <th>2</th>\n",
       "      <td>United States</td>\n",
       "      <td>2019</td>\n",
       "      <td>83.8</td>\n",
       "      <td>-3.4</td>\n",
       "      <td>0.0</td>\n",
       "      <td>100.0</td>\n",
       "      <td>13.4</td>\n",
       "      <td>3.0</td>\n",
       "      <td>327.1</td>\n",
       "      <td>82.1</td>\n",
       "      <td>59060</td>\n",
       "      <td>1.0</td>\n",
       "      <td>-3.0</td>\n",
       "      <td>0.0</td>\n",
       "      <td>87.3</td>\n",
       "      <td>87.0</td>\n",
       "      <td>90.0</td>\n",
       "      <td>95.0</td>\n",
       "      <td>95.0</td>\n",
       "    </tr>\n",
       "    <tr>\n",
       "      <th>3</th>\n",
       "      <td>United States</td>\n",
       "      <td>2020</td>\n",
       "      <td>85.3</td>\n",
       "      <td>1.1</td>\n",
       "      <td>1.1</td>\n",
       "      <td>100.0</td>\n",
       "      <td>13.4</td>\n",
       "      <td>3.0</td>\n",
       "      <td>329.1</td>\n",
       "      <td>82.3</td>\n",
       "      <td>63200</td>\n",
       "      <td>1.0</td>\n",
       "      <td>1.0</td>\n",
       "      <td>1.0</td>\n",
       "      <td>88.5</td>\n",
       "      <td>91.0</td>\n",
       "      <td>90.0</td>\n",
       "      <td>95.0</td>\n",
       "      <td>94.0</td>\n",
       "    </tr>\n",
       "    <tr>\n",
       "      <th>4</th>\n",
       "      <td>United States</td>\n",
       "      <td>2021</td>\n",
       "      <td>85.3</td>\n",
       "      <td>0.0</td>\n",
       "      <td>3.1</td>\n",
       "      <td>100.0</td>\n",
       "      <td>13.4</td>\n",
       "      <td>3.0</td>\n",
       "      <td>331.0</td>\n",
       "      <td>82.5</td>\n",
       "      <td>65760</td>\n",
       "      <td>1.0</td>\n",
       "      <td>0.0</td>\n",
       "      <td>3.0</td>\n",
       "      <td>88.5</td>\n",
       "      <td>94.0</td>\n",
       "      <td>94.0</td>\n",
       "      <td>97.0</td>\n",
       "      <td>94.0</td>\n",
       "    </tr>\n",
       "    <tr>\n",
       "      <th>...</th>\n",
       "      <td>...</td>\n",
       "      <td>...</td>\n",
       "      <td>...</td>\n",
       "      <td>...</td>\n",
       "      <td>...</td>\n",
       "      <td>...</td>\n",
       "      <td>...</td>\n",
       "      <td>...</td>\n",
       "      <td>...</td>\n",
       "      <td>...</td>\n",
       "      <td>...</td>\n",
       "      <td>...</td>\n",
       "      <td>...</td>\n",
       "      <td>...</td>\n",
       "      <td>...</td>\n",
       "      <td>...</td>\n",
       "      <td>...</td>\n",
       "      <td>...</td>\n",
       "      <td>...</td>\n",
       "    </tr>\n",
       "    <tr>\n",
       "      <th>595</th>\n",
       "      <td>Zimbabwe</td>\n",
       "      <td>2017</td>\n",
       "      <td>21.6</td>\n",
       "      <td>NaN</td>\n",
       "      <td>NaN</td>\n",
       "      <td>86.9</td>\n",
       "      <td>8.3</td>\n",
       "      <td>NaN</td>\n",
       "      <td>14.0</td>\n",
       "      <td>32.4</td>\n",
       "      <td>1280</td>\n",
       "      <td>5.2</td>\n",
       "      <td>NaN</td>\n",
       "      <td>NaN</td>\n",
       "      <td>22.7</td>\n",
       "      <td>NaN</td>\n",
       "      <td>NaN</td>\n",
       "      <td>75.0</td>\n",
       "      <td>68.0</td>\n",
       "    </tr>\n",
       "    <tr>\n",
       "      <th>596</th>\n",
       "      <td>Zimbabwe</td>\n",
       "      <td>2018</td>\n",
       "      <td>22.1</td>\n",
       "      <td>32.4</td>\n",
       "      <td>1.2</td>\n",
       "      <td>86.9</td>\n",
       "      <td>8.3</td>\n",
       "      <td>NaN</td>\n",
       "      <td>14.2</td>\n",
       "      <td>32.3</td>\n",
       "      <td>1290</td>\n",
       "      <td>5.2</td>\n",
       "      <td>12.0</td>\n",
       "      <td>1.0</td>\n",
       "      <td>23.1</td>\n",
       "      <td>37.0</td>\n",
       "      <td>25.0</td>\n",
       "      <td>81.0</td>\n",
       "      <td>80.0</td>\n",
       "    </tr>\n",
       "    <tr>\n",
       "      <th>597</th>\n",
       "      <td>Zimbabwe</td>\n",
       "      <td>2019</td>\n",
       "      <td>24.0</td>\n",
       "      <td>45.2</td>\n",
       "      <td>2.5</td>\n",
       "      <td>86.9</td>\n",
       "      <td>8.3</td>\n",
       "      <td>NaN</td>\n",
       "      <td>14.4</td>\n",
       "      <td>32.2</td>\n",
       "      <td>1360</td>\n",
       "      <td>5.2</td>\n",
       "      <td>19.0</td>\n",
       "      <td>2.0</td>\n",
       "      <td>27.1</td>\n",
       "      <td>42.0</td>\n",
       "      <td>23.0</td>\n",
       "      <td>80.0</td>\n",
       "      <td>78.0</td>\n",
       "    </tr>\n",
       "    <tr>\n",
       "      <th>598</th>\n",
       "      <td>Zimbabwe</td>\n",
       "      <td>2020</td>\n",
       "      <td>30.3</td>\n",
       "      <td>26.3</td>\n",
       "      <td>-2.7</td>\n",
       "      <td>86.9</td>\n",
       "      <td>8.3</td>\n",
       "      <td>1.0</td>\n",
       "      <td>14.6</td>\n",
       "      <td>32.2</td>\n",
       "      <td>1530</td>\n",
       "      <td>9.3</td>\n",
       "      <td>10.0</td>\n",
       "      <td>-2.0</td>\n",
       "      <td>27.1</td>\n",
       "      <td>38.0</td>\n",
       "      <td>28.0</td>\n",
       "      <td>75.0</td>\n",
       "      <td>77.0</td>\n",
       "    </tr>\n",
       "    <tr>\n",
       "      <th>599</th>\n",
       "      <td>Zimbabwe</td>\n",
       "      <td>2021</td>\n",
       "      <td>30.3</td>\n",
       "      <td>13.2</td>\n",
       "      <td>-3.7</td>\n",
       "      <td>86.9</td>\n",
       "      <td>8.3</td>\n",
       "      <td>1.0</td>\n",
       "      <td>14.9</td>\n",
       "      <td>32.2</td>\n",
       "      <td>1390</td>\n",
       "      <td>9.3</td>\n",
       "      <td>5.0</td>\n",
       "      <td>-3.0</td>\n",
       "      <td>27.1</td>\n",
       "      <td>38.0</td>\n",
       "      <td>33.0</td>\n",
       "      <td>80.0</td>\n",
       "      <td>83.0</td>\n",
       "    </tr>\n",
       "  </tbody>\n",
       "</table>\n",
       "<p>600 rows × 19 columns</p>\n",
       "</div>"
      ],
      "text/plain": [
       "           Country  Edition  1.1.1) Internet users  \\\n",
       "0    United States     2017                   81.5   \n",
       "1    United States     2018                   81.9   \n",
       "2    United States     2019                   83.8   \n",
       "3    United States     2020                   85.3   \n",
       "4    United States     2021                   85.3   \n",
       "..             ...      ...                    ...   \n",
       "595       Zimbabwe     2017                   21.6   \n",
       "596       Zimbabwe     2018                   22.1   \n",
       "597       Zimbabwe     2019                   24.0   \n",
       "598       Zimbabwe     2020                   30.3   \n",
       "599       Zimbabwe     2021                   30.3   \n",
       "\n",
       "     1.1.4) Gender gap in internet access  \\\n",
       "0                                     NaN   \n",
       "1                                     1.1   \n",
       "2                                    -3.4   \n",
       "3                                     1.1   \n",
       "4                                     0.0   \n",
       "..                                    ...   \n",
       "595                                   NaN   \n",
       "596                                  32.4   \n",
       "597                                  45.2   \n",
       "598                                  26.3   \n",
       "599                                  13.2   \n",
       "\n",
       "     1.1.5) Gender gap in mobile phone access  4.1.1) Level of literacy  \\\n",
       "0                                         NaN                     100.0   \n",
       "1                                         2.1                     100.0   \n",
       "2                                         0.0                     100.0   \n",
       "3                                         1.1                     100.0   \n",
       "4                                         3.1                     100.0   \n",
       "..                                        ...                       ...   \n",
       "595                                       NaN                      86.9   \n",
       "596                                       1.2                      86.9   \n",
       "597                                       2.5                      86.9   \n",
       "598                                      -2.7                      86.9   \n",
       "599                                      -3.7                      86.9   \n",
       "\n",
       "     4.1.2) Educational attainment  4.1.3) Support for digital literacy  \\\n",
       "0                             13.3                                  3.0   \n",
       "1                             13.4                                  3.0   \n",
       "2                             13.4                                  3.0   \n",
       "3                             13.4                                  3.0   \n",
       "4                             13.4                                  3.0   \n",
       "..                             ...                                  ...   \n",
       "595                            8.3                                  NaN   \n",
       "596                            8.3                                  NaN   \n",
       "597                            8.3                                  NaN   \n",
       "598                            8.3                                  1.0   \n",
       "599                            8.3                                  1.0   \n",
       "\n",
       "     BG2) Population  BG3) Urban population  BG4) GNI per capita  \\\n",
       "0              323.0                   81.7                56740   \n",
       "1              325.1                   81.9                57180   \n",
       "2              327.1                   82.1                59060   \n",
       "3              329.1                   82.3                63200   \n",
       "4              331.0                   82.5                65760   \n",
       "..               ...                    ...                  ...   \n",
       "595             14.0                   32.4                 1280   \n",
       "596             14.2                   32.3                 1290   \n",
       "597             14.4                   32.2                 1360   \n",
       "598             14.6                   32.2                 1530   \n",
       "599             14.9                   32.2                 1390   \n",
       "\n",
       "     BG6) Population under the poverty line  BG17) Internet access gender gap  \\\n",
       "0                                       0.9                               NaN   \n",
       "1                                       0.9                               1.0   \n",
       "2                                       1.0                              -3.0   \n",
       "3                                       1.0                               1.0   \n",
       "4                                       1.0                               0.0   \n",
       "..                                      ...                               ...   \n",
       "595                                     5.2                               NaN   \n",
       "596                                     5.2                              12.0   \n",
       "597                                     5.2                              19.0   \n",
       "598                                     9.3                              10.0   \n",
       "599                                     9.3                               5.0   \n",
       "\n",
       "     BG18) Mobile phone access gender gap  \\\n",
       "0                                     NaN   \n",
       "1                                     2.0   \n",
       "2                                     0.0   \n",
       "3                                     1.0   \n",
       "4                                     3.0   \n",
       "..                                    ...   \n",
       "595                                   NaN   \n",
       "596                                   1.0   \n",
       "597                                   2.0   \n",
       "598                                  -2.0   \n",
       "599                                  -3.0   \n",
       "\n",
       "     BG19) Internet users (percent of population)  BG20) Male internet users  \\\n",
       "0                                            74.6                        NaN   \n",
       "1                                            85.5                       87.0   \n",
       "2                                            87.3                       87.0   \n",
       "3                                            88.5                       91.0   \n",
       "4                                            88.5                       94.0   \n",
       "..                                            ...                        ...   \n",
       "595                                          22.7                        NaN   \n",
       "596                                          23.1                       37.0   \n",
       "597                                          27.1                       42.0   \n",
       "598                                          27.1                       38.0   \n",
       "599                                          27.1                       38.0   \n",
       "\n",
       "     BG21) Female internet users  BG22) Male mobile phone subscribers  \\\n",
       "0                            NaN                                 95.0   \n",
       "1                           86.0                                 95.0   \n",
       "2                           90.0                                 95.0   \n",
       "3                           90.0                                 95.0   \n",
       "4                           94.0                                 97.0   \n",
       "..                           ...                                  ...   \n",
       "595                          NaN                                 75.0   \n",
       "596                         25.0                                 81.0   \n",
       "597                         23.0                                 80.0   \n",
       "598                         28.0                                 75.0   \n",
       "599                         33.0                                 80.0   \n",
       "\n",
       "     BG23) Female mobile phone subscribers  \n",
       "0                                     91.0  \n",
       "1                                     93.0  \n",
       "2                                     95.0  \n",
       "3                                     94.0  \n",
       "4                                     94.0  \n",
       "..                                     ...  \n",
       "595                                   68.0  \n",
       "596                                   80.0  \n",
       "597                                   78.0  \n",
       "598                                   77.0  \n",
       "599                                   83.0  \n",
       "\n",
       "[600 rows x 19 columns]"
      ]
     },
     "execution_count": 7,
     "metadata": {},
     "output_type": "execute_result"
    }
   ],
   "source": [
    "#get rid of irrelevant columns\n",
    "\n",
    "relevant_columns = ['Country', 'Edition', \n",
    "                '1.1.1) Internet users',\n",
    "                '1.1.4) Gender gap in internet access', \n",
    "                '1.1.5) Gender gap in mobile phone access',\n",
    "                '4.1.1) Level of literacy', \n",
    "                '4.1.2) Educational attainment',\n",
    "                '4.1.3) Support for digital literacy', \n",
    "                'BG2) Population',\n",
    "                'BG3) Urban population',\n",
    "                'BG4) GNI per capita',\n",
    "                'BG6) Population under the poverty line',\n",
    "                'BG17) Internet access gender gap',\n",
    "                'BG18) Mobile phone access gender gap', \n",
    "                'BG19) Internet users (percent of population)',\n",
    "                'BG20) Male internet users', \n",
    "                'BG21) Female internet users',\n",
    "                'BG22) Male mobile phone subscribers', \n",
    "                'BG23) Female mobile phone subscribers']\n",
    "\n",
    "demographic_df = internet_data[relevant_columns]\n",
    "demographic_df"
   ]
  },
  {
   "cell_type": "code",
   "execution_count": 8,
   "metadata": {},
   "outputs": [
    {
     "data": {
      "text/html": [
       "<div>\n",
       "<style scoped>\n",
       "    .dataframe tbody tr th:only-of-type {\n",
       "        vertical-align: middle;\n",
       "    }\n",
       "\n",
       "    .dataframe tbody tr th {\n",
       "        vertical-align: top;\n",
       "    }\n",
       "\n",
       "    .dataframe thead th {\n",
       "        text-align: right;\n",
       "    }\n",
       "</style>\n",
       "<table border=\"1\" class=\"dataframe\">\n",
       "  <thead>\n",
       "    <tr style=\"text-align: right;\">\n",
       "      <th></th>\n",
       "      <th>Country</th>\n",
       "      <th>Edition</th>\n",
       "      <th>1.1.1) Internet users</th>\n",
       "      <th>1.1.4) Gender gap in internet access</th>\n",
       "      <th>1.1.5) Gender gap in mobile phone access</th>\n",
       "      <th>Literacy (% of Population)</th>\n",
       "      <th>Education Level (Years of Schooling)</th>\n",
       "      <th>Support for Digital Literacy (Qualitative Rating 1-3)</th>\n",
       "      <th>Population (Millions)</th>\n",
       "      <th>Urban Population (% of Total Population)</th>\n",
       "      <th>GNI Per Capita (USD per Person)</th>\n",
       "      <th>Population Under the Poverty Line (% of Population)</th>\n",
       "      <th>Internet Access Gender Gap (Difference in Percentage Points)</th>\n",
       "      <th>Mobile Phone Access Gender Gap (Difference in Percengage Points)</th>\n",
       "      <th>Internet Users (% of Population)</th>\n",
       "      <th>Male Internet Users (% of Male Population)</th>\n",
       "      <th>Female Internet Users (% of Female Population)</th>\n",
       "      <th>Male Mobile Phone Subscribers (% of Male Population)</th>\n",
       "      <th>Female Mobile Phone Subscribers (% of Female Population)</th>\n",
       "    </tr>\n",
       "  </thead>\n",
       "  <tbody>\n",
       "    <tr>\n",
       "      <th>0</th>\n",
       "      <td>United States</td>\n",
       "      <td>2017</td>\n",
       "      <td>81.5</td>\n",
       "      <td>NaN</td>\n",
       "      <td>NaN</td>\n",
       "      <td>100.0</td>\n",
       "      <td>13.3</td>\n",
       "      <td>3.0</td>\n",
       "      <td>323.0</td>\n",
       "      <td>81.7</td>\n",
       "      <td>56740</td>\n",
       "      <td>0.9</td>\n",
       "      <td>NaN</td>\n",
       "      <td>NaN</td>\n",
       "      <td>74.6</td>\n",
       "      <td>NaN</td>\n",
       "      <td>NaN</td>\n",
       "      <td>95.0</td>\n",
       "      <td>91.0</td>\n",
       "    </tr>\n",
       "    <tr>\n",
       "      <th>1</th>\n",
       "      <td>United States</td>\n",
       "      <td>2018</td>\n",
       "      <td>81.9</td>\n",
       "      <td>1.1</td>\n",
       "      <td>2.1</td>\n",
       "      <td>100.0</td>\n",
       "      <td>13.4</td>\n",
       "      <td>3.0</td>\n",
       "      <td>325.1</td>\n",
       "      <td>81.9</td>\n",
       "      <td>57180</td>\n",
       "      <td>0.9</td>\n",
       "      <td>1.0</td>\n",
       "      <td>2.0</td>\n",
       "      <td>85.5</td>\n",
       "      <td>87.0</td>\n",
       "      <td>86.0</td>\n",
       "      <td>95.0</td>\n",
       "      <td>93.0</td>\n",
       "    </tr>\n",
       "    <tr>\n",
       "      <th>2</th>\n",
       "      <td>United States</td>\n",
       "      <td>2019</td>\n",
       "      <td>83.8</td>\n",
       "      <td>-3.4</td>\n",
       "      <td>0.0</td>\n",
       "      <td>100.0</td>\n",
       "      <td>13.4</td>\n",
       "      <td>3.0</td>\n",
       "      <td>327.1</td>\n",
       "      <td>82.1</td>\n",
       "      <td>59060</td>\n",
       "      <td>1.0</td>\n",
       "      <td>-3.0</td>\n",
       "      <td>0.0</td>\n",
       "      <td>87.3</td>\n",
       "      <td>87.0</td>\n",
       "      <td>90.0</td>\n",
       "      <td>95.0</td>\n",
       "      <td>95.0</td>\n",
       "    </tr>\n",
       "    <tr>\n",
       "      <th>3</th>\n",
       "      <td>United States</td>\n",
       "      <td>2020</td>\n",
       "      <td>85.3</td>\n",
       "      <td>1.1</td>\n",
       "      <td>1.1</td>\n",
       "      <td>100.0</td>\n",
       "      <td>13.4</td>\n",
       "      <td>3.0</td>\n",
       "      <td>329.1</td>\n",
       "      <td>82.3</td>\n",
       "      <td>63200</td>\n",
       "      <td>1.0</td>\n",
       "      <td>1.0</td>\n",
       "      <td>1.0</td>\n",
       "      <td>88.5</td>\n",
       "      <td>91.0</td>\n",
       "      <td>90.0</td>\n",
       "      <td>95.0</td>\n",
       "      <td>94.0</td>\n",
       "    </tr>\n",
       "    <tr>\n",
       "      <th>4</th>\n",
       "      <td>United States</td>\n",
       "      <td>2021</td>\n",
       "      <td>85.3</td>\n",
       "      <td>0.0</td>\n",
       "      <td>3.1</td>\n",
       "      <td>100.0</td>\n",
       "      <td>13.4</td>\n",
       "      <td>3.0</td>\n",
       "      <td>331.0</td>\n",
       "      <td>82.5</td>\n",
       "      <td>65760</td>\n",
       "      <td>1.0</td>\n",
       "      <td>0.0</td>\n",
       "      <td>3.0</td>\n",
       "      <td>88.5</td>\n",
       "      <td>94.0</td>\n",
       "      <td>94.0</td>\n",
       "      <td>97.0</td>\n",
       "      <td>94.0</td>\n",
       "    </tr>\n",
       "  </tbody>\n",
       "</table>\n",
       "</div>"
      ],
      "text/plain": [
       "         Country  Edition  1.1.1) Internet users  \\\n",
       "0  United States     2017                   81.5   \n",
       "1  United States     2018                   81.9   \n",
       "2  United States     2019                   83.8   \n",
       "3  United States     2020                   85.3   \n",
       "4  United States     2021                   85.3   \n",
       "\n",
       "   1.1.4) Gender gap in internet access  \\\n",
       "0                                   NaN   \n",
       "1                                   1.1   \n",
       "2                                  -3.4   \n",
       "3                                   1.1   \n",
       "4                                   0.0   \n",
       "\n",
       "   1.1.5) Gender gap in mobile phone access  Literacy (% of Population)  \\\n",
       "0                                       NaN                       100.0   \n",
       "1                                       2.1                       100.0   \n",
       "2                                       0.0                       100.0   \n",
       "3                                       1.1                       100.0   \n",
       "4                                       3.1                       100.0   \n",
       "\n",
       "   Education Level (Years of Schooling)  \\\n",
       "0                                  13.3   \n",
       "1                                  13.4   \n",
       "2                                  13.4   \n",
       "3                                  13.4   \n",
       "4                                  13.4   \n",
       "\n",
       "   Support for Digital Literacy (Qualitative Rating 1-3)  \\\n",
       "0                                                3.0       \n",
       "1                                                3.0       \n",
       "2                                                3.0       \n",
       "3                                                3.0       \n",
       "4                                                3.0       \n",
       "\n",
       "   Population (Millions)  Urban Population (% of Total Population)  \\\n",
       "0                  323.0                                      81.7   \n",
       "1                  325.1                                      81.9   \n",
       "2                  327.1                                      82.1   \n",
       "3                  329.1                                      82.3   \n",
       "4                  331.0                                      82.5   \n",
       "\n",
       "   GNI Per Capita (USD per Person)  \\\n",
       "0                            56740   \n",
       "1                            57180   \n",
       "2                            59060   \n",
       "3                            63200   \n",
       "4                            65760   \n",
       "\n",
       "   Population Under the Poverty Line (% of Population)  \\\n",
       "0                                                0.9     \n",
       "1                                                0.9     \n",
       "2                                                1.0     \n",
       "3                                                1.0     \n",
       "4                                                1.0     \n",
       "\n",
       "   Internet Access Gender Gap (Difference in Percentage Points)  \\\n",
       "0                                                NaN              \n",
       "1                                                1.0              \n",
       "2                                               -3.0              \n",
       "3                                                1.0              \n",
       "4                                                0.0              \n",
       "\n",
       "   Mobile Phone Access Gender Gap (Difference in Percengage Points)  \\\n",
       "0                                                NaN                  \n",
       "1                                                2.0                  \n",
       "2                                                0.0                  \n",
       "3                                                1.0                  \n",
       "4                                                3.0                  \n",
       "\n",
       "   Internet Users (% of Population)  \\\n",
       "0                              74.6   \n",
       "1                              85.5   \n",
       "2                              87.3   \n",
       "3                              88.5   \n",
       "4                              88.5   \n",
       "\n",
       "   Male Internet Users (% of Male Population)  \\\n",
       "0                                         NaN   \n",
       "1                                        87.0   \n",
       "2                                        87.0   \n",
       "3                                        91.0   \n",
       "4                                        94.0   \n",
       "\n",
       "   Female Internet Users (% of Female Population)  \\\n",
       "0                                             NaN   \n",
       "1                                            86.0   \n",
       "2                                            90.0   \n",
       "3                                            90.0   \n",
       "4                                            94.0   \n",
       "\n",
       "   Male Mobile Phone Subscribers (% of Male Population)  \\\n",
       "0                                               95.0      \n",
       "1                                               95.0      \n",
       "2                                               95.0      \n",
       "3                                               95.0      \n",
       "4                                               97.0      \n",
       "\n",
       "   Female Mobile Phone Subscribers (% of Female Population)  \n",
       "0                                               91.0         \n",
       "1                                               93.0         \n",
       "2                                               95.0         \n",
       "3                                               94.0         \n",
       "4                                               94.0         "
      ]
     },
     "execution_count": 8,
     "metadata": {},
     "output_type": "execute_result"
    }
   ],
   "source": [
    "##Data Cleaning and Organizaion\n",
    "\n",
    "#rename columns\n",
    "newcolname_dict = {\n",
    "    'Country': 'Country',\n",
    "    'Edition': 'Edition',\n",
    "    'BG2) Population': 'Population (Millions)',\n",
    "    'BG19) Internet users (percent of population)': 'Internet Users (% of Population)',\n",
    "    '4.1.1) Level of literacy': 'Literacy (% of Population)',\n",
    "    '4.1.2) Educational attainment': 'Education Level (Years of Schooling)',\n",
    "    '4.1.3) Support for digital literacy': 'Support for Digital Literacy (Qualitative Rating 1-3)',\n",
    "    'BG3) Urban population': 'Urban Population (% of Total Population)',\n",
    "    'BG4) GNI per capita': 'GNI Per Capita (USD per Person)',\n",
    "    'BG6) Population under the poverty line': 'Population Under the Poverty Line (% of Population)',\n",
    "    'BG17) Internet access gender gap': 'Internet Access Gender Gap (Difference in Percentage Points)',\n",
    "    'BG18) Mobile phone access gender gap': 'Mobile Phone Access Gender Gap (Difference in Percengage Points)',\n",
    "    'BG20) Male internet users': 'Male Internet Users (% of Male Population)',\n",
    "    'BG21) Female internet users': 'Female Internet Users (% of Female Population)',\n",
    "    'BG22) Male mobile phone subscribers': 'Male Mobile Phone Subscribers (% of Male Population)',\n",
    "    'BG23) Female mobile phone subscribers': 'Female Mobile Phone Subscribers (% of Female Population)'\n",
    "}\n",
    "\n",
    "demographic_df_renamed = demographic_df.rename(columns=newcolname_dict)\n",
    "\n",
    "demographic_df_renamed.head()"
   ]
  },
  {
   "cell_type": "code",
   "execution_count": 9,
   "metadata": {},
   "outputs": [
    {
     "data": {
      "text/html": [
       "<div>\n",
       "<style scoped>\n",
       "    .dataframe tbody tr th:only-of-type {\n",
       "        vertical-align: middle;\n",
       "    }\n",
       "\n",
       "    .dataframe tbody tr th {\n",
       "        vertical-align: top;\n",
       "    }\n",
       "\n",
       "    .dataframe thead th {\n",
       "        text-align: right;\n",
       "    }\n",
       "</style>\n",
       "<table border=\"1\" class=\"dataframe\">\n",
       "  <thead>\n",
       "    <tr style=\"text-align: right;\">\n",
       "      <th></th>\n",
       "      <th>Country</th>\n",
       "      <th>Edition</th>\n",
       "      <th>Population (Millions)</th>\n",
       "      <th>Internet Users (% of Population)</th>\n",
       "      <th>Urban Population (% of Total Population)</th>\n",
       "      <th>Population Under the Poverty Line (% of Population)</th>\n",
       "      <th>GNI Per Capita (USD per Person)</th>\n",
       "      <th>Literacy (% of Population)</th>\n",
       "      <th>Education Level (Years of Schooling)</th>\n",
       "      <th>Support for Digital Literacy (Qualitative Rating 1-3)</th>\n",
       "      <th>Internet Access Gender Gap (Difference in Percentage Points)</th>\n",
       "      <th>Male Internet Users (% of Male Population)</th>\n",
       "      <th>Female Internet Users (% of Female Population)</th>\n",
       "      <th>Mobile Phone Access Gender Gap (Difference in Percengage Points)</th>\n",
       "      <th>Male Mobile Phone Subscribers (% of Male Population)</th>\n",
       "      <th>Female Mobile Phone Subscribers (% of Female Population)</th>\n",
       "    </tr>\n",
       "  </thead>\n",
       "  <tbody>\n",
       "    <tr>\n",
       "      <th>0</th>\n",
       "      <td>United States</td>\n",
       "      <td>2017</td>\n",
       "      <td>323.0</td>\n",
       "      <td>74.6</td>\n",
       "      <td>81.7</td>\n",
       "      <td>0.9</td>\n",
       "      <td>56740</td>\n",
       "      <td>100.0</td>\n",
       "      <td>13.3</td>\n",
       "      <td>3.0</td>\n",
       "      <td>NaN</td>\n",
       "      <td>NaN</td>\n",
       "      <td>NaN</td>\n",
       "      <td>NaN</td>\n",
       "      <td>95.0</td>\n",
       "      <td>91.0</td>\n",
       "    </tr>\n",
       "    <tr>\n",
       "      <th>1</th>\n",
       "      <td>United States</td>\n",
       "      <td>2018</td>\n",
       "      <td>325.1</td>\n",
       "      <td>85.5</td>\n",
       "      <td>81.9</td>\n",
       "      <td>0.9</td>\n",
       "      <td>57180</td>\n",
       "      <td>100.0</td>\n",
       "      <td>13.4</td>\n",
       "      <td>3.0</td>\n",
       "      <td>1.0</td>\n",
       "      <td>87.0</td>\n",
       "      <td>86.0</td>\n",
       "      <td>2.0</td>\n",
       "      <td>95.0</td>\n",
       "      <td>93.0</td>\n",
       "    </tr>\n",
       "    <tr>\n",
       "      <th>2</th>\n",
       "      <td>United States</td>\n",
       "      <td>2019</td>\n",
       "      <td>327.1</td>\n",
       "      <td>87.3</td>\n",
       "      <td>82.1</td>\n",
       "      <td>1.0</td>\n",
       "      <td>59060</td>\n",
       "      <td>100.0</td>\n",
       "      <td>13.4</td>\n",
       "      <td>3.0</td>\n",
       "      <td>-3.0</td>\n",
       "      <td>87.0</td>\n",
       "      <td>90.0</td>\n",
       "      <td>0.0</td>\n",
       "      <td>95.0</td>\n",
       "      <td>95.0</td>\n",
       "    </tr>\n",
       "    <tr>\n",
       "      <th>3</th>\n",
       "      <td>United States</td>\n",
       "      <td>2020</td>\n",
       "      <td>329.1</td>\n",
       "      <td>88.5</td>\n",
       "      <td>82.3</td>\n",
       "      <td>1.0</td>\n",
       "      <td>63200</td>\n",
       "      <td>100.0</td>\n",
       "      <td>13.4</td>\n",
       "      <td>3.0</td>\n",
       "      <td>1.0</td>\n",
       "      <td>91.0</td>\n",
       "      <td>90.0</td>\n",
       "      <td>1.0</td>\n",
       "      <td>95.0</td>\n",
       "      <td>94.0</td>\n",
       "    </tr>\n",
       "    <tr>\n",
       "      <th>4</th>\n",
       "      <td>United States</td>\n",
       "      <td>2021</td>\n",
       "      <td>331.0</td>\n",
       "      <td>88.5</td>\n",
       "      <td>82.5</td>\n",
       "      <td>1.0</td>\n",
       "      <td>65760</td>\n",
       "      <td>100.0</td>\n",
       "      <td>13.4</td>\n",
       "      <td>3.0</td>\n",
       "      <td>0.0</td>\n",
       "      <td>94.0</td>\n",
       "      <td>94.0</td>\n",
       "      <td>3.0</td>\n",
       "      <td>97.0</td>\n",
       "      <td>94.0</td>\n",
       "    </tr>\n",
       "    <tr>\n",
       "      <th>...</th>\n",
       "      <td>...</td>\n",
       "      <td>...</td>\n",
       "      <td>...</td>\n",
       "      <td>...</td>\n",
       "      <td>...</td>\n",
       "      <td>...</td>\n",
       "      <td>...</td>\n",
       "      <td>...</td>\n",
       "      <td>...</td>\n",
       "      <td>...</td>\n",
       "      <td>...</td>\n",
       "      <td>...</td>\n",
       "      <td>...</td>\n",
       "      <td>...</td>\n",
       "      <td>...</td>\n",
       "      <td>...</td>\n",
       "    </tr>\n",
       "    <tr>\n",
       "      <th>595</th>\n",
       "      <td>Zimbabwe</td>\n",
       "      <td>2017</td>\n",
       "      <td>14.0</td>\n",
       "      <td>22.7</td>\n",
       "      <td>32.4</td>\n",
       "      <td>5.2</td>\n",
       "      <td>1280</td>\n",
       "      <td>86.9</td>\n",
       "      <td>8.3</td>\n",
       "      <td>NaN</td>\n",
       "      <td>NaN</td>\n",
       "      <td>NaN</td>\n",
       "      <td>NaN</td>\n",
       "      <td>NaN</td>\n",
       "      <td>75.0</td>\n",
       "      <td>68.0</td>\n",
       "    </tr>\n",
       "    <tr>\n",
       "      <th>596</th>\n",
       "      <td>Zimbabwe</td>\n",
       "      <td>2018</td>\n",
       "      <td>14.2</td>\n",
       "      <td>23.1</td>\n",
       "      <td>32.3</td>\n",
       "      <td>5.2</td>\n",
       "      <td>1290</td>\n",
       "      <td>86.9</td>\n",
       "      <td>8.3</td>\n",
       "      <td>NaN</td>\n",
       "      <td>12.0</td>\n",
       "      <td>37.0</td>\n",
       "      <td>25.0</td>\n",
       "      <td>1.0</td>\n",
       "      <td>81.0</td>\n",
       "      <td>80.0</td>\n",
       "    </tr>\n",
       "    <tr>\n",
       "      <th>597</th>\n",
       "      <td>Zimbabwe</td>\n",
       "      <td>2019</td>\n",
       "      <td>14.4</td>\n",
       "      <td>27.1</td>\n",
       "      <td>32.2</td>\n",
       "      <td>5.2</td>\n",
       "      <td>1360</td>\n",
       "      <td>86.9</td>\n",
       "      <td>8.3</td>\n",
       "      <td>NaN</td>\n",
       "      <td>19.0</td>\n",
       "      <td>42.0</td>\n",
       "      <td>23.0</td>\n",
       "      <td>2.0</td>\n",
       "      <td>80.0</td>\n",
       "      <td>78.0</td>\n",
       "    </tr>\n",
       "    <tr>\n",
       "      <th>598</th>\n",
       "      <td>Zimbabwe</td>\n",
       "      <td>2020</td>\n",
       "      <td>14.6</td>\n",
       "      <td>27.1</td>\n",
       "      <td>32.2</td>\n",
       "      <td>9.3</td>\n",
       "      <td>1530</td>\n",
       "      <td>86.9</td>\n",
       "      <td>8.3</td>\n",
       "      <td>1.0</td>\n",
       "      <td>10.0</td>\n",
       "      <td>38.0</td>\n",
       "      <td>28.0</td>\n",
       "      <td>-2.0</td>\n",
       "      <td>75.0</td>\n",
       "      <td>77.0</td>\n",
       "    </tr>\n",
       "    <tr>\n",
       "      <th>599</th>\n",
       "      <td>Zimbabwe</td>\n",
       "      <td>2021</td>\n",
       "      <td>14.9</td>\n",
       "      <td>27.1</td>\n",
       "      <td>32.2</td>\n",
       "      <td>9.3</td>\n",
       "      <td>1390</td>\n",
       "      <td>86.9</td>\n",
       "      <td>8.3</td>\n",
       "      <td>1.0</td>\n",
       "      <td>5.0</td>\n",
       "      <td>38.0</td>\n",
       "      <td>33.0</td>\n",
       "      <td>-3.0</td>\n",
       "      <td>80.0</td>\n",
       "      <td>83.0</td>\n",
       "    </tr>\n",
       "  </tbody>\n",
       "</table>\n",
       "<p>600 rows × 16 columns</p>\n",
       "</div>"
      ],
      "text/plain": [
       "           Country  Edition  Population (Millions)  \\\n",
       "0    United States     2017                  323.0   \n",
       "1    United States     2018                  325.1   \n",
       "2    United States     2019                  327.1   \n",
       "3    United States     2020                  329.1   \n",
       "4    United States     2021                  331.0   \n",
       "..             ...      ...                    ...   \n",
       "595       Zimbabwe     2017                   14.0   \n",
       "596       Zimbabwe     2018                   14.2   \n",
       "597       Zimbabwe     2019                   14.4   \n",
       "598       Zimbabwe     2020                   14.6   \n",
       "599       Zimbabwe     2021                   14.9   \n",
       "\n",
       "     Internet Users (% of Population)  \\\n",
       "0                                74.6   \n",
       "1                                85.5   \n",
       "2                                87.3   \n",
       "3                                88.5   \n",
       "4                                88.5   \n",
       "..                                ...   \n",
       "595                              22.7   \n",
       "596                              23.1   \n",
       "597                              27.1   \n",
       "598                              27.1   \n",
       "599                              27.1   \n",
       "\n",
       "     Urban Population (% of Total Population)  \\\n",
       "0                                        81.7   \n",
       "1                                        81.9   \n",
       "2                                        82.1   \n",
       "3                                        82.3   \n",
       "4                                        82.5   \n",
       "..                                        ...   \n",
       "595                                      32.4   \n",
       "596                                      32.3   \n",
       "597                                      32.2   \n",
       "598                                      32.2   \n",
       "599                                      32.2   \n",
       "\n",
       "     Population Under the Poverty Line (% of Population)  \\\n",
       "0                                                  0.9     \n",
       "1                                                  0.9     \n",
       "2                                                  1.0     \n",
       "3                                                  1.0     \n",
       "4                                                  1.0     \n",
       "..                                                 ...     \n",
       "595                                                5.2     \n",
       "596                                                5.2     \n",
       "597                                                5.2     \n",
       "598                                                9.3     \n",
       "599                                                9.3     \n",
       "\n",
       "     GNI Per Capita (USD per Person)  Literacy (% of Population)  \\\n",
       "0                              56740                       100.0   \n",
       "1                              57180                       100.0   \n",
       "2                              59060                       100.0   \n",
       "3                              63200                       100.0   \n",
       "4                              65760                       100.0   \n",
       "..                               ...                         ...   \n",
       "595                             1280                        86.9   \n",
       "596                             1290                        86.9   \n",
       "597                             1360                        86.9   \n",
       "598                             1530                        86.9   \n",
       "599                             1390                        86.9   \n",
       "\n",
       "     Education Level (Years of Schooling)  \\\n",
       "0                                    13.3   \n",
       "1                                    13.4   \n",
       "2                                    13.4   \n",
       "3                                    13.4   \n",
       "4                                    13.4   \n",
       "..                                    ...   \n",
       "595                                   8.3   \n",
       "596                                   8.3   \n",
       "597                                   8.3   \n",
       "598                                   8.3   \n",
       "599                                   8.3   \n",
       "\n",
       "     Support for Digital Literacy (Qualitative Rating 1-3)  \\\n",
       "0                                                  3.0       \n",
       "1                                                  3.0       \n",
       "2                                                  3.0       \n",
       "3                                                  3.0       \n",
       "4                                                  3.0       \n",
       "..                                                 ...       \n",
       "595                                                NaN       \n",
       "596                                                NaN       \n",
       "597                                                NaN       \n",
       "598                                                1.0       \n",
       "599                                                1.0       \n",
       "\n",
       "     Internet Access Gender Gap (Difference in Percentage Points)  \\\n",
       "0                                                  NaN              \n",
       "1                                                  1.0              \n",
       "2                                                 -3.0              \n",
       "3                                                  1.0              \n",
       "4                                                  0.0              \n",
       "..                                                 ...              \n",
       "595                                                NaN              \n",
       "596                                               12.0              \n",
       "597                                               19.0              \n",
       "598                                               10.0              \n",
       "599                                                5.0              \n",
       "\n",
       "     Male Internet Users (% of Male Population)  \\\n",
       "0                                           NaN   \n",
       "1                                          87.0   \n",
       "2                                          87.0   \n",
       "3                                          91.0   \n",
       "4                                          94.0   \n",
       "..                                          ...   \n",
       "595                                         NaN   \n",
       "596                                        37.0   \n",
       "597                                        42.0   \n",
       "598                                        38.0   \n",
       "599                                        38.0   \n",
       "\n",
       "     Female Internet Users (% of Female Population)  \\\n",
       "0                                               NaN   \n",
       "1                                              86.0   \n",
       "2                                              90.0   \n",
       "3                                              90.0   \n",
       "4                                              94.0   \n",
       "..                                              ...   \n",
       "595                                             NaN   \n",
       "596                                            25.0   \n",
       "597                                            23.0   \n",
       "598                                            28.0   \n",
       "599                                            33.0   \n",
       "\n",
       "     Mobile Phone Access Gender Gap (Difference in Percengage Points)  \\\n",
       "0                                                  NaN                  \n",
       "1                                                  2.0                  \n",
       "2                                                  0.0                  \n",
       "3                                                  1.0                  \n",
       "4                                                  3.0                  \n",
       "..                                                 ...                  \n",
       "595                                                NaN                  \n",
       "596                                                1.0                  \n",
       "597                                                2.0                  \n",
       "598                                               -2.0                  \n",
       "599                                               -3.0                  \n",
       "\n",
       "     Male Mobile Phone Subscribers (% of Male Population)  \\\n",
       "0                                                 95.0      \n",
       "1                                                 95.0      \n",
       "2                                                 95.0      \n",
       "3                                                 95.0      \n",
       "4                                                 97.0      \n",
       "..                                                 ...      \n",
       "595                                               75.0      \n",
       "596                                               81.0      \n",
       "597                                               80.0      \n",
       "598                                               75.0      \n",
       "599                                               80.0      \n",
       "\n",
       "     Female Mobile Phone Subscribers (% of Female Population)  \n",
       "0                                                 91.0         \n",
       "1                                                 93.0         \n",
       "2                                                 95.0         \n",
       "3                                                 94.0         \n",
       "4                                                 94.0         \n",
       "..                                                 ...         \n",
       "595                                               68.0         \n",
       "596                                               80.0         \n",
       "597                                               78.0         \n",
       "598                                               77.0         \n",
       "599                                               83.0         \n",
       "\n",
       "[600 rows x 16 columns]"
      ]
     },
     "execution_count": 9,
     "metadata": {},
     "output_type": "execute_result"
    }
   ],
   "source": [
    "#reorder columns\n",
    "new_column_order = [\n",
    "    'Country',\n",
    "    'Edition',\n",
    "    'Population (Millions)',\n",
    "    'Internet Users (% of Population)',\n",
    "    'Urban Population (% of Total Population)',\n",
    "    'Population Under the Poverty Line (% of Population)',\n",
    "    'GNI Per Capita (USD per Person)',\n",
    "    'Literacy (% of Population)',\n",
    "    'Education Level (Years of Schooling)',\n",
    "    'Support for Digital Literacy (Qualitative Rating 1-3)',\n",
    "    'Internet Access Gender Gap (Difference in Percentage Points)',\n",
    "    'Male Internet Users (% of Male Population)',\n",
    "    'Female Internet Users (% of Female Population)',\n",
    "    'Mobile Phone Access Gender Gap (Difference in Percengage Points)',\n",
    "    'Male Mobile Phone Subscribers (% of Male Population)',\n",
    "    'Female Mobile Phone Subscribers (% of Female Population)'\n",
    "]\n",
    "\n",
    "demo_data_all_years = demographic_df_renamed[new_column_order]\n",
    "\n",
    "demo_data_all_years\n"
   ]
  },
  {
   "cell_type": "code",
   "execution_count": 10,
   "metadata": {},
   "outputs": [],
   "source": [
    "# Group the data by 'Country' and calculate the mean for each country\n",
    "# Replace 'df' with your DataFrame name\n",
    "demo_data_agg = demo_data_all_years.groupby('Country').mean()\n",
    "\n",
    "# Reset the index so 'Country' becomes a column again\n",
    "demo_data_agg = demo_data_agg.reset_index()\n",
    "\n",
    "# Now, aggregated_data contains the average of all numeric columns for each country\n"
   ]
  },
  {
   "cell_type": "markdown",
   "metadata": {},
   "source": []
  },
  {
   "cell_type": "markdown",
   "metadata": {},
   "source": [
    "## Internet Usage by Country"
   ]
  },
  {
   "cell_type": "code",
   "execution_count": 41,
   "metadata": {},
   "outputs": [
    {
     "data": {},
     "metadata": {},
     "output_type": "display_data"
    },
    {
     "data": {
      "application/vnd.holoviews_exec.v0+json": "",
      "text/html": [
       "<div id='p1185'>\n",
       "  <div id=\"b4db2527-d50e-4fbf-a16e-d4c0f66c3bd3\" data-root-id=\"p1185\" style=\"display: contents;\"></div>\n",
       "</div>\n",
       "<script type=\"application/javascript\">(function(root) {\n",
       "  var docs_json = {\"b3e2a29c-ef32-4624-bc23-3ef0ed72a285\":{\"version\":\"3.2.1\",\"title\":\"Bokeh Application\",\"roots\":[{\"type\":\"object\",\"name\":\"Row\",\"id\":\"p1185\",\"attributes\":{\"name\":\"Row01913\",\"tags\":[\"embedded\"],\"stylesheets\":[\"\\n:host(.pn-loading.pn-arc):before, .pn-loading.pn-arc:before {\\n  background-image: url(\\\"data:image/svg+xml;base64,PHN2ZyB4bWxucz0iaHR0cDovL3d3dy53My5vcmcvMjAwMC9zdmciIHN0eWxlPSJtYXJnaW46IGF1dG87IGJhY2tncm91bmQ6IG5vbmU7IGRpc3BsYXk6IGJsb2NrOyBzaGFwZS1yZW5kZXJpbmc6IGF1dG87IiB2aWV3Qm94PSIwIDAgMTAwIDEwMCIgcHJlc2VydmVBc3BlY3RSYXRpbz0ieE1pZFlNaWQiPiAgPGNpcmNsZSBjeD0iNTAiIGN5PSI1MCIgZmlsbD0ibm9uZSIgc3Ryb2tlPSIjYzNjM2MzIiBzdHJva2Utd2lkdGg9IjEwIiByPSIzNSIgc3Ryb2tlLWRhc2hhcnJheT0iMTY0LjkzMzYxNDMxMzQ2NDE1IDU2Ljk3Nzg3MTQzNzgyMTM4Ij4gICAgPGFuaW1hdGVUcmFuc2Zvcm0gYXR0cmlidXRlTmFtZT0idHJhbnNmb3JtIiB0eXBlPSJyb3RhdGUiIHJlcGVhdENvdW50PSJpbmRlZmluaXRlIiBkdXI9IjFzIiB2YWx1ZXM9IjAgNTAgNTA7MzYwIDUwIDUwIiBrZXlUaW1lcz0iMDsxIj48L2FuaW1hdGVUcmFuc2Zvcm0+ICA8L2NpcmNsZT48L3N2Zz4=\\\");\\n  background-size: auto calc(min(50%, 400px));\\n}\",{\"type\":\"object\",\"name\":\"ImportedStyleSheet\",\"id\":\"p1188\",\"attributes\":{\"url\":\"https://cdn.holoviz.org/panel/1.2.3/dist/css/loading.css\"}},{\"type\":\"object\",\"name\":\"ImportedStyleSheet\",\"id\":\"p1269\",\"attributes\":{\"url\":\"https://cdn.holoviz.org/panel/1.2.3/dist/css/listpanel.css\"}},{\"type\":\"object\",\"name\":\"ImportedStyleSheet\",\"id\":\"p1186\",\"attributes\":{\"url\":\"https://cdn.holoviz.org/panel/1.2.3/dist/bundled/theme/default.css\"}},{\"type\":\"object\",\"name\":\"ImportedStyleSheet\",\"id\":\"p1187\",\"attributes\":{\"url\":\"https://cdn.holoviz.org/panel/1.2.3/dist/bundled/theme/native.css\"}}],\"margin\":0,\"sizing_mode\":\"stretch_width\",\"align\":\"start\",\"children\":[{\"type\":\"object\",\"name\":\"Spacer\",\"id\":\"p1189\",\"attributes\":{\"name\":\"HSpacer01923\",\"stylesheets\":[\"\\n:host(.pn-loading.pn-arc):before, .pn-loading.pn-arc:before {\\n  background-image: url(\\\"data:image/svg+xml;base64,PHN2ZyB4bWxucz0iaHR0cDovL3d3dy53My5vcmcvMjAwMC9zdmciIHN0eWxlPSJtYXJnaW46IGF1dG87IGJhY2tncm91bmQ6IG5vbmU7IGRpc3BsYXk6IGJsb2NrOyBzaGFwZS1yZW5kZXJpbmc6IGF1dG87IiB2aWV3Qm94PSIwIDAgMTAwIDEwMCIgcHJlc2VydmVBc3BlY3RSYXRpbz0ieE1pZFlNaWQiPiAgPGNpcmNsZSBjeD0iNTAiIGN5PSI1MCIgZmlsbD0ibm9uZSIgc3Ryb2tlPSIjYzNjM2MzIiBzdHJva2Utd2lkdGg9IjEwIiByPSIzNSIgc3Ryb2tlLWRhc2hhcnJheT0iMTY0LjkzMzYxNDMxMzQ2NDE1IDU2Ljk3Nzg3MTQzNzgyMTM4Ij4gICAgPGFuaW1hdGVUcmFuc2Zvcm0gYXR0cmlidXRlTmFtZT0idHJhbnNmb3JtIiB0eXBlPSJyb3RhdGUiIHJlcGVhdENvdW50PSJpbmRlZmluaXRlIiBkdXI9IjFzIiB2YWx1ZXM9IjAgNTAgNTA7MzYwIDUwIDUwIiBrZXlUaW1lcz0iMDsxIj48L2FuaW1hdGVUcmFuc2Zvcm0+ICA8L2NpcmNsZT48L3N2Zz4=\\\");\\n  background-size: auto calc(min(50%, 400px));\\n}\",{\"id\":\"p1188\"},{\"id\":\"p1186\"},{\"id\":\"p1187\"}],\"margin\":0,\"sizing_mode\":\"stretch_width\",\"align\":\"start\"}},{\"type\":\"object\",\"name\":\"Figure\",\"id\":\"p1210\",\"attributes\":{\"width\":null,\"height\":null,\"margin\":[5,10],\"sizing_mode\":\"fixed\",\"align\":\"start\",\"x_range\":{\"type\":\"object\",\"name\":\"Range1d\",\"id\":\"p1199\",\"attributes\":{\"tags\":[[[\"Longitude\",\"Longitude\",null]],[]],\"start\":-15147723.708538814,\"end\":22365980.13212349,\"reset_start\":-15147723.708538814,\"reset_end\":22365980.13212349,\"min_interval\":5}},\"y_range\":{\"type\":\"object\",\"name\":\"Range1d\",\"id\":\"p1200\",\"attributes\":{\"tags\":[[[\"Latitude\",\"Latitude\",null]],{\"type\":\"map\",\"entries\":[[\"invert_yaxis\",false],[\"autorange\",false]]}],\"start\":-16536931.96223338,\"end\":20976771.87842892,\"reset_start\":-16536931.96223338,\"reset_end\":20976771.87842892,\"min_interval\":5}},\"x_scale\":{\"type\":\"object\",\"name\":\"LinearScale\",\"id\":\"p1220\"},\"y_scale\":{\"type\":\"object\",\"name\":\"LinearScale\",\"id\":\"p1221\"},\"title\":{\"type\":\"object\",\"name\":\"Title\",\"id\":\"p1213\",\"attributes\":{\"text_color\":\"black\",\"text_font_size\":\"12pt\"}},\"renderers\":[{\"type\":\"object\",\"name\":\"TileRenderer\",\"id\":\"p1243\",\"attributes\":{\"level\":\"underlay\",\"tile_source\":{\"type\":\"object\",\"name\":\"WMTSTileSource\",\"id\":\"p1239\",\"attributes\":{\"url\":\"https://c.tile.openstreetmap.org/{Z}/{X}/{Y}.png\",\"attribution\":\"&copy; <a href=\\\"https://www.openstreetmap.org/copyright\\\">OpenStreetMap</a> contributors\"}}}},{\"type\":\"object\",\"name\":\"GlyphRenderer\",\"id\":\"p1259\",\"attributes\":{\"name\":\"color\",\"data_source\":{\"type\":\"object\",\"name\":\"ColumnDataSource\",\"id\":\"p1248\",\"attributes\":{\"selected\":{\"type\":\"object\",\"name\":\"Selection\",\"id\":\"p1249\",\"attributes\":{\"indices\":[],\"line_indices\":[]}},\"selection_policy\":{\"type\":\"object\",\"name\":\"UnionRenderers\",\"id\":\"p1250\"},\"data\":{\"type\":\"map\",\"entries\":[[\"Longitude\",{\"type\":\"ndarray\",\"array\":{\"type\":\"bytes\",\"data\":\"SiXfGBJiFEGNn9Dyydc9QcZt5C2fllvBvUtrP6OcbEFdWK7T8v03Qb7XOhv5SlRBIu/5mp91VUEPJQp96ytjQTTKlCAhtR9BScy31oOwDkHby9UdAeNEQaLAQDpll1bBykcFcR2lRUF2IfxdNvAGwW2236bwa0lBXdTu+TZBZkEbsD3zuVc2QcMNqbrp7WbBCuEgSBhJXsHt5wVNS0tmQeEwI/7y9V7BaodyIHU7REEC2KP8Yt9hwXi38ECLmDpBJnbJTrApYcEwOCkppg06QUwPTshZ6iLB3s002FyNMUHNEvQLptpdwaK8sIf+2WDBdWp2NWDbSEFpKNeZ8eBiwQ8C34mvg0VB219kluNpUEFWJXabvwNGQZkv35YCqQlBvOQkf0nbM0HhH51CJ78xQeyJrBFBWv3AZ8LAhJasQkEcCmR8wy5jweC8pwlxMDLBzYA0TqdGYsGwvzQ43TtoQaeogjUIkUBBWlNAogC0YEHHI+7Q8wdpQaYYevW2K1dBuCJk05obK8HzYeiRLZtNQUqnx0lQhzVBAI3fSc9uYMHb1yqjY5BtQeP2338S4WPBCOb5g3lbXEHNP2nm5FFQQSeyy9WFK1RBkzZ1zyXzZUGkMsw6/AVFQZ3IlH0COmDBafAL11PRL8F2pLzvvitEQZQPhv2wuFNB9VVaFiLRTEEzhbx1rLZlQc/fCVtiHg/ByxagyaaoZcHR8cLFyQxmQXQu8tM27CjBD2N5DSSnTUHDZcBnGWJkQUE+sdzPbD1B7Fau2NLaYUGc8CveEyQjQZqHG+Q5WXJB/y5bSCgcYsFOd1v0yqwvQZTSHKRxLStBR1ZWcOU0WEEkPMbTWEFeQTzrmIXiOWHBXuHoX66gbkHTJs9znbNYwdZ9aH5E3l/BTT8C+hQPakGLh4wOOUBAQT+7PHYuoyvBhxzNSC/BVUE0cUYpPPdEQTDBerb3wGRB8kaV16KISUEkEPvxMfxRQYxG/0fAjDjBJu/2w4kcNMFppCG5IQtmQQq9qX11hUBBR2SHQ7Q5RUHpmHld8xxrQSf6YL2CbyDBcKw1LTcjYUHNywFcIAxJQXfAHpBGqjhBohYAODb3K0G0shYUAbBpQXokMkYGZU5BZawVBcloZUEkoxInePBZwRIIriYl7y9BUaI0rWqpTUF+OiG8Tu5WQTFkfviSXEtBL0B4NiaPSkEnr5jGKkMWwX379w3CU2XBTvZttvnJV8Ft6DCOVihbQZLV4tDyElzBwAfsSnfsZkFlgBlH5mdHQc6wYZ6VQ0lB\"},\"shape\":[120],\"dtype\":\"float64\",\"order\":\"little\"}],[\"Latitude\",{\"type\":\"ndarray\",\"array\":{\"type\":\"bytes\",\"data\":\"WYYGnKjJSEHaaUgDQ1I0weRe+YGmw0/BDDtVyAa7RcHf0h9yBApXQVanSlnrx1JBZqv1RSEHR0Hwt7tLeHNFQb/M4CM1BFlB/gWny/5CMEEL+PbTaDxEwb+tmXLspTHBQkH/2EwJVEEt9GstKKo0QY9DzXhoSxfBNC9ZO3V6NUHQ2QvymV8fQVjVYhpQe2BBRuDyeBt5TMHW1KWZmcRPQbWvPqla4RtBSkHnjiZEFMGzinxTIUYwQYTab08xqlVBRPhNg8MXREFNhziN/mtYQTXbeicsOytBSPX0am6VXEHgrxx1Q4dAQQPoXgIeNQLBZS88GxofR0Haj/dhtas3QaQ+5GeUAF9BD1eXVyhwMUHVzdJXJ3lhQTOsNn7Qa1ZBFJT6QsR1+MB2uFWddF5ZQQPFDvKOXitBBxUnCVwCUkF544jxaM46Qci0vwgaUjJB68+FcVA6OkG7Fi1A0YJDQdyQCBTUx1ZBDdrlpcJ7Q0EoLHfw3eAQwRM63kfSXE1BOUi3aQWLWkFAFANnrodLQf5mXGPiDVRB1+5l0NNrP0FQf0OEWrVQQe0kj2idPlVBR/231jJcV0H8/yj/wJgDQSxqbMAcBUpBvcVyB3lbQUHr6PSSgHpdQc6+mNiwwFJBdjwgMBKRI0GjdQQg81dcQcy4gZqbX0DBA/4ssRG+NsF8CzRiQhQfQWSTDQY/MTxBMomCkJWwREEc7Rqk9o5WQUU0PskW40tB3wOJvGu2QMHi53pi2549QYR/UIvfS0TB1y4tRVvkSEHO1vhT3BtaQRpZC4AsZ1PBnDawCbqXNUHGcE+PYp4+QRdUNcIqYjBBAWJLAaU/QkF2cobEEQ5LQf9TpuHzLy1BQeoSYFFVI8GJtUc3h19EwS/cqD4RZSfBTjabbrjWNUEIm23e9xZaQciUSHASYFJBA+/y+NlARkElEjL5jgpWQU9Y6kB6K2JBQhZeVuGzCsHrSr8L1YZGQf2GLQ9o2jhBIjdzsLx2LUGoPW60dHECQT1NR3sDxVdBfVTNe4OTScE0fS2c9b1QQUtd5ZK5MFJB9QqyCwS+KUEHYfDmigs5QTqo+KeLxF9BqqOaBcKKVkFrGXZLjPtEQQmASDm9NibBZSoMvSqYOUEh5zX7wFwyQfI04iTdk05B267BRWH9UUEs/J82zwFFQbsEG8XF1gRBL2yjHuxAWEEIhL0KHt1bQUfqVwpBcVJBds7yyMaXTcFf7e1qnE1TQe8avSHURStB8lOTzIdoO0FPyRgcGu44wTzLISC15z/B\"},\"shape\":[120],\"dtype\":\"float64\",\"order\":\"little\"}],[\"Country\",{\"type\":\"ndarray\",\"array\":[\"Algeria\",\"Angola\",\"Argentina\",\"Australia\",\"Austria\",\"Azerbaijan\",\"Bahrain\",\"Bangladesh\",\"Belgium\",\"Benin\",\"Botswana\",\"Brazil\",\"Bulgaria\",\"Burkina Faso\",\"Burundi\",\"Cambodia\",\"Cameroon\",\"Canada\",\"Chile\",\"China\",\"Colombia\",\"Congo (DRC)\",\"Costa Rica\",\"Croatia\",\"Cuba\",\"Czech Republic\",\"C\\u00f4te d'Ivoire\",\"Denmark\",\"Dominican Republic\",\"Ecuador\",\"Egypt\",\"El Salvador\",\"Estonia\",\"Ethiopia\",\"Finland\",\"France\",\"Gabon\",\"Germany\",\"Ghana\",\"Greece\",\"Guatemala\",\"Guinea\",\"Honduras\",\"Hong Kong\",\"Hungary\",\"India\",\"Indonesia\",\"Iran\",\"Ireland\",\"Israel\",\"Italy\",\"Jamaica\",\"Japan\",\"Jordan\",\"Kazakhstan\",\"Kenya\",\"Kuwait\",\"Laos\",\"Latvia\",\"Lebanon\",\"Liberia\",\"Lithuania\",\"Madagascar\",\"Malawi\",\"Malaysia\",\"Mali\",\"Mexico\",\"Mongolia\",\"Morocco\",\"Mozambique\",\"Myanmar\",\"Namibia\",\"Nepal\",\"Netherlands\",\"New Zealand\",\"Nicaragua\",\"Niger\",\"Nigeria\",\"Oman\",\"Pakistan\",\"Panama\",\"Papua New Guinea\",\"Paraguay\",\"Peru\",\"Philippines\",\"Poland\",\"Portugal\",\"Qatar\",\"Romania\",\"Russia\",\"Rwanda\",\"Saudi Arabia\",\"Senegal\",\"Sierra Leone\",\"Singapore\",\"Slovakia\",\"South Africa\",\"South Korea\",\"Spain\",\"Sri Lanka\",\"Sudan\",\"Sweden\",\"Switzerland\",\"Taiwan\",\"Tanzania\",\"Thailand\",\"Trinidad & Tobago\",\"Tunisia\",\"Turkey\",\"UAE\",\"Uganda\",\"Ukraine\",\"United Kingdom\",\"United States\",\"Uruguay\",\"Uzbekistan\",\"Venezuela\",\"Vietnam\",\"Zambia\",\"Zimbabwe\"],\"shape\":[120],\"dtype\":\"object\",\"order\":\"little\"}],[\"A__size\",{\"type\":\"ndarray\",\"array\":{\"type\":\"bytes\",\"data\":\"AXcFNKzzOUCOAUbxjjkzQHKbQjf5Kj1A0aN5f5Z2PkAXe4AiNXo+QAn0uBFYyj1ANdLSyOpkP0Ayv/unrBQ0QBDT0rmqmT5A8gWMXS4IM0AWu24vSi05QMMyVPzUcjxA+mV7c4sePEDzYOOhxLkzQNB/H7wMoCtA+UkU4RGCN0BVVM4q39M1QMhH3jJo9T5Aywt3ru8JPkDp5bYjagQ7QBir0kG79DtABSAqFKFbMEBkRQcNYPc8QFFMlzzINT1AMeooGQXnOkC/txbRCsQ9QJXt/V0IETlANdLSyOpkP0CvrEo70J08QF8fk4pD/TpAeQ9pz+b9OUDGeSLy7K03QKMRrrBcrD5AlpGTALhPNECi7uMGQKE+QPeHMAn69j1Ac5MVnL1zOkBdCy1gwXk+QGqEd5hnRDhAMgjD708APUDkCZE0NK04QM5MaxYgjDNAy3bhFwqEN0CWw/NwkLI+QK26HY9YoT1AOksqb1i3NUD04JHQ8w04QLjQE1eu4ztAZAfiBJtGPkCJ/XeK1RM+QF+/Os/dhzxAhwzS7lCkOkCuNOO2YvI+QPN1n5iPWDxA0oSS8IeTPUB9v1g3ZK00QN5NuXQBwj5AaznxYqT5NUBv8nan8xE+QKxrKzfmnT1ALATojdzvMkCsays35p09QFMmUM09Si1A1dcobY14MkCkLAIjFNI9QHHzzz+9kjJAOG1Bfwg2PEDA6MA3gQc4QNT8GIFSNDxAs+zEu+b5NEAbyQdWqgU2QJeOFg0xCzhA52Nl3+05NUDXSmw1l/0+QJgELtQIyT5AJkYjC2B+NkAOlUtG7KcuQDlFK4bqQTRA94cwCfr2PUAM3erky9ozQC1SeG9nnDtAK1swwTrhMUDQVj8uMMc7QE/NszD+pDpAWw1AxDC3OkBM2MbFJoM9QNAhdY2cLz1AzYp1AjFhP0BUqKk67ls8QBTizZQGlD1AdBm9rC5TNUDcxMWTbGk+QDO/hf+LEDdAiZfqHV1uMkD7MgerkF0+QNhVmjuA9j1AT7utUGY4O0C5/IbZKiM/QDKGGhlfST5Ajx0CeJydNkB+5kCSK7o2QNpOT7He+z5AmAQu1AjJPkCSXbP41yI+QFrsOETVFzRAEgdP5YzvOkC+hmvJoWo9QI2xiCigajtAWzhe+V5SPEAjgaBP9zE/QNx22dpWsjVAIbHbskOAO0A/2cDjJfo+QBfq4+1cWj5AbuX9e4j6PEBzc2VCjY46QLqJx1EsNzxAwkeKXJq0O0BYevoc5U01QNe4AOo5dDZA\"},\"shape\":[120],\"dtype\":\"float64\",\"order\":\"little\"}],[\"Internet_Users_left_parenthesis_percent_of_Population_right_parenthesis\",{\"type\":\"ndarray\",\"array\":{\"type\":\"bytes\",\"data\":\"rkfhehSuRkBSuB6F61ErQLgehetRGFJASOF6FK6HVUBSuB6F65FVQHE9CtejsFNAKVyPwvVIWEDC9Shcj0IwQOtRuB6F61VAPQrXo3A9KkDWo3A9ChdEQAAAAAAAYFBAw/UoXI9CT0BI4XoUrkcuQCCF61G4Hg1ACtejcD2KPkAzMzMzM7M2QNejcD0K91ZAehSuR+FaVECjcD0K16NKQArXo3A9ik5Ao3A9CtejHECamZmZmZlRQDMzMzMzM1JAcD0K16MwSkAAAAAAAKBTQD4K16NwvUNAKVyPwvVIWECjcD0K18NQQEjhehSuh0pAUrgehevRRkBwPQrXo3A/QOJ6FK5HIVZAhutRuB4FMUDiehSuRwFWQEjhehSuJ1RAehSuR+F6SEBxPQrXo5BVQNejcD0KV0FAj8L1KFyvUUAK16NwPYpCQDMzMzMzMy1AFa5H4XqUPkAzMzMzMzNWQIXrUbgeRVNAPgrXo3A9NkA+CtejcL1AQAAAAAAAQE5A4noUrkcBVUD2KFyPwnVUQHE9CtejkFBAcT0K16MwSUCuR+F6FO5WQKNwPQrXI1BA4noUrkchU0BI4XoUrkcyQAAAAAAAYFZAUrgehetRN0BwPQrXo3BUQFyPwvUoPFNAuB6F61G4KUBcj8L1KDxTQGZmZmZmZhJASOF6FK5HJ0CF61G4HsVTQM3MzMzMzCdA61G4HoWrT0DrUbgehatAQKNwPQrXo09AXI/C9ShcM0CG61G4HoU3QPYoXI/CtUBAzczMzMxMNECPwvUoXA9XQBWuR+F6dFZAmpmZmZmZOUAVrkfhehQWQNejcD0K1zBASOF6FK4nVEAVrkfhehQvQJDC9ShcD01AcD0K16NwJECF61G4HsVNQDMzMzMzM0lAuB6F61F4SUDXo3A9CvdSQKRwPQrXI1JAPgrXo3A9WEDrUbgehStQQML1KFyPIlNArkfhehSuNEDC9Shcj2JVQM3MzMzMTDxAFa5H4XoUJ0DiehSuR0FVQGZmZmZmJlRAMzMzMzNzS0AAAAAAAIBXQClcj8L1CFVAKlyPwvUoOkCuR+F6FK46QArXo3A9CldAFa5H4Xp0VkAehetRuJ5UQM3MzMzMTDBAUrgehetRSkC4HoXrUbhSQAAAAAAAQExA9ihcj8IVUEDNzMzMzKxXQClcj8L1KDZAmpmZmZmZTECF61G4HgVXQLgehetROFVA4noUrkehUUAehetRuN5IQHA9CtejsE9A9ihcj8J1TUCamZmZmZk0QOxRuB6FazlA\"},\"shape\":[120],\"dtype\":\"float64\",\"order\":\"little\"}],[\"color\",{\"type\":\"ndarray\",\"array\":[\"Algeria\",\"Angola\",\"Argentina\",\"Australia\",\"Austria\",\"Azerbaijan\",\"Bahrain\",\"Bangladesh\",\"Belgium\",\"Benin\",\"Botswana\",\"Brazil\",\"Bulgaria\",\"Burkina Faso\",\"Burundi\",\"Cambodia\",\"Cameroon\",\"Canada\",\"Chile\",\"China\",\"Colombia\",\"Congo (DRC)\",\"Costa Rica\",\"Croatia\",\"Cuba\",\"Czech Republic\",\"C\\u00f4te d'Ivoire\",\"Denmark\",\"Dominican Republic\",\"Ecuador\",\"Egypt\",\"El Salvador\",\"Estonia\",\"Ethiopia\",\"Finland\",\"France\",\"Gabon\",\"Germany\",\"Ghana\",\"Greece\",\"Guatemala\",\"Guinea\",\"Honduras\",\"Hong Kong\",\"Hungary\",\"India\",\"Indonesia\",\"Iran\",\"Ireland\",\"Israel\",\"Italy\",\"Jamaica\",\"Japan\",\"Jordan\",\"Kazakhstan\",\"Kenya\",\"Kuwait\",\"Laos\",\"Latvia\",\"Lebanon\",\"Liberia\",\"Lithuania\",\"Madagascar\",\"Malawi\",\"Malaysia\",\"Mali\",\"Mexico\",\"Mongolia\",\"Morocco\",\"Mozambique\",\"Myanmar\",\"Namibia\",\"Nepal\",\"Netherlands\",\"New Zealand\",\"Nicaragua\",\"Niger\",\"Nigeria\",\"Oman\",\"Pakistan\",\"Panama\",\"Papua New Guinea\",\"Paraguay\",\"Peru\",\"Philippines\",\"Poland\",\"Portugal\",\"Qatar\",\"Romania\",\"Russia\",\"Rwanda\",\"Saudi Arabia\",\"Senegal\",\"Sierra Leone\",\"Singapore\",\"Slovakia\",\"South Africa\",\"South Korea\",\"Spain\",\"Sri Lanka\",\"Sudan\",\"Sweden\",\"Switzerland\",\"Taiwan\",\"Tanzania\",\"Thailand\",\"Trinidad & Tobago\",\"Tunisia\",\"Turkey\",\"UAE\",\"Uganda\",\"Ukraine\",\"United Kingdom\",\"United States\",\"Uruguay\",\"Uzbekistan\",\"Venezuela\",\"Vietnam\",\"Zambia\",\"Zimbabwe\"],\"shape\":[120],\"dtype\":\"object\",\"order\":\"little\"}],[\"size\",{\"type\":\"ndarray\",\"array\":{\"type\":\"bytes\",\"data\":\"AXcFNKzzOUCOAUbxjjkzQHKbQjf5Kj1A0aN5f5Z2PkAXe4AiNXo+QAn0uBFYyj1ANdLSyOpkP0Ayv/unrBQ0QBDT0rmqmT5A8gWMXS4IM0AWu24vSi05QMMyVPzUcjxA+mV7c4sePEDzYOOhxLkzQNB/H7wMoCtA+UkU4RGCN0BVVM4q39M1QMhH3jJo9T5Aywt3ru8JPkDp5bYjagQ7QBir0kG79DtABSAqFKFbMEBkRQcNYPc8QFFMlzzINT1AMeooGQXnOkC/txbRCsQ9QJXt/V0IETlANdLSyOpkP0CvrEo70J08QF8fk4pD/TpAeQ9pz+b9OUDGeSLy7K03QKMRrrBcrD5AlpGTALhPNECi7uMGQKE+QPeHMAn69j1Ac5MVnL1zOkBdCy1gwXk+QGqEd5hnRDhAMgjD708APUDkCZE0NK04QM5MaxYgjDNAy3bhFwqEN0CWw/NwkLI+QK26HY9YoT1AOksqb1i3NUD04JHQ8w04QLjQE1eu4ztAZAfiBJtGPkCJ/XeK1RM+QF+/Os/dhzxAhwzS7lCkOkCuNOO2YvI+QPN1n5iPWDxA0oSS8IeTPUB9v1g3ZK00QN5NuXQBwj5AaznxYqT5NUBv8nan8xE+QKxrKzfmnT1ALATojdzvMkCsays35p09QFMmUM09Si1A1dcobY14MkCkLAIjFNI9QHHzzz+9kjJAOG1Bfwg2PEDA6MA3gQc4QNT8GIFSNDxAs+zEu+b5NEAbyQdWqgU2QJeOFg0xCzhA52Nl3+05NUDXSmw1l/0+QJgELtQIyT5AJkYjC2B+NkAOlUtG7KcuQDlFK4bqQTRA94cwCfr2PUAM3erky9ozQC1SeG9nnDtAK1swwTrhMUDQVj8uMMc7QE/NszD+pDpAWw1AxDC3OkBM2MbFJoM9QNAhdY2cLz1AzYp1AjFhP0BUqKk67ls8QBTizZQGlD1AdBm9rC5TNUDcxMWTbGk+QDO/hf+LEDdAiZfqHV1uMkD7MgerkF0+QNhVmjuA9j1AT7utUGY4O0C5/IbZKiM/QDKGGhlfST5Ajx0CeJydNkB+5kCSK7o2QNpOT7He+z5AmAQu1AjJPkCSXbP41yI+QFrsOETVFzRAEgdP5YzvOkC+hmvJoWo9QI2xiCigajtAWzhe+V5SPEAjgaBP9zE/QNx22dpWsjVAIbHbskOAO0A/2cDjJfo+QBfq4+1cWj5AbuX9e4j6PEBzc2VCjY46QLqJx1EsNzxAwkeKXJq0O0BYevoc5U01QNe4AOo5dDZA\"},\"shape\":[120],\"dtype\":\"float64\",\"order\":\"little\"}]]}}},\"view\":{\"type\":\"object\",\"name\":\"CDSView\",\"id\":\"p1260\",\"attributes\":{\"filter\":{\"type\":\"object\",\"name\":\"AllIndices\",\"id\":\"p1261\"}}},\"glyph\":{\"type\":\"object\",\"name\":\"Scatter\",\"id\":\"p1254\",\"attributes\":{\"tags\":[\"apply_ranges\"],\"x\":{\"type\":\"field\",\"field\":\"Longitude\"},\"y\":{\"type\":\"field\",\"field\":\"Latitude\"},\"size\":{\"type\":\"field\",\"field\":\"size\"},\"line_color\":{\"type\":\"field\",\"field\":\"color\",\"transform\":{\"type\":\"object\",\"name\":\"CategoricalColorMapper\",\"id\":\"p1247\",\"attributes\":{\"palette\":[\"#1f77b3\",\"#ff7e0e\",\"#2ba02b\",\"#d62628\",\"#9367bc\",\"#8c564b\",\"#e277c1\",\"#7e7e7e\",\"#bcbc21\",\"#16bdcf\",\"#3a0182\",\"#004201\",\"#0fffa8\",\"#5d003f\",\"#bcbcff\",\"#d8afa1\",\"#b80080\",\"#004d52\",\"#6b6400\",\"#7c0100\",\"#6026ff\",\"#ffff9a\",\"#564964\",\"#8cb893\",\"#93fbff\",\"#018267\",\"#90ff00\",\"#8200a0\",\"#ac8944\",\"#5b3400\",\"#ffbff2\",\"#ff6e75\",\"#798cff\",\"#dd00ff\",\"#505646\",\"#004489\",\"#ffbf60\",\"#ff018c\",\"#bdc8cf\",\"#af97b5\",\"#b65600\",\"#017000\",\"#cd87ff\",\"#1cd646\",\"#bfebc3\",\"#7997b5\",\"#a56089\",\"#6e8956\",\"#bc7c75\",\"#8a2844\",\"#00acff\",\"#8ed4ff\",\"#4b6d77\",\"#00d4b1\",\"#9300f2\",\"#8a9500\",\"#5d5b9e\",\"#fddfba\",\"#00939e\",\"#ffdb00\",\"#00aa79\",\"#520067\",\"#000091\",\"#0a5d3d\",\"#a5e275\",\"#623b41\",\"#c6c689\",\"#ff9eb5\",\"#cd4f6b\",\"#ff07d6\",\"#8a3a05\",\"#7e3d70\",\"#ff4901\",\"#602ba5\",\"#1c00ff\",\"#e6dfff\",\"#aa3baf\",\"#d89c00\",\"#a3a39e\",\"#3f69ff\",\"#46490c\",\"#7b6985\",\"#6b978c\",\"#ff9a75\",\"#835bff\",\"#7c6b46\",\"#80b654\",\"#bc0049\",\"#fd93ff\",\"#5d0018\",\"#89d1d1\",\"#9c8cd3\",\"#da6d42\",\"#8a5700\",\"#3b5069\",\"#4b6b3b\",\"#edcfd8\",\"#cfedff\",\"#aa1500\",\"#dfff4f\",\"#ff2a56\",\"#d1499e\",\"#707cb8\",\"#598000\",\"#00e4fd\",\"#774b95\",\"#67d48c\",\"#3d3a72\",\"#ac413f\",\"#d6a166\",\"#c169cd\",\"#69595d\",\"#87aced\",\"#a0a569\",\"#d1aae6\",\"#870062\",\"#00fddb\",\"#672818\",\"#b342ff\",\"#0e59c4\"],\"factors\":[\"Algeria\",\"Angola\",\"Argentina\",\"Australia\",\"Austria\",\"Azerbaijan\",\"Bahrain\",\"Bangladesh\",\"Belgium\",\"Benin\",\"Botswana\",\"Brazil\",\"Bulgaria\",\"Burkina Faso\",\"Burundi\",\"Cambodia\",\"Cameroon\",\"Canada\",\"Chile\",\"China\",\"Colombia\",\"Congo (DRC)\",\"Costa Rica\",\"Croatia\",\"Cuba\",\"Czech Republic\",\"C\\u00f4te d'Ivoire\",\"Denmark\",\"Dominican Republic\",\"Ecuador\",\"Egypt\",\"El Salvador\",\"Estonia\",\"Ethiopia\",\"Finland\",\"France\",\"Gabon\",\"Germany\",\"Ghana\",\"Greece\",\"Guatemala\",\"Guinea\",\"Honduras\",\"Hong Kong\",\"Hungary\",\"India\",\"Indonesia\",\"Iran\",\"Ireland\",\"Israel\",\"Italy\",\"Jamaica\",\"Japan\",\"Jordan\",\"Kazakhstan\",\"Kenya\",\"Kuwait\",\"Laos\",\"Latvia\",\"Lebanon\",\"Liberia\",\"Lithuania\",\"Madagascar\",\"Malawi\",\"Malaysia\",\"Mali\",\"Mexico\",\"Mongolia\",\"Morocco\",\"Mozambique\",\"Myanmar\",\"Namibia\",\"Nepal\",\"Netherlands\",\"New Zealand\",\"Nicaragua\",\"Niger\",\"Nigeria\",\"Oman\",\"Pakistan\",\"Panama\",\"Papua New Guinea\",\"Paraguay\",\"Peru\",\"Philippines\",\"Poland\",\"Portugal\",\"Qatar\",\"Romania\",\"Russia\",\"Rwanda\",\"Saudi Arabia\",\"Senegal\",\"Sierra Leone\",\"Singapore\",\"Slovakia\",\"South Africa\",\"South Korea\",\"Spain\",\"Sri Lanka\",\"Sudan\",\"Sweden\",\"Switzerland\",\"Taiwan\",\"Tanzania\",\"Thailand\",\"Trinidad & Tobago\",\"Tunisia\",\"Turkey\",\"UAE\",\"Uganda\",\"Ukraine\",\"United Kingdom\",\"United States\",\"Uruguay\",\"Uzbekistan\",\"Venezuela\",\"Vietnam\",\"Zambia\",\"Zimbabwe\"]}}},\"line_alpha\":{\"type\":\"value\",\"value\":0.4},\"fill_color\":{\"type\":\"field\",\"field\":\"color\",\"transform\":{\"id\":\"p1247\"}},\"fill_alpha\":{\"type\":\"value\",\"value\":0.4},\"hatch_color\":{\"type\":\"field\",\"field\":\"color\",\"transform\":{\"id\":\"p1247\"}},\"hatch_alpha\":{\"type\":\"value\",\"value\":0.4}}},\"selection_glyph\":{\"type\":\"object\",\"name\":\"Scatter\",\"id\":\"p1256\",\"attributes\":{\"tags\":[\"apply_ranges\"],\"x\":{\"type\":\"field\",\"field\":\"Longitude\"},\"y\":{\"type\":\"field\",\"field\":\"Latitude\"},\"size\":{\"type\":\"field\",\"field\":\"size\"},\"line_color\":{\"type\":\"field\",\"field\":\"color\",\"transform\":{\"id\":\"p1247\"}},\"line_alpha\":{\"type\":\"value\",\"value\":0.4},\"fill_color\":{\"type\":\"field\",\"field\":\"color\",\"transform\":{\"id\":\"p1247\"}},\"fill_alpha\":{\"type\":\"value\",\"value\":0.4},\"hatch_color\":{\"type\":\"field\",\"field\":\"color\",\"transform\":{\"id\":\"p1247\"}},\"hatch_alpha\":{\"type\":\"value\",\"value\":0.4}}},\"nonselection_glyph\":{\"type\":\"object\",\"name\":\"Scatter\",\"id\":\"p1255\",\"attributes\":{\"tags\":[\"apply_ranges\"],\"x\":{\"type\":\"field\",\"field\":\"Longitude\"},\"y\":{\"type\":\"field\",\"field\":\"Latitude\"},\"size\":{\"type\":\"field\",\"field\":\"size\"},\"line_color\":{\"type\":\"field\",\"field\":\"color\",\"transform\":{\"id\":\"p1247\"}},\"line_alpha\":{\"type\":\"value\",\"value\":0.4},\"fill_color\":{\"type\":\"field\",\"field\":\"color\",\"transform\":{\"id\":\"p1247\"}},\"fill_alpha\":{\"type\":\"value\",\"value\":0.4},\"hatch_color\":{\"type\":\"field\",\"field\":\"color\",\"transform\":{\"id\":\"p1247\"}},\"hatch_alpha\":{\"type\":\"value\",\"value\":0.1}}},\"hover_glyph\":{\"type\":\"object\",\"name\":\"Scatter\",\"id\":\"p1257\",\"attributes\":{\"tags\":[\"apply_ranges\"],\"x\":{\"type\":\"field\",\"field\":\"Longitude\"},\"y\":{\"type\":\"field\",\"field\":\"Latitude\"},\"size\":{\"type\":\"field\",\"field\":\"size\"},\"line_color\":{\"type\":\"field\",\"field\":\"color\",\"transform\":{\"id\":\"p1247\"}},\"line_alpha\":{\"type\":\"value\",\"value\":0.4},\"fill_color\":{\"type\":\"field\",\"field\":\"color\",\"transform\":{\"id\":\"p1247\"}},\"fill_alpha\":{\"type\":\"value\",\"value\":0.4},\"hatch_color\":{\"type\":\"field\",\"field\":\"color\",\"transform\":{\"id\":\"p1247\"}},\"hatch_alpha\":{\"type\":\"value\",\"value\":0.4}}},\"muted_glyph\":{\"type\":\"object\",\"name\":\"Scatter\",\"id\":\"p1258\",\"attributes\":{\"tags\":[\"apply_ranges\"],\"x\":{\"type\":\"field\",\"field\":\"Longitude\"},\"y\":{\"type\":\"field\",\"field\":\"Latitude\"},\"size\":{\"type\":\"field\",\"field\":\"size\"},\"line_color\":{\"type\":\"field\",\"field\":\"color\",\"transform\":{\"id\":\"p1247\"}},\"line_alpha\":{\"type\":\"value\",\"value\":0.2},\"fill_color\":{\"type\":\"field\",\"field\":\"color\",\"transform\":{\"id\":\"p1247\"}},\"fill_alpha\":{\"type\":\"value\",\"value\":0.2},\"hatch_color\":{\"type\":\"field\",\"field\":\"color\",\"transform\":{\"id\":\"p1247\"}},\"hatch_alpha\":{\"type\":\"value\",\"value\":0.2}}}}}],\"toolbar\":{\"type\":\"object\",\"name\":\"Toolbar\",\"id\":\"p1219\",\"attributes\":{\"tools\":[{\"type\":\"object\",\"name\":\"WheelZoomTool\",\"id\":\"p1203\",\"attributes\":{\"zoom_on_axis\":false}},{\"type\":\"object\",\"name\":\"BoxZoomTool\",\"id\":\"p1204\",\"attributes\":{\"overlay\":{\"type\":\"object\",\"name\":\"BoxAnnotation\",\"id\":\"p1004\",\"attributes\":{\"syncable\":false,\"level\":\"overlay\",\"visible\":false,\"left_units\":\"canvas\",\"right_units\":\"canvas\",\"bottom_units\":\"canvas\",\"top_units\":\"canvas\",\"line_color\":\"black\",\"line_alpha\":1.0,\"line_width\":2,\"line_dash\":[4,4],\"fill_color\":\"lightgrey\",\"fill_alpha\":0.5}},\"match_aspect\":true}},{\"type\":\"object\",\"name\":\"HoverTool\",\"id\":\"p1209\",\"attributes\":{\"tags\":[\"hv_created\"],\"renderers\":[{\"id\":\"p1259\"}],\"tooltips\":[[\"Longitude\",\"$x{custom}\"],[\"Latitude\",\"$y{custom}\"],[\"Country\",\"@{Country}\"],[\"_size\",\"@{A__size}\"],[\"Internet Users (% of Population)\",\"@{Internet_Users_left_parenthesis_percent_of_Population_right_parenthesis}\"]],\"formatters\":{\"type\":\"map\",\"entries\":[[\"$x\",{\"type\":\"object\",\"name\":\"CustomJSHover\",\"id\":\"p1245\",\"attributes\":{\"code\":\"\\n        const projections = Bokeh.require(\\\"core/util/projections\\\");\\n        const {snap_x, snap_y} = special_vars\\n        const coords = projections.wgs84_mercator.invert(snap_x, snap_y)\\n        return \\\"\\\" + (coords[0]).toFixed(4)\\n    \"}}],[\"$y\",{\"type\":\"object\",\"name\":\"CustomJSHover\",\"id\":\"p1246\",\"attributes\":{\"code\":\"\\n        const projections = Bokeh.require(\\\"core/util/projections\\\");\\n        const {snap_x, snap_y} = special_vars\\n        const coords = projections.wgs84_mercator.invert(snap_x, snap_y)\\n        return \\\"\\\" + (coords[1]).toFixed(4)\\n    \"}}]]}}},{\"type\":\"object\",\"name\":\"PanTool\",\"id\":\"p1233\"},{\"type\":\"object\",\"name\":\"ResetTool\",\"id\":\"p1234\"}],\"active_drag\":{\"id\":\"p1233\"}}},\"left\":[{\"type\":\"object\",\"name\":\"LinearAxis\",\"id\":\"p1227\",\"attributes\":{\"ticker\":{\"type\":\"object\",\"name\":\"MercatorTicker\",\"id\":\"p1237\",\"attributes\":{\"mantissas\":[1,2,5],\"dimension\":\"lat\"}},\"formatter\":{\"type\":\"object\",\"name\":\"MercatorTickFormatter\",\"id\":\"p1238\",\"attributes\":{\"dimension\":\"lat\"}},\"axis_label\":\"Latitude\",\"major_label_policy\":{\"type\":\"object\",\"name\":\"AllLabels\",\"id\":\"p1230\"}}}],\"right\":[{\"type\":\"object\",\"name\":\"Legend\",\"id\":\"p1262\",\"attributes\":{\"location\":[0,0],\"click_policy\":\"mute\",\"items\":[{\"type\":\"object\",\"name\":\"LegendItem\",\"id\":\"p1263\",\"attributes\":{\"label\":{\"type\":\"field\",\"field\":\"color\"},\"renderers\":[{\"id\":\"p1259\"}]}}]}}],\"below\":[{\"type\":\"object\",\"name\":\"LinearAxis\",\"id\":\"p1222\",\"attributes\":{\"ticker\":{\"type\":\"object\",\"name\":\"MercatorTicker\",\"id\":\"p1235\",\"attributes\":{\"mantissas\":[1,2,5],\"dimension\":\"lon\"}},\"formatter\":{\"type\":\"object\",\"name\":\"MercatorTickFormatter\",\"id\":\"p1236\",\"attributes\":{\"dimension\":\"lon\"}},\"axis_label\":\"Longitude\",\"major_label_policy\":{\"type\":\"object\",\"name\":\"AllLabels\",\"id\":\"p1225\"}}}],\"center\":[{\"type\":\"object\",\"name\":\"Grid\",\"id\":\"p1226\",\"attributes\":{\"axis\":{\"id\":\"p1222\"},\"grid_line_color\":null}},{\"type\":\"object\",\"name\":\"Grid\",\"id\":\"p1231\",\"attributes\":{\"dimension\":1,\"axis\":{\"id\":\"p1227\"},\"grid_line_color\":null}}],\"frame_width\":600,\"frame_height\":600,\"min_border_top\":10,\"min_border_bottom\":10,\"min_border_left\":10,\"min_border_right\":10,\"output_backend\":\"webgl\",\"match_aspect\":true}},{\"type\":\"object\",\"name\":\"Spacer\",\"id\":\"p1267\",\"attributes\":{\"name\":\"HSpacer01926\",\"stylesheets\":[\"\\n:host(.pn-loading.pn-arc):before, .pn-loading.pn-arc:before {\\n  background-image: url(\\\"data:image/svg+xml;base64,PHN2ZyB4bWxucz0iaHR0cDovL3d3dy53My5vcmcvMjAwMC9zdmciIHN0eWxlPSJtYXJnaW46IGF1dG87IGJhY2tncm91bmQ6IG5vbmU7IGRpc3BsYXk6IGJsb2NrOyBzaGFwZS1yZW5kZXJpbmc6IGF1dG87IiB2aWV3Qm94PSIwIDAgMTAwIDEwMCIgcHJlc2VydmVBc3BlY3RSYXRpbz0ieE1pZFlNaWQiPiAgPGNpcmNsZSBjeD0iNTAiIGN5PSI1MCIgZmlsbD0ibm9uZSIgc3Ryb2tlPSIjYzNjM2MzIiBzdHJva2Utd2lkdGg9IjEwIiByPSIzNSIgc3Ryb2tlLWRhc2hhcnJheT0iMTY0LjkzMzYxNDMxMzQ2NDE1IDU2Ljk3Nzg3MTQzNzgyMTM4Ij4gICAgPGFuaW1hdGVUcmFuc2Zvcm0gYXR0cmlidXRlTmFtZT0idHJhbnNmb3JtIiB0eXBlPSJyb3RhdGUiIHJlcGVhdENvdW50PSJpbmRlZmluaXRlIiBkdXI9IjFzIiB2YWx1ZXM9IjAgNTAgNTA7MzYwIDUwIDUwIiBrZXlUaW1lcz0iMDsxIj48L2FuaW1hdGVUcmFuc2Zvcm0+ICA8L2NpcmNsZT48L3N2Zz4=\\\");\\n  background-size: auto calc(min(50%, 400px));\\n}\",{\"id\":\"p1188\"},{\"id\":\"p1186\"},{\"id\":\"p1187\"}],\"margin\":0,\"sizing_mode\":\"stretch_width\",\"align\":\"start\"}}]}}],\"defs\":[{\"type\":\"model\",\"name\":\"ReactiveHTML1\"},{\"type\":\"model\",\"name\":\"FlexBox1\",\"properties\":[{\"name\":\"align_content\",\"kind\":\"Any\",\"default\":\"flex-start\"},{\"name\":\"align_items\",\"kind\":\"Any\",\"default\":\"flex-start\"},{\"name\":\"flex_direction\",\"kind\":\"Any\",\"default\":\"row\"},{\"name\":\"flex_wrap\",\"kind\":\"Any\",\"default\":\"wrap\"},{\"name\":\"justify_content\",\"kind\":\"Any\",\"default\":\"flex-start\"}]},{\"type\":\"model\",\"name\":\"FloatPanel1\",\"properties\":[{\"name\":\"config\",\"kind\":\"Any\",\"default\":{\"type\":\"map\"}},{\"name\":\"contained\",\"kind\":\"Any\",\"default\":true},{\"name\":\"position\",\"kind\":\"Any\",\"default\":\"right-top\"},{\"name\":\"offsetx\",\"kind\":\"Any\",\"default\":null},{\"name\":\"offsety\",\"kind\":\"Any\",\"default\":null},{\"name\":\"theme\",\"kind\":\"Any\",\"default\":\"primary\"},{\"name\":\"status\",\"kind\":\"Any\",\"default\":\"normalized\"}]},{\"type\":\"model\",\"name\":\"GridStack1\",\"properties\":[{\"name\":\"mode\",\"kind\":\"Any\",\"default\":\"warn\"},{\"name\":\"ncols\",\"kind\":\"Any\",\"default\":null},{\"name\":\"nrows\",\"kind\":\"Any\",\"default\":null},{\"name\":\"allow_resize\",\"kind\":\"Any\",\"default\":true},{\"name\":\"allow_drag\",\"kind\":\"Any\",\"default\":true},{\"name\":\"state\",\"kind\":\"Any\",\"default\":[]}]},{\"type\":\"model\",\"name\":\"drag1\",\"properties\":[{\"name\":\"slider_width\",\"kind\":\"Any\",\"default\":5},{\"name\":\"slider_color\",\"kind\":\"Any\",\"default\":\"black\"},{\"name\":\"value\",\"kind\":\"Any\",\"default\":50}]},{\"type\":\"model\",\"name\":\"click1\",\"properties\":[{\"name\":\"terminal_output\",\"kind\":\"Any\",\"default\":\"\"},{\"name\":\"debug_name\",\"kind\":\"Any\",\"default\":\"\"},{\"name\":\"clears\",\"kind\":\"Any\",\"default\":0}]},{\"type\":\"model\",\"name\":\"FastWrapper1\",\"properties\":[{\"name\":\"object\",\"kind\":\"Any\",\"default\":null},{\"name\":\"style\",\"kind\":\"Any\",\"default\":null}]},{\"type\":\"model\",\"name\":\"NotificationAreaBase1\",\"properties\":[{\"name\":\"js_events\",\"kind\":\"Any\",\"default\":{\"type\":\"map\"}},{\"name\":\"position\",\"kind\":\"Any\",\"default\":\"bottom-right\"},{\"name\":\"_clear\",\"kind\":\"Any\",\"default\":0}]},{\"type\":\"model\",\"name\":\"NotificationArea1\",\"properties\":[{\"name\":\"js_events\",\"kind\":\"Any\",\"default\":{\"type\":\"map\"}},{\"name\":\"notifications\",\"kind\":\"Any\",\"default\":[]},{\"name\":\"position\",\"kind\":\"Any\",\"default\":\"bottom-right\"},{\"name\":\"_clear\",\"kind\":\"Any\",\"default\":0},{\"name\":\"types\",\"kind\":\"Any\",\"default\":[{\"type\":\"map\",\"entries\":[[\"type\",\"warning\"],[\"background\",\"#ffc107\"],[\"icon\",{\"type\":\"map\",\"entries\":[[\"className\",\"fas fa-exclamation-triangle\"],[\"tagName\",\"i\"],[\"color\",\"white\"]]}]]},{\"type\":\"map\",\"entries\":[[\"type\",\"info\"],[\"background\",\"#007bff\"],[\"icon\",{\"type\":\"map\",\"entries\":[[\"className\",\"fas fa-info-circle\"],[\"tagName\",\"i\"],[\"color\",\"white\"]]}]]}]}]},{\"type\":\"model\",\"name\":\"Notification\",\"properties\":[{\"name\":\"background\",\"kind\":\"Any\",\"default\":null},{\"name\":\"duration\",\"kind\":\"Any\",\"default\":3000},{\"name\":\"icon\",\"kind\":\"Any\",\"default\":null},{\"name\":\"message\",\"kind\":\"Any\",\"default\":\"\"},{\"name\":\"notification_type\",\"kind\":\"Any\",\"default\":null},{\"name\":\"_destroyed\",\"kind\":\"Any\",\"default\":false}]},{\"type\":\"model\",\"name\":\"TemplateActions1\",\"properties\":[{\"name\":\"open_modal\",\"kind\":\"Any\",\"default\":0},{\"name\":\"close_modal\",\"kind\":\"Any\",\"default\":0}]},{\"type\":\"model\",\"name\":\"BootstrapTemplateActions1\",\"properties\":[{\"name\":\"open_modal\",\"kind\":\"Any\",\"default\":0},{\"name\":\"close_modal\",\"kind\":\"Any\",\"default\":0}]},{\"type\":\"model\",\"name\":\"MaterialTemplateActions1\",\"properties\":[{\"name\":\"open_modal\",\"kind\":\"Any\",\"default\":0},{\"name\":\"close_modal\",\"kind\":\"Any\",\"default\":0}]}]}};\n",
       "  var render_items = [{\"docid\":\"b3e2a29c-ef32-4624-bc23-3ef0ed72a285\",\"roots\":{\"p1185\":\"b4db2527-d50e-4fbf-a16e-d4c0f66c3bd3\"},\"root_ids\":[\"p1185\"]}];\n",
       "  var docs = Object.values(docs_json)\n",
       "  if (!docs) {\n",
       "    return\n",
       "  }\n",
       "  const py_version = docs[0].version.replace('rc', '-rc.').replace('.dev', '-dev.')\n",
       "  const is_dev = py_version.indexOf(\"+\") !== -1 || py_version.indexOf(\"-\") !== -1\n",
       "  function embed_document(root) {\n",
       "    var Bokeh = get_bokeh(root)\n",
       "    Bokeh.embed.embed_items_notebook(docs_json, render_items);\n",
       "    for (const render_item of render_items) {\n",
       "      for (const root_id of render_item.root_ids) {\n",
       "\tconst id_el = document.getElementById(root_id)\n",
       "\tif (id_el.children.length && (id_el.children[0].className === 'bk-root')) {\n",
       "\t  const root_el = id_el.children[0]\n",
       "\t  root_el.id = root_el.id + '-rendered'\n",
       "\t}\n",
       "      }\n",
       "    }\n",
       "  }\n",
       "  function get_bokeh(root) {\n",
       "    if (root.Bokeh === undefined) {\n",
       "      return null\n",
       "    } else if (root.Bokeh.version !== py_version && !is_dev) {\n",
       "      if (root.Bokeh.versions === undefined || !root.Bokeh.versions.has(py_version)) {\n",
       "\treturn null\n",
       "      }\n",
       "      return root.Bokeh.versions.get(py_version);\n",
       "    } else if (root.Bokeh.version === py_version) {\n",
       "      return root.Bokeh\n",
       "    }\n",
       "    return null\n",
       "  }\n",
       "  function is_loaded(root) {\n",
       "    var Bokeh = get_bokeh(root)\n",
       "    return (Bokeh != null && Bokeh.Panel !== undefined)\n",
       "  }\n",
       "  if (is_loaded(root)) {\n",
       "    embed_document(root);\n",
       "  } else {\n",
       "    var attempts = 0;\n",
       "    var timer = setInterval(function(root) {\n",
       "      if (is_loaded(root)) {\n",
       "        clearInterval(timer);\n",
       "        embed_document(root);\n",
       "      } else if (document.readyState == \"complete\") {\n",
       "        attempts++;\n",
       "        if (attempts > 200) {\n",
       "          clearInterval(timer);\n",
       "\t  var Bokeh = get_bokeh(root)\n",
       "\t  if (Bokeh == null || Bokeh.Panel == null) {\n",
       "            console.warn(\"Panel: ERROR: Unable to run Panel code because Bokeh or Panel library is missing\");\n",
       "\t  } else {\n",
       "\t    console.warn(\"Panel: WARNING: Attempting to render but not all required libraries could be resolved.\")\n",
       "\t    embed_document(root)\n",
       "\t  }\n",
       "        }\n",
       "      }\n",
       "    }, 25, root)\n",
       "  }\n",
       "})(window);</script>"
      ],
      "text/plain": [
       ":Overlay\n",
       "   .WMTS.I   :WMTS   [Longitude,Latitude]\n",
       "   .Points.I :Points   [Longitude,Latitude]   (Country,_size,Internet Users (% of Population))"
      ]
     },
     "execution_count": 41,
     "metadata": {
      "application/vnd.holoviews_exec.v0+json": {
       "id": "p1185"
      }
     },
     "output_type": "execute_result"
    }
   ],
   "source": [
    "#map showing internet usage by country where each country dot is sized based on % internet usage\n",
    "#working on scale so it is easy to read\n",
    "#be warned...it takes a while to run\n",
    "\n",
    "import hvplot.pandas\n",
    "\n",
    "demo_df = demo_data_agg.copy()\n",
    "\n",
    "import numpy as np\n",
    "\n",
    "api_key = 'a40367c3e2244baea0e6f64ed5353081'\n",
    "\n",
    "demo_df['Latitude'] = None\n",
    "demo_df['Longitude'] = None\n",
    "\n",
    "#this code without the 'type' param thinks jordan and lebanon are places in the us. the 'type' param throws an error.\n",
    "def get_coordinates(country, api_key):\n",
    "    base_url = \"https://api.geoapify.com/v1/geocode/search\"\n",
    "    params = {\n",
    "        'text': country,\n",
    "        # 'type': 'country',\n",
    "        'apiKey': api_key}\n",
    "    response = requests.get(base_url, params=params)\n",
    "    data = response.json()\n",
    "    coordinates = data['features'][0]['geometry']['coordinates']\n",
    "    return coordinates[1], coordinates[0]\n",
    "\n",
    "#tried this error handling to try to correct that error, got a different error. >.<\n",
    "# def get_coordinates(country_name, api_key):\n",
    "#     base_url = \"https://api.geoapify.com/v1/geocode/search\"\n",
    "#     params = {\n",
    "#         'text': country_name,\n",
    "#         'type': 'country',  # Specify that we're looking for a country\n",
    "#         'apiKey': api_key\n",
    "#     }\n",
    "#     response = requests.get(base_url, params=params)\n",
    "#     data = response.json()\n",
    "#     if data['features']:  # Check if features list is not empty\n",
    "#         coordinates = data['features'][0]['geometry']['coordinates']\n",
    "#         return coordinates[1], coordinates[0]\n",
    "#     else:\n",
    "#         return None, None  # Or handle the case where no data is found\n",
    "\n",
    "#loop through countries in dataset\n",
    "for country in demo_df['Country'].unique():\n",
    "    lat, long = get_coordinates(country, api_key)\n",
    "    demo_df.loc[demo_df['Country'] == country, 'Latitude'] = lat\n",
    "    demo_df.loc[demo_df['Country'] == country, 'Longitude'] = long\n",
    "\n",
    "#take sqrt to show scale better\n",
    "scaled_internet_users = np.sqrt(demo_df['Internet Users (% of Population)']) * 100\n",
    "# Multiplied by 100 for better scaling\n",
    "\n",
    "#plotting\n",
    "plot = demo_df.hvplot.points('Longitude',\n",
    "                             'Latitude',\n",
    "                             geo=True,\n",
    "                             size=scaled_internet_users,\n",
    "                             hover_cols=['Country', 'Internet Users (% of Population)'],\n",
    "                             tiles='OSM',\n",
    "                             alpha=0.4,\n",
    "                             color='Country',\n",
    "                             frame_width=800,\n",
    "                             frame_height=600)\n",
    "\n",
    "\n",
    "#display\n",
    "plot\n"
   ]
  },
  {
   "cell_type": "code",
   "execution_count": 15,
   "metadata": {},
   "outputs": [
    {
     "data": {
      "application/vnd.plotly.v1+json": {
       "config": {
        "plotlyServerURL": "https://plot.ly"
       },
       "data": [
        {
         "coloraxis": "coloraxis",
         "customdata": [
          [
           "Algeria"
          ],
          [
           "Angola"
          ],
          [
           "Argentina"
          ],
          [
           "Australia"
          ],
          [
           "Austria"
          ],
          [
           "Azerbaijan"
          ],
          [
           "Bahrain"
          ],
          [
           "Bangladesh"
          ],
          [
           "Belgium"
          ],
          [
           "Benin"
          ],
          [
           "Botswana"
          ],
          [
           "Brazil"
          ],
          [
           "Bulgaria"
          ],
          [
           "Burkina Faso"
          ],
          [
           "Burundi"
          ],
          [
           "Cambodia"
          ],
          [
           "Cameroon"
          ],
          [
           "Canada"
          ],
          [
           "Chile"
          ],
          [
           "China"
          ],
          [
           "Colombia"
          ],
          [
           "Congo (DRC)"
          ],
          [
           "Costa Rica"
          ],
          [
           "Croatia"
          ],
          [
           "Cuba"
          ],
          [
           "Czech Republic"
          ],
          [
           "Côte d'Ivoire"
          ],
          [
           "Denmark"
          ],
          [
           "Dominican Republic"
          ],
          [
           "Ecuador"
          ],
          [
           "Egypt"
          ],
          [
           "El Salvador"
          ],
          [
           "Estonia"
          ],
          [
           "Ethiopia"
          ],
          [
           "Finland"
          ],
          [
           "France"
          ],
          [
           "Gabon"
          ],
          [
           "Germany"
          ],
          [
           "Ghana"
          ],
          [
           "Greece"
          ],
          [
           "Guatemala"
          ],
          [
           "Guinea"
          ],
          [
           "Honduras"
          ],
          [
           "Hong Kong"
          ],
          [
           "Hungary"
          ],
          [
           "India"
          ],
          [
           "Indonesia"
          ],
          [
           "Iran"
          ],
          [
           "Ireland"
          ],
          [
           "Israel"
          ],
          [
           "Italy"
          ],
          [
           "Jamaica"
          ],
          [
           "Japan"
          ],
          [
           "Jordan"
          ],
          [
           "Kazakhstan"
          ],
          [
           "Kenya"
          ],
          [
           "Kuwait"
          ],
          [
           "Laos"
          ],
          [
           "Latvia"
          ],
          [
           "Lebanon"
          ],
          [
           "Liberia"
          ],
          [
           "Lithuania"
          ],
          [
           "Madagascar"
          ],
          [
           "Malawi"
          ],
          [
           "Malaysia"
          ],
          [
           "Mali"
          ],
          [
           "Mexico"
          ],
          [
           "Mongolia"
          ],
          [
           "Morocco"
          ],
          [
           "Mozambique"
          ],
          [
           "Myanmar"
          ],
          [
           "Namibia"
          ],
          [
           "Nepal"
          ],
          [
           "Netherlands"
          ],
          [
           "New Zealand"
          ],
          [
           "Nicaragua"
          ],
          [
           "Niger"
          ],
          [
           "Nigeria"
          ],
          [
           "Oman"
          ],
          [
           "Pakistan"
          ],
          [
           "Panama"
          ],
          [
           "Papua New Guinea"
          ],
          [
           "Paraguay"
          ],
          [
           "Peru"
          ],
          [
           "Philippines"
          ],
          [
           "Poland"
          ],
          [
           "Portugal"
          ],
          [
           "Qatar"
          ],
          [
           "Romania"
          ],
          [
           "Russia"
          ],
          [
           "Rwanda"
          ],
          [
           "Saudi Arabia"
          ],
          [
           "Senegal"
          ],
          [
           "Sierra Leone"
          ],
          [
           "Singapore"
          ],
          [
           "Slovakia"
          ],
          [
           "South Africa"
          ],
          [
           "South Korea"
          ],
          [
           "Spain"
          ],
          [
           "Sri Lanka"
          ],
          [
           "Sudan"
          ],
          [
           "Sweden"
          ],
          [
           "Switzerland"
          ],
          [
           "Taiwan"
          ],
          [
           "Tanzania"
          ],
          [
           "Thailand"
          ],
          [
           "Trinidad & Tobago"
          ],
          [
           "Tunisia"
          ],
          [
           "Turkey"
          ],
          [
           "UAE"
          ],
          [
           "Uganda"
          ],
          [
           "Ukraine"
          ],
          [
           "United Kingdom"
          ],
          [
           "United States"
          ],
          [
           "Uruguay"
          ],
          [
           "Uzbekistan"
          ],
          [
           "Venezuela"
          ],
          [
           "Vietnam"
          ],
          [
           "Zambia"
          ],
          [
           "Zimbabwe"
          ]
         ],
         "hovertemplate": "Internet Users (% of Population)=%{z}<br>Latitude=%{lat}<br>Longitude=%{lon}<br>Country=%{customdata[0]}<extra></extra>",
         "lat": [
          28.0000272,
          -11.8775768,
          -34.9964963,
          -24.7761086,
          47.59397,
          40.3936294,
          26.1551249,
          24.4769288,
          50.6402809,
          9.5293472,
          -23.1681782,
          -10.3333333,
          42.6073975,
          12.0753083,
          -3.426449,
          12.5433216,
          4.6125522,
          61.0666922,
          -31.7613365,
          35.000074,
          4.099917,
          -2.9814344,
          10.2735633,
          45.3658443,
          23.0131338,
          49.7439047,
          7.9897371,
          55.670249,
          19.0974031,
          -1.3397668,
          26.2540493,
          13.8000382,
          58.7523778,
          10.2116702,
          63.2467777,
          46.603354,
          -0.8999695,
          51.1638175,
          8.0300284,
          38.9953683,
          15.5855545,
          10.7226226,
          15.2572432,
          22.381131,
          47.1817585,
          22.3511148,
          -2.4833826,
          32.6475314,
          52.865196,
          30.8124247,
          42.6384261,
          18.1850507,
          36.5748441,
          44.6663146,
          48.1012954,
          1.4419683,
          29.2733964,
          20.0171109,
          56.8406494,
          40.3429683,
          5.7499721,
          55.3500003,
          -18.9249604,
          -13.2687204,
          4.5693754,
          16.3700359,
          23.6585116,
          46.8250388,
          31.1728205,
          -19.302233,
          17.1750495,
          -23.2335499,
          28.1083929,
          52.2434979,
          -41.5000831,
          12.6090157,
          17.7356214,
          9.6000359,
          21.0000287,
          30.3308401,
          8.559559,
          -5.6816069,
          -23.3165935,
          -6.8699697,
          12.7503486,
          52.215933,
          39.6621648,
          25.3336984,
          45.9852129,
          64.6863136,
          -1.9646631,
          25.6242618,
          14.4750607,
          8.6400349,
          1.357107,
          48.7411522,
          -28.8166236,
          36.638392,
          39.3260685,
          7.5554942,
          14.5844444,
          59.6749712,
          46.7985624,
          23.9739374,
          -6.5247123,
          14.8971921,
          10.7466905,
          33.8439408,
          38.9597594,
          24.0002488,
          1.5333554,
          49.4871968,
          54.7023545,
          39.7837304,
          -32.8755548,
          41.32373,
          8.0018709,
          15.9266657,
          -14.5189121,
          -18.4554963
         ],
         "lon": [
          2.9999825,
          17.5691241,
          -64.9672817,
          134.755,
          14.12456,
          47.7872508,
          50.5344606,
          90.2934413,
          4.6667145,
          2.2584408,
          24.5928742,
          -53.2,
          25.4856617,
          -1.6880314,
          29.9324519,
          104.8144914,
          13.1535811,
          -107.991707,
          -71.3187697,
          104.999927,
          -72.9088133,
          23.8222636,
          -84.0739102,
          15.6575209,
          -80.8328748,
          15.3381061,
          -5.5679458,
          10.3333283,
          -70.3028026,
          -79.3666965,
          29.2675469,
          -88.9140683,
          25.3319078,
          38.6521203,
          25.9209164,
          1.8883335,
          11.6899699,
          10.4478313,
          -1.0800271,
          21.9877132,
          -90.345759,
          -10.7083587,
          -86.0755145,
          114.135572,
          19.5060937,
          78.6677428,
          117.8902853,
          54.5643516,
          -7.9794599,
          34.8594762,
          12.674297,
          -77.3947693,
          139.2394179,
          -93.6261918,
          66.7780818,
          38.4313975,
          47.4979476,
          103.378253,
          24.7537645,
          -76.4233816,
          -9.3658524,
          23.7499997,
          46.4416422,
          33.9301963,
          102.2656823,
          -2.2900239,
          -102.0077097,
          103.8499736,
          -7.3362482,
          34.9144977,
          95.9999652,
          17.3231107,
          84.0917139,
          5.6343227,
          172.8344077,
          -85.2936911,
          9.3238432,
          7.9999721,
          57.0036901,
          71.247499,
          -81.1308434,
          144.2489081,
          -58.1693445,
          -75.0458515,
          122.7312101,
          19.134422,
          -8.1353519,
          51.2295295,
          24.6859225,
          97.7453061,
          30.0644358,
          42.3528328,
          -14.4529612,
          -11.8400269,
          103.8194992,
          19.4528646,
          24.991639,
          127.6961188,
          -4.8379791,
          80.7137847,
          29.4917691,
          14.5208584,
          8.2319736,
          120.9820179,
          35.7878438,
          100.83273,
          -61.0840075,
          9.400138,
          34.9249653,
          53.9994829,
          32.2166578,
          31.2718321,
          -3.2765753,
          -100.445882,
          -56.0201525,
          63.9528098,
          -66.1109318,
          107.9650855,
          27.5589884,
          29.7468414
         ],
         "name": "",
         "radius": 10,
         "subplot": "mapbox",
         "type": "densitymapbox",
         "z": [
          45.36,
          13.66,
          72.38,
          86.12,
          86.28,
          78.76,
          97.14,
          16.259999999999998,
          87.67999999999999,
          13.12,
          40.17999999999999,
          65.5,
          62.52,
          15.14,
          3.6400000000000006,
          30.54,
          22.7,
          91.86,
          81.41999999999999,
          53.279999999999994,
          61.08,
          7.159999999999999,
          70.4,
          72.8,
          52.379999999999995,
          78.5,
          39.480000000000004,
          97.14,
          67.05999999999999,
          53.06,
          45.64,
          31.439999999999998,
          88.52000000000001,
          17.020000000000003,
          88.02000000000001,
          80.62,
          48.959999999999994,
          86.26,
          34.68,
          70.74,
          37.08,
          14.6,
          30.580000000000002,
          88.8,
          77.08,
          22.240000000000002,
          33.480000000000004,
          60.5,
          84.02000000000001,
          81.84,
          66.26,
          50.38,
          91.72,
          64.55999999999999,
          76.52000000000001,
          18.28,
          89.5,
          23.32,
          81.75999999999999,
          76.94,
          12.86,
          76.94,
          4.6,
          11.64,
          79.08,
          11.9,
          63.339999999999996,
          33.339999999999996,
          63.279999999999994,
          19.36,
          23.520000000000003,
          33.42,
          20.3,
          92.24,
          89.82000000000001,
          25.6,
          5.5200000000000005,
          16.84,
          80.62,
          15.540000000000001,
          58.120000000000005,
          10.219999999999999,
          59.54,
          50.4,
          50.94,
          75.86,
          72.56,
          96.96000000000001,
          64.67999999999999,
          76.53999999999999,
          20.68,
          85.53999999999999,
          28.3,
          11.540000000000001,
          85.02000000000001,
          80.6,
          54.9,
          94,
          84.14,
          26.160000000000004,
          26.68,
          92.16,
          89.82000000000001,
          82.47999999999999,
          16.3,
          52.64,
          74.88,
          56.5,
          64.34,
          94.7,
          22.16,
          57.2,
          92.08,
          84.88,
          70.52000000000001,
          49.739999999999995,
          63.379999999999995,
          58.92,
          20.6,
          25.42
         ]
        }
       ],
       "layout": {
        "coloraxis": {
         "colorbar": {
          "title": {
           "text": "Internet Users (% of Population)"
          }
         },
         "colorscale": [
          [
           0,
           "#0d0887"
          ],
          [
           0.1111111111111111,
           "#46039f"
          ],
          [
           0.2222222222222222,
           "#7201a8"
          ],
          [
           0.3333333333333333,
           "#9c179e"
          ],
          [
           0.4444444444444444,
           "#bd3786"
          ],
          [
           0.5555555555555556,
           "#d8576b"
          ],
          [
           0.6666666666666666,
           "#ed7953"
          ],
          [
           0.7777777777777778,
           "#fb9f3a"
          ],
          [
           0.8888888888888888,
           "#fdca26"
          ],
          [
           1,
           "#f0f921"
          ]
         ]
        },
        "legend": {
         "tracegroupgap": 0
        },
        "mapbox": {
         "center": {
          "lat": 0,
          "lon": 180
         },
         "domain": {
          "x": [
           0,
           1
          ],
          "y": [
           0,
           1
          ]
         },
         "style": "open-street-map",
         "zoom": 0
        },
        "margin": {
         "t": 60
        },
        "template": {
         "data": {
          "bar": [
           {
            "error_x": {
             "color": "#2a3f5f"
            },
            "error_y": {
             "color": "#2a3f5f"
            },
            "marker": {
             "line": {
              "color": "#E5ECF6",
              "width": 0.5
             },
             "pattern": {
              "fillmode": "overlay",
              "size": 10,
              "solidity": 0.2
             }
            },
            "type": "bar"
           }
          ],
          "barpolar": [
           {
            "marker": {
             "line": {
              "color": "#E5ECF6",
              "width": 0.5
             },
             "pattern": {
              "fillmode": "overlay",
              "size": 10,
              "solidity": 0.2
             }
            },
            "type": "barpolar"
           }
          ],
          "carpet": [
           {
            "aaxis": {
             "endlinecolor": "#2a3f5f",
             "gridcolor": "white",
             "linecolor": "white",
             "minorgridcolor": "white",
             "startlinecolor": "#2a3f5f"
            },
            "baxis": {
             "endlinecolor": "#2a3f5f",
             "gridcolor": "white",
             "linecolor": "white",
             "minorgridcolor": "white",
             "startlinecolor": "#2a3f5f"
            },
            "type": "carpet"
           }
          ],
          "choropleth": [
           {
            "colorbar": {
             "outlinewidth": 0,
             "ticks": ""
            },
            "type": "choropleth"
           }
          ],
          "contour": [
           {
            "colorbar": {
             "outlinewidth": 0,
             "ticks": ""
            },
            "colorscale": [
             [
              0,
              "#0d0887"
             ],
             [
              0.1111111111111111,
              "#46039f"
             ],
             [
              0.2222222222222222,
              "#7201a8"
             ],
             [
              0.3333333333333333,
              "#9c179e"
             ],
             [
              0.4444444444444444,
              "#bd3786"
             ],
             [
              0.5555555555555556,
              "#d8576b"
             ],
             [
              0.6666666666666666,
              "#ed7953"
             ],
             [
              0.7777777777777778,
              "#fb9f3a"
             ],
             [
              0.8888888888888888,
              "#fdca26"
             ],
             [
              1,
              "#f0f921"
             ]
            ],
            "type": "contour"
           }
          ],
          "contourcarpet": [
           {
            "colorbar": {
             "outlinewidth": 0,
             "ticks": ""
            },
            "type": "contourcarpet"
           }
          ],
          "heatmap": [
           {
            "colorbar": {
             "outlinewidth": 0,
             "ticks": ""
            },
            "colorscale": [
             [
              0,
              "#0d0887"
             ],
             [
              0.1111111111111111,
              "#46039f"
             ],
             [
              0.2222222222222222,
              "#7201a8"
             ],
             [
              0.3333333333333333,
              "#9c179e"
             ],
             [
              0.4444444444444444,
              "#bd3786"
             ],
             [
              0.5555555555555556,
              "#d8576b"
             ],
             [
              0.6666666666666666,
              "#ed7953"
             ],
             [
              0.7777777777777778,
              "#fb9f3a"
             ],
             [
              0.8888888888888888,
              "#fdca26"
             ],
             [
              1,
              "#f0f921"
             ]
            ],
            "type": "heatmap"
           }
          ],
          "heatmapgl": [
           {
            "colorbar": {
             "outlinewidth": 0,
             "ticks": ""
            },
            "colorscale": [
             [
              0,
              "#0d0887"
             ],
             [
              0.1111111111111111,
              "#46039f"
             ],
             [
              0.2222222222222222,
              "#7201a8"
             ],
             [
              0.3333333333333333,
              "#9c179e"
             ],
             [
              0.4444444444444444,
              "#bd3786"
             ],
             [
              0.5555555555555556,
              "#d8576b"
             ],
             [
              0.6666666666666666,
              "#ed7953"
             ],
             [
              0.7777777777777778,
              "#fb9f3a"
             ],
             [
              0.8888888888888888,
              "#fdca26"
             ],
             [
              1,
              "#f0f921"
             ]
            ],
            "type": "heatmapgl"
           }
          ],
          "histogram": [
           {
            "marker": {
             "pattern": {
              "fillmode": "overlay",
              "size": 10,
              "solidity": 0.2
             }
            },
            "type": "histogram"
           }
          ],
          "histogram2d": [
           {
            "colorbar": {
             "outlinewidth": 0,
             "ticks": ""
            },
            "colorscale": [
             [
              0,
              "#0d0887"
             ],
             [
              0.1111111111111111,
              "#46039f"
             ],
             [
              0.2222222222222222,
              "#7201a8"
             ],
             [
              0.3333333333333333,
              "#9c179e"
             ],
             [
              0.4444444444444444,
              "#bd3786"
             ],
             [
              0.5555555555555556,
              "#d8576b"
             ],
             [
              0.6666666666666666,
              "#ed7953"
             ],
             [
              0.7777777777777778,
              "#fb9f3a"
             ],
             [
              0.8888888888888888,
              "#fdca26"
             ],
             [
              1,
              "#f0f921"
             ]
            ],
            "type": "histogram2d"
           }
          ],
          "histogram2dcontour": [
           {
            "colorbar": {
             "outlinewidth": 0,
             "ticks": ""
            },
            "colorscale": [
             [
              0,
              "#0d0887"
             ],
             [
              0.1111111111111111,
              "#46039f"
             ],
             [
              0.2222222222222222,
              "#7201a8"
             ],
             [
              0.3333333333333333,
              "#9c179e"
             ],
             [
              0.4444444444444444,
              "#bd3786"
             ],
             [
              0.5555555555555556,
              "#d8576b"
             ],
             [
              0.6666666666666666,
              "#ed7953"
             ],
             [
              0.7777777777777778,
              "#fb9f3a"
             ],
             [
              0.8888888888888888,
              "#fdca26"
             ],
             [
              1,
              "#f0f921"
             ]
            ],
            "type": "histogram2dcontour"
           }
          ],
          "mesh3d": [
           {
            "colorbar": {
             "outlinewidth": 0,
             "ticks": ""
            },
            "type": "mesh3d"
           }
          ],
          "parcoords": [
           {
            "line": {
             "colorbar": {
              "outlinewidth": 0,
              "ticks": ""
             }
            },
            "type": "parcoords"
           }
          ],
          "pie": [
           {
            "automargin": true,
            "type": "pie"
           }
          ],
          "scatter": [
           {
            "fillpattern": {
             "fillmode": "overlay",
             "size": 10,
             "solidity": 0.2
            },
            "type": "scatter"
           }
          ],
          "scatter3d": [
           {
            "line": {
             "colorbar": {
              "outlinewidth": 0,
              "ticks": ""
             }
            },
            "marker": {
             "colorbar": {
              "outlinewidth": 0,
              "ticks": ""
             }
            },
            "type": "scatter3d"
           }
          ],
          "scattercarpet": [
           {
            "marker": {
             "colorbar": {
              "outlinewidth": 0,
              "ticks": ""
             }
            },
            "type": "scattercarpet"
           }
          ],
          "scattergeo": [
           {
            "marker": {
             "colorbar": {
              "outlinewidth": 0,
              "ticks": ""
             }
            },
            "type": "scattergeo"
           }
          ],
          "scattergl": [
           {
            "marker": {
             "colorbar": {
              "outlinewidth": 0,
              "ticks": ""
             }
            },
            "type": "scattergl"
           }
          ],
          "scattermapbox": [
           {
            "marker": {
             "colorbar": {
              "outlinewidth": 0,
              "ticks": ""
             }
            },
            "type": "scattermapbox"
           }
          ],
          "scatterpolar": [
           {
            "marker": {
             "colorbar": {
              "outlinewidth": 0,
              "ticks": ""
             }
            },
            "type": "scatterpolar"
           }
          ],
          "scatterpolargl": [
           {
            "marker": {
             "colorbar": {
              "outlinewidth": 0,
              "ticks": ""
             }
            },
            "type": "scatterpolargl"
           }
          ],
          "scatterternary": [
           {
            "marker": {
             "colorbar": {
              "outlinewidth": 0,
              "ticks": ""
             }
            },
            "type": "scatterternary"
           }
          ],
          "surface": [
           {
            "colorbar": {
             "outlinewidth": 0,
             "ticks": ""
            },
            "colorscale": [
             [
              0,
              "#0d0887"
             ],
             [
              0.1111111111111111,
              "#46039f"
             ],
             [
              0.2222222222222222,
              "#7201a8"
             ],
             [
              0.3333333333333333,
              "#9c179e"
             ],
             [
              0.4444444444444444,
              "#bd3786"
             ],
             [
              0.5555555555555556,
              "#d8576b"
             ],
             [
              0.6666666666666666,
              "#ed7953"
             ],
             [
              0.7777777777777778,
              "#fb9f3a"
             ],
             [
              0.8888888888888888,
              "#fdca26"
             ],
             [
              1,
              "#f0f921"
             ]
            ],
            "type": "surface"
           }
          ],
          "table": [
           {
            "cells": {
             "fill": {
              "color": "#EBF0F8"
             },
             "line": {
              "color": "white"
             }
            },
            "header": {
             "fill": {
              "color": "#C8D4E3"
             },
             "line": {
              "color": "white"
             }
            },
            "type": "table"
           }
          ]
         },
         "layout": {
          "annotationdefaults": {
           "arrowcolor": "#2a3f5f",
           "arrowhead": 0,
           "arrowwidth": 1
          },
          "autotypenumbers": "strict",
          "coloraxis": {
           "colorbar": {
            "outlinewidth": 0,
            "ticks": ""
           }
          },
          "colorscale": {
           "diverging": [
            [
             0,
             "#8e0152"
            ],
            [
             0.1,
             "#c51b7d"
            ],
            [
             0.2,
             "#de77ae"
            ],
            [
             0.3,
             "#f1b6da"
            ],
            [
             0.4,
             "#fde0ef"
            ],
            [
             0.5,
             "#f7f7f7"
            ],
            [
             0.6,
             "#e6f5d0"
            ],
            [
             0.7,
             "#b8e186"
            ],
            [
             0.8,
             "#7fbc41"
            ],
            [
             0.9,
             "#4d9221"
            ],
            [
             1,
             "#276419"
            ]
           ],
           "sequential": [
            [
             0,
             "#0d0887"
            ],
            [
             0.1111111111111111,
             "#46039f"
            ],
            [
             0.2222222222222222,
             "#7201a8"
            ],
            [
             0.3333333333333333,
             "#9c179e"
            ],
            [
             0.4444444444444444,
             "#bd3786"
            ],
            [
             0.5555555555555556,
             "#d8576b"
            ],
            [
             0.6666666666666666,
             "#ed7953"
            ],
            [
             0.7777777777777778,
             "#fb9f3a"
            ],
            [
             0.8888888888888888,
             "#fdca26"
            ],
            [
             1,
             "#f0f921"
            ]
           ],
           "sequentialminus": [
            [
             0,
             "#0d0887"
            ],
            [
             0.1111111111111111,
             "#46039f"
            ],
            [
             0.2222222222222222,
             "#7201a8"
            ],
            [
             0.3333333333333333,
             "#9c179e"
            ],
            [
             0.4444444444444444,
             "#bd3786"
            ],
            [
             0.5555555555555556,
             "#d8576b"
            ],
            [
             0.6666666666666666,
             "#ed7953"
            ],
            [
             0.7777777777777778,
             "#fb9f3a"
            ],
            [
             0.8888888888888888,
             "#fdca26"
            ],
            [
             1,
             "#f0f921"
            ]
           ]
          },
          "colorway": [
           "#636efa",
           "#EF553B",
           "#00cc96",
           "#ab63fa",
           "#FFA15A",
           "#19d3f3",
           "#FF6692",
           "#B6E880",
           "#FF97FF",
           "#FECB52"
          ],
          "font": {
           "color": "#2a3f5f"
          },
          "geo": {
           "bgcolor": "white",
           "lakecolor": "white",
           "landcolor": "#E5ECF6",
           "showlakes": true,
           "showland": true,
           "subunitcolor": "white"
          },
          "hoverlabel": {
           "align": "left"
          },
          "hovermode": "closest",
          "mapbox": {
           "style": "light"
          },
          "paper_bgcolor": "white",
          "plot_bgcolor": "#E5ECF6",
          "polar": {
           "angularaxis": {
            "gridcolor": "white",
            "linecolor": "white",
            "ticks": ""
           },
           "bgcolor": "#E5ECF6",
           "radialaxis": {
            "gridcolor": "white",
            "linecolor": "white",
            "ticks": ""
           }
          },
          "scene": {
           "xaxis": {
            "backgroundcolor": "#E5ECF6",
            "gridcolor": "white",
            "gridwidth": 2,
            "linecolor": "white",
            "showbackground": true,
            "ticks": "",
            "zerolinecolor": "white"
           },
           "yaxis": {
            "backgroundcolor": "#E5ECF6",
            "gridcolor": "white",
            "gridwidth": 2,
            "linecolor": "white",
            "showbackground": true,
            "ticks": "",
            "zerolinecolor": "white"
           },
           "zaxis": {
            "backgroundcolor": "#E5ECF6",
            "gridcolor": "white",
            "gridwidth": 2,
            "linecolor": "white",
            "showbackground": true,
            "ticks": "",
            "zerolinecolor": "white"
           }
          },
          "shapedefaults": {
           "line": {
            "color": "#2a3f5f"
           }
          },
          "ternary": {
           "aaxis": {
            "gridcolor": "white",
            "linecolor": "white",
            "ticks": ""
           },
           "baxis": {
            "gridcolor": "white",
            "linecolor": "white",
            "ticks": ""
           },
           "bgcolor": "#E5ECF6",
           "caxis": {
            "gridcolor": "white",
            "linecolor": "white",
            "ticks": ""
           }
          },
          "title": {
           "x": 0.05
          },
          "xaxis": {
           "automargin": true,
           "gridcolor": "white",
           "linecolor": "white",
           "ticks": "",
           "title": {
            "standoff": 15
           },
           "zerolinecolor": "white",
           "zerolinewidth": 2
          },
          "yaxis": {
           "automargin": true,
           "gridcolor": "white",
           "linecolor": "white",
           "ticks": "",
           "title": {
            "standoff": 15
           },
           "zerolinecolor": "white",
           "zerolinewidth": 2
          }
         }
        }
       }
      }
     },
     "metadata": {},
     "output_type": "display_data"
    }
   ],
   "source": [
    "#heat map of internet usage by country. looks pretty cool, but maybe not useful?\n",
    "#still thinks lebanon and jordan are us cities\n",
    "\n",
    "import plotly.express as px\n",
    "\n",
    "fig = px.density_mapbox(demo_df,\n",
    "                        lat='Latitude',\n",
    "                        lon='Longitude',\n",
    "                        z='Internet Users (% of Population)',\n",
    "                        radius=10,\n",
    "                        center=dict(lat=0, lon=180),\n",
    "                        zoom=0,\n",
    "                        mapbox_style=\"open-street-map\",\n",
    "                        hover_data=['Country'])\n",
    "fig.show()\n"
   ]
  },
  {
   "cell_type": "markdown",
   "metadata": {},
   "source": [
    "## Internet Usage by Gender"
   ]
  },
  {
   "cell_type": "code",
   "execution_count": 16,
   "metadata": {},
   "outputs": [
    {
     "data": {
      "image/png": "[encoded data removed]",
      "text/plain": [
       "<Figure size 640x480 with 1 Axes>"
      ]
     },
     "metadata": {},
     "output_type": "display_data"
    }
   ],
   "source": [
    "#pie chart of male vs female internet users\n",
    "\n",
    "categories = ['Male internet users', 'Female internet users']\n",
    "sizes = [internet_data[\"BG20) Male internet users\"].sum(), internet_data[\"BG21) Female internet users\"].sum()]\n",
    "\n",
    "plt.pie(sizes, labels=categories, autopct='%1.1f%%', startangle=140, colors=['navy', 'purple'])\n",
    "plt.title('Worldwide Internet Usage by Gender')\n",
    "plt.legend()\n",
    "plt.axis('equal')  # Equal aspect ratio ensures that pie is drawn as a circle.\n",
    "plt.show()"
   ]
  },
  {
   "cell_type": "code",
   "execution_count": null,
   "metadata": {},
   "outputs": [],
   "source": [
    "# need to figure out how to make this chart work\n",
    "\n",
    "#sizes = [internet_data[\"BG20) Male internet users\"].sum(), internet_data[\"BG21) Female internet users\"].sum()]\n",
    "#sns.violinplot(x='4.1.2) Educational attainment', y=internet_data, data=internet_data)\n",
    "#plt.title('Internet Users by Education Level')\n",
    "#plt.show()"
   ]
  },
  {
   "cell_type": "markdown",
   "metadata": {},
   "source": [
    "## Internet Usage by Income"
   ]
  },
  {
   "cell_type": "code",
   "execution_count": 35,
   "metadata": {},
   "outputs": [
    {
     "data": {
      "image/png": "[encoded data removed]",
      "text/plain": [
       "<Figure size 1000x600 with 1 Axes>"
      ]
     },
     "metadata": {},
     "output_type": "display_data"
    }
   ],
   "source": [
    "gni_per_capita_col = 'GNI Per Capita (USD per Person)'\n",
    "internet_users_col = 'Internet Users (% of Population)'\n",
    "\n",
    "#scatter plot\n",
    "plt.figure(figsize=(10, 6))\n",
    "sns.scatterplot(data=demo_df, x=gni_per_capita_col, y=internet_users_col, color='teal')\n",
    "\n",
    "#plotting\n",
    "plt.title('Internet Usage vs. GNI Per Capita')\n",
    "plt.xlabel('GNI Per Capita (USD)')\n",
    "plt.ylabel('Percentage of Internet Users')\n",
    "plt.ylim([0, 120])\n",
    "\n",
    "plt.show()\n"
   ]
  },
  {
   "cell_type": "code",
   "execution_count": 34,
   "metadata": {},
   "outputs": [
    {
     "data": {
      "image/png": "[encoded data removed]",
      "text/plain": [
       "<Figure size 1000x600 with 1 Axes>"
      ]
     },
     "metadata": {},
     "output_type": "display_data"
    },
    {
     "name": "stdout",
     "output_type": "stream",
     "text": [
      "R-squared: 0.57\n"
     ]
    }
   ],
   "source": [
    "import scipy.stats as stats\n",
    "import matplotlib.pyplot as plt\n",
    "\n",
    "gni_per_capita_col = 'GNI Per Capita (USD per Person)'\n",
    "internet_users_col = 'Internet Users (% of Population)'\n",
    "\n",
    "#linear regression\n",
    "slope, intercept, r_value, p_value, std_err = stats.linregress(demo_df[gni_per_capita_col], demo_df[internet_users_col])\n",
    "\n",
    "line = slope * demo_df[gni_per_capita_col] + intercept\n",
    "\n",
    "#plotting\n",
    "plt.figure(figsize=(10, 6))\n",
    "plt.scatter(demo_df[gni_per_capita_col], demo_df[internet_users_col], alpha=0.5, color='teal')\n",
    "plt.plot(demo_df[gni_per_capita_col], line, color='black', label=f'y={slope:.2f}x+{intercept:.2f}')\n",
    "plt.title('Internet Usage vs. GNI Per Capita')\n",
    "plt.xlabel('GNI Per Capita (USD)')\n",
    "plt.ylabel('Percentage of Internet Users')\n",
    "plt.ylim([0, 120])\n",
    "plt.legend()\n",
    "plt.show()\n",
    "\n",
    "print(f\"R-squared: {r_value**2:.2f}\")\n"
   ]
  },
  {
   "cell_type": "markdown",
   "metadata": {},
   "source": [
    "## Internet Usage by Education"
   ]
  },
  {
   "cell_type": "code",
   "execution_count": 43,
   "metadata": {},
   "outputs": [
    {
     "data": {
      "image/png": "[encoded data removed]",
      "text/plain": [
       "<Figure size 1000x600 with 1 Axes>"
      ]
     },
     "metadata": {},
     "output_type": "display_data"
    }
   ],
   "source": [
    "\n",
    "education_col = 'Education Level (Years of Schooling)'\n",
    "internet_users_col = 'Internet Users (% of Population)'\n",
    "\n",
    "#scatter plot\n",
    "plt.figure(figsize=(10, 6))\n",
    "sns.scatterplot(data=demo_df, x=education_col, y=internet_users_col, color='indianred')\n",
    "plt.title('Internet Usage vs. Education Level')\n",
    "plt.xlabel('Average Years of Schooling')\n",
    "plt.ylabel('Percentage of Internet Users')\n",
    "\n",
    "plt.show()\n"
   ]
  },
  {
   "cell_type": "code",
   "execution_count": 44,
   "metadata": {},
   "outputs": [
    {
     "data": {
      "image/png": "[encoded data removed]",
      "text/plain": [
       "<Figure size 1000x600 with 1 Axes>"
      ]
     },
     "metadata": {},
     "output_type": "display_data"
    },
    {
     "name": "stdout",
     "output_type": "stream",
     "text": [
      "R-squared: 0.73\n"
     ]
    }
   ],
   "source": [
    "import scipy.stats as stats\n",
    "\n",
    "#linear regression\n",
    "slope, intercept, r_value, p_value, std_err = stats.linregress(demo_df[education_col], demo_df[internet_users_col])\n",
    "\n",
    "line = slope * demo_df[education_col] + intercept\n",
    "\n",
    "#plotting\n",
    "plt.figure(figsize=(10, 6))\n",
    "plt.scatter(demo_df[education_col], demo_df[internet_users_col], alpha=0.5, color='indianred')\n",
    "plt.plot(demo_df[education_col], line, label=f'y={slope:.2f}x+{intercept:.2f}', color='black')\n",
    "plt.title('Internet Usage vs. Education Level')\n",
    "plt.xlabel('Average Years of Schooling')\n",
    "plt.ylabel('Percentage of Internet Users')\n",
    "plt.legend()\n",
    "plt.show()\n",
    "\n",
    "print(f\"R-squared: {r_value**2:.2f}\")"
   ]
  },
  {
   "cell_type": "code",
   "execution_count": null,
   "metadata": {},
   "outputs": [],
   "source": []
  }
 ],
 "metadata": {
  "kernelspec": {
   "display_name": "base",
   "language": "python",
   "name": "python3"
  },
  "language_info": {
   "codemirror_mode": {
    "name": "ipython",
    "version": 3
   },
   "file_extension": ".py",
   "mimetype": "text/x-python",
   "name": "python",
   "nbconvert_exporter": "python",
   "pygments_lexer": "ipython3",
   "version": "3.11.5"
  }
 },
 "nbformat": 4,
 "nbformat_minor": 2
}
