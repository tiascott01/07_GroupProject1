{
 "cells": [
  {
   "cell_type": "markdown",
   "metadata": {},
   "source": [
    "# Data Cleaning - Broadband V. Mobile, Coverage, and Mobile Phone Cost"
   ]
  },
  {
   "cell_type": "code",
   "execution_count": 1,
   "metadata": {},
   "outputs": [
    {
     "data": {
      "application/javascript": "(function(root) {\n  function now() {\n    return new Date();\n  }\n\n  var force = true;\n  var py_version = '3.2.1'.replace('rc', '-rc.').replace('.dev', '-dev.');\n  var is_dev = py_version.indexOf(\"+\") !== -1 || py_version.indexOf(\"-\") !== -1;\n  var reloading = false;\n  var Bokeh = root.Bokeh;\n  var bokeh_loaded = Bokeh != null && (Bokeh.version === py_version || (Bokeh.versions !== undefined && Bokeh.versions.has(py_version)));\n\n  if (typeof (root._bokeh_timeout) === \"undefined\" || force) {\n    root._bokeh_timeout = Date.now() + 5000;\n    root._bokeh_failed_load = false;\n  }\n\n  function run_callbacks() {\n    try {\n      root._bokeh_onload_callbacks.forEach(function(callback) {\n        if (callback != null)\n          callback();\n      });\n    } finally {\n      delete root._bokeh_onload_callbacks;\n    }\n    console.debug(\"Bokeh: all callbacks have finished\");\n  }\n\n  function load_libs(css_urls, js_urls, js_modules, js_exports, callback) {\n    if (css_urls == null) css_urls = [];\n    if (js_urls == null) js_urls = [];\n    if (js_modules == null) js_modules = [];\n    if (js_exports == null) js_exports = {};\n\n    root._bokeh_onload_callbacks.push(callback);\n\n    if (root._bokeh_is_loading > 0) {\n      console.debug(\"Bokeh: BokehJS is being loaded, scheduling callback at\", now());\n      return null;\n    }\n    if (js_urls.length === 0 && js_modules.length === 0 && Object.keys(js_exports).length === 0) {\n      run_callbacks();\n      return null;\n    }\n    if (!reloading) {\n      console.debug(\"Bokeh: BokehJS not loaded, scheduling load and callback at\", now());\n    }\n\n    function on_load() {\n      root._bokeh_is_loading--;\n      if (root._bokeh_is_loading === 0) {\n        console.debug(\"Bokeh: all BokehJS libraries/stylesheets loaded\");\n        run_callbacks()\n      }\n    }\n    window._bokeh_on_load = on_load\n\n    function on_error() {\n      console.error(\"failed to load \" + url);\n    }\n\n    var skip = [];\n    if (window.requirejs) {\n      window.requirejs.config({'packages': {}, 'paths': {'jspanel': 'https://cdn.jsdelivr.net/npm/jspanel4@4.12.0/dist/jspanel', 'jspanel-modal': 'https://cdn.jsdelivr.net/npm/jspanel4@4.12.0/dist/extensions/modal/jspanel.modal', 'jspanel-tooltip': 'https://cdn.jsdelivr.net/npm/jspanel4@4.12.0/dist/extensions/tooltip/jspanel.tooltip', 'jspanel-hint': 'https://cdn.jsdelivr.net/npm/jspanel4@4.12.0/dist/extensions/hint/jspanel.hint', 'jspanel-layout': 'https://cdn.jsdelivr.net/npm/jspanel4@4.12.0/dist/extensions/layout/jspanel.layout', 'jspanel-contextmenu': 'https://cdn.jsdelivr.net/npm/jspanel4@4.12.0/dist/extensions/contextmenu/jspanel.contextmenu', 'jspanel-dock': 'https://cdn.jsdelivr.net/npm/jspanel4@4.12.0/dist/extensions/dock/jspanel.dock', 'gridstack': 'https://cdn.jsdelivr.net/npm/gridstack@7.2.3/dist/gridstack-all', 'notyf': 'https://cdn.jsdelivr.net/npm/notyf@3/notyf.min'}, 'shim': {'jspanel': {'exports': 'jsPanel'}, 'gridstack': {'exports': 'GridStack'}}});\n      require([\"jspanel\"], function(jsPanel) {\n\twindow.jsPanel = jsPanel\n\ton_load()\n      })\n      require([\"jspanel-modal\"], function() {\n\ton_load()\n      })\n      require([\"jspanel-tooltip\"], function() {\n\ton_load()\n      })\n      require([\"jspanel-hint\"], function() {\n\ton_load()\n      })\n      require([\"jspanel-layout\"], function() {\n\ton_load()\n      })\n      require([\"jspanel-contextmenu\"], function() {\n\ton_load()\n      })\n      require([\"jspanel-dock\"], function() {\n\ton_load()\n      })\n      require([\"gridstack\"], function(GridStack) {\n\twindow.GridStack = GridStack\n\ton_load()\n      })\n      require([\"notyf\"], function() {\n\ton_load()\n      })\n      root._bokeh_is_loading = css_urls.length + 9;\n    } else {\n      root._bokeh_is_loading = css_urls.length + js_urls.length + js_modules.length + Object.keys(js_exports).length;\n    }\n\n    var existing_stylesheets = []\n    var links = document.getElementsByTagName('link')\n    for (var i = 0; i < links.length; i++) {\n      var link = links[i]\n      if (link.href != null) {\n\texisting_stylesheets.push(link.href)\n      }\n    }\n    for (var i = 0; i < css_urls.length; i++) {\n      var url = css_urls[i];\n      if (existing_stylesheets.indexOf(url) !== -1) {\n\ton_load()\n\tcontinue;\n      }\n      const element = document.createElement(\"link\");\n      element.onload = on_load;\n      element.onerror = on_error;\n      element.rel = \"stylesheet\";\n      element.type = \"text/css\";\n      element.href = url;\n      console.debug(\"Bokeh: injecting link tag for BokehJS stylesheet: \", url);\n      document.body.appendChild(element);\n    }    if (((window['jsPanel'] !== undefined) && (!(window['jsPanel'] instanceof HTMLElement))) || window.requirejs) {\n      var urls = ['https://cdn.holoviz.org/panel/1.2.3/dist/bundled/floatpanel/jspanel4@4.12.0/dist/jspanel.js', 'https://cdn.holoviz.org/panel/1.2.3/dist/bundled/floatpanel/jspanel4@4.12.0/dist/extensions/modal/jspanel.modal.js', 'https://cdn.holoviz.org/panel/1.2.3/dist/bundled/floatpanel/jspanel4@4.12.0/dist/extensions/tooltip/jspanel.tooltip.js', 'https://cdn.holoviz.org/panel/1.2.3/dist/bundled/floatpanel/jspanel4@4.12.0/dist/extensions/hint/jspanel.hint.js', 'https://cdn.holoviz.org/panel/1.2.3/dist/bundled/floatpanel/jspanel4@4.12.0/dist/extensions/layout/jspanel.layout.js', 'https://cdn.holoviz.org/panel/1.2.3/dist/bundled/floatpanel/jspanel4@4.12.0/dist/extensions/contextmenu/jspanel.contextmenu.js', 'https://cdn.holoviz.org/panel/1.2.3/dist/bundled/floatpanel/jspanel4@4.12.0/dist/extensions/dock/jspanel.dock.js'];\n      for (var i = 0; i < urls.length; i++) {\n        skip.push(urls[i])\n      }\n    }    if (((window['GridStack'] !== undefined) && (!(window['GridStack'] instanceof HTMLElement))) || window.requirejs) {\n      var urls = ['https://cdn.holoviz.org/panel/1.2.3/dist/bundled/gridstack/gridstack@7.2.3/dist/gridstack-all.js'];\n      for (var i = 0; i < urls.length; i++) {\n        skip.push(urls[i])\n      }\n    }    if (((window['Notyf'] !== undefined) && (!(window['Notyf'] instanceof HTMLElement))) || window.requirejs) {\n      var urls = ['https://cdn.holoviz.org/panel/1.2.3/dist/bundled/notificationarea/notyf@3/notyf.min.js'];\n      for (var i = 0; i < urls.length; i++) {\n        skip.push(urls[i])\n      }\n    }    var existing_scripts = []\n    var scripts = document.getElementsByTagName('script')\n    for (var i = 0; i < scripts.length; i++) {\n      var script = scripts[i]\n      if (script.src != null) {\n\texisting_scripts.push(script.src)\n      }\n    }\n    for (var i = 0; i < js_urls.length; i++) {\n      var url = js_urls[i];\n      if (skip.indexOf(url) !== -1 || existing_scripts.indexOf(url) !== -1) {\n\tif (!window.requirejs) {\n\t  on_load();\n\t}\n\tcontinue;\n      }\n      var element = document.createElement('script');\n      element.onload = on_load;\n      element.onerror = on_error;\n      element.async = false;\n      element.src = url;\n      console.debug(\"Bokeh: injecting script tag for BokehJS library: \", url);\n      document.head.appendChild(element);\n    }\n    for (var i = 0; i < js_modules.length; i++) {\n      var url = js_modules[i];\n      if (skip.indexOf(url) !== -1 || existing_scripts.indexOf(url) !== -1) {\n\tif (!window.requirejs) {\n\t  on_load();\n\t}\n\tcontinue;\n      }\n      var element = document.createElement('script');\n      element.onload = on_load;\n      element.onerror = on_error;\n      element.async = false;\n      element.src = url;\n      element.type = \"module\";\n      console.debug(\"Bokeh: injecting script tag for BokehJS library: \", url);\n      document.head.appendChild(element);\n    }\n    for (const name in js_exports) {\n      var url = js_exports[name];\n      if (skip.indexOf(url) >= 0 || root[name] != null) {\n\tif (!window.requirejs) {\n\t  on_load();\n\t}\n\tcontinue;\n      }\n      var element = document.createElement('script');\n      element.onerror = on_error;\n      element.async = false;\n      element.type = \"module\";\n      console.debug(\"Bokeh: injecting script tag for BokehJS library: \", url);\n      element.textContent = `\n      import ${name} from \"${url}\"\n      window.${name} = ${name}\n      window._bokeh_on_load()\n      `\n      document.head.appendChild(element);\n    }\n    if (!js_urls.length && !js_modules.length) {\n      on_load()\n    }\n  };\n\n  function inject_raw_css(css) {\n    const element = document.createElement(\"style\");\n    element.appendChild(document.createTextNode(css));\n    document.body.appendChild(element);\n  }\n\n  var js_urls = [\"https://cdn.bokeh.org/bokeh/release/bokeh-3.2.1.min.js\", \"https://cdn.bokeh.org/bokeh/release/bokeh-gl-3.2.1.min.js\", \"https://cdn.bokeh.org/bokeh/release/bokeh-widgets-3.2.1.min.js\", \"https://cdn.bokeh.org/bokeh/release/bokeh-tables-3.2.1.min.js\", \"https://cdn.holoviz.org/panel/1.2.3/dist/panel.min.js\"];\n  var js_modules = [];\n  var js_exports = {};\n  var css_urls = [];\n  var inline_js = [    function(Bokeh) {\n      Bokeh.set_log_level(\"info\");\n    },\nfunction(Bokeh) {} // ensure no trailing comma for IE\n  ];\n\n  function run_inline_js() {\n    if ((root.Bokeh !== undefined) || (force === true)) {\n      for (var i = 0; i < inline_js.length; i++) {\n        inline_js[i].call(root, root.Bokeh);\n      }\n      // Cache old bokeh versions\n      if (Bokeh != undefined && !reloading) {\n\tvar NewBokeh = root.Bokeh;\n\tif (Bokeh.versions === undefined) {\n\t  Bokeh.versions = new Map();\n\t}\n\tif (NewBokeh.version !== Bokeh.version) {\n\t  Bokeh.versions.set(NewBokeh.version, NewBokeh)\n\t}\n\troot.Bokeh = Bokeh;\n      }} else if (Date.now() < root._bokeh_timeout) {\n      setTimeout(run_inline_js, 100);\n    } else if (!root._bokeh_failed_load) {\n      console.log(\"Bokeh: BokehJS failed to load within specified timeout.\");\n      root._bokeh_failed_load = true;\n    }\n    root._bokeh_is_initializing = false\n  }\n\n  function load_or_wait() {\n    // Implement a backoff loop that tries to ensure we do not load multiple\n    // versions of Bokeh and its dependencies at the same time.\n    // In recent versions we use the root._bokeh_is_initializing flag\n    // to determine whether there is an ongoing attempt to initialize\n    // bokeh, however for backward compatibility we also try to ensure\n    // that we do not start loading a newer (Panel>=1.0 and Bokeh>3) version\n    // before older versions are fully initialized.\n    if (root._bokeh_is_initializing && Date.now() > root._bokeh_timeout) {\n      root._bokeh_is_initializing = false;\n      root._bokeh_onload_callbacks = undefined;\n      console.log(\"Bokeh: BokehJS was loaded multiple times but one version failed to initialize.\");\n      load_or_wait();\n    } else if (root._bokeh_is_initializing || (typeof root._bokeh_is_initializing === \"undefined\" && root._bokeh_onload_callbacks !== undefined)) {\n      setTimeout(load_or_wait, 100);\n    } else {\n      Bokeh = root.Bokeh;\n      bokeh_loaded = Bokeh != null && (Bokeh.version === py_version || (Bokeh.versions !== undefined && Bokeh.versions.has(py_version)));\n      root._bokeh_is_initializing = true\n      root._bokeh_onload_callbacks = []\n      if (!reloading && (!bokeh_loaded || is_dev)) {\n\troot.Bokeh = undefined;\n      }\n      load_libs(css_urls, js_urls, js_modules, js_exports, function() {\n\tconsole.debug(\"Bokeh: BokehJS plotting callback run at\", now());\n\trun_inline_js();\n      });\n    }\n  }\n  // Give older versions of the autoload script a head-start to ensure\n  // they initialize before we start loading newer version.\n  setTimeout(load_or_wait, 100)\n}(window));",
      "application/vnd.holoviews_load.v0+json": ""
     },
     "metadata": {},
     "output_type": "display_data"
    },
    {
     "data": {
      "application/javascript": "\nif ((window.PyViz === undefined) || (window.PyViz instanceof HTMLElement)) {\n  window.PyViz = {comms: {}, comm_status:{}, kernels:{}, receivers: {}, plot_index: []}\n}\n\n\n    function JupyterCommManager() {\n    }\n\n    JupyterCommManager.prototype.register_target = function(plot_id, comm_id, msg_handler) {\n      if (window.comm_manager || ((window.Jupyter !== undefined) && (Jupyter.notebook.kernel != null))) {\n        var comm_manager = window.comm_manager || Jupyter.notebook.kernel.comm_manager;\n        comm_manager.register_target(comm_id, function(comm) {\n          comm.on_msg(msg_handler);\n        });\n      } else if ((plot_id in window.PyViz.kernels) && (window.PyViz.kernels[plot_id])) {\n        window.PyViz.kernels[plot_id].registerCommTarget(comm_id, function(comm) {\n          comm.onMsg = msg_handler;\n        });\n      } else if (typeof google != 'undefined' && google.colab.kernel != null) {\n        google.colab.kernel.comms.registerTarget(comm_id, (comm) => {\n          var messages = comm.messages[Symbol.asyncIterator]();\n          function processIteratorResult(result) {\n            var message = result.value;\n            console.log(message)\n            var content = {data: message.data, comm_id};\n            var buffers = []\n            for (var buffer of message.buffers || []) {\n              buffers.push(new DataView(buffer))\n            }\n            var metadata = message.metadata || {};\n            var msg = {content, buffers, metadata}\n            msg_handler(msg);\n            return messages.next().then(processIteratorResult);\n          }\n          return messages.next().then(processIteratorResult);\n        })\n      }\n    }\n\n    JupyterCommManager.prototype.get_client_comm = function(plot_id, comm_id, msg_handler) {\n      if (comm_id in window.PyViz.comms) {\n        return window.PyViz.comms[comm_id];\n      } else if (window.comm_manager || ((window.Jupyter !== undefined) && (Jupyter.notebook.kernel != null))) {\n        var comm_manager = window.comm_manager || Jupyter.notebook.kernel.comm_manager;\n        var comm = comm_manager.new_comm(comm_id, {}, {}, {}, comm_id);\n        if (msg_handler) {\n          comm.on_msg(msg_handler);\n        }\n      } else if ((plot_id in window.PyViz.kernels) && (window.PyViz.kernels[plot_id])) {\n        var comm = window.PyViz.kernels[plot_id].connectToComm(comm_id);\n        comm.open();\n        if (msg_handler) {\n          comm.onMsg = msg_handler;\n        }\n      } else if (typeof google != 'undefined' && google.colab.kernel != null) {\n        var comm_promise = google.colab.kernel.comms.open(comm_id)\n        comm_promise.then((comm) => {\n          window.PyViz.comms[comm_id] = comm;\n          if (msg_handler) {\n            var messages = comm.messages[Symbol.asyncIterator]();\n            function processIteratorResult(result) {\n              var message = result.value;\n              var content = {data: message.data};\n              var metadata = message.metadata || {comm_id};\n              var msg = {content, metadata}\n              msg_handler(msg);\n              return messages.next().then(processIteratorResult);\n            }\n            return messages.next().then(processIteratorResult);\n          }\n        }) \n        var sendClosure = (data, metadata, buffers, disposeOnDone) => {\n          return comm_promise.then((comm) => {\n            comm.send(data, metadata, buffers, disposeOnDone);\n          });\n        };\n        var comm = {\n          send: sendClosure\n        };\n      }\n      window.PyViz.comms[comm_id] = comm;\n      return comm;\n    }\n    window.PyViz.comm_manager = new JupyterCommManager();\n    \n\n\nvar JS_MIME_TYPE = 'application/javascript';\nvar HTML_MIME_TYPE = 'text/html';\nvar EXEC_MIME_TYPE = 'application/vnd.holoviews_exec.v0+json';\nvar CLASS_NAME = 'output';\n\n/**\n * Render data to the DOM node\n */\nfunction render(props, node) {\n  var div = document.createElement(\"div\");\n  var script = document.createElement(\"script\");\n  node.appendChild(div);\n  node.appendChild(script);\n}\n\n/**\n * Handle when a new output is added\n */\nfunction handle_add_output(event, handle) {\n  var output_area = handle.output_area;\n  var output = handle.output;\n  if ((output.data == undefined) || (!output.data.hasOwnProperty(EXEC_MIME_TYPE))) {\n    return\n  }\n  var id = output.metadata[EXEC_MIME_TYPE][\"id\"];\n  var toinsert = output_area.element.find(\".\" + CLASS_NAME.split(' ')[0]);\n  if (id !== undefined) {\n    var nchildren = toinsert.length;\n    var html_node = toinsert[nchildren-1].children[0];\n    html_node.innerHTML = output.data[HTML_MIME_TYPE];\n    var scripts = [];\n    var nodelist = html_node.querySelectorAll(\"script\");\n    for (var i in nodelist) {\n      if (nodelist.hasOwnProperty(i)) {\n        scripts.push(nodelist[i])\n      }\n    }\n\n    scripts.forEach( function (oldScript) {\n      var newScript = document.createElement(\"script\");\n      var attrs = [];\n      var nodemap = oldScript.attributes;\n      for (var j in nodemap) {\n        if (nodemap.hasOwnProperty(j)) {\n          attrs.push(nodemap[j])\n        }\n      }\n      attrs.forEach(function(attr) { newScript.setAttribute(attr.name, attr.value) });\n      newScript.appendChild(document.createTextNode(oldScript.innerHTML));\n      oldScript.parentNode.replaceChild(newScript, oldScript);\n    });\n    if (JS_MIME_TYPE in output.data) {\n      toinsert[nchildren-1].children[1].textContent = output.data[JS_MIME_TYPE];\n    }\n    output_area._hv_plot_id = id;\n    if ((window.Bokeh !== undefined) && (id in Bokeh.index)) {\n      window.PyViz.plot_index[id] = Bokeh.index[id];\n    } else {\n      window.PyViz.plot_index[id] = null;\n    }\n  } else if (output.metadata[EXEC_MIME_TYPE][\"server_id\"] !== undefined) {\n    var bk_div = document.createElement(\"div\");\n    bk_div.innerHTML = output.data[HTML_MIME_TYPE];\n    var script_attrs = bk_div.children[0].attributes;\n    for (var i = 0; i < script_attrs.length; i++) {\n      toinsert[toinsert.length - 1].childNodes[1].setAttribute(script_attrs[i].name, script_attrs[i].value);\n    }\n    // store reference to server id on output_area\n    output_area._bokeh_server_id = output.metadata[EXEC_MIME_TYPE][\"server_id\"];\n  }\n}\n\n/**\n * Handle when an output is cleared or removed\n */\nfunction handle_clear_output(event, handle) {\n  var id = handle.cell.output_area._hv_plot_id;\n  var server_id = handle.cell.output_area._bokeh_server_id;\n  if (((id === undefined) || !(id in PyViz.plot_index)) && (server_id !== undefined)) { return; }\n  var comm = window.PyViz.comm_manager.get_client_comm(\"hv-extension-comm\", \"hv-extension-comm\", function () {});\n  if (server_id !== null) {\n    comm.send({event_type: 'server_delete', 'id': server_id});\n    return;\n  } else if (comm !== null) {\n    comm.send({event_type: 'delete', 'id': id});\n  }\n  delete PyViz.plot_index[id];\n  if ((window.Bokeh !== undefined) & (id in window.Bokeh.index)) {\n    var doc = window.Bokeh.index[id].model.document\n    doc.clear();\n    const i = window.Bokeh.documents.indexOf(doc);\n    if (i > -1) {\n      window.Bokeh.documents.splice(i, 1);\n    }\n  }\n}\n\n/**\n * Handle kernel restart event\n */\nfunction handle_kernel_cleanup(event, handle) {\n  delete PyViz.comms[\"hv-extension-comm\"];\n  window.PyViz.plot_index = {}\n}\n\n/**\n * Handle update_display_data messages\n */\nfunction handle_update_output(event, handle) {\n  handle_clear_output(event, {cell: {output_area: handle.output_area}})\n  handle_add_output(event, handle)\n}\n\nfunction register_renderer(events, OutputArea) {\n  function append_mime(data, metadata, element) {\n    // create a DOM node to render to\n    var toinsert = this.create_output_subarea(\n    metadata,\n    CLASS_NAME,\n    EXEC_MIME_TYPE\n    );\n    this.keyboard_manager.register_events(toinsert);\n    // Render to node\n    var props = {data: data, metadata: metadata[EXEC_MIME_TYPE]};\n    render(props, toinsert[0]);\n    element.append(toinsert);\n    return toinsert\n  }\n\n  events.on('output_added.OutputArea', handle_add_output);\n  events.on('output_updated.OutputArea', handle_update_output);\n  events.on('clear_output.CodeCell', handle_clear_output);\n  events.on('delete.Cell', handle_clear_output);\n  events.on('kernel_ready.Kernel', handle_kernel_cleanup);\n\n  OutputArea.prototype.register_mime_type(EXEC_MIME_TYPE, append_mime, {\n    safe: true,\n    index: 0\n  });\n}\n\nif (window.Jupyter !== undefined) {\n  try {\n    var events = require('base/js/events');\n    var OutputArea = require('notebook/js/outputarea').OutputArea;\n    if (OutputArea.prototype.mime_types().indexOf(EXEC_MIME_TYPE) == -1) {\n      register_renderer(events, OutputArea);\n    }\n  } catch(err) {\n  }\n}\n",
      "application/vnd.holoviews_load.v0+json": ""
     },
     "metadata": {},
     "output_type": "display_data"
    },
    {
     "data": {
      "text/html": [
       "<style>*[data-root-id],\n",
       "*[data-root-id] > * {\n",
       "  box-sizing: border-box;\n",
       "  font-family: var(--jp-ui-font-family);\n",
       "  font-size: var(--jp-ui-font-size1);\n",
       "  color: var(--vscode-editor-foreground, var(--jp-ui-font-color1));\n",
       "}\n",
       "\n",
       "/* Override VSCode background color */\n",
       ".cell-output-ipywidget-background:has(\n",
       "    > .cell-output-ipywidget-background > .lm-Widget > *[data-root-id]\n",
       "  ),\n",
       ".cell-output-ipywidget-background:has(> .lm-Widget > *[data-root-id]) {\n",
       "  background-color: transparent !important;\n",
       "}\n",
       "</style>"
      ]
     },
     "metadata": {},
     "output_type": "display_data"
    }
   ],
   "source": [
    "# Dependencies and Setup\n",
    "import pandas as pd\n",
    "from pathlib import Path\n",
    "import matplotlib.pyplot as plt\n",
    "from matplotlib import patheffects\n",
    "import numpy as np\n",
    "import seaborn as sns\n",
    "import plotly.express as px\n",
    "import hvplot.pandas\n",
    "import holoviews as hv\n",
    "from holoviews import opts\n",
    "from selenium import webdriver\n",
    "from scipy.stats import linregress\n",
    "import numpy as np"
   ]
  },
  {
   "cell_type": "markdown",
   "metadata": {},
   "source": [
    "## Data Importing and Cleaning"
   ]
  },
  {
   "cell_type": "code",
   "execution_count": 2,
   "metadata": {},
   "outputs": [
    {
     "data": {
      "text/html": [
       "<div>\n",
       "<style scoped>\n",
       "    .dataframe tbody tr th:only-of-type {\n",
       "        vertical-align: middle;\n",
       "    }\n",
       "\n",
       "    .dataframe tbody tr th {\n",
       "        vertical-align: top;\n",
       "    }\n",
       "\n",
       "    .dataframe thead th {\n",
       "        text-align: right;\n",
       "    }\n",
       "</style>\n",
       "<table border=\"1\" class=\"dataframe\">\n",
       "  <thead>\n",
       "    <tr style=\"text-align: right;\">\n",
       "      <th></th>\n",
       "      <th>Country</th>\n",
       "      <th>Edition</th>\n",
       "      <th>1.1.1) Internet users</th>\n",
       "      <th>1.1.2) Fixed-line broadband subscribers</th>\n",
       "      <th>1.1.3) Mobile subscribers</th>\n",
       "      <th>1.1.4) Gender gap in internet access</th>\n",
       "      <th>1.1.5) Gender gap in mobile phone access</th>\n",
       "      <th>1.2.1) Average fixed broadband upload speed</th>\n",
       "      <th>1.2.2) Average fixed broadband download speed</th>\n",
       "      <th>1.2.3) Average fixed broadband latency</th>\n",
       "      <th>...</th>\n",
       "      <th>BG15) Internet users (population)</th>\n",
       "      <th>BG16) Offline population</th>\n",
       "      <th>BG17) Internet access gender gap</th>\n",
       "      <th>BG18) Mobile phone access gender gap</th>\n",
       "      <th>BG19) Internet users (percent of population)</th>\n",
       "      <th>BG20) Male internet users</th>\n",
       "      <th>BG21) Female internet users</th>\n",
       "      <th>BG22) Male mobile phone subscribers</th>\n",
       "      <th>BG23) Female mobile phone subscribers</th>\n",
       "      <th>BG24) Total fixed line broadband subscribers</th>\n",
       "    </tr>\n",
       "  </thead>\n",
       "  <tbody>\n",
       "    <tr>\n",
       "      <th>0</th>\n",
       "      <td>Algeria</td>\n",
       "      <td>E1</td>\n",
       "      <td>31.9</td>\n",
       "      <td>5.71</td>\n",
       "      <td>108.8</td>\n",
       "      <td>NaN</td>\n",
       "      <td>NaN</td>\n",
       "      <td>1.69</td>\n",
       "      <td>3.39</td>\n",
       "      <td>74.00</td>\n",
       "      <td>...</td>\n",
       "      <td>15.23</td>\n",
       "      <td>24.64</td>\n",
       "      <td>NaN</td>\n",
       "      <td>NaN</td>\n",
       "      <td>38.2</td>\n",
       "      <td>NaN</td>\n",
       "      <td>NaN</td>\n",
       "      <td>95.5</td>\n",
       "      <td>89.9</td>\n",
       "      <td>2269348</td>\n",
       "    </tr>\n",
       "    <tr>\n",
       "      <th>1</th>\n",
       "      <td>Algeria</td>\n",
       "      <td>E2</td>\n",
       "      <td>47.3</td>\n",
       "      <td>7.05</td>\n",
       "      <td>116.0</td>\n",
       "      <td>22.0</td>\n",
       "      <td>7.8</td>\n",
       "      <td>6.12</td>\n",
       "      <td>7.85</td>\n",
       "      <td>76.92</td>\n",
       "      <td>...</td>\n",
       "      <td>17.44</td>\n",
       "      <td>23.18</td>\n",
       "      <td>13.0</td>\n",
       "      <td>7.0</td>\n",
       "      <td>42.9</td>\n",
       "      <td>59.0</td>\n",
       "      <td>46.0</td>\n",
       "      <td>90.0</td>\n",
       "      <td>83.0</td>\n",
       "      <td>2859567</td>\n",
       "    </tr>\n",
       "    <tr>\n",
       "      <th>2</th>\n",
       "      <td>Algeria</td>\n",
       "      <td>E3</td>\n",
       "      <td>54.2</td>\n",
       "      <td>7.76</td>\n",
       "      <td>110.8</td>\n",
       "      <td>11.7</td>\n",
       "      <td>8.9</td>\n",
       "      <td>2.59</td>\n",
       "      <td>3.77</td>\n",
       "      <td>64.71</td>\n",
       "      <td>...</td>\n",
       "      <td>19.71</td>\n",
       "      <td>21.62</td>\n",
       "      <td>7.0</td>\n",
       "      <td>8.0</td>\n",
       "      <td>47.7</td>\n",
       "      <td>60.0</td>\n",
       "      <td>53.0</td>\n",
       "      <td>90.0</td>\n",
       "      <td>82.0</td>\n",
       "      <td>3210267</td>\n",
       "    </tr>\n",
       "    <tr>\n",
       "      <th>3</th>\n",
       "      <td>Algeria</td>\n",
       "      <td>E4</td>\n",
       "      <td>74.4</td>\n",
       "      <td>7.26</td>\n",
       "      <td>111.7</td>\n",
       "      <td>21.7</td>\n",
       "      <td>7.3</td>\n",
       "      <td>1.97</td>\n",
       "      <td>3.87</td>\n",
       "      <td>64.99</td>\n",
       "      <td>...</td>\n",
       "      <td>20.64</td>\n",
       "      <td>21.45</td>\n",
       "      <td>13.0</td>\n",
       "      <td>6.0</td>\n",
       "      <td>49.0</td>\n",
       "      <td>60.0</td>\n",
       "      <td>47.0</td>\n",
       "      <td>82.0</td>\n",
       "      <td>76.0</td>\n",
       "      <td>3067022</td>\n",
       "    </tr>\n",
       "    <tr>\n",
       "      <th>4</th>\n",
       "      <td>Algeria</td>\n",
       "      <td>E5</td>\n",
       "      <td>74.4</td>\n",
       "      <td>8.32</td>\n",
       "      <td>109.4</td>\n",
       "      <td>10.9</td>\n",
       "      <td>8.0</td>\n",
       "      <td>1.41</td>\n",
       "      <td>3.84</td>\n",
       "      <td>54.09</td>\n",
       "      <td>...</td>\n",
       "      <td>20.64</td>\n",
       "      <td>21.45</td>\n",
       "      <td>7.0</td>\n",
       "      <td>7.0</td>\n",
       "      <td>49.0</td>\n",
       "      <td>64.0</td>\n",
       "      <td>57.0</td>\n",
       "      <td>87.0</td>\n",
       "      <td>80.0</td>\n",
       "      <td>3582739</td>\n",
       "    </tr>\n",
       "  </tbody>\n",
       "</table>\n",
       "<p>5 rows × 86 columns</p>\n",
       "</div>"
      ],
      "text/plain": [
       "   Country Edition  1.1.1) Internet users  \\\n",
       "0  Algeria      E1                   31.9   \n",
       "1  Algeria      E2                   47.3   \n",
       "2  Algeria      E3                   54.2   \n",
       "3  Algeria      E4                   74.4   \n",
       "4  Algeria      E5                   74.4   \n",
       "\n",
       "   1.1.2) Fixed-line broadband subscribers  1.1.3) Mobile subscribers  \\\n",
       "0                                     5.71                      108.8   \n",
       "1                                     7.05                      116.0   \n",
       "2                                     7.76                      110.8   \n",
       "3                                     7.26                      111.7   \n",
       "4                                     8.32                      109.4   \n",
       "\n",
       "   1.1.4) Gender gap in internet access  \\\n",
       "0                                   NaN   \n",
       "1                                  22.0   \n",
       "2                                  11.7   \n",
       "3                                  21.7   \n",
       "4                                  10.9   \n",
       "\n",
       "   1.1.5) Gender gap in mobile phone access  \\\n",
       "0                                       NaN   \n",
       "1                                       7.8   \n",
       "2                                       8.9   \n",
       "3                                       7.3   \n",
       "4                                       8.0   \n",
       "\n",
       "   1.2.1) Average fixed broadband upload speed  \\\n",
       "0                                         1.69   \n",
       "1                                         6.12   \n",
       "2                                         2.59   \n",
       "3                                         1.97   \n",
       "4                                         1.41   \n",
       "\n",
       "   1.2.2) Average fixed broadband download speed  \\\n",
       "0                                           3.39   \n",
       "1                                           7.85   \n",
       "2                                           3.77   \n",
       "3                                           3.87   \n",
       "4                                           3.84   \n",
       "\n",
       "   1.2.3) Average fixed broadband latency  ...  \\\n",
       "0                                   74.00  ...   \n",
       "1                                   76.92  ...   \n",
       "2                                   64.71  ...   \n",
       "3                                   64.99  ...   \n",
       "4                                   54.09  ...   \n",
       "\n",
       "   BG15) Internet users (population)  BG16) Offline population  \\\n",
       "0                              15.23                     24.64   \n",
       "1                              17.44                     23.18   \n",
       "2                              19.71                     21.62   \n",
       "3                              20.64                     21.45   \n",
       "4                              20.64                     21.45   \n",
       "\n",
       "   BG17) Internet access gender gap  BG18) Mobile phone access gender gap  \\\n",
       "0                               NaN                                   NaN   \n",
       "1                              13.0                                   7.0   \n",
       "2                               7.0                                   8.0   \n",
       "3                              13.0                                   6.0   \n",
       "4                               7.0                                   7.0   \n",
       "\n",
       "   BG19) Internet users (percent of population)  BG20) Male internet users  \\\n",
       "0                                          38.2                        NaN   \n",
       "1                                          42.9                       59.0   \n",
       "2                                          47.7                       60.0   \n",
       "3                                          49.0                       60.0   \n",
       "4                                          49.0                       64.0   \n",
       "\n",
       "   BG21) Female internet users  BG22) Male mobile phone subscribers  \\\n",
       "0                          NaN                                 95.5   \n",
       "1                         46.0                                 90.0   \n",
       "2                         53.0                                 90.0   \n",
       "3                         47.0                                 82.0   \n",
       "4                         57.0                                 87.0   \n",
       "\n",
       "   BG23) Female mobile phone subscribers  \\\n",
       "0                                   89.9   \n",
       "1                                   83.0   \n",
       "2                                   82.0   \n",
       "3                                   76.0   \n",
       "4                                   80.0   \n",
       "\n",
       "   BG24) Total fixed line broadband subscribers  \n",
       "0                                       2269348  \n",
       "1                                       2859567  \n",
       "2                                       3210267  \n",
       "3                                       3067022  \n",
       "4                                       3582739  \n",
       "\n",
       "[5 rows x 86 columns]"
      ]
     },
     "execution_count": 2,
     "metadata": {},
     "output_type": "execute_result"
    }
   ],
   "source": [
    "# Study data files\n",
    "internet_data_csv = \"../Resources/Internet_Inclusivity_Index_ Data_table.csv\"\n",
    "\n",
    "# Read the mouse data and the study results\n",
    "internet_data = pd.read_csv(internet_data_csv)\n",
    "\n",
    "# Display the data table for preview\n",
    "internet_data.head()\n"
   ]
  },
  {
   "cell_type": "code",
   "execution_count": 3,
   "metadata": {},
   "outputs": [
    {
     "data": {
      "text/html": [
       "<div>\n",
       "<style scoped>\n",
       "    .dataframe tbody tr th:only-of-type {\n",
       "        vertical-align: middle;\n",
       "    }\n",
       "\n",
       "    .dataframe tbody tr th {\n",
       "        vertical-align: top;\n",
       "    }\n",
       "\n",
       "    .dataframe thead th {\n",
       "        text-align: right;\n",
       "    }\n",
       "</style>\n",
       "<table border=\"1\" class=\"dataframe\">\n",
       "  <thead>\n",
       "    <tr style=\"text-align: right;\">\n",
       "      <th></th>\n",
       "      <th>Country</th>\n",
       "      <th>Year</th>\n",
       "      <th>Population (millions)</th>\n",
       "      <th>Internet users (% of households)</th>\n",
       "      <th>Fixed-line broadband subscribers (per 100 inhabitants)</th>\n",
       "      <th>Mobile subscribers (per 100 inhabitants)</th>\n",
       "      <th>Rural electricity access (%)</th>\n",
       "    </tr>\n",
       "  </thead>\n",
       "  <tbody>\n",
       "    <tr>\n",
       "      <th>0</th>\n",
       "      <td>Algeria</td>\n",
       "      <td>2017</td>\n",
       "      <td>40.6</td>\n",
       "      <td>31.9</td>\n",
       "      <td>5.71</td>\n",
       "      <td>108.8</td>\n",
       "      <td>96.70</td>\n",
       "    </tr>\n",
       "    <tr>\n",
       "      <th>1</th>\n",
       "      <td>Algeria</td>\n",
       "      <td>2018</td>\n",
       "      <td>41.3</td>\n",
       "      <td>47.3</td>\n",
       "      <td>7.05</td>\n",
       "      <td>116.0</td>\n",
       "      <td>96.87</td>\n",
       "    </tr>\n",
       "    <tr>\n",
       "      <th>2</th>\n",
       "      <td>Algeria</td>\n",
       "      <td>2019</td>\n",
       "      <td>42.1</td>\n",
       "      <td>54.2</td>\n",
       "      <td>7.76</td>\n",
       "      <td>110.8</td>\n",
       "      <td>96.87</td>\n",
       "    </tr>\n",
       "    <tr>\n",
       "      <th>3</th>\n",
       "      <td>Algeria</td>\n",
       "      <td>2020</td>\n",
       "      <td>42.9</td>\n",
       "      <td>74.4</td>\n",
       "      <td>7.26</td>\n",
       "      <td>111.7</td>\n",
       "      <td>100.00</td>\n",
       "    </tr>\n",
       "    <tr>\n",
       "      <th>4</th>\n",
       "      <td>Algeria</td>\n",
       "      <td>2021</td>\n",
       "      <td>43.7</td>\n",
       "      <td>74.4</td>\n",
       "      <td>8.32</td>\n",
       "      <td>109.4</td>\n",
       "      <td>96.70</td>\n",
       "    </tr>\n",
       "    <tr>\n",
       "      <th>...</th>\n",
       "      <td>...</td>\n",
       "      <td>...</td>\n",
       "      <td>...</td>\n",
       "      <td>...</td>\n",
       "      <td>...</td>\n",
       "      <td>...</td>\n",
       "      <td>...</td>\n",
       "    </tr>\n",
       "    <tr>\n",
       "      <th>595</th>\n",
       "      <td>Zimbabwe</td>\n",
       "      <td>2017</td>\n",
       "      <td>14.0</td>\n",
       "      <td>21.6</td>\n",
       "      <td>1.19</td>\n",
       "      <td>92.3</td>\n",
       "      <td>20.60</td>\n",
       "    </tr>\n",
       "    <tr>\n",
       "      <th>596</th>\n",
       "      <td>Zimbabwe</td>\n",
       "      <td>2018</td>\n",
       "      <td>14.2</td>\n",
       "      <td>22.1</td>\n",
       "      <td>1.22</td>\n",
       "      <td>91.8</td>\n",
       "      <td>11.00</td>\n",
       "    </tr>\n",
       "    <tr>\n",
       "      <th>597</th>\n",
       "      <td>Zimbabwe</td>\n",
       "      <td>2019</td>\n",
       "      <td>14.4</td>\n",
       "      <td>24.0</td>\n",
       "      <td>1.32</td>\n",
       "      <td>99.0</td>\n",
       "      <td>11.00</td>\n",
       "    </tr>\n",
       "    <tr>\n",
       "      <th>598</th>\n",
       "      <td>Zimbabwe</td>\n",
       "      <td>2020</td>\n",
       "      <td>14.6</td>\n",
       "      <td>30.3</td>\n",
       "      <td>1.41</td>\n",
       "      <td>89.4</td>\n",
       "      <td>11.50</td>\n",
       "    </tr>\n",
       "    <tr>\n",
       "      <th>599</th>\n",
       "      <td>Zimbabwe</td>\n",
       "      <td>2021</td>\n",
       "      <td>14.9</td>\n",
       "      <td>30.3</td>\n",
       "      <td>1.40</td>\n",
       "      <td>90.1</td>\n",
       "      <td>36.20</td>\n",
       "    </tr>\n",
       "  </tbody>\n",
       "</table>\n",
       "<p>600 rows × 7 columns</p>\n",
       "</div>"
      ],
      "text/plain": [
       "      Country  Year  Population (millions)  Internet users (% of households)  \\\n",
       "0     Algeria  2017                   40.6                              31.9   \n",
       "1     Algeria  2018                   41.3                              47.3   \n",
       "2     Algeria  2019                   42.1                              54.2   \n",
       "3     Algeria  2020                   42.9                              74.4   \n",
       "4     Algeria  2021                   43.7                              74.4   \n",
       "..        ...   ...                    ...                               ...   \n",
       "595  Zimbabwe  2017                   14.0                              21.6   \n",
       "596  Zimbabwe  2018                   14.2                              22.1   \n",
       "597  Zimbabwe  2019                   14.4                              24.0   \n",
       "598  Zimbabwe  2020                   14.6                              30.3   \n",
       "599  Zimbabwe  2021                   14.9                              30.3   \n",
       "\n",
       "     Fixed-line broadband subscribers (per 100 inhabitants)  \\\n",
       "0                                                 5.71        \n",
       "1                                                 7.05        \n",
       "2                                                 7.76        \n",
       "3                                                 7.26        \n",
       "4                                                 8.32        \n",
       "..                                                 ...        \n",
       "595                                               1.19        \n",
       "596                                               1.22        \n",
       "597                                               1.32        \n",
       "598                                               1.41        \n",
       "599                                               1.40        \n",
       "\n",
       "     Mobile subscribers (per 100 inhabitants)  Rural electricity access (%)  \n",
       "0                                       108.8                         96.70  \n",
       "1                                       116.0                         96.87  \n",
       "2                                       110.8                         96.87  \n",
       "3                                       111.7                        100.00  \n",
       "4                                       109.4                         96.70  \n",
       "..                                        ...                           ...  \n",
       "595                                      92.3                         20.60  \n",
       "596                                      91.8                         11.00  \n",
       "597                                      99.0                         11.00  \n",
       "598                                      89.4                         11.50  \n",
       "599                                      90.1                         36.20  \n",
       "\n",
       "[600 rows x 7 columns]"
      ]
     },
     "execution_count": 3,
     "metadata": {},
     "output_type": "execute_result"
    }
   ],
   "source": [
    "# Update Edition to Year\n",
    "edition_mapping = {'E1': 2017, 'E2': 2018, 'E3': 2019, 'E4': 2020, 'E5': 2021}\n",
    "\n",
    "# Use the map function to replace values in the 'Edition' column\n",
    "internet_data['Edition'] = internet_data['Edition'].map(edition_mapping)\n",
    "\n",
    "# Rename the 'Edition' column to 'Year'\n",
    "internet_data = internet_data.rename(columns={'Edition': 'Year'})\n",
    "\n",
    "# We only want the last 3 years of data\n",
    "# internet_data = internet_data[internet_data['Year'].isin([2019, 2020, 2021])]\n",
    "\n",
    "# Drop columns we aren't looking to use for this analysis\n",
    "# List columns to keep\n",
    "columns_to_keep = ['Country', 'Year', 'BG2) Population', '1.1.1) Internet users', '1.1.2) Fixed-line broadband subscribers', '1.1.3) Mobile subscribers', '1.4.2) Rural electricity access']\n",
    "\n",
    "# Update the dataframe to just use the columns to keep\n",
    "internet_data = internet_data[columns_to_keep]\n",
    "\n",
    "# Rename the columns to drop the numbers from the beginning\n",
    "new_column_names = ['Country', 'Year', 'Population (millions)', 'Internet users (% of households)', 'Fixed-line broadband subscribers (per 100 inhabitants)', 'Mobile subscribers (per 100 inhabitants)', 'Rural electricity access (%)']\n",
    "internet_data.columns = new_column_names\n",
    "\n",
    "# Test Display\n",
    "internet_data"
   ]
  },
  {
   "cell_type": "code",
   "execution_count": 12,
   "metadata": {},
   "outputs": [
    {
     "data": {
      "text/html": [
       "<div>\n",
       "<style scoped>\n",
       "    .dataframe tbody tr th:only-of-type {\n",
       "        vertical-align: middle;\n",
       "    }\n",
       "\n",
       "    .dataframe tbody tr th {\n",
       "        vertical-align: top;\n",
       "    }\n",
       "\n",
       "    .dataframe thead th {\n",
       "        text-align: right;\n",
       "    }\n",
       "</style>\n",
       "<table border=\"1\" class=\"dataframe\">\n",
       "  <thead>\n",
       "    <tr style=\"text-align: right;\">\n",
       "      <th></th>\n",
       "      <th>Country</th>\n",
       "      <th>Edition</th>\n",
       "      <th>Internet Users</th>\n",
       "      <th>Broadband Subscribers</th>\n",
       "      <th>Mobile Subscribers</th>\n",
       "      <th>2G Coverage</th>\n",
       "      <th>3G Coverage</th>\n",
       "      <th>4G Coverage</th>\n",
       "      <th>Mobile Phone Cost (Prepaid)</th>\n",
       "      <th>Mobile Phone Cose (Postpaid)</th>\n",
       "      <th>Broadband Cost</th>\n",
       "      <th>Population</th>\n",
       "    </tr>\n",
       "  </thead>\n",
       "  <tbody>\n",
       "    <tr>\n",
       "      <th>0</th>\n",
       "      <td>Algeria</td>\n",
       "      <td>2017</td>\n",
       "      <td>31.9</td>\n",
       "      <td>5.71</td>\n",
       "      <td>108.8</td>\n",
       "      <td>99.19</td>\n",
       "      <td>46.00</td>\n",
       "      <td>0.00</td>\n",
       "      <td>5.501</td>\n",
       "      <td>4.914</td>\n",
       "      <td>3.82</td>\n",
       "      <td>40.6</td>\n",
       "    </tr>\n",
       "    <tr>\n",
       "      <th>1</th>\n",
       "      <td>Algeria</td>\n",
       "      <td>2018</td>\n",
       "      <td>47.3</td>\n",
       "      <td>7.05</td>\n",
       "      <td>116.0</td>\n",
       "      <td>98.00</td>\n",
       "      <td>83.36</td>\n",
       "      <td>3.62</td>\n",
       "      <td>5.501</td>\n",
       "      <td>2.007</td>\n",
       "      <td>4.01</td>\n",
       "      <td>41.3</td>\n",
       "    </tr>\n",
       "    <tr>\n",
       "      <th>2</th>\n",
       "      <td>Algeria</td>\n",
       "      <td>2019</td>\n",
       "      <td>54.2</td>\n",
       "      <td>7.76</td>\n",
       "      <td>110.8</td>\n",
       "      <td>98.00</td>\n",
       "      <td>90.00</td>\n",
       "      <td>30.49</td>\n",
       "      <td>2.038</td>\n",
       "      <td>2.207</td>\n",
       "      <td>4.41</td>\n",
       "      <td>42.1</td>\n",
       "    </tr>\n",
       "    <tr>\n",
       "      <th>3</th>\n",
       "      <td>Algeria</td>\n",
       "      <td>2020</td>\n",
       "      <td>74.4</td>\n",
       "      <td>7.26</td>\n",
       "      <td>111.7</td>\n",
       "      <td>98.04</td>\n",
       "      <td>97.45</td>\n",
       "      <td>52.84</td>\n",
       "      <td>1.981</td>\n",
       "      <td>2.207</td>\n",
       "      <td>4.41</td>\n",
       "      <td>42.9</td>\n",
       "    </tr>\n",
       "    <tr>\n",
       "      <th>4</th>\n",
       "      <td>Algeria</td>\n",
       "      <td>2021</td>\n",
       "      <td>74.4</td>\n",
       "      <td>8.32</td>\n",
       "      <td>109.4</td>\n",
       "      <td>98.04</td>\n",
       "      <td>97.72</td>\n",
       "      <td>53.63</td>\n",
       "      <td>2.379</td>\n",
       "      <td>2.207</td>\n",
       "      <td>4.41</td>\n",
       "      <td>43.7</td>\n",
       "    </tr>\n",
       "    <tr>\n",
       "      <th>...</th>\n",
       "      <td>...</td>\n",
       "      <td>...</td>\n",
       "      <td>...</td>\n",
       "      <td>...</td>\n",
       "      <td>...</td>\n",
       "      <td>...</td>\n",
       "      <td>...</td>\n",
       "      <td>...</td>\n",
       "      <td>...</td>\n",
       "      <td>...</td>\n",
       "      <td>...</td>\n",
       "      <td>...</td>\n",
       "    </tr>\n",
       "    <tr>\n",
       "      <th>595</th>\n",
       "      <td>Zimbabwe</td>\n",
       "      <td>2017</td>\n",
       "      <td>21.6</td>\n",
       "      <td>1.19</td>\n",
       "      <td>92.3</td>\n",
       "      <td>88.70</td>\n",
       "      <td>55.10</td>\n",
       "      <td>11.00</td>\n",
       "      <td>44.680</td>\n",
       "      <td>75.000</td>\n",
       "      <td>14.06</td>\n",
       "      <td>14.0</td>\n",
       "    </tr>\n",
       "    <tr>\n",
       "      <th>596</th>\n",
       "      <td>Zimbabwe</td>\n",
       "      <td>2018</td>\n",
       "      <td>22.1</td>\n",
       "      <td>1.22</td>\n",
       "      <td>91.8</td>\n",
       "      <td>88.90</td>\n",
       "      <td>55.25</td>\n",
       "      <td>22.64</td>\n",
       "      <td>32.970</td>\n",
       "      <td>32.558</td>\n",
       "      <td>13.95</td>\n",
       "      <td>14.2</td>\n",
       "    </tr>\n",
       "    <tr>\n",
       "      <th>597</th>\n",
       "      <td>Zimbabwe</td>\n",
       "      <td>2019</td>\n",
       "      <td>24.0</td>\n",
       "      <td>1.32</td>\n",
       "      <td>99.0</td>\n",
       "      <td>90.09</td>\n",
       "      <td>78.20</td>\n",
       "      <td>34.72</td>\n",
       "      <td>19.780</td>\n",
       "      <td>30.882</td>\n",
       "      <td>13.24</td>\n",
       "      <td>14.4</td>\n",
       "    </tr>\n",
       "    <tr>\n",
       "      <th>598</th>\n",
       "      <td>Zimbabwe</td>\n",
       "      <td>2020</td>\n",
       "      <td>30.3</td>\n",
       "      <td>1.41</td>\n",
       "      <td>89.4</td>\n",
       "      <td>93.00</td>\n",
       "      <td>84.00</td>\n",
       "      <td>35.00</td>\n",
       "      <td>10.056</td>\n",
       "      <td>30.882</td>\n",
       "      <td>13.24</td>\n",
       "      <td>14.6</td>\n",
       "    </tr>\n",
       "    <tr>\n",
       "      <th>599</th>\n",
       "      <td>Zimbabwe</td>\n",
       "      <td>2021</td>\n",
       "      <td>30.3</td>\n",
       "      <td>1.40</td>\n",
       "      <td>90.1</td>\n",
       "      <td>93.40</td>\n",
       "      <td>84.20</td>\n",
       "      <td>35.00</td>\n",
       "      <td>10.056</td>\n",
       "      <td>30.882</td>\n",
       "      <td>13.24</td>\n",
       "      <td>14.9</td>\n",
       "    </tr>\n",
       "  </tbody>\n",
       "</table>\n",
       "<p>600 rows × 12 columns</p>\n",
       "</div>"
      ],
      "text/plain": [
       "      Country  Edition  Internet Users  Broadband Subscribers  \\\n",
       "0     Algeria     2017            31.9                   5.71   \n",
       "1     Algeria     2018            47.3                   7.05   \n",
       "2     Algeria     2019            54.2                   7.76   \n",
       "3     Algeria     2020            74.4                   7.26   \n",
       "4     Algeria     2021            74.4                   8.32   \n",
       "..        ...      ...             ...                    ...   \n",
       "595  Zimbabwe     2017            21.6                   1.19   \n",
       "596  Zimbabwe     2018            22.1                   1.22   \n",
       "597  Zimbabwe     2019            24.0                   1.32   \n",
       "598  Zimbabwe     2020            30.3                   1.41   \n",
       "599  Zimbabwe     2021            30.3                   1.40   \n",
       "\n",
       "     Mobile Subscribers  2G Coverage  3G Coverage  4G Coverage  \\\n",
       "0                 108.8        99.19        46.00         0.00   \n",
       "1                 116.0        98.00        83.36         3.62   \n",
       "2                 110.8        98.00        90.00        30.49   \n",
       "3                 111.7        98.04        97.45        52.84   \n",
       "4                 109.4        98.04        97.72        53.63   \n",
       "..                  ...          ...          ...          ...   \n",
       "595                92.3        88.70        55.10        11.00   \n",
       "596                91.8        88.90        55.25        22.64   \n",
       "597                99.0        90.09        78.20        34.72   \n",
       "598                89.4        93.00        84.00        35.00   \n",
       "599                90.1        93.40        84.20        35.00   \n",
       "\n",
       "     Mobile Phone Cost (Prepaid)  Mobile Phone Cose (Postpaid)  \\\n",
       "0                          5.501                         4.914   \n",
       "1                          5.501                         2.007   \n",
       "2                          2.038                         2.207   \n",
       "3                          1.981                         2.207   \n",
       "4                          2.379                         2.207   \n",
       "..                           ...                           ...   \n",
       "595                       44.680                        75.000   \n",
       "596                       32.970                        32.558   \n",
       "597                       19.780                        30.882   \n",
       "598                       10.056                        30.882   \n",
       "599                       10.056                        30.882   \n",
       "\n",
       "     Broadband Cost  Population  \n",
       "0              3.82        40.6  \n",
       "1              4.01        41.3  \n",
       "2              4.41        42.1  \n",
       "3              4.41        42.9  \n",
       "4              4.41        43.7  \n",
       "..              ...         ...  \n",
       "595           14.06        14.0  \n",
       "596           13.95        14.2  \n",
       "597           13.24        14.4  \n",
       "598           13.24        14.6  \n",
       "599           13.24        14.9  \n",
       "\n",
       "[600 rows x 12 columns]"
      ]
     },
     "execution_count": 12,
     "metadata": {},
     "output_type": "execute_result"
    }
   ],
   "source": [
    "data_to_load = Path(\"../Resources/mobile_data_index_breakdown.csv\")\n",
    "\n",
    "internet_adoption_data = pd.read_csv(data_to_load)\n",
    "\n",
    "# Replace 'inf' with NaN and drop rows with NaN \n",
    "internet_data_clean = internet_adoption_data.replace([np.inf, -np.inf], np.nan).dropna()\n",
    "\n",
    "#minor data cleaning - renaming columns\n",
    "new_columns = {'1.1.1) Internet users': 'Internet Users', \n",
    "               '1.1.2) Fixed-line broadband subscribers': 'Broadband Subscribers',\n",
    "               '1.1.3) Mobile subscribers': 'Mobile Subscribers',\n",
    "               '1.3.1) Network coverage (min. 2G)': '2G Coverage',\n",
    "               '1.3.2) Network coverage (min. 3G)': '3G Coverage',\n",
    "               '1.3.3) Network coverage (min. 4G)': '4G Coverage',\n",
    "               '2.1.2) Mobile phone cost (prepaid tariff)': 'Mobile Phone Cost (Prepaid)',\n",
    "               '2.1.3) Mobile phone cost (postpaid tariff)': 'Mobile Phone Cose (Postpaid)',\n",
    "               '2.1.4) Fixed-line monthly broadband cost': 'Broadband Cost',\n",
    "               'BG2) Population': 'Population'\n",
    "              }\n",
    "internet_data_clean.rename(columns=new_columns, inplace=True)\n",
    "\n",
    "internet_data_clean"
   ]
  },
  {
   "cell_type": "code",
   "execution_count": 13,
   "metadata": {},
   "outputs": [],
   "source": [
    "country = internet_data_clean['Country'].unique()"
   ]
  },
  {
   "cell_type": "code",
   "execution_count": 14,
   "metadata": {},
   "outputs": [],
   "source": [
    "#Calculate the total average of population for each country\n",
    "population = internet_data_clean.groupby('Country')['Population'].mean()"
   ]
  },
  {
   "cell_type": "markdown",
   "metadata": {},
   "source": [
    "### Broadband and Mobile Subscribers"
   ]
  },
  {
   "cell_type": "code",
   "execution_count": 15,
   "metadata": {},
   "outputs": [],
   "source": [
    "# Calculate the total mean for each country for broadband\n",
    "clean_broadband = internet_data_clean.groupby('Country')['Broadband Subscribers'].mean()"
   ]
  },
  {
   "cell_type": "code",
   "execution_count": 16,
   "metadata": {},
   "outputs": [],
   "source": [
    "#Normalize the broadband subscribers per population\n",
    "broadband_population = clean_broadband * population / 100"
   ]
  },
  {
   "cell_type": "code",
   "execution_count": 17,
   "metadata": {},
   "outputs": [],
   "source": [
    "# Calculate the total mean for each country for mobile\n",
    "clean_mobile = internet_data_clean.groupby('Country')['Mobile Subscribers'].mean()"
   ]
  },
  {
   "cell_type": "code",
   "execution_count": 18,
   "metadata": {},
   "outputs": [],
   "source": [
    "#Normalize mobile subscribers per population\n",
    "mobile_population = clean_mobile * population / 100"
   ]
  },
  {
   "cell_type": "markdown",
   "metadata": {},
   "source": [
    "### 2g, 3g, 4g, Service"
   ]
  },
  {
   "cell_type": "code",
   "execution_count": 19,
   "metadata": {},
   "outputs": [],
   "source": [
    "# Calculate the total average for each country for 2G\n",
    "twog_data = internet_data_clean.groupby('Country')['2G Coverage'].mean()"
   ]
  },
  {
   "cell_type": "code",
   "execution_count": 20,
   "metadata": {},
   "outputs": [],
   "source": [
    "# Calculate the total average for each country for 3G\n",
    "threeg_data = internet_data_clean.groupby('Country')['3G Coverage'].mean()"
   ]
  },
  {
   "cell_type": "code",
   "execution_count": 21,
   "metadata": {},
   "outputs": [],
   "source": [
    "# Calculate the total average for each country for 4G\n",
    "fourg_data = internet_data_clean.groupby('Country')['4G Coverage'].mean()"
   ]
  },
  {
   "cell_type": "markdown",
   "metadata": {},
   "source": [
    "### Broadband v. Mobile Cost"
   ]
  },
  {
   "cell_type": "code",
   "execution_count": 22,
   "metadata": {},
   "outputs": [],
   "source": [
    "#Calculate broadband cost\n",
    "broadband_cost = internet_data_clean.groupby('Country')['Broadband Cost'].mean()"
   ]
  },
  {
   "cell_type": "code",
   "execution_count": 23,
   "metadata": {},
   "outputs": [],
   "source": [
    "#Calculate mobile phone cost - averaging prepaid and postpaid\n",
    "prepaid = internet_data_clean.groupby('Country')['Mobile Phone Cost (Prepaid)'].mean()\n",
    "postpaid = internet_data_clean.groupby('Country')['Mobile Phone Cose (Postpaid)'].mean()\n",
    "\n",
    "mobile_cost = prepaid * postpaid / 2"
   ]
  },
  {
   "cell_type": "markdown",
   "metadata": {},
   "source": [
    "## Data Summary"
   ]
  },
  {
   "cell_type": "code",
   "execution_count": null,
   "metadata": {},
   "outputs": [],
   "source": [
    "# Combine each of the scores above into single DataFrame\n",
    "internet_summary = pd.DataFrame(\n",
    "    {\n",
    "        \"Country\" : country,\n",
    "        \"Broadband Subscribers\" : broadband_population,\n",
    "        \"Mobile Subscribers\" : mobile_population,\n",
    "        \"2G Coverage\" : twog_data,\n",
    "        \"3G Coverage\" : threeg_data,\n",
    "        \"4G Coverage\" : fourg_data,\n",
    "        \"Broadband Cost (% of GNI)\" : broadband_cost,\n",
    "        \"Mobile Cost (% of GNI)\" : mobile_cost\n",
    "    }\n",
    ")\n",
    "\n",
    "# Minor data wrangling\n",
    "internet_summary = internet_summary.reset_index(drop=True)\n",
    "\n",
    "# Minor data cleaning\n",
    "internet_summary[\"Broadband Subscribers\"] = internet_summary[\"Broadband Subscribers\"].map(\"{:,.2f}\".format)\n",
    "internet_summary[\"Mobile Subscribers\"] = internet_summary[\"Mobile Subscribers\"].map(\"{:,.2f}\".format)\n",
    "internet_summary[\"2G Coverage\"] = internet_summary[\"2G Coverage\"].map(\"{:,.2f}\".format)\n",
    "internet_summary[\"3G Coverage\"] = internet_summary[\"3G Coverage\"].map(\"{:,.2f}\".format)\n",
    "internet_summary[\"4G Coverage\"] = internet_summary[\"4G Coverage\"].map(\"{:,.2f}\".format)\n",
    "internet_summary[\"Broadband Cost (% of GNI)\"] = internet_summary[\"Broadband Cost (% of GNI)\"].map(\"{:,.2f}\".format)\n",
    "internet_summary[\"Mobile Cost (% of GNI)\"] = internet_summary[\"Mobile Cost (% of GNI)\"].map(\"{:,.2f}\".format)\n",
    "\n",
    "#export to CSV\n",
    "internet_summary.to_csv(\"Resources/internet_subscriber_summary_.csv\")\n",
    "\n",
    "# Display the DataFrame\n",
    "internet_summary"
   ]
  },
  {
   "cell_type": "markdown",
   "metadata": {},
   "source": [
    "## Final Data Summary with Lat and Lon"
   ]
  },
  {
   "cell_type": "code",
   "execution_count": null,
   "metadata": {},
   "outputs": [],
   "source": [
    "#Merge Internet Subscriber Summary with Latitude and Longitudes\n",
    "#load the data\n",
    "subscriber_data_to_load = Path(\"Resources/internet_subscriber_summary_.csv\")\n",
    "latlon_data_to_load = Path(\"../Resources/coordinates.csv\")\n",
    "\n",
    "#Read the data\n",
    "subscriber_data = pd.read_csv(subscriber_data_to_load)\n",
    "latlon_data = pd.read_csv(latlon_data_to_load)\n",
    "\n",
    "#Merge the data on the Country dolumn\n",
    "subscriber_data_complete = pd.merge(latlon_data, subscriber_data, how=\"left\", on=[\"Country\", \"Country\"])\n",
    "\n",
    "#Rename two columns\n",
    "new_columns = {'Latitude': 'Lat',\n",
    "               'Longitude': 'Lng'}\n",
    "\n",
    "subscriber_data_complete.rename(columns=new_columns, inplace=True)\n",
    "\n",
    "#Drop an unnecessary column\n",
    "unwanted_column = ['Unnamed: 0']\n",
    "subscriber_data_complete.drop(columns=unwanted_column, inplace=True)\n",
    "\n",
    "#Show\n",
    "subscriber_data_complete"
   ]
  },
  {
   "cell_type": "markdown",
   "metadata": {},
   "source": [
    "### Calculate Rates of Change"
   ]
  },
  {
   "cell_type": "code",
   "execution_count": 4,
   "metadata": {},
   "outputs": [
    {
     "data": {
      "text/html": [
       "<div>\n",
       "<style scoped>\n",
       "    .dataframe tbody tr th:only-of-type {\n",
       "        vertical-align: middle;\n",
       "    }\n",
       "\n",
       "    .dataframe tbody tr th {\n",
       "        vertical-align: top;\n",
       "    }\n",
       "\n",
       "    .dataframe thead th {\n",
       "        text-align: right;\n",
       "    }\n",
       "</style>\n",
       "<table border=\"1\" class=\"dataframe\">\n",
       "  <thead>\n",
       "    <tr style=\"text-align: right;\">\n",
       "      <th></th>\n",
       "      <th>Country</th>\n",
       "      <th>Year</th>\n",
       "      <th>Population (millions)</th>\n",
       "      <th>Rate of Change (%) - Broadband</th>\n",
       "      <th>Rate of Change (%) - Mobile</th>\n",
       "      <th>Rural electricity access (%)</th>\n",
       "    </tr>\n",
       "  </thead>\n",
       "  <tbody>\n",
       "    <tr>\n",
       "      <th>0</th>\n",
       "      <td>Algeria</td>\n",
       "      <td>2018</td>\n",
       "      <td>41.3</td>\n",
       "      <td>23.47</td>\n",
       "      <td>6.62</td>\n",
       "      <td>96.87</td>\n",
       "    </tr>\n",
       "    <tr>\n",
       "      <th>1</th>\n",
       "      <td>Algeria</td>\n",
       "      <td>2019</td>\n",
       "      <td>42.1</td>\n",
       "      <td>10.07</td>\n",
       "      <td>-4.48</td>\n",
       "      <td>96.87</td>\n",
       "    </tr>\n",
       "    <tr>\n",
       "      <th>2</th>\n",
       "      <td>Algeria</td>\n",
       "      <td>2020</td>\n",
       "      <td>42.9</td>\n",
       "      <td>-6.44</td>\n",
       "      <td>0.81</td>\n",
       "      <td>100.00</td>\n",
       "    </tr>\n",
       "    <tr>\n",
       "      <th>3</th>\n",
       "      <td>Algeria</td>\n",
       "      <td>2021</td>\n",
       "      <td>43.7</td>\n",
       "      <td>14.60</td>\n",
       "      <td>-2.06</td>\n",
       "      <td>96.70</td>\n",
       "    </tr>\n",
       "    <tr>\n",
       "      <th>4</th>\n",
       "      <td>Angola</td>\n",
       "      <td>2018</td>\n",
       "      <td>29.8</td>\n",
       "      <td>-47.27</td>\n",
       "      <td>-9.44</td>\n",
       "      <td>5.55</td>\n",
       "    </tr>\n",
       "    <tr>\n",
       "      <th>...</th>\n",
       "      <td>...</td>\n",
       "      <td>...</td>\n",
       "      <td>...</td>\n",
       "      <td>...</td>\n",
       "      <td>...</td>\n",
       "      <td>...</td>\n",
       "    </tr>\n",
       "    <tr>\n",
       "      <th>473</th>\n",
       "      <td>Zambia</td>\n",
       "      <td>2021</td>\n",
       "      <td>18.4</td>\n",
       "      <td>19.05</td>\n",
       "      <td>8.07</td>\n",
       "      <td>6.30</td>\n",
       "    </tr>\n",
       "    <tr>\n",
       "      <th>474</th>\n",
       "      <td>Zimbabwe</td>\n",
       "      <td>2018</td>\n",
       "      <td>14.2</td>\n",
       "      <td>2.52</td>\n",
       "      <td>-0.54</td>\n",
       "      <td>11.00</td>\n",
       "    </tr>\n",
       "    <tr>\n",
       "      <th>475</th>\n",
       "      <td>Zimbabwe</td>\n",
       "      <td>2019</td>\n",
       "      <td>14.4</td>\n",
       "      <td>8.20</td>\n",
       "      <td>7.84</td>\n",
       "      <td>11.00</td>\n",
       "    </tr>\n",
       "    <tr>\n",
       "      <th>476</th>\n",
       "      <td>Zimbabwe</td>\n",
       "      <td>2020</td>\n",
       "      <td>14.6</td>\n",
       "      <td>6.82</td>\n",
       "      <td>-9.70</td>\n",
       "      <td>11.50</td>\n",
       "    </tr>\n",
       "    <tr>\n",
       "      <th>477</th>\n",
       "      <td>Zimbabwe</td>\n",
       "      <td>2021</td>\n",
       "      <td>14.9</td>\n",
       "      <td>-0.71</td>\n",
       "      <td>0.78</td>\n",
       "      <td>36.20</td>\n",
       "    </tr>\n",
       "  </tbody>\n",
       "</table>\n",
       "<p>477 rows × 6 columns</p>\n",
       "</div>"
      ],
      "text/plain": [
       "      Country  Year  Population (millions)  Rate of Change (%) - Broadband  \\\n",
       "0     Algeria  2018                   41.3                           23.47   \n",
       "1     Algeria  2019                   42.1                           10.07   \n",
       "2     Algeria  2020                   42.9                           -6.44   \n",
       "3     Algeria  2021                   43.7                           14.60   \n",
       "4      Angola  2018                   29.8                          -47.27   \n",
       "..        ...   ...                    ...                             ...   \n",
       "473    Zambia  2021                   18.4                           19.05   \n",
       "474  Zimbabwe  2018                   14.2                            2.52   \n",
       "475  Zimbabwe  2019                   14.4                            8.20   \n",
       "476  Zimbabwe  2020                   14.6                            6.82   \n",
       "477  Zimbabwe  2021                   14.9                           -0.71   \n",
       "\n",
       "     Rate of Change (%) - Mobile  Rural electricity access (%)  \n",
       "0                           6.62                         96.87  \n",
       "1                          -4.48                         96.87  \n",
       "2                           0.81                        100.00  \n",
       "3                          -2.06                         96.70  \n",
       "4                          -9.44                          5.55  \n",
       "..                           ...                           ...  \n",
       "473                         8.07                          6.30  \n",
       "474                        -0.54                         11.00  \n",
       "475                         7.84                         11.00  \n",
       "476                        -9.70                         11.50  \n",
       "477                         0.78                         36.20  \n",
       "\n",
       "[477 rows x 6 columns]"
      ]
     },
     "execution_count": 4,
     "metadata": {},
     "output_type": "execute_result"
    }
   ],
   "source": [
    "# Rate of change(%) = (new value - old value)/(old value) * 100\n",
    "\n",
    "# Set up new dataframe\n",
    "internet_adoption_rate = internet_data\n",
    "\n",
    "# Add column for percentage change by country - broadband\n",
    "internet_adoption_rate[\"Rate of Change (%) - Broadband\"] = internet_data.groupby(\"Country\")[\"Fixed-line broadband subscribers (per 100 inhabitants)\"].pct_change().round(4) * 100\n",
    "\n",
    "# Add column for percentage change by country - mobile\n",
    "internet_adoption_rate[\"Rate of Change (%) - Mobile\"] = internet_data.groupby(\"Country\")[\"Mobile subscribers (per 100 inhabitants)\"].pct_change().round(4) * 100\n",
    "\n",
    "# Drop unnecessary rows and columns\n",
    "internet_adoption_rate = internet_adoption_rate.loc[:, ['Country', 'Year', 'Population (millions)', 'Rate of Change (%) - Broadband', 'Rate of Change (%) - Mobile', 'Rural electricity access (%)']].dropna().reset_index(drop=True)\n",
    "\n",
    "# Export CSV of cleaned data with new columns for team analysis\n",
    "#csv_file_path = \"../Resources/internet_adoption_rates_of_change.csv\"\n",
    "#internet_adoption_rate.to_csv(csv_file_path, index=False)\n",
    "#print(f'DataFrame exported to {csv_file_path}')\n",
    "\n",
    "# Replace 'inf' with NaN and drop rows with NaN\n",
    "internet_adoption_rate_clean = internet_adoption_rate.replace([np.inf, -np.inf], np.nan).dropna()\n",
    "\n",
    "# Test Display\n",
    "internet_adoption_rate_clean"
   ]
  },
  {
   "cell_type": "markdown",
   "metadata": {},
   "source": [
    "### Chart Setup - Broadband"
   ]
  },
  {
   "cell_type": "code",
   "execution_count": 5,
   "metadata": {},
   "outputs": [],
   "source": [
    "# Set up data from existing dataframe\n",
    "df = internet_adoption_rate_clean\n",
    "\n",
    "# Create a choropleth map for Broadband rate of change\n",
    "fig_broadband = px.choropleth(\n",
    "    df,\n",
    "    locations='Country',\n",
    "    locationmode='country names',\n",
    "    color='Rate of Change (%) - Broadband',\n",
    "    color_continuous_scale='RdYlGn',\n",
    "    range_color=(-10, 10),\n",
    "    animation_frame='Year',\n",
    "    projection='natural earth',\n",
    "    title='Rate of Change (%) - Broadband',\n",
    ")\n",
    "\n",
    "fig_broadband.update_geos(\n",
    "    showocean=True,\n",
    "    oceancolor='rgba(0,255,255,0.7)',\n",
    "    showland=True,\n",
    "    landcolor='rgba(212,212,212,0.7)',\n",
    "    showcountries=True,\n",
    "    showframe=False,\n",
    ")\n",
    "\n",
    "fig_broadband;"
   ]
  },
  {
   "cell_type": "markdown",
   "metadata": {},
   "source": [
    "### Chart Setup - Mobile"
   ]
  },
  {
   "cell_type": "code",
   "execution_count": 6,
   "metadata": {},
   "outputs": [],
   "source": [
    "# Set up data from existing dataframe\n",
    "df = internet_adoption_rate_clean\n",
    "\n",
    "# Create a choropleth map for Broadband rate of change\n",
    "fig_mobile = px.choropleth(\n",
    "    df,\n",
    "    locations='Country',\n",
    "    locationmode='country names',\n",
    "    color='Rate of Change (%) - Mobile',\n",
    "    color_continuous_scale='RdYlGn',\n",
    "    range_color=(-5, 5),\n",
    "    animation_frame='Year',\n",
    "    projection='natural earth',\n",
    "    title='Rate of Change (%) - Mobile',\n",
    ")\n",
    "\n",
    "fig_mobile.update_geos(\n",
    "    showocean=True,\n",
    "    oceancolor='rgba(0,255,255,0.7)',\n",
    "    showland=True,\n",
    "    landcolor='rgba(212,212,212,0.7)',\n",
    "    showcountries=True,\n",
    "    showframe=False,\n",
    ")\n",
    "\n",
    "fig_mobile;"
   ]
  },
  {
   "cell_type": "markdown",
   "metadata": {},
   "source": [
    "### View Charts Congruently"
   ]
  },
  {
   "cell_type": "code",
   "execution_count": 7,
   "metadata": {},
   "outputs": [
    {
     "data": {
      "application/vnd.plotly.v1+json": {
       "config": {
        "plotlyServerURL": "https://plot.ly"
       },
       "data": [
        {
         "coloraxis": "coloraxis",
         "geo": "geo",
         "hovertemplate": "Year=2018<br>Country=%{location}<br>Rate of Change (%) - Broadband=%{z}<extra></extra>",
         "locationmode": "country names",
         "locations": [
          "Algeria",
          "Angola",
          "Argentina",
          "Australia",
          "Austria",
          "Azerbaijan",
          "Bahrain",
          "Bangladesh",
          "Belgium",
          "Benin",
          "Botswana",
          "Brazil",
          "Bulgaria",
          "Burkina Faso",
          "Burundi",
          "Cambodia",
          "Cameroon",
          "Canada",
          "Chile",
          "China",
          "Colombia",
          "Costa Rica",
          "Côte d'Ivoire",
          "Croatia",
          "Cuba",
          "Czech Republic",
          "Denmark",
          "Dominican Republic",
          "Ecuador",
          "Egypt",
          "El Salvador",
          "Estonia",
          "Ethiopia",
          "Finland",
          "France",
          "Gabon",
          "Germany",
          "Ghana",
          "Greece",
          "Guatemala",
          "Guinea",
          "Honduras",
          "Hong Kong",
          "Hungary",
          "India",
          "Indonesia",
          "Iran",
          "Ireland",
          "Israel",
          "Italy",
          "Jamaica",
          "Japan",
          "Jordan",
          "Kazakhstan",
          "Kenya",
          "Kuwait",
          "Laos",
          "Latvia",
          "Lebanon",
          "Liberia",
          "Lithuania",
          "Madagascar",
          "Malawi",
          "Malaysia",
          "Mali",
          "Mexico",
          "Mongolia",
          "Morocco",
          "Mozambique",
          "Myanmar",
          "Namibia",
          "Nepal",
          "Netherlands",
          "New Zealand",
          "Nicaragua",
          "Niger",
          "Nigeria",
          "Oman",
          "Pakistan",
          "Panama",
          "Papua New Guinea",
          "Paraguay",
          "Peru",
          "Philippines",
          "Poland",
          "Portugal",
          "Qatar",
          "Romania",
          "Russia",
          "Rwanda",
          "Saudi Arabia",
          "Senegal",
          "Sierra Leone",
          "Singapore",
          "Slovakia",
          "South Africa",
          "South Korea",
          "Spain",
          "Sri Lanka",
          "Sudan",
          "Sweden",
          "Switzerland",
          "Taiwan",
          "Tanzania",
          "Thailand",
          "Trinidad & Tobago",
          "Tunisia",
          "Turkey",
          "UAE",
          "Uganda",
          "Ukraine",
          "United Kingdom",
          "United States",
          "Uruguay",
          "Uzbekistan",
          "Venezuela",
          "Vietnam",
          "Zambia",
          "Zimbabwe"
         ],
         "name": "",
         "type": "choropleth",
         "z": [
          23.47,
          -47.27,
          4.71,
          6.52,
          1.9800000000000002,
          -6.13,
          -11.65,
          33.23,
          3.01,
          -69.57,
          56.89999999999999,
          4.569999999999999,
          5.89,
          40,
          0,
          14.81,
          1588.8899999999999,
          1.0699999999999998,
          5.42,
          15.85,
          5.5,
          13.19,
          21.279999999999998,
          6.4399999999999995,
          85.71,
          4.03,
          1.94,
          9.75,
          6.32,
          14.249999999999998,
          11.469999999999999,
          6.1,
          14.89,
          -1.3299999999999998,
          2.69,
          31.580000000000002,
          3.2199999999999998,
          15.379999999999999,
          5.58,
          7.7700000000000005,
          0,
          9.68,
          10.96,
          3.7800000000000002,
          9.3,
          29.87,
          13.54,
          2.91,
          2.2399999999999998,
          4.31,
          24.240000000000002,
          2.6,
          -6.890000000000001,
          0.69,
          -3.5700000000000003,
          79.02,
          63.63999999999999,
          4.37,
          -1.43,
          6.25,
          4.43,
          10,
          66.67,
          -12.45,
          500,
          6.61,
          6.63,
          7.85,
          6.25,
          183.32999999999998,
          -10.2,
          -26.790000000000003,
          2.48,
          4.4799999999999995,
          50.27,
          -71.43,
          500,
          16.09,
          -10,
          33.629999999999995,
          10.530000000000001,
          13.04,
          4.569999999999999,
          1.41,
          0.9900000000000001,
          7.85,
          3.1300000000000003,
          5.1,
          2.21,
          0,
          -1.25,
          -4.35,
          12.24,
          5.94,
          4.82,
          -19.29,
          2.34,
          4.2700000000000005,
          41.81,
          0,
          4.5,
          1.03,
          0.25,
          185.71,
          15.440000000000001,
          -8.76,
          10.33,
          8.68,
          3.9800000000000004,
          9.520000000000001,
          3.35,
          2.59,
          2.76,
          1.97,
          51.04,
          1.7399999999999998,
          17.68,
          26.669999999999998,
          2.52
         ]
        }
       ],
       "frames": [
        {
         "data": [
          {
           "coloraxis": "coloraxis",
           "geo": "geo",
           "hovertemplate": "Year=2018<br>Country=%{location}<br>Rate of Change (%) - Broadband=%{z}<extra></extra>",
           "locationmode": "country names",
           "locations": [
            "Algeria",
            "Angola",
            "Argentina",
            "Australia",
            "Austria",
            "Azerbaijan",
            "Bahrain",
            "Bangladesh",
            "Belgium",
            "Benin",
            "Botswana",
            "Brazil",
            "Bulgaria",
            "Burkina Faso",
            "Burundi",
            "Cambodia",
            "Cameroon",
            "Canada",
            "Chile",
            "China",
            "Colombia",
            "Costa Rica",
            "Côte d'Ivoire",
            "Croatia",
            "Cuba",
            "Czech Republic",
            "Denmark",
            "Dominican Republic",
            "Ecuador",
            "Egypt",
            "El Salvador",
            "Estonia",
            "Ethiopia",
            "Finland",
            "France",
            "Gabon",
            "Germany",
            "Ghana",
            "Greece",
            "Guatemala",
            "Guinea",
            "Honduras",
            "Hong Kong",
            "Hungary",
            "India",
            "Indonesia",
            "Iran",
            "Ireland",
            "Israel",
            "Italy",
            "Jamaica",
            "Japan",
            "Jordan",
            "Kazakhstan",
            "Kenya",
            "Kuwait",
            "Laos",
            "Latvia",
            "Lebanon",
            "Liberia",
            "Lithuania",
            "Madagascar",
            "Malawi",
            "Malaysia",
            "Mali",
            "Mexico",
            "Mongolia",
            "Morocco",
            "Mozambique",
            "Myanmar",
            "Namibia",
            "Nepal",
            "Netherlands",
            "New Zealand",
            "Nicaragua",
            "Niger",
            "Nigeria",
            "Oman",
            "Pakistan",
            "Panama",
            "Papua New Guinea",
            "Paraguay",
            "Peru",
            "Philippines",
            "Poland",
            "Portugal",
            "Qatar",
            "Romania",
            "Russia",
            "Rwanda",
            "Saudi Arabia",
            "Senegal",
            "Sierra Leone",
            "Singapore",
            "Slovakia",
            "South Africa",
            "South Korea",
            "Spain",
            "Sri Lanka",
            "Sudan",
            "Sweden",
            "Switzerland",
            "Taiwan",
            "Tanzania",
            "Thailand",
            "Trinidad & Tobago",
            "Tunisia",
            "Turkey",
            "UAE",
            "Uganda",
            "Ukraine",
            "United Kingdom",
            "United States",
            "Uruguay",
            "Uzbekistan",
            "Venezuela",
            "Vietnam",
            "Zambia",
            "Zimbabwe"
           ],
           "name": "",
           "type": "choropleth",
           "z": [
            23.47,
            -47.27,
            4.71,
            6.52,
            1.9800000000000002,
            -6.13,
            -11.65,
            33.23,
            3.01,
            -69.57,
            56.89999999999999,
            4.569999999999999,
            5.89,
            40,
            0,
            14.81,
            1588.8899999999999,
            1.0699999999999998,
            5.42,
            15.85,
            5.5,
            13.19,
            21.279999999999998,
            6.4399999999999995,
            85.71,
            4.03,
            1.94,
            9.75,
            6.32,
            14.249999999999998,
            11.469999999999999,
            6.1,
            14.89,
            -1.3299999999999998,
            2.69,
            31.580000000000002,
            3.2199999999999998,
            15.379999999999999,
            5.58,
            7.7700000000000005,
            0,
            9.68,
            10.96,
            3.7800000000000002,
            9.3,
            29.87,
            13.54,
            2.91,
            2.2399999999999998,
            4.31,
            24.240000000000002,
            2.6,
            -6.890000000000001,
            0.69,
            -3.5700000000000003,
            79.02,
            63.63999999999999,
            4.37,
            -1.43,
            6.25,
            4.43,
            10,
            66.67,
            -12.45,
            500,
            6.61,
            6.63,
            7.85,
            6.25,
            183.32999999999998,
            -10.2,
            -26.790000000000003,
            2.48,
            4.4799999999999995,
            50.27,
            -71.43,
            500,
            16.09,
            -10,
            33.629999999999995,
            10.530000000000001,
            13.04,
            4.569999999999999,
            1.41,
            0.9900000000000001,
            7.85,
            3.1300000000000003,
            5.1,
            2.21,
            0,
            -1.25,
            -4.35,
            12.24,
            5.94,
            4.82,
            -19.29,
            2.34,
            4.2700000000000005,
            41.81,
            0,
            4.5,
            1.03,
            0.25,
            185.71,
            15.440000000000001,
            -8.76,
            10.33,
            8.68,
            3.9800000000000004,
            9.520000000000001,
            3.35,
            2.59,
            2.76,
            1.97,
            51.04,
            1.7399999999999998,
            17.68,
            26.669999999999998,
            2.52
           ]
          }
         ],
         "name": "2018"
        },
        {
         "data": [
          {
           "coloraxis": "coloraxis",
           "geo": "geo",
           "hovertemplate": "Year=2019<br>Country=%{location}<br>Rate of Change (%) - Broadband=%{z}<extra></extra>",
           "locationmode": "country names",
           "locations": [
            "Algeria",
            "Angola",
            "Argentina",
            "Australia",
            "Austria",
            "Azerbaijan",
            "Bahrain",
            "Bangladesh",
            "Belgium",
            "Benin",
            "Botswana",
            "Brazil",
            "Bulgaria",
            "Burkina Faso",
            "Burundi",
            "Cambodia",
            "Cameroon",
            "Canada",
            "Chile",
            "China",
            "Colombia",
            "Costa Rica",
            "Côte d'Ivoire",
            "Croatia",
            "Cuba",
            "Czech Republic",
            "Denmark",
            "Dominican Republic",
            "Ecuador",
            "Egypt",
            "El Salvador",
            "Estonia",
            "Ethiopia",
            "Finland",
            "France",
            "Gabon",
            "Germany",
            "Ghana",
            "Greece",
            "Guatemala",
            "Guinea",
            "Honduras",
            "Hong Kong",
            "Hungary",
            "India",
            "Indonesia",
            "Iran",
            "Ireland",
            "Israel",
            "Italy",
            "Jamaica",
            "Japan",
            "Jordan",
            "Kazakhstan",
            "Kenya",
            "Kuwait",
            "Laos",
            "Latvia",
            "Lebanon",
            "Liberia",
            "Lithuania",
            "Madagascar",
            "Malawi",
            "Malaysia",
            "Mali",
            "Mexico",
            "Mongolia",
            "Morocco",
            "Mozambique",
            "Myanmar",
            "Namibia",
            "Nepal",
            "Netherlands",
            "New Zealand",
            "Nicaragua",
            "Niger",
            "Nigeria",
            "Oman",
            "Pakistan",
            "Panama",
            "Papua New Guinea",
            "Paraguay",
            "Peru",
            "Philippines",
            "Poland",
            "Portugal",
            "Qatar",
            "Romania",
            "Russia",
            "Rwanda",
            "Saudi Arabia",
            "Senegal",
            "Sierra Leone",
            "Singapore",
            "Slovakia",
            "South Africa",
            "South Korea",
            "Spain",
            "Sri Lanka",
            "Sudan",
            "Sweden",
            "Switzerland",
            "Taiwan",
            "Tanzania",
            "Thailand",
            "Trinidad & Tobago",
            "Tunisia",
            "Turkey",
            "UAE",
            "Uganda",
            "Ukraine",
            "United Kingdom",
            "United States",
            "Uruguay",
            "Uzbekistan",
            "Venezuela",
            "Vietnam",
            "Zambia",
            "Zimbabwe"
           ],
           "name": "",
           "type": "choropleth",
           "z": [
            10.07,
            13.79,
            7.08,
            6.02,
            -1.32,
            -1.03,
            -20.25,
            9.59,
            1.97,
            23.810000000000002,
            -46.150000000000006,
            6.75,
            6.569999999999999,
            -14.29,
            33.33,
            33.87,
            2.63,
            3.04,
            3.95,
            21.61,
            5.46,
            15.260000000000002,
            1.7500000000000002,
            5.65,
            130.77,
            2.2800000000000002,
            1.67,
            6.69,
            8.61,
            14.799999999999999,
            13.5,
            3.1399999999999997,
            -88.89,
            -0.35000000000000003,
            2.62,
            -4,
            3.7699999999999996,
            -33.33,
            4.96,
            2.9499999999999997,
            0,
            6.3,
            0.36,
            5.3,
            -5.67,
            17.5,
            11.51,
            1.59,
            2.01,
            6.550000000000001,
            -16.77,
            2.02,
            9,
            8.12,
            111.11,
            13.28,
            8.33,
            2.55,
            0,
            11.76,
            -5.42,
            -9.09,
            20,
            -2.48,
            -33.33,
            5.5,
            23.78,
            8.68,
            29.409999999999997,
            23.53,
            0.37,
            121.95,
            0.7100000000000001,
            2.5,
            17.080000000000002,
            0,
            0,
            17.8,
            8.64,
            0.8500000000000001,
            0,
            16.21,
            7.140000000000001,
            12.15,
            4.25,
            6.2700000000000005,
            -1.46,
            7.61,
            12.770000000000001,
            -5.26,
            1.9300000000000002,
            10.61,
            -1.82,
            -8.200000000000001,
            5.01,
            -3.9,
            2.88,
            3.9,
            36.32,
            0,
            4.04,
            2.8000000000000003,
            0.25,
            133.32999999999998,
            13.28,
            27.279999999999998,
            23.849999999999998,
            11.790000000000001,
            110.03,
            -91.3,
            2.6599999999999997,
            1.59,
            1.68,
            3.05,
            19.009999999999998,
            1.26,
            22.53,
            10.530000000000001,
            8.200000000000001
           ]
          }
         ],
         "name": "2019"
        },
        {
         "data": [
          {
           "coloraxis": "coloraxis",
           "geo": "geo",
           "hovertemplate": "Year=2020<br>Country=%{location}<br>Rate of Change (%) - Broadband=%{z}<extra></extra>",
           "locationmode": "country names",
           "locations": [
            "Algeria",
            "Angola",
            "Argentina",
            "Australia",
            "Austria",
            "Azerbaijan",
            "Bahrain",
            "Bangladesh",
            "Belgium",
            "Benin",
            "Botswana",
            "Brazil",
            "Bulgaria",
            "Burkina Faso",
            "Burundi",
            "Cambodia",
            "Cameroon",
            "Canada",
            "Chile",
            "China",
            "Colombia",
            "Costa Rica",
            "Côte d'Ivoire",
            "Croatia",
            "Cuba",
            "Czech Republic",
            "Denmark",
            "Dominican Republic",
            "Ecuador",
            "Egypt",
            "El Salvador",
            "Estonia",
            "Ethiopia",
            "Finland",
            "France",
            "Gabon",
            "Germany",
            "Ghana",
            "Greece",
            "Guatemala",
            "Guinea",
            "Honduras",
            "Hong Kong",
            "Hungary",
            "India",
            "Indonesia",
            "Iran",
            "Ireland",
            "Israel",
            "Italy",
            "Jamaica",
            "Japan",
            "Jordan",
            "Kazakhstan",
            "Kenya",
            "Kuwait",
            "Laos",
            "Latvia",
            "Lebanon",
            "Liberia",
            "Lithuania",
            "Madagascar",
            "Malawi",
            "Malaysia",
            "Mali",
            "Mexico",
            "Mongolia",
            "Morocco",
            "Mozambique",
            "Myanmar",
            "Namibia",
            "Nepal",
            "Netherlands",
            "New Zealand",
            "Nicaragua",
            "Niger",
            "Nigeria",
            "Oman",
            "Pakistan",
            "Panama",
            "Papua New Guinea",
            "Paraguay",
            "Peru",
            "Philippines",
            "Poland",
            "Portugal",
            "Qatar",
            "Romania",
            "Russia",
            "Rwanda",
            "Saudi Arabia",
            "Senegal",
            "Sierra Leone",
            "Singapore",
            "Slovakia",
            "South Africa",
            "South Korea",
            "Spain",
            "Sri Lanka",
            "Sudan",
            "Sweden",
            "Switzerland",
            "Taiwan",
            "Tanzania",
            "Thailand",
            "Trinidad & Tobago",
            "Tunisia",
            "Turkey",
            "UAE",
            "Uganda",
            "Ukraine",
            "United Kingdom",
            "United States",
            "Uruguay",
            "Uzbekistan",
            "Venezuela",
            "Vietnam",
            "Zambia",
            "Zimbabwe"
           ],
           "name": "",
           "type": "choropleth",
           "z": [
            -6.4399999999999995,
            9.09,
            7.000000000000001,
            5.06,
            -0.42,
            3.65,
            -38.080000000000005,
            9.19,
            2.27,
            -7.6899999999999995,
            21.09,
            7.19,
            6.72,
            16.669999999999998,
            0,
            22.89,
            0.64,
            2.77,
            4.7,
            2.88,
            3.94,
            11.110000000000001,
            20.69,
            3.63,
            190,
            2.1999999999999997,
            0.62,
            5.76,
            7.920000000000001,
            23.94,
            8.64,
            2.71,
            0,
            1.35,
            1.96,
            90.28,
            2.21,
            5,
            5.3100000000000005,
            0,
            0,
            46.25,
            1.24,
            4.38,
            0.75,
            41.28,
            19.23,
            0.8500000000000001,
            2.25,
            2.93,
            18.44,
            2.6100000000000003,
            18.29,
            -5.680000000000001,
            26.32,
            -13.450000000000001,
            64.1,
            1.15,
            -99.28,
            0,
            0.32,
            0,
            0,
            -1.04,
            687.5,
            6.83,
            5.46,
            11.08,
            9.09,
            14.29,
            -7.66,
            54.949999999999996,
            1.38,
            3.1199999999999997,
            -9.42,
            0,
            -33.33,
            22.59,
            -3.4099999999999997,
            20.39,
            0,
            8.98,
            7.89,
            9.91,
            2.93,
            6.22,
            2.23,
            7.85,
            2.9499999999999997,
            -66.67,
            0.7000000000000001,
            12.33,
            25.929999999999996,
            0.35000000000000003,
            7.21,
            -2.54,
            0.29,
            3.37,
            25.779999999999998,
            14.29,
            1.5699999999999998,
            -1.6400000000000001,
            0,
            9.29,
            11.64,
            4.279999999999999,
            25.11,
            10.75,
            7.870000000000001,
            0,
            3.64,
            1.46,
            1.83,
            2.16,
            22.23,
            1.69,
            14.19,
            100,
            6.819999999999999
           ]
          }
         ],
         "name": "2020"
        },
        {
         "data": [
          {
           "coloraxis": "coloraxis",
           "geo": "geo",
           "hovertemplate": "Year=2021<br>Country=%{location}<br>Rate of Change (%) - Broadband=%{z}<extra></extra>",
           "locationmode": "country names",
           "locations": [
            "Algeria",
            "Angola",
            "Argentina",
            "Australia",
            "Austria",
            "Azerbaijan",
            "Bahrain",
            "Bangladesh",
            "Belgium",
            "Benin",
            "Botswana",
            "Brazil",
            "Bulgaria",
            "Burkina Faso",
            "Burundi",
            "Cambodia",
            "Cameroon",
            "Canada",
            "Chile",
            "China",
            "Colombia",
            "Congo (DRC)",
            "Costa Rica",
            "Côte d'Ivoire",
            "Croatia",
            "Cuba",
            "Czech Republic",
            "Denmark",
            "Dominican Republic",
            "Ecuador",
            "Egypt",
            "El Salvador",
            "Estonia",
            "Ethiopia",
            "Finland",
            "France",
            "Gabon",
            "Germany",
            "Ghana",
            "Greece",
            "Guatemala",
            "Guinea",
            "Honduras",
            "Hong Kong",
            "Hungary",
            "India",
            "Indonesia",
            "Iran",
            "Ireland",
            "Israel",
            "Italy",
            "Jamaica",
            "Japan",
            "Jordan",
            "Kazakhstan",
            "Kenya",
            "Kuwait",
            "Laos",
            "Latvia",
            "Lebanon",
            "Liberia",
            "Lithuania",
            "Madagascar",
            "Malawi",
            "Malaysia",
            "Mali",
            "Mexico",
            "Mongolia",
            "Morocco",
            "Mozambique",
            "Myanmar",
            "Namibia",
            "Nepal",
            "Netherlands",
            "New Zealand",
            "Nicaragua",
            "Niger",
            "Nigeria",
            "Oman",
            "Pakistan",
            "Panama",
            "Papua New Guinea",
            "Paraguay",
            "Peru",
            "Philippines",
            "Poland",
            "Portugal",
            "Qatar",
            "Romania",
            "Russia",
            "Rwanda",
            "Saudi Arabia",
            "Senegal",
            "Sierra Leone",
            "Singapore",
            "Slovakia",
            "South Africa",
            "South Korea",
            "Spain",
            "Sri Lanka",
            "Sudan",
            "Sweden",
            "Switzerland",
            "Taiwan",
            "Tanzania",
            "Thailand",
            "Trinidad & Tobago",
            "Tunisia",
            "Turkey",
            "UAE",
            "Uganda",
            "Ukraine",
            "United Kingdom",
            "United States",
            "Uruguay",
            "Uzbekistan",
            "Venezuela",
            "Vietnam",
            "Zambia",
            "Zimbabwe"
           ],
           "name": "",
           "type": "choropleth",
           "z": [
            14.6,
            2.78,
            2.83,
            2.6,
            -0.7799999999999999,
            1.7399999999999998,
            6.710000000000001,
            -0.6,
            1.43,
            -12.5,
            20.22,
            4.63,
            6.59,
            -14.29,
            -25,
            9.8,
            -1.27,
            4.8,
            4.21,
            9.81,
            2.68,
            0,
            7.31,
            20,
            2.98,
            85.06,
            15.75,
            -0.32,
            7.26,
            5.24,
            12.479999999999999,
            0,
            -2.46,
            0,
            3.2800000000000002,
            2.03,
            -24.82,
            2.1399999999999997,
            -9.520000000000001,
            5.2299999999999995,
            0,
            0,
            8.38,
            2.42,
            3.85,
            4.4799999999999995,
            14.46,
            -16.76,
            0.91,
            0.24,
            2.52,
            11.129999999999999,
            2.7,
            12.97,
            0.74,
            29.17,
            -19.919999999999998,
            65.62,
            -2.16,
            4278.57,
            0,
            1.8800000000000001,
            0,
            0,
            8.540000000000001,
            15.870000000000001,
            4.26,
            1.8599999999999999,
            11.37,
            -4.17,
            0,
            0.4,
            0,
            0.48,
            0,
            11.41,
            0,
            0,
            11.67,
            -4.71,
            -4.64,
            0,
            16.27,
            0,
            54.37,
            -0.77,
            5.1499999999999995,
            4.36,
            4.45,
            2.36,
            16.669999999999998,
            -1.9300000000000002,
            13.41,
            -4.41,
            -0.12,
            5.06,
            11.459999999999999,
            2.79,
            2.8000000000000003,
            7.430000000000001,
            0,
            1.7999999999999998,
            2.94,
            1.66,
            16.99,
            9.67,
            -1.18,
            16.31,
            4.79,
            -0.73,
            0,
            26.25,
            0.18,
            2.45,
            3.2099999999999995,
            9.76,
            -0.44,
            12.870000000000001,
            19.05,
            -0.7100000000000001
           ]
          }
         ],
         "name": "2021"
        }
       ],
       "layout": {
        "coloraxis": {
         "cmax": 10,
         "cmin": -10,
         "colorbar": {
          "title": {
           "text": "Rate of Change (%) - Broadband"
          }
         },
         "colorscale": [
          [
           0,
           "rgb(165,0,38)"
          ],
          [
           0.1,
           "rgb(215,48,39)"
          ],
          [
           0.2,
           "rgb(244,109,67)"
          ],
          [
           0.3,
           "rgb(253,174,97)"
          ],
          [
           0.4,
           "rgb(254,224,139)"
          ],
          [
           0.5,
           "rgb(255,255,191)"
          ],
          [
           0.6,
           "rgb(217,239,139)"
          ],
          [
           0.7,
           "rgb(166,217,106)"
          ],
          [
           0.8,
           "rgb(102,189,99)"
          ],
          [
           0.9,
           "rgb(26,152,80)"
          ],
          [
           1,
           "rgb(0,104,55)"
          ]
         ]
        },
        "geo": {
         "center": {},
         "domain": {
          "x": [
           0,
           1
          ],
          "y": [
           0,
           1
          ]
         },
         "landcolor": "rgba(212,212,212,0.7)",
         "oceancolor": "rgba(0,255,255,0.7)",
         "projection": {
          "type": "natural earth"
         },
         "showcountries": true,
         "showframe": false,
         "showland": true,
         "showocean": true
        },
        "legend": {
         "tracegroupgap": 0
        },
        "sliders": [
         {
          "active": 0,
          "currentvalue": {
           "prefix": "Year="
          },
          "len": 0.9,
          "pad": {
           "b": 10,
           "t": 60
          },
          "steps": [
           {
            "args": [
             [
              "2018"
             ],
             {
              "frame": {
               "duration": 0,
               "redraw": true
              },
              "fromcurrent": true,
              "mode": "immediate",
              "transition": {
               "duration": 0,
               "easing": "linear"
              }
             }
            ],
            "label": "2018",
            "method": "animate"
           },
           {
            "args": [
             [
              "2019"
             ],
             {
              "frame": {
               "duration": 0,
               "redraw": true
              },
              "fromcurrent": true,
              "mode": "immediate",
              "transition": {
               "duration": 0,
               "easing": "linear"
              }
             }
            ],
            "label": "2019",
            "method": "animate"
           },
           {
            "args": [
             [
              "2020"
             ],
             {
              "frame": {
               "duration": 0,
               "redraw": true
              },
              "fromcurrent": true,
              "mode": "immediate",
              "transition": {
               "duration": 0,
               "easing": "linear"
              }
             }
            ],
            "label": "2020",
            "method": "animate"
           },
           {
            "args": [
             [
              "2021"
             ],
             {
              "frame": {
               "duration": 0,
               "redraw": true
              },
              "fromcurrent": true,
              "mode": "immediate",
              "transition": {
               "duration": 0,
               "easing": "linear"
              }
             }
            ],
            "label": "2021",
            "method": "animate"
           }
          ],
          "x": 0.1,
          "xanchor": "left",
          "y": 0,
          "yanchor": "top"
         }
        ],
        "template": {
         "data": {
          "bar": [
           {
            "error_x": {
             "color": "#2a3f5f"
            },
            "error_y": {
             "color": "#2a3f5f"
            },
            "marker": {
             "line": {
              "color": "#E5ECF6",
              "width": 0.5
             },
             "pattern": {
              "fillmode": "overlay",
              "size": 10,
              "solidity": 0.2
             }
            },
            "type": "bar"
           }
          ],
          "barpolar": [
           {
            "marker": {
             "line": {
              "color": "#E5ECF6",
              "width": 0.5
             },
             "pattern": {
              "fillmode": "overlay",
              "size": 10,
              "solidity": 0.2
             }
            },
            "type": "barpolar"
           }
          ],
          "carpet": [
           {
            "aaxis": {
             "endlinecolor": "#2a3f5f",
             "gridcolor": "white",
             "linecolor": "white",
             "minorgridcolor": "white",
             "startlinecolor": "#2a3f5f"
            },
            "baxis": {
             "endlinecolor": "#2a3f5f",
             "gridcolor": "white",
             "linecolor": "white",
             "minorgridcolor": "white",
             "startlinecolor": "#2a3f5f"
            },
            "type": "carpet"
           }
          ],
          "choropleth": [
           {
            "colorbar": {
             "outlinewidth": 0,
             "ticks": ""
            },
            "type": "choropleth"
           }
          ],
          "contour": [
           {
            "colorbar": {
             "outlinewidth": 0,
             "ticks": ""
            },
            "colorscale": [
             [
              0,
              "#0d0887"
             ],
             [
              0.1111111111111111,
              "#46039f"
             ],
             [
              0.2222222222222222,
              "#7201a8"
             ],
             [
              0.3333333333333333,
              "#9c179e"
             ],
             [
              0.4444444444444444,
              "#bd3786"
             ],
             [
              0.5555555555555556,
              "#d8576b"
             ],
             [
              0.6666666666666666,
              "#ed7953"
             ],
             [
              0.7777777777777778,
              "#fb9f3a"
             ],
             [
              0.8888888888888888,
              "#fdca26"
             ],
             [
              1,
              "#f0f921"
             ]
            ],
            "type": "contour"
           }
          ],
          "contourcarpet": [
           {
            "colorbar": {
             "outlinewidth": 0,
             "ticks": ""
            },
            "type": "contourcarpet"
           }
          ],
          "heatmap": [
           {
            "colorbar": {
             "outlinewidth": 0,
             "ticks": ""
            },
            "colorscale": [
             [
              0,
              "#0d0887"
             ],
             [
              0.1111111111111111,
              "#46039f"
             ],
             [
              0.2222222222222222,
              "#7201a8"
             ],
             [
              0.3333333333333333,
              "#9c179e"
             ],
             [
              0.4444444444444444,
              "#bd3786"
             ],
             [
              0.5555555555555556,
              "#d8576b"
             ],
             [
              0.6666666666666666,
              "#ed7953"
             ],
             [
              0.7777777777777778,
              "#fb9f3a"
             ],
             [
              0.8888888888888888,
              "#fdca26"
             ],
             [
              1,
              "#f0f921"
             ]
            ],
            "type": "heatmap"
           }
          ],
          "heatmapgl": [
           {
            "colorbar": {
             "outlinewidth": 0,
             "ticks": ""
            },
            "colorscale": [
             [
              0,
              "#0d0887"
             ],
             [
              0.1111111111111111,
              "#46039f"
             ],
             [
              0.2222222222222222,
              "#7201a8"
             ],
             [
              0.3333333333333333,
              "#9c179e"
             ],
             [
              0.4444444444444444,
              "#bd3786"
             ],
             [
              0.5555555555555556,
              "#d8576b"
             ],
             [
              0.6666666666666666,
              "#ed7953"
             ],
             [
              0.7777777777777778,
              "#fb9f3a"
             ],
             [
              0.8888888888888888,
              "#fdca26"
             ],
             [
              1,
              "#f0f921"
             ]
            ],
            "type": "heatmapgl"
           }
          ],
          "histogram": [
           {
            "marker": {
             "pattern": {
              "fillmode": "overlay",
              "size": 10,
              "solidity": 0.2
             }
            },
            "type": "histogram"
           }
          ],
          "histogram2d": [
           {
            "colorbar": {
             "outlinewidth": 0,
             "ticks": ""
            },
            "colorscale": [
             [
              0,
              "#0d0887"
             ],
             [
              0.1111111111111111,
              "#46039f"
             ],
             [
              0.2222222222222222,
              "#7201a8"
             ],
             [
              0.3333333333333333,
              "#9c179e"
             ],
             [
              0.4444444444444444,
              "#bd3786"
             ],
             [
              0.5555555555555556,
              "#d8576b"
             ],
             [
              0.6666666666666666,
              "#ed7953"
             ],
             [
              0.7777777777777778,
              "#fb9f3a"
             ],
             [
              0.8888888888888888,
              "#fdca26"
             ],
             [
              1,
              "#f0f921"
             ]
            ],
            "type": "histogram2d"
           }
          ],
          "histogram2dcontour": [
           {
            "colorbar": {
             "outlinewidth": 0,
             "ticks": ""
            },
            "colorscale": [
             [
              0,
              "#0d0887"
             ],
             [
              0.1111111111111111,
              "#46039f"
             ],
             [
              0.2222222222222222,
              "#7201a8"
             ],
             [
              0.3333333333333333,
              "#9c179e"
             ],
             [
              0.4444444444444444,
              "#bd3786"
             ],
             [
              0.5555555555555556,
              "#d8576b"
             ],
             [
              0.6666666666666666,
              "#ed7953"
             ],
             [
              0.7777777777777778,
              "#fb9f3a"
             ],
             [
              0.8888888888888888,
              "#fdca26"
             ],
             [
              1,
              "#f0f921"
             ]
            ],
            "type": "histogram2dcontour"
           }
          ],
          "mesh3d": [
           {
            "colorbar": {
             "outlinewidth": 0,
             "ticks": ""
            },
            "type": "mesh3d"
           }
          ],
          "parcoords": [
           {
            "line": {
             "colorbar": {
              "outlinewidth": 0,
              "ticks": ""
             }
            },
            "type": "parcoords"
           }
          ],
          "pie": [
           {
            "automargin": true,
            "type": "pie"
           }
          ],
          "scatter": [
           {
            "fillpattern": {
             "fillmode": "overlay",
             "size": 10,
             "solidity": 0.2
            },
            "type": "scatter"
           }
          ],
          "scatter3d": [
           {
            "line": {
             "colorbar": {
              "outlinewidth": 0,
              "ticks": ""
             }
            },
            "marker": {
             "colorbar": {
              "outlinewidth": 0,
              "ticks": ""
             }
            },
            "type": "scatter3d"
           }
          ],
          "scattercarpet": [
           {
            "marker": {
             "colorbar": {
              "outlinewidth": 0,
              "ticks": ""
             }
            },
            "type": "scattercarpet"
           }
          ],
          "scattergeo": [
           {
            "marker": {
             "colorbar": {
              "outlinewidth": 0,
              "ticks": ""
             }
            },
            "type": "scattergeo"
           }
          ],
          "scattergl": [
           {
            "marker": {
             "colorbar": {
              "outlinewidth": 0,
              "ticks": ""
             }
            },
            "type": "scattergl"
           }
          ],
          "scattermapbox": [
           {
            "marker": {
             "colorbar": {
              "outlinewidth": 0,
              "ticks": ""
             }
            },
            "type": "scattermapbox"
           }
          ],
          "scatterpolar": [
           {
            "marker": {
             "colorbar": {
              "outlinewidth": 0,
              "ticks": ""
             }
            },
            "type": "scatterpolar"
           }
          ],
          "scatterpolargl": [
           {
            "marker": {
             "colorbar": {
              "outlinewidth": 0,
              "ticks": ""
             }
            },
            "type": "scatterpolargl"
           }
          ],
          "scatterternary": [
           {
            "marker": {
             "colorbar": {
              "outlinewidth": 0,
              "ticks": ""
             }
            },
            "type": "scatterternary"
           }
          ],
          "surface": [
           {
            "colorbar": {
             "outlinewidth": 0,
             "ticks": ""
            },
            "colorscale": [
             [
              0,
              "#0d0887"
             ],
             [
              0.1111111111111111,
              "#46039f"
             ],
             [
              0.2222222222222222,
              "#7201a8"
             ],
             [
              0.3333333333333333,
              "#9c179e"
             ],
             [
              0.4444444444444444,
              "#bd3786"
             ],
             [
              0.5555555555555556,
              "#d8576b"
             ],
             [
              0.6666666666666666,
              "#ed7953"
             ],
             [
              0.7777777777777778,
              "#fb9f3a"
             ],
             [
              0.8888888888888888,
              "#fdca26"
             ],
             [
              1,
              "#f0f921"
             ]
            ],
            "type": "surface"
           }
          ],
          "table": [
           {
            "cells": {
             "fill": {
              "color": "#EBF0F8"
             },
             "line": {
              "color": "white"
             }
            },
            "header": {
             "fill": {
              "color": "#C8D4E3"
             },
             "line": {
              "color": "white"
             }
            },
            "type": "table"
           }
          ]
         },
         "layout": {
          "annotationdefaults": {
           "arrowcolor": "#2a3f5f",
           "arrowhead": 0,
           "arrowwidth": 1
          },
          "autotypenumbers": "strict",
          "coloraxis": {
           "colorbar": {
            "outlinewidth": 0,
            "ticks": ""
           }
          },
          "colorscale": {
           "diverging": [
            [
             0,
             "#8e0152"
            ],
            [
             0.1,
             "#c51b7d"
            ],
            [
             0.2,
             "#de77ae"
            ],
            [
             0.3,
             "#f1b6da"
            ],
            [
             0.4,
             "#fde0ef"
            ],
            [
             0.5,
             "#f7f7f7"
            ],
            [
             0.6,
             "#e6f5d0"
            ],
            [
             0.7,
             "#b8e186"
            ],
            [
             0.8,
             "#7fbc41"
            ],
            [
             0.9,
             "#4d9221"
            ],
            [
             1,
             "#276419"
            ]
           ],
           "sequential": [
            [
             0,
             "#0d0887"
            ],
            [
             0.1111111111111111,
             "#46039f"
            ],
            [
             0.2222222222222222,
             "#7201a8"
            ],
            [
             0.3333333333333333,
             "#9c179e"
            ],
            [
             0.4444444444444444,
             "#bd3786"
            ],
            [
             0.5555555555555556,
             "#d8576b"
            ],
            [
             0.6666666666666666,
             "#ed7953"
            ],
            [
             0.7777777777777778,
             "#fb9f3a"
            ],
            [
             0.8888888888888888,
             "#fdca26"
            ],
            [
             1,
             "#f0f921"
            ]
           ],
           "sequentialminus": [
            [
             0,
             "#0d0887"
            ],
            [
             0.1111111111111111,
             "#46039f"
            ],
            [
             0.2222222222222222,
             "#7201a8"
            ],
            [
             0.3333333333333333,
             "#9c179e"
            ],
            [
             0.4444444444444444,
             "#bd3786"
            ],
            [
             0.5555555555555556,
             "#d8576b"
            ],
            [
             0.6666666666666666,
             "#ed7953"
            ],
            [
             0.7777777777777778,
             "#fb9f3a"
            ],
            [
             0.8888888888888888,
             "#fdca26"
            ],
            [
             1,
             "#f0f921"
            ]
           ]
          },
          "colorway": [
           "#636efa",
           "#EF553B",
           "#00cc96",
           "#ab63fa",
           "#FFA15A",
           "#19d3f3",
           "#FF6692",
           "#B6E880",
           "#FF97FF",
           "#FECB52"
          ],
          "font": {
           "color": "#2a3f5f"
          },
          "geo": {
           "bgcolor": "white",
           "lakecolor": "white",
           "landcolor": "#E5ECF6",
           "showlakes": true,
           "showland": true,
           "subunitcolor": "white"
          },
          "hoverlabel": {
           "align": "left"
          },
          "hovermode": "closest",
          "mapbox": {
           "style": "light"
          },
          "paper_bgcolor": "white",
          "plot_bgcolor": "#E5ECF6",
          "polar": {
           "angularaxis": {
            "gridcolor": "white",
            "linecolor": "white",
            "ticks": ""
           },
           "bgcolor": "#E5ECF6",
           "radialaxis": {
            "gridcolor": "white",
            "linecolor": "white",
            "ticks": ""
           }
          },
          "scene": {
           "xaxis": {
            "backgroundcolor": "#E5ECF6",
            "gridcolor": "white",
            "gridwidth": 2,
            "linecolor": "white",
            "showbackground": true,
            "ticks": "",
            "zerolinecolor": "white"
           },
           "yaxis": {
            "backgroundcolor": "#E5ECF6",
            "gridcolor": "white",
            "gridwidth": 2,
            "linecolor": "white",
            "showbackground": true,
            "ticks": "",
            "zerolinecolor": "white"
           },
           "zaxis": {
            "backgroundcolor": "#E5ECF6",
            "gridcolor": "white",
            "gridwidth": 2,
            "linecolor": "white",
            "showbackground": true,
            "ticks": "",
            "zerolinecolor": "white"
           }
          },
          "shapedefaults": {
           "line": {
            "color": "#2a3f5f"
           }
          },
          "ternary": {
           "aaxis": {
            "gridcolor": "white",
            "linecolor": "white",
            "ticks": ""
           },
           "baxis": {
            "gridcolor": "white",
            "linecolor": "white",
            "ticks": ""
           },
           "bgcolor": "#E5ECF6",
           "caxis": {
            "gridcolor": "white",
            "linecolor": "white",
            "ticks": ""
           }
          },
          "title": {
           "x": 0.05
          },
          "xaxis": {
           "automargin": true,
           "gridcolor": "white",
           "linecolor": "white",
           "ticks": "",
           "title": {
            "standoff": 15
           },
           "zerolinecolor": "white",
           "zerolinewidth": 2
          },
          "yaxis": {
           "automargin": true,
           "gridcolor": "white",
           "linecolor": "white",
           "ticks": "",
           "title": {
            "standoff": 15
           },
           "zerolinecolor": "white",
           "zerolinewidth": 2
          }
         }
        },
        "title": {
         "text": "Rate of Change (%) - Broadband"
        },
        "updatemenus": [
         {
          "buttons": [
           {
            "args": [
             null,
             {
              "frame": {
               "duration": 500,
               "redraw": true
              },
              "fromcurrent": true,
              "mode": "immediate",
              "transition": {
               "duration": 500,
               "easing": "linear"
              }
             }
            ],
            "label": "&#9654;",
            "method": "animate"
           },
           {
            "args": [
             [
              null
             ],
             {
              "frame": {
               "duration": 0,
               "redraw": true
              },
              "fromcurrent": true,
              "mode": "immediate",
              "transition": {
               "duration": 0,
               "easing": "linear"
              }
             }
            ],
            "label": "&#9724;",
            "method": "animate"
           }
          ],
          "direction": "left",
          "pad": {
           "r": 10,
           "t": 70
          },
          "showactive": false,
          "type": "buttons",
          "x": 0.1,
          "xanchor": "right",
          "y": 0,
          "yanchor": "top"
         }
        ]
       }
      }
     },
     "metadata": {},
     "output_type": "display_data"
    },
    {
     "data": {
      "application/vnd.plotly.v1+json": {
       "config": {
        "plotlyServerURL": "https://plot.ly"
       },
       "data": [
        {
         "coloraxis": "coloraxis",
         "geo": "geo",
         "hovertemplate": "Year=2018<br>Country=%{location}<br>Rate of Change (%) - Mobile=%{z}<extra></extra>",
         "locationmode": "country names",
         "locations": [
          "Algeria",
          "Angola",
          "Argentina",
          "Australia",
          "Austria",
          "Azerbaijan",
          "Bahrain",
          "Bangladesh",
          "Belgium",
          "Benin",
          "Botswana",
          "Brazil",
          "Bulgaria",
          "Burkina Faso",
          "Burundi",
          "Cambodia",
          "Cameroon",
          "Canada",
          "Chile",
          "China",
          "Colombia",
          "Costa Rica",
          "Côte d'Ivoire",
          "Croatia",
          "Cuba",
          "Czech Republic",
          "Denmark",
          "Dominican Republic",
          "Ecuador",
          "Egypt",
          "El Salvador",
          "Estonia",
          "Ethiopia",
          "Finland",
          "France",
          "Gabon",
          "Germany",
          "Ghana",
          "Greece",
          "Guatemala",
          "Guinea",
          "Honduras",
          "Hong Kong",
          "Hungary",
          "India",
          "Indonesia",
          "Iran",
          "Ireland",
          "Israel",
          "Italy",
          "Jamaica",
          "Japan",
          "Jordan",
          "Kazakhstan",
          "Kenya",
          "Kuwait",
          "Laos",
          "Latvia",
          "Lebanon",
          "Liberia",
          "Lithuania",
          "Madagascar",
          "Malawi",
          "Malaysia",
          "Mali",
          "Mexico",
          "Mongolia",
          "Morocco",
          "Mozambique",
          "Myanmar",
          "Namibia",
          "Nepal",
          "Netherlands",
          "New Zealand",
          "Nicaragua",
          "Niger",
          "Nigeria",
          "Oman",
          "Pakistan",
          "Panama",
          "Papua New Guinea",
          "Paraguay",
          "Peru",
          "Philippines",
          "Poland",
          "Portugal",
          "Qatar",
          "Romania",
          "Russia",
          "Rwanda",
          "Saudi Arabia",
          "Senegal",
          "Sierra Leone",
          "Singapore",
          "Slovakia",
          "South Africa",
          "South Korea",
          "Spain",
          "Sri Lanka",
          "Sudan",
          "Sweden",
          "Switzerland",
          "Taiwan",
          "Tanzania",
          "Thailand",
          "Trinidad & Tobago",
          "Tunisia",
          "Turkey",
          "UAE",
          "Uganda",
          "Ukraine",
          "United Kingdom",
          "United States",
          "Uruguay",
          "Uzbekistan",
          "Venezuela",
          "Vietnam",
          "Zambia",
          "Zimbabwe"
         ],
         "name": "",
         "type": "choropleth",
         "z": [
          6.619999999999999,
          -9.44,
          2.02,
          1.58,
          -18.360000000000003,
          -5.8500000000000005,
          14.38,
          2.3800000000000003,
          -2.39,
          -7.1499999999999995,
          -7.08,
          -6.11,
          -1.72,
          3.51,
          3.8600000000000003,
          -5.96,
          0.38999999999999996,
          2.3,
          -0.8500000000000001,
          5.12,
          1,
          9.4,
          5.3,
          0.58,
          19.32,
          0.09,
          -1.69,
          -2.1,
          5.510000000000001,
          1.77,
          2.71,
          -0.35000000000000003,
          17.62,
          -2.67,
          0.97,
          1.79,
          6.88,
          7.000000000000001,
          0.16999999999999998,
          -1.26,
          0.42,
          -4.3,
          4.34,
          0.69,
          11.39,
          12.35,
          6.98,
          -1.52,
          -1.66,
          -2.1399999999999997,
          3.5900000000000003,
          4.06,
          -30.959999999999997,
          -4.34,
          0.89,
          -3.1,
          4.52,
          3.47,
          -10.66,
          -16.77,
          1.96,
          -27.21,
          6.38,
          -2.81,
          -13.59,
          2.4899999999999998,
          7.720000000000001,
          -4.91,
          -27.52,
          22.62,
          2.45,
          15.6,
          0.08,
          7.829999999999999,
          5.3100000000000005,
          -19.869999999999997,
          -0.36,
          -1.6,
          6.18,
          -11.959999999999999,
          4.1000000000000005,
          -0.27,
          6.23,
          0.43,
          -2.7199999999999998,
          -0.8,
          -5.62,
          -0.26,
          0.5700000000000001,
          -0.65,
          -11.29,
          -1.27,
          8.62,
          1.7000000000000002,
          4.5600000000000005,
          -7.739999999999999,
          3.62,
          1.01,
          7.35,
          -2.79,
          -1.47,
          -0.96,
          -1.7500000000000002,
          -1.95,
          15.82,
          1.4200000000000002,
          -3.29,
          0.21,
          9.76,
          8.88,
          -6.2,
          -1,
          2.94,
          -1.32,
          5.11,
          -4.34,
          -0.77,
          0.8200000000000001,
          -0.54
         ]
        }
       ],
       "frames": [
        {
         "data": [
          {
           "coloraxis": "coloraxis",
           "geo": "geo",
           "hovertemplate": "Year=2018<br>Country=%{location}<br>Rate of Change (%) - Mobile=%{z}<extra></extra>",
           "locationmode": "country names",
           "locations": [
            "Algeria",
            "Angola",
            "Argentina",
            "Australia",
            "Austria",
            "Azerbaijan",
            "Bahrain",
            "Bangladesh",
            "Belgium",
            "Benin",
            "Botswana",
            "Brazil",
            "Bulgaria",
            "Burkina Faso",
            "Burundi",
            "Cambodia",
            "Cameroon",
            "Canada",
            "Chile",
            "China",
            "Colombia",
            "Costa Rica",
            "Côte d'Ivoire",
            "Croatia",
            "Cuba",
            "Czech Republic",
            "Denmark",
            "Dominican Republic",
            "Ecuador",
            "Egypt",
            "El Salvador",
            "Estonia",
            "Ethiopia",
            "Finland",
            "France",
            "Gabon",
            "Germany",
            "Ghana",
            "Greece",
            "Guatemala",
            "Guinea",
            "Honduras",
            "Hong Kong",
            "Hungary",
            "India",
            "Indonesia",
            "Iran",
            "Ireland",
            "Israel",
            "Italy",
            "Jamaica",
            "Japan",
            "Jordan",
            "Kazakhstan",
            "Kenya",
            "Kuwait",
            "Laos",
            "Latvia",
            "Lebanon",
            "Liberia",
            "Lithuania",
            "Madagascar",
            "Malawi",
            "Malaysia",
            "Mali",
            "Mexico",
            "Mongolia",
            "Morocco",
            "Mozambique",
            "Myanmar",
            "Namibia",
            "Nepal",
            "Netherlands",
            "New Zealand",
            "Nicaragua",
            "Niger",
            "Nigeria",
            "Oman",
            "Pakistan",
            "Panama",
            "Papua New Guinea",
            "Paraguay",
            "Peru",
            "Philippines",
            "Poland",
            "Portugal",
            "Qatar",
            "Romania",
            "Russia",
            "Rwanda",
            "Saudi Arabia",
            "Senegal",
            "Sierra Leone",
            "Singapore",
            "Slovakia",
            "South Africa",
            "South Korea",
            "Spain",
            "Sri Lanka",
            "Sudan",
            "Sweden",
            "Switzerland",
            "Taiwan",
            "Tanzania",
            "Thailand",
            "Trinidad & Tobago",
            "Tunisia",
            "Turkey",
            "UAE",
            "Uganda",
            "Ukraine",
            "United Kingdom",
            "United States",
            "Uruguay",
            "Uzbekistan",
            "Venezuela",
            "Vietnam",
            "Zambia",
            "Zimbabwe"
           ],
           "name": "",
           "type": "choropleth",
           "z": [
            6.619999999999999,
            -9.44,
            2.02,
            1.58,
            -18.360000000000003,
            -5.8500000000000005,
            14.38,
            2.3800000000000003,
            -2.39,
            -7.1499999999999995,
            -7.08,
            -6.11,
            -1.72,
            3.51,
            3.8600000000000003,
            -5.96,
            0.38999999999999996,
            2.3,
            -0.8500000000000001,
            5.12,
            1,
            9.4,
            5.3,
            0.58,
            19.32,
            0.09,
            -1.69,
            -2.1,
            5.510000000000001,
            1.77,
            2.71,
            -0.35000000000000003,
            17.62,
            -2.67,
            0.97,
            1.79,
            6.88,
            7.000000000000001,
            0.16999999999999998,
            -1.26,
            0.42,
            -4.3,
            4.34,
            0.69,
            11.39,
            12.35,
            6.98,
            -1.52,
            -1.66,
            -2.1399999999999997,
            3.5900000000000003,
            4.06,
            -30.959999999999997,
            -4.34,
            0.89,
            -3.1,
            4.52,
            3.47,
            -10.66,
            -16.77,
            1.96,
            -27.21,
            6.38,
            -2.81,
            -13.59,
            2.4899999999999998,
            7.720000000000001,
            -4.91,
            -27.52,
            22.62,
            2.45,
            15.6,
            0.08,
            7.829999999999999,
            5.3100000000000005,
            -19.869999999999997,
            -0.36,
            -1.6,
            6.18,
            -11.959999999999999,
            4.1000000000000005,
            -0.27,
            6.23,
            0.43,
            -2.7199999999999998,
            -0.8,
            -5.62,
            -0.26,
            0.5700000000000001,
            -0.65,
            -11.29,
            -1.27,
            8.62,
            1.7000000000000002,
            4.5600000000000005,
            -7.739999999999999,
            3.62,
            1.01,
            7.35,
            -2.79,
            -1.47,
            -0.96,
            -1.7500000000000002,
            -1.95,
            15.82,
            1.4200000000000002,
            -3.29,
            0.21,
            9.76,
            8.88,
            -6.2,
            -1,
            2.94,
            -1.32,
            5.11,
            -4.34,
            -0.77,
            0.8200000000000001,
            -0.54
           ]
          }
         ],
         "name": "2018"
        },
        {
         "data": [
          {
           "coloraxis": "coloraxis",
           "geo": "geo",
           "hovertemplate": "Year=2019<br>Country=%{location}<br>Rate of Change (%) - Mobile=%{z}<extra></extra>",
           "locationmode": "country names",
           "locations": [
            "Algeria",
            "Angola",
            "Argentina",
            "Australia",
            "Austria",
            "Azerbaijan",
            "Bahrain",
            "Bangladesh",
            "Belgium",
            "Benin",
            "Botswana",
            "Brazil",
            "Bulgaria",
            "Burkina Faso",
            "Burundi",
            "Cambodia",
            "Cameroon",
            "Canada",
            "Chile",
            "China",
            "Colombia",
            "Costa Rica",
            "Côte d'Ivoire",
            "Croatia",
            "Cuba",
            "Czech Republic",
            "Denmark",
            "Dominican Republic",
            "Ecuador",
            "Egypt",
            "El Salvador",
            "Estonia",
            "Ethiopia",
            "Finland",
            "France",
            "Gabon",
            "Germany",
            "Ghana",
            "Greece",
            "Guatemala",
            "Guinea",
            "Honduras",
            "Hong Kong",
            "Hungary",
            "India",
            "Indonesia",
            "Iran",
            "Ireland",
            "Israel",
            "Italy",
            "Jamaica",
            "Japan",
            "Jordan",
            "Kazakhstan",
            "Kenya",
            "Kuwait",
            "Laos",
            "Latvia",
            "Lebanon",
            "Liberia",
            "Lithuania",
            "Madagascar",
            "Malawi",
            "Malaysia",
            "Mali",
            "Mexico",
            "Mongolia",
            "Morocco",
            "Mozambique",
            "Myanmar",
            "Namibia",
            "Nepal",
            "Netherlands",
            "New Zealand",
            "Nicaragua",
            "Niger",
            "Nigeria",
            "Oman",
            "Pakistan",
            "Panama",
            "Papua New Guinea",
            "Paraguay",
            "Peru",
            "Philippines",
            "Poland",
            "Portugal",
            "Qatar",
            "Romania",
            "Russia",
            "Rwanda",
            "Saudi Arabia",
            "Senegal",
            "Sierra Leone",
            "Singapore",
            "Slovakia",
            "South Africa",
            "South Korea",
            "Spain",
            "Sri Lanka",
            "Sudan",
            "Sweden",
            "Switzerland",
            "Taiwan",
            "Tanzania",
            "Thailand",
            "Trinidad & Tobago",
            "Tunisia",
            "Turkey",
            "UAE",
            "Uganda",
            "Ukraine",
            "United Kingdom",
            "United States",
            "Uruguay",
            "Uzbekistan",
            "Venezuela",
            "Vietnam",
            "Zambia",
            "Zimbabwe"
           ],
           "name": "",
           "type": "choropleth",
           "z": [
            -4.4799999999999995,
            -0.89,
            -3.82,
            -0.91,
            -2.8400000000000003,
            -1.72,
            -24.62,
            9.76,
            -9.950000000000001,
            -4.03,
            -3.4799999999999995,
            -10.05,
            -4.3,
            13.200000000000001,
            7.049999999999999,
            -8.16,
            4.859999999999999,
            2.13,
            -2.6599999999999997,
            7.1499999999999995,
            4.43,
            5.06,
            12.76,
            -1.6199999999999999,
            15.620000000000001,
            1.02,
            1.8800000000000001,
            -0.48,
            3.6799999999999997,
            3.19,
            -2.11,
            0.06999999999999999,
            -24.7,
            -1.0699999999999998,
            1.82,
            -12.540000000000001,
            5.4,
            -6.17,
            3.64,
            7.359999999999999,
            2.54,
            3.3099999999999996,
            3.71,
            0.2,
            2.59,
            11.53,
            6.619999999999999,
            -0.67,
            -1.8399999999999999,
            -2.4699999999999998,
            -5.87,
            3.75,
            -3.5000000000000004,
            3.0700000000000003,
            7.3,
            -9.09,
            -7.61,
            -5.89,
            1.26,
            -16.76,
            5.36,
            6.23,
            5.52,
            -3.88,
            5.779999999999999,
            1.0999999999999999,
            13.25,
            4.3999999999999995,
            -23.150000000000002,
            -5.87,
            -1.06,
            10.870000000000001,
            -1.95,
            3.9699999999999998,
            4.2299999999999995,
            13.089999999999998,
            -8.55,
            -2.94,
            3.73,
            0.9400000000000001,
            4.16,
            -1.54,
            3.6900000000000004,
            -1.55,
            -4.66,
            1.96,
            6.4,
            -1.47,
            -0.95,
            -3.7900000000000005,
            -17.740000000000002,
            0.89,
            3.27,
            -1.94,
            1.79,
            5.87,
            3.66,
            1.9,
            8.799999999999999,
            0.5700000000000001,
            -0.86,
            -2.31,
            -1.78,
            -3.18,
            1.21,
            -6.68,
            -0.7100000000000001,
            2.02,
            -1.69,
            5.21,
            -1.35,
            -0.5,
            0.33,
            -0.74,
            2.5700000000000003,
            -9.950000000000001,
            -1.48,
            8.58,
            7.84
           ]
          }
         ],
         "name": "2019"
        },
        {
         "data": [
          {
           "coloraxis": "coloraxis",
           "geo": "geo",
           "hovertemplate": "Year=2020<br>Country=%{location}<br>Rate of Change (%) - Mobile=%{z}<extra></extra>",
           "locationmode": "country names",
           "locations": [
            "Algeria",
            "Angola",
            "Argentina",
            "Australia",
            "Austria",
            "Azerbaijan",
            "Bahrain",
            "Bangladesh",
            "Belgium",
            "Benin",
            "Botswana",
            "Brazil",
            "Bulgaria",
            "Burkina Faso",
            "Burundi",
            "Cambodia",
            "Cameroon",
            "Canada",
            "Chile",
            "China",
            "Colombia",
            "Costa Rica",
            "Côte d'Ivoire",
            "Croatia",
            "Cuba",
            "Czech Republic",
            "Denmark",
            "Dominican Republic",
            "Ecuador",
            "Egypt",
            "El Salvador",
            "Estonia",
            "Ethiopia",
            "Finland",
            "France",
            "Gabon",
            "Germany",
            "Ghana",
            "Greece",
            "Guatemala",
            "Guinea",
            "Honduras",
            "Hong Kong",
            "Hungary",
            "India",
            "Indonesia",
            "Iran",
            "Ireland",
            "Israel",
            "Italy",
            "Jamaica",
            "Japan",
            "Jordan",
            "Kazakhstan",
            "Kenya",
            "Kuwait",
            "Laos",
            "Latvia",
            "Lebanon",
            "Liberia",
            "Lithuania",
            "Madagascar",
            "Malawi",
            "Malaysia",
            "Mali",
            "Mexico",
            "Mongolia",
            "Morocco",
            "Mozambique",
            "Myanmar",
            "Namibia",
            "Nepal",
            "Netherlands",
            "New Zealand",
            "Nicaragua",
            "Niger",
            "Nigeria",
            "Oman",
            "Pakistan",
            "Panama",
            "Papua New Guinea",
            "Paraguay",
            "Peru",
            "Philippines",
            "Poland",
            "Portugal",
            "Qatar",
            "Romania",
            "Russia",
            "Rwanda",
            "Saudi Arabia",
            "Senegal",
            "Sierra Leone",
            "Singapore",
            "Slovakia",
            "South Africa",
            "South Korea",
            "Spain",
            "Sri Lanka",
            "Sudan",
            "Sweden",
            "Switzerland",
            "Taiwan",
            "Tanzania",
            "Thailand",
            "Trinidad & Tobago",
            "Tunisia",
            "Turkey",
            "UAE",
            "Uganda",
            "Ukraine",
            "United Kingdom",
            "United States",
            "Uruguay",
            "Uzbekistan",
            "Venezuela",
            "Vietnam",
            "Zambia",
            "Zimbabwe"
           ],
           "name": "",
           "type": "choropleth",
           "z": [
            0.8099999999999999,
            -3.58,
            -6.25,
            2.4,
            0.32,
            0.97,
            -15.790000000000001,
            6.03,
            0.2,
            4.97,
            2.04,
            -6.1,
            -1,
            4.71,
            3.29,
            3.02,
            -10.73,
            3.82,
            7.870000000000001,
            11.700000000000001,
            2.12,
            -4.87,
            3.85,
            2.33,
            16.46,
            0.25,
            0.72,
            0.84,
            5.7299999999999995,
            -10.77,
            -1.01,
            0.76,
            0,
            -0.31,
            1.8800000000000001,
            7.21,
            -2.56,
            8.95,
            -5.47,
            0.42,
            -0.21,
            -9.28,
            7.19,
            1.17,
            -0.45999999999999996,
            -27.43,
            0.5599999999999999,
            0.1,
            -0.16,
            -0.51,
            -4.54,
            4.35,
            -11.690000000000001,
            -3.5900000000000003,
            12.9,
            -2.5,
            -2.81,
            -15.040000000000001,
            0,
            0,
            6.909999999999999,
            19.06,
            -11.360000000000001,
            -1.18,
            -3.2800000000000002,
            3.93,
            6.7299999999999995,
            0.65,
            14.940000000000001,
            26.729999999999997,
            0.9900000000000001,
            6.74,
            2.5700000000000003,
            -0.88,
            -10.15,
            0,
            16.21,
            -5.91,
            4.46,
            6.529999999999999,
            0,
            -1.6500000000000001,
            6.460000000000001,
            10.6,
            -4.29,
            1.1400000000000001,
            -3.0700000000000003,
            1.7500000000000002,
            0.77,
            7.199999999999999,
            0.91,
            2.25,
            -6.1,
            1.3599999999999999,
            1.6099999999999999,
            3.0300000000000002,
            4.09,
            3.02,
            6.890000000000001,
            2.56,
            0.16,
            -3.51,
            1.73,
            5.609999999999999,
            2.62,
            -3.27,
            1.83,
            1.46,
            -0.24,
            -5.45,
            -2.74,
            -0.08,
            4.88,
            1.08,
            -5.800000000000001,
            -13.81,
            16,
            11.92,
            -9.700000000000001
           ]
          }
         ],
         "name": "2020"
        },
        {
         "data": [
          {
           "coloraxis": "coloraxis",
           "geo": "geo",
           "hovertemplate": "Year=2021<br>Country=%{location}<br>Rate of Change (%) - Mobile=%{z}<extra></extra>",
           "locationmode": "country names",
           "locations": [
            "Algeria",
            "Angola",
            "Argentina",
            "Australia",
            "Austria",
            "Azerbaijan",
            "Bahrain",
            "Bangladesh",
            "Belgium",
            "Benin",
            "Botswana",
            "Brazil",
            "Bulgaria",
            "Burkina Faso",
            "Burundi",
            "Cambodia",
            "Cameroon",
            "Canada",
            "Chile",
            "China",
            "Colombia",
            "Congo (DRC)",
            "Costa Rica",
            "Côte d'Ivoire",
            "Croatia",
            "Cuba",
            "Czech Republic",
            "Denmark",
            "Dominican Republic",
            "Ecuador",
            "Egypt",
            "El Salvador",
            "Estonia",
            "Ethiopia",
            "Finland",
            "France",
            "Gabon",
            "Germany",
            "Ghana",
            "Greece",
            "Guatemala",
            "Guinea",
            "Honduras",
            "Hong Kong",
            "Hungary",
            "India",
            "Indonesia",
            "Iran",
            "Ireland",
            "Israel",
            "Italy",
            "Jamaica",
            "Japan",
            "Jordan",
            "Kazakhstan",
            "Kenya",
            "Kuwait",
            "Laos",
            "Latvia",
            "Lebanon",
            "Liberia",
            "Lithuania",
            "Madagascar",
            "Malawi",
            "Malaysia",
            "Mali",
            "Mexico",
            "Mongolia",
            "Morocco",
            "Mozambique",
            "Myanmar",
            "Namibia",
            "Nepal",
            "Netherlands",
            "New Zealand",
            "Nicaragua",
            "Niger",
            "Nigeria",
            "Oman",
            "Pakistan",
            "Panama",
            "Papua New Guinea",
            "Paraguay",
            "Peru",
            "Philippines",
            "Poland",
            "Portugal",
            "Qatar",
            "Romania",
            "Russia",
            "Rwanda",
            "Saudi Arabia",
            "Senegal",
            "Sierra Leone",
            "Singapore",
            "Slovakia",
            "South Africa",
            "South Korea",
            "Spain",
            "Sri Lanka",
            "Sudan",
            "Sweden",
            "Switzerland",
            "Taiwan",
            "Tanzania",
            "Thailand",
            "Trinidad & Tobago",
            "Tunisia",
            "Turkey",
            "UAE",
            "Uganda",
            "Ukraine",
            "United Kingdom",
            "United States",
            "Uruguay",
            "Uzbekistan",
            "Venezuela",
            "Vietnam",
            "Zambia",
            "Zimbabwe"
           ],
           "name": "",
           "type": "choropleth",
           "z": [
            -2.06,
            8.12,
            -4.77,
            -0.36,
            -3,
            2.98,
            -13.13,
            1.3,
            0,
            6.43,
            8.4,
            -4.3,
            -2.27,
            2.35,
            0.18,
            8.7,
            12.98,
            2.5700000000000003,
            -1.6400000000000001,
            5.45,
            1.39,
            -1.38,
            -0.29,
            7.71,
            0.95,
            12.45,
            2.94,
            0,
            -0.95,
            -1.1900000000000002,
            -0.31,
            0,
            1.24,
            0,
            -0.22999999999999998,
            2.03,
            -0.36,
            -0.7000000000000001,
            -2.33,
            -1.9900000000000002,
            0,
            4.130000000000001,
            -2.02,
            6.890000000000001,
            2.6100000000000003,
            -2.9899999999999998,
            5.7,
            31.240000000000002,
            2.42,
            7.5200000000000005,
            -4.51,
            1.58,
            3.9600000000000004,
            -12.1,
            -2.6,
            7.79,
            1.52,
            17.150000000000002,
            1.3,
            -4.19,
            0,
            2.9899999999999998,
            0,
            22.56,
            3.7900000000000005,
            1.3,
            0.53,
            2.85,
            3.06,
            2.1,
            0,
            0.44,
            0,
            2.91,
            0,
            -23.200000000000003,
            0,
            4.2,
            -1.29,
            5.2299999999999995,
            -3.7199999999999998,
            0,
            2.9899999999999998,
            0,
            22.66,
            0.31,
            0.7799999999999999,
            -2.54,
            0.95,
            4.45,
            -3.04,
            -1.71,
            4.9799999999999995,
            3.61,
            4.569999999999999,
            2.11,
            3.56,
            3.6999999999999997,
            2.07,
            1.1199999999999999,
            7.08,
            1.5,
            -0.4,
            -0.4,
            6.4799999999999995,
            3.3300000000000005,
            9.3,
            -1.0999999999999999,
            -0.51,
            -3.7900000000000005,
            0.16999999999999998,
            2.19,
            1.27,
            4.26,
            -7.870000000000001,
            41.54,
            -34.12,
            -4.08,
            8.07,
            0.7799999999999999
           ]
          }
         ],
         "name": "2021"
        }
       ],
       "layout": {
        "coloraxis": {
         "cmax": 5,
         "cmin": -5,
         "colorbar": {
          "title": {
           "text": "Rate of Change (%) - Mobile"
          }
         },
         "colorscale": [
          [
           0,
           "rgb(165,0,38)"
          ],
          [
           0.1,
           "rgb(215,48,39)"
          ],
          [
           0.2,
           "rgb(244,109,67)"
          ],
          [
           0.3,
           "rgb(253,174,97)"
          ],
          [
           0.4,
           "rgb(254,224,139)"
          ],
          [
           0.5,
           "rgb(255,255,191)"
          ],
          [
           0.6,
           "rgb(217,239,139)"
          ],
          [
           0.7,
           "rgb(166,217,106)"
          ],
          [
           0.8,
           "rgb(102,189,99)"
          ],
          [
           0.9,
           "rgb(26,152,80)"
          ],
          [
           1,
           "rgb(0,104,55)"
          ]
         ]
        },
        "geo": {
         "center": {},
         "domain": {
          "x": [
           0,
           1
          ],
          "y": [
           0,
           1
          ]
         },
         "landcolor": "rgba(212,212,212,0.7)",
         "oceancolor": "rgba(0,255,255,0.7)",
         "projection": {
          "type": "natural earth"
         },
         "showcountries": true,
         "showframe": false,
         "showland": true,
         "showocean": true
        },
        "legend": {
         "tracegroupgap": 0
        },
        "sliders": [
         {
          "active": 0,
          "currentvalue": {
           "prefix": "Year="
          },
          "len": 0.9,
          "pad": {
           "b": 10,
           "t": 60
          },
          "steps": [
           {
            "args": [
             [
              "2018"
             ],
             {
              "frame": {
               "duration": 0,
               "redraw": true
              },
              "fromcurrent": true,
              "mode": "immediate",
              "transition": {
               "duration": 0,
               "easing": "linear"
              }
             }
            ],
            "label": "2018",
            "method": "animate"
           },
           {
            "args": [
             [
              "2019"
             ],
             {
              "frame": {
               "duration": 0,
               "redraw": true
              },
              "fromcurrent": true,
              "mode": "immediate",
              "transition": {
               "duration": 0,
               "easing": "linear"
              }
             }
            ],
            "label": "2019",
            "method": "animate"
           },
           {
            "args": [
             [
              "2020"
             ],
             {
              "frame": {
               "duration": 0,
               "redraw": true
              },
              "fromcurrent": true,
              "mode": "immediate",
              "transition": {
               "duration": 0,
               "easing": "linear"
              }
             }
            ],
            "label": "2020",
            "method": "animate"
           },
           {
            "args": [
             [
              "2021"
             ],
             {
              "frame": {
               "duration": 0,
               "redraw": true
              },
              "fromcurrent": true,
              "mode": "immediate",
              "transition": {
               "duration": 0,
               "easing": "linear"
              }
             }
            ],
            "label": "2021",
            "method": "animate"
           }
          ],
          "x": 0.1,
          "xanchor": "left",
          "y": 0,
          "yanchor": "top"
         }
        ],
        "template": {
         "data": {
          "bar": [
           {
            "error_x": {
             "color": "#2a3f5f"
            },
            "error_y": {
             "color": "#2a3f5f"
            },
            "marker": {
             "line": {
              "color": "#E5ECF6",
              "width": 0.5
             },
             "pattern": {
              "fillmode": "overlay",
              "size": 10,
              "solidity": 0.2
             }
            },
            "type": "bar"
           }
          ],
          "barpolar": [
           {
            "marker": {
             "line": {
              "color": "#E5ECF6",
              "width": 0.5
             },
             "pattern": {
              "fillmode": "overlay",
              "size": 10,
              "solidity": 0.2
             }
            },
            "type": "barpolar"
           }
          ],
          "carpet": [
           {
            "aaxis": {
             "endlinecolor": "#2a3f5f",
             "gridcolor": "white",
             "linecolor": "white",
             "minorgridcolor": "white",
             "startlinecolor": "#2a3f5f"
            },
            "baxis": {
             "endlinecolor": "#2a3f5f",
             "gridcolor": "white",
             "linecolor": "white",
             "minorgridcolor": "white",
             "startlinecolor": "#2a3f5f"
            },
            "type": "carpet"
           }
          ],
          "choropleth": [
           {
            "colorbar": {
             "outlinewidth": 0,
             "ticks": ""
            },
            "type": "choropleth"
           }
          ],
          "contour": [
           {
            "colorbar": {
             "outlinewidth": 0,
             "ticks": ""
            },
            "colorscale": [
             [
              0,
              "#0d0887"
             ],
             [
              0.1111111111111111,
              "#46039f"
             ],
             [
              0.2222222222222222,
              "#7201a8"
             ],
             [
              0.3333333333333333,
              "#9c179e"
             ],
             [
              0.4444444444444444,
              "#bd3786"
             ],
             [
              0.5555555555555556,
              "#d8576b"
             ],
             [
              0.6666666666666666,
              "#ed7953"
             ],
             [
              0.7777777777777778,
              "#fb9f3a"
             ],
             [
              0.8888888888888888,
              "#fdca26"
             ],
             [
              1,
              "#f0f921"
             ]
            ],
            "type": "contour"
           }
          ],
          "contourcarpet": [
           {
            "colorbar": {
             "outlinewidth": 0,
             "ticks": ""
            },
            "type": "contourcarpet"
           }
          ],
          "heatmap": [
           {
            "colorbar": {
             "outlinewidth": 0,
             "ticks": ""
            },
            "colorscale": [
             [
              0,
              "#0d0887"
             ],
             [
              0.1111111111111111,
              "#46039f"
             ],
             [
              0.2222222222222222,
              "#7201a8"
             ],
             [
              0.3333333333333333,
              "#9c179e"
             ],
             [
              0.4444444444444444,
              "#bd3786"
             ],
             [
              0.5555555555555556,
              "#d8576b"
             ],
             [
              0.6666666666666666,
              "#ed7953"
             ],
             [
              0.7777777777777778,
              "#fb9f3a"
             ],
             [
              0.8888888888888888,
              "#fdca26"
             ],
             [
              1,
              "#f0f921"
             ]
            ],
            "type": "heatmap"
           }
          ],
          "heatmapgl": [
           {
            "colorbar": {
             "outlinewidth": 0,
             "ticks": ""
            },
            "colorscale": [
             [
              0,
              "#0d0887"
             ],
             [
              0.1111111111111111,
              "#46039f"
             ],
             [
              0.2222222222222222,
              "#7201a8"
             ],
             [
              0.3333333333333333,
              "#9c179e"
             ],
             [
              0.4444444444444444,
              "#bd3786"
             ],
             [
              0.5555555555555556,
              "#d8576b"
             ],
             [
              0.6666666666666666,
              "#ed7953"
             ],
             [
              0.7777777777777778,
              "#fb9f3a"
             ],
             [
              0.8888888888888888,
              "#fdca26"
             ],
             [
              1,
              "#f0f921"
             ]
            ],
            "type": "heatmapgl"
           }
          ],
          "histogram": [
           {
            "marker": {
             "pattern": {
              "fillmode": "overlay",
              "size": 10,
              "solidity": 0.2
             }
            },
            "type": "histogram"
           }
          ],
          "histogram2d": [
           {
            "colorbar": {
             "outlinewidth": 0,
             "ticks": ""
            },
            "colorscale": [
             [
              0,
              "#0d0887"
             ],
             [
              0.1111111111111111,
              "#46039f"
             ],
             [
              0.2222222222222222,
              "#7201a8"
             ],
             [
              0.3333333333333333,
              "#9c179e"
             ],
             [
              0.4444444444444444,
              "#bd3786"
             ],
             [
              0.5555555555555556,
              "#d8576b"
             ],
             [
              0.6666666666666666,
              "#ed7953"
             ],
             [
              0.7777777777777778,
              "#fb9f3a"
             ],
             [
              0.8888888888888888,
              "#fdca26"
             ],
             [
              1,
              "#f0f921"
             ]
            ],
            "type": "histogram2d"
           }
          ],
          "histogram2dcontour": [
           {
            "colorbar": {
             "outlinewidth": 0,
             "ticks": ""
            },
            "colorscale": [
             [
              0,
              "#0d0887"
             ],
             [
              0.1111111111111111,
              "#46039f"
             ],
             [
              0.2222222222222222,
              "#7201a8"
             ],
             [
              0.3333333333333333,
              "#9c179e"
             ],
             [
              0.4444444444444444,
              "#bd3786"
             ],
             [
              0.5555555555555556,
              "#d8576b"
             ],
             [
              0.6666666666666666,
              "#ed7953"
             ],
             [
              0.7777777777777778,
              "#fb9f3a"
             ],
             [
              0.8888888888888888,
              "#fdca26"
             ],
             [
              1,
              "#f0f921"
             ]
            ],
            "type": "histogram2dcontour"
           }
          ],
          "mesh3d": [
           {
            "colorbar": {
             "outlinewidth": 0,
             "ticks": ""
            },
            "type": "mesh3d"
           }
          ],
          "parcoords": [
           {
            "line": {
             "colorbar": {
              "outlinewidth": 0,
              "ticks": ""
             }
            },
            "type": "parcoords"
           }
          ],
          "pie": [
           {
            "automargin": true,
            "type": "pie"
           }
          ],
          "scatter": [
           {
            "fillpattern": {
             "fillmode": "overlay",
             "size": 10,
             "solidity": 0.2
            },
            "type": "scatter"
           }
          ],
          "scatter3d": [
           {
            "line": {
             "colorbar": {
              "outlinewidth": 0,
              "ticks": ""
             }
            },
            "marker": {
             "colorbar": {
              "outlinewidth": 0,
              "ticks": ""
             }
            },
            "type": "scatter3d"
           }
          ],
          "scattercarpet": [
           {
            "marker": {
             "colorbar": {
              "outlinewidth": 0,
              "ticks": ""
             }
            },
            "type": "scattercarpet"
           }
          ],
          "scattergeo": [
           {
            "marker": {
             "colorbar": {
              "outlinewidth": 0,
              "ticks": ""
             }
            },
            "type": "scattergeo"
           }
          ],
          "scattergl": [
           {
            "marker": {
             "colorbar": {
              "outlinewidth": 0,
              "ticks": ""
             }
            },
            "type": "scattergl"
           }
          ],
          "scattermapbox": [
           {
            "marker": {
             "colorbar": {
              "outlinewidth": 0,
              "ticks": ""
             }
            },
            "type": "scattermapbox"
           }
          ],
          "scatterpolar": [
           {
            "marker": {
             "colorbar": {
              "outlinewidth": 0,
              "ticks": ""
             }
            },
            "type": "scatterpolar"
           }
          ],
          "scatterpolargl": [
           {
            "marker": {
             "colorbar": {
              "outlinewidth": 0,
              "ticks": ""
             }
            },
            "type": "scatterpolargl"
           }
          ],
          "scatterternary": [
           {
            "marker": {
             "colorbar": {
              "outlinewidth": 0,
              "ticks": ""
             }
            },
            "type": "scatterternary"
           }
          ],
          "surface": [
           {
            "colorbar": {
             "outlinewidth": 0,
             "ticks": ""
            },
            "colorscale": [
             [
              0,
              "#0d0887"
             ],
             [
              0.1111111111111111,
              "#46039f"
             ],
             [
              0.2222222222222222,
              "#7201a8"
             ],
             [
              0.3333333333333333,
              "#9c179e"
             ],
             [
              0.4444444444444444,
              "#bd3786"
             ],
             [
              0.5555555555555556,
              "#d8576b"
             ],
             [
              0.6666666666666666,
              "#ed7953"
             ],
             [
              0.7777777777777778,
              "#fb9f3a"
             ],
             [
              0.8888888888888888,
              "#fdca26"
             ],
             [
              1,
              "#f0f921"
             ]
            ],
            "type": "surface"
           }
          ],
          "table": [
           {
            "cells": {
             "fill": {
              "color": "#EBF0F8"
             },
             "line": {
              "color": "white"
             }
            },
            "header": {
             "fill": {
              "color": "#C8D4E3"
             },
             "line": {
              "color": "white"
             }
            },
            "type": "table"
           }
          ]
         },
         "layout": {
          "annotationdefaults": {
           "arrowcolor": "#2a3f5f",
           "arrowhead": 0,
           "arrowwidth": 1
          },
          "autotypenumbers": "strict",
          "coloraxis": {
           "colorbar": {
            "outlinewidth": 0,
            "ticks": ""
           }
          },
          "colorscale": {
           "diverging": [
            [
             0,
             "#8e0152"
            ],
            [
             0.1,
             "#c51b7d"
            ],
            [
             0.2,
             "#de77ae"
            ],
            [
             0.3,
             "#f1b6da"
            ],
            [
             0.4,
             "#fde0ef"
            ],
            [
             0.5,
             "#f7f7f7"
            ],
            [
             0.6,
             "#e6f5d0"
            ],
            [
             0.7,
             "#b8e186"
            ],
            [
             0.8,
             "#7fbc41"
            ],
            [
             0.9,
             "#4d9221"
            ],
            [
             1,
             "#276419"
            ]
           ],
           "sequential": [
            [
             0,
             "#0d0887"
            ],
            [
             0.1111111111111111,
             "#46039f"
            ],
            [
             0.2222222222222222,
             "#7201a8"
            ],
            [
             0.3333333333333333,
             "#9c179e"
            ],
            [
             0.4444444444444444,
             "#bd3786"
            ],
            [
             0.5555555555555556,
             "#d8576b"
            ],
            [
             0.6666666666666666,
             "#ed7953"
            ],
            [
             0.7777777777777778,
             "#fb9f3a"
            ],
            [
             0.8888888888888888,
             "#fdca26"
            ],
            [
             1,
             "#f0f921"
            ]
           ],
           "sequentialminus": [
            [
             0,
             "#0d0887"
            ],
            [
             0.1111111111111111,
             "#46039f"
            ],
            [
             0.2222222222222222,
             "#7201a8"
            ],
            [
             0.3333333333333333,
             "#9c179e"
            ],
            [
             0.4444444444444444,
             "#bd3786"
            ],
            [
             0.5555555555555556,
             "#d8576b"
            ],
            [
             0.6666666666666666,
             "#ed7953"
            ],
            [
             0.7777777777777778,
             "#fb9f3a"
            ],
            [
             0.8888888888888888,
             "#fdca26"
            ],
            [
             1,
             "#f0f921"
            ]
           ]
          },
          "colorway": [
           "#636efa",
           "#EF553B",
           "#00cc96",
           "#ab63fa",
           "#FFA15A",
           "#19d3f3",
           "#FF6692",
           "#B6E880",
           "#FF97FF",
           "#FECB52"
          ],
          "font": {
           "color": "#2a3f5f"
          },
          "geo": {
           "bgcolor": "white",
           "lakecolor": "white",
           "landcolor": "#E5ECF6",
           "showlakes": true,
           "showland": true,
           "subunitcolor": "white"
          },
          "hoverlabel": {
           "align": "left"
          },
          "hovermode": "closest",
          "mapbox": {
           "style": "light"
          },
          "paper_bgcolor": "white",
          "plot_bgcolor": "#E5ECF6",
          "polar": {
           "angularaxis": {
            "gridcolor": "white",
            "linecolor": "white",
            "ticks": ""
           },
           "bgcolor": "#E5ECF6",
           "radialaxis": {
            "gridcolor": "white",
            "linecolor": "white",
            "ticks": ""
           }
          },
          "scene": {
           "xaxis": {
            "backgroundcolor": "#E5ECF6",
            "gridcolor": "white",
            "gridwidth": 2,
            "linecolor": "white",
            "showbackground": true,
            "ticks": "",
            "zerolinecolor": "white"
           },
           "yaxis": {
            "backgroundcolor": "#E5ECF6",
            "gridcolor": "white",
            "gridwidth": 2,
            "linecolor": "white",
            "showbackground": true,
            "ticks": "",
            "zerolinecolor": "white"
           },
           "zaxis": {
            "backgroundcolor": "#E5ECF6",
            "gridcolor": "white",
            "gridwidth": 2,
            "linecolor": "white",
            "showbackground": true,
            "ticks": "",
            "zerolinecolor": "white"
           }
          },
          "shapedefaults": {
           "line": {
            "color": "#2a3f5f"
           }
          },
          "ternary": {
           "aaxis": {
            "gridcolor": "white",
            "linecolor": "white",
            "ticks": ""
           },
           "baxis": {
            "gridcolor": "white",
            "linecolor": "white",
            "ticks": ""
           },
           "bgcolor": "#E5ECF6",
           "caxis": {
            "gridcolor": "white",
            "linecolor": "white",
            "ticks": ""
           }
          },
          "title": {
           "x": 0.05
          },
          "xaxis": {
           "automargin": true,
           "gridcolor": "white",
           "linecolor": "white",
           "ticks": "",
           "title": {
            "standoff": 15
           },
           "zerolinecolor": "white",
           "zerolinewidth": 2
          },
          "yaxis": {
           "automargin": true,
           "gridcolor": "white",
           "linecolor": "white",
           "ticks": "",
           "title": {
            "standoff": 15
           },
           "zerolinecolor": "white",
           "zerolinewidth": 2
          }
         }
        },
        "title": {
         "text": "Rate of Change (%) - Mobile"
        },
        "updatemenus": [
         {
          "buttons": [
           {
            "args": [
             null,
             {
              "frame": {
               "duration": 500,
               "redraw": true
              },
              "fromcurrent": true,
              "mode": "immediate",
              "transition": {
               "duration": 500,
               "easing": "linear"
              }
             }
            ],
            "label": "&#9654;",
            "method": "animate"
           },
           {
            "args": [
             [
              null
             ],
             {
              "frame": {
               "duration": 0,
               "redraw": true
              },
              "fromcurrent": true,
              "mode": "immediate",
              "transition": {
               "duration": 0,
               "easing": "linear"
              }
             }
            ],
            "label": "&#9724;",
            "method": "animate"
           }
          ],
          "direction": "left",
          "pad": {
           "r": 10,
           "t": 70
          },
          "showactive": false,
          "type": "buttons",
          "x": 0.1,
          "xanchor": "right",
          "y": 0,
          "yanchor": "top"
         }
        ]
       }
      }
     },
     "metadata": {},
     "output_type": "display_data"
    }
   ],
   "source": [
    "fig_broadband.show()\n",
    "fig_mobile.show()"
   ]
  },
  {
   "cell_type": "markdown",
   "metadata": {},
   "source": [
    "### Chart comparison over Time"
   ]
  },
  {
   "cell_type": "code",
   "execution_count": 8,
   "metadata": {},
   "outputs": [
    {
     "data": {
      "text/html": [
       "<div>\n",
       "<style scoped>\n",
       "    .dataframe tbody tr th:only-of-type {\n",
       "        vertical-align: middle;\n",
       "    }\n",
       "\n",
       "    .dataframe tbody tr th {\n",
       "        vertical-align: top;\n",
       "    }\n",
       "\n",
       "    .dataframe thead th {\n",
       "        text-align: right;\n",
       "    }\n",
       "</style>\n",
       "<table border=\"1\" class=\"dataframe\">\n",
       "  <thead>\n",
       "    <tr style=\"text-align: right;\">\n",
       "      <th></th>\n",
       "      <th>Country</th>\n",
       "      <th>Year</th>\n",
       "      <th>Population (millions)</th>\n",
       "      <th>Rate of Change (%) - Broadband</th>\n",
       "      <th>Rate of Change (%) - Mobile</th>\n",
       "      <th>Rural electricity access (%)</th>\n",
       "    </tr>\n",
       "  </thead>\n",
       "  <tbody>\n",
       "    <tr>\n",
       "      <th>0</th>\n",
       "      <td>Algeria</td>\n",
       "      <td>2018</td>\n",
       "      <td>41.3</td>\n",
       "      <td>23.47</td>\n",
       "      <td>6.62</td>\n",
       "      <td>96.87</td>\n",
       "    </tr>\n",
       "    <tr>\n",
       "      <th>1</th>\n",
       "      <td>Algeria</td>\n",
       "      <td>2019</td>\n",
       "      <td>42.1</td>\n",
       "      <td>10.07</td>\n",
       "      <td>-4.48</td>\n",
       "      <td>96.87</td>\n",
       "    </tr>\n",
       "    <tr>\n",
       "      <th>2</th>\n",
       "      <td>Algeria</td>\n",
       "      <td>2020</td>\n",
       "      <td>42.9</td>\n",
       "      <td>-6.44</td>\n",
       "      <td>0.81</td>\n",
       "      <td>100.00</td>\n",
       "    </tr>\n",
       "    <tr>\n",
       "      <th>3</th>\n",
       "      <td>Algeria</td>\n",
       "      <td>2021</td>\n",
       "      <td>43.7</td>\n",
       "      <td>14.60</td>\n",
       "      <td>-2.06</td>\n",
       "      <td>96.70</td>\n",
       "    </tr>\n",
       "    <tr>\n",
       "      <th>4</th>\n",
       "      <td>Angola</td>\n",
       "      <td>2018</td>\n",
       "      <td>29.8</td>\n",
       "      <td>-47.27</td>\n",
       "      <td>-9.44</td>\n",
       "      <td>5.55</td>\n",
       "    </tr>\n",
       "    <tr>\n",
       "      <th>...</th>\n",
       "      <td>...</td>\n",
       "      <td>...</td>\n",
       "      <td>...</td>\n",
       "      <td>...</td>\n",
       "      <td>...</td>\n",
       "      <td>...</td>\n",
       "    </tr>\n",
       "    <tr>\n",
       "      <th>473</th>\n",
       "      <td>Zambia</td>\n",
       "      <td>2021</td>\n",
       "      <td>18.4</td>\n",
       "      <td>19.05</td>\n",
       "      <td>8.07</td>\n",
       "      <td>6.30</td>\n",
       "    </tr>\n",
       "    <tr>\n",
       "      <th>474</th>\n",
       "      <td>Zimbabwe</td>\n",
       "      <td>2018</td>\n",
       "      <td>14.2</td>\n",
       "      <td>2.52</td>\n",
       "      <td>-0.54</td>\n",
       "      <td>11.00</td>\n",
       "    </tr>\n",
       "    <tr>\n",
       "      <th>475</th>\n",
       "      <td>Zimbabwe</td>\n",
       "      <td>2019</td>\n",
       "      <td>14.4</td>\n",
       "      <td>8.20</td>\n",
       "      <td>7.84</td>\n",
       "      <td>11.00</td>\n",
       "    </tr>\n",
       "    <tr>\n",
       "      <th>476</th>\n",
       "      <td>Zimbabwe</td>\n",
       "      <td>2020</td>\n",
       "      <td>14.6</td>\n",
       "      <td>6.82</td>\n",
       "      <td>-9.70</td>\n",
       "      <td>11.50</td>\n",
       "    </tr>\n",
       "    <tr>\n",
       "      <th>477</th>\n",
       "      <td>Zimbabwe</td>\n",
       "      <td>2021</td>\n",
       "      <td>14.9</td>\n",
       "      <td>-0.71</td>\n",
       "      <td>0.78</td>\n",
       "      <td>36.20</td>\n",
       "    </tr>\n",
       "  </tbody>\n",
       "</table>\n",
       "<p>444 rows × 6 columns</p>\n",
       "</div>"
      ],
      "text/plain": [
       "      Country  Year  Population (millions)  Rate of Change (%) - Broadband  \\\n",
       "0     Algeria  2018                   41.3                           23.47   \n",
       "1     Algeria  2019                   42.1                           10.07   \n",
       "2     Algeria  2020                   42.9                           -6.44   \n",
       "3     Algeria  2021                   43.7                           14.60   \n",
       "4      Angola  2018                   29.8                          -47.27   \n",
       "..        ...   ...                    ...                             ...   \n",
       "473    Zambia  2021                   18.4                           19.05   \n",
       "474  Zimbabwe  2018                   14.2                            2.52   \n",
       "475  Zimbabwe  2019                   14.4                            8.20   \n",
       "476  Zimbabwe  2020                   14.6                            6.82   \n",
       "477  Zimbabwe  2021                   14.9                           -0.71   \n",
       "\n",
       "     Rate of Change (%) - Mobile  Rural electricity access (%)  \n",
       "0                           6.62                         96.87  \n",
       "1                          -4.48                         96.87  \n",
       "2                           0.81                        100.00  \n",
       "3                          -2.06                         96.70  \n",
       "4                          -9.44                          5.55  \n",
       "..                           ...                           ...  \n",
       "473                         8.07                          6.30  \n",
       "474                        -0.54                         11.00  \n",
       "475                         7.84                         11.00  \n",
       "476                        -9.70                         11.50  \n",
       "477                         0.78                         36.20  \n",
       "\n",
       "[444 rows x 6 columns]"
      ]
     },
     "execution_count": 8,
     "metadata": {},
     "output_type": "execute_result"
    }
   ],
   "source": [
    "# Remove extreme outliers\n",
    "internet_adoption_rate_condensed = internet_adoption_rate_clean[\n",
    "    (internet_adoption_rate_clean['Rate of Change (%) - Broadband'] >= -50) &\n",
    "    (internet_adoption_rate_clean['Rate of Change (%) - Broadband'] <= 50) &\n",
    "    (internet_adoption_rate_clean['Rate of Change (%) - Mobile'] >= -50) &\n",
    "    (internet_adoption_rate_clean['Rate of Change (%) - Mobile'] <= 50)\n",
    "]\n",
    "\n",
    "internet_adoption_rate_condensed"
   ]
  },
  {
   "cell_type": "code",
   "execution_count": 9,
   "metadata": {},
   "outputs": [
    {
     "data": {
      "image/png": "[encoded data removed]",
      "text/plain": [
       "<Figure size 640x480 with 1 Axes>"
      ]
     },
     "metadata": {},
     "output_type": "display_data"
    }
   ],
   "source": [
    "# List of years\n",
    "years = internet_adoption_rate_condensed[\"Year\"].unique()\n",
    "\n",
    "# Find average rate of changes per year and rename the columns\n",
    "yearly_avg_change_broadband = pd.DataFrame(internet_adoption_rate_condensed.groupby(\"Year\")[\"Rate of Change (%) - Broadband\"].mean()).reset_index()\n",
    "yearly_avg_change_broadband = yearly_avg_change_broadband.rename(columns={\"Rate of Change (%) - Broadband\": \"Average Rate of Change (%) - Broadband\"})\n",
    "yearly_avg_change_mobile = pd.DataFrame(internet_adoption_rate_condensed.groupby(\"Year\")[\"Rate of Change (%) - Mobile\"].mean()).reset_index()\n",
    "yearly_avg_change_mobile = yearly_avg_change_mobile.rename(columns={\"Rate of Change (%) - Mobile\": \"Average Rate of Change (%) - Mobile\"})\n",
    "\n",
    "# Merge the averages to form a new dataframe\n",
    "merged_yearly_averages = yearly_avg_change_broadband.merge(yearly_avg_change_mobile, on=\"Year\")\n",
    "\n",
    "# Test Display\n",
    "merged_yearly_averages\n",
    "\n",
    "fig, ax = plt.subplots()\n",
    "ax.plot(years,merged_yearly_averages[\"Average Rate of Change (%) - Broadband\"], label=\"Broadband\")\n",
    "ax.plot(years,merged_yearly_averages[\"Average Rate of Change (%) - Mobile\"], label=\"Mobile\")\n",
    "ax.set_xlabel(\"Year\")\n",
    "ax.set_ylabel(\"Average Change (%)\")\n",
    "ax.set_title(\"Global Internet Access by Type - Changes over Time\")\n",
    "ax.legend()\n",
    "ax.set_xticks(years)\n",
    "plt.show()"
   ]
  },
  {
   "cell_type": "code",
   "execution_count": 10,
   "metadata": {},
   "outputs": [
    {
     "data": {
      "text/html": [
       "<div>\n",
       "<style scoped>\n",
       "    .dataframe tbody tr th:only-of-type {\n",
       "        vertical-align: middle;\n",
       "    }\n",
       "\n",
       "    .dataframe tbody tr th {\n",
       "        vertical-align: top;\n",
       "    }\n",
       "\n",
       "    .dataframe thead th {\n",
       "        text-align: right;\n",
       "    }\n",
       "</style>\n",
       "<table border=\"1\" class=\"dataframe\">\n",
       "  <thead>\n",
       "    <tr style=\"text-align: right;\">\n",
       "      <th></th>\n",
       "      <th>Country</th>\n",
       "      <th>Average Rate of Change (%) - Broadband</th>\n",
       "      <th>Average Rate of Change (%) - Mobile</th>\n",
       "    </tr>\n",
       "  </thead>\n",
       "  <tbody>\n",
       "    <tr>\n",
       "      <th>0</th>\n",
       "      <td>Algeria</td>\n",
       "      <td>10.4250</td>\n",
       "      <td>0.222500</td>\n",
       "    </tr>\n",
       "    <tr>\n",
       "      <th>1</th>\n",
       "      <td>Angola</td>\n",
       "      <td>-5.4025</td>\n",
       "      <td>-1.447500</td>\n",
       "    </tr>\n",
       "    <tr>\n",
       "      <th>2</th>\n",
       "      <td>Argentina</td>\n",
       "      <td>5.4050</td>\n",
       "      <td>-3.205000</td>\n",
       "    </tr>\n",
       "    <tr>\n",
       "      <th>3</th>\n",
       "      <td>Australia</td>\n",
       "      <td>5.0500</td>\n",
       "      <td>0.677500</td>\n",
       "    </tr>\n",
       "    <tr>\n",
       "      <th>4</th>\n",
       "      <td>Austria</td>\n",
       "      <td>-0.1350</td>\n",
       "      <td>-5.970000</td>\n",
       "    </tr>\n",
       "    <tr>\n",
       "      <th>...</th>\n",
       "      <td>...</td>\n",
       "      <td>...</td>\n",
       "      <td>...</td>\n",
       "    </tr>\n",
       "    <tr>\n",
       "      <th>114</th>\n",
       "      <td>Uzbekistan</td>\n",
       "      <td>17.0000</td>\n",
       "      <td>12.770000</td>\n",
       "    </tr>\n",
       "    <tr>\n",
       "      <th>115</th>\n",
       "      <td>Venezuela</td>\n",
       "      <td>1.0625</td>\n",
       "      <td>-15.555000</td>\n",
       "    </tr>\n",
       "    <tr>\n",
       "      <th>116</th>\n",
       "      <td>Vietnam</td>\n",
       "      <td>16.8175</td>\n",
       "      <td>2.417500</td>\n",
       "    </tr>\n",
       "    <tr>\n",
       "      <th>117</th>\n",
       "      <td>Zambia</td>\n",
       "      <td>18.7500</td>\n",
       "      <td>5.823333</td>\n",
       "    </tr>\n",
       "    <tr>\n",
       "      <th>118</th>\n",
       "      <td>Zimbabwe</td>\n",
       "      <td>4.2075</td>\n",
       "      <td>-0.405000</td>\n",
       "    </tr>\n",
       "  </tbody>\n",
       "</table>\n",
       "<p>119 rows × 3 columns</p>\n",
       "</div>"
      ],
      "text/plain": [
       "        Country  Average Rate of Change (%) - Broadband  \\\n",
       "0       Algeria                                 10.4250   \n",
       "1        Angola                                 -5.4025   \n",
       "2     Argentina                                  5.4050   \n",
       "3     Australia                                  5.0500   \n",
       "4       Austria                                 -0.1350   \n",
       "..          ...                                     ...   \n",
       "114  Uzbekistan                                 17.0000   \n",
       "115   Venezuela                                  1.0625   \n",
       "116     Vietnam                                 16.8175   \n",
       "117      Zambia                                 18.7500   \n",
       "118    Zimbabwe                                  4.2075   \n",
       "\n",
       "     Average Rate of Change (%) - Mobile  \n",
       "0                               0.222500  \n",
       "1                              -1.447500  \n",
       "2                              -3.205000  \n",
       "3                               0.677500  \n",
       "4                              -5.970000  \n",
       "..                                   ...  \n",
       "114                            12.770000  \n",
       "115                           -15.555000  \n",
       "116                             2.417500  \n",
       "117                             5.823333  \n",
       "118                            -0.405000  \n",
       "\n",
       "[119 rows x 3 columns]"
      ]
     },
     "execution_count": 10,
     "metadata": {},
     "output_type": "execute_result"
    }
   ],
   "source": [
    "# Find average rate of changes per country and rename the columns\n",
    "avg_change_broadband_all = pd.DataFrame(internet_adoption_rate_condensed.groupby(\"Country\")[\"Rate of Change (%) - Broadband\"].mean()).reset_index()\n",
    "avg_change_broadband_all = avg_change_broadband_all.rename(columns={\"Rate of Change (%) - Broadband\": \"Average Rate of Change (%) - Broadband\"})\n",
    "avg_change_mobile_all = pd.DataFrame(internet_adoption_rate_condensed.groupby(\"Country\")[\"Rate of Change (%) - Mobile\"].mean()).reset_index()\n",
    "avg_change_mobile_all = avg_change_mobile_all.rename(columns={\"Rate of Change (%) - Mobile\": \"Average Rate of Change (%) - Mobile\"})\n",
    "\n",
    "# Merge the averages to form a new dataframe\n",
    "merged_averages = avg_change_broadband_all.merge(avg_change_mobile_all, on=\"Country\")\n",
    "\n",
    "# Test Display\n",
    "merged_averages"
   ]
  },
  {
   "cell_type": "code",
   "execution_count": 11,
   "metadata": {},
   "outputs": [
    {
     "name": "stdout",
     "output_type": "stream",
     "text": [
      "The r-value is: 0.03303467204224181\n"
     ]
    },
    {
     "data": {
      "image/png": "[encoded data removed]",
      "text/plain": [
       "<Figure size 640x480 with 1 Axes>"
      ]
     },
     "metadata": {},
     "output_type": "display_data"
    }
   ],
   "source": [
    "# Calculate the average change per year of both mobile and broadband access\n",
    "\n",
    "# Find average rate of change for Broadband per country\n",
    "avg_change_broadband = merged_averages[\"Average Rate of Change (%) - Broadband\"]\n",
    "avg_change_mobile = merged_averages[\"Average Rate of Change (%) - Mobile\"]\n",
    "\n",
    "# Define linear regression formula\n",
    "def linear_regression_line(arg1, arg2):\n",
    "    slope, intercept, r_value, p_value, std_err = linregress(arg1, arg2)\n",
    "    line = slope * arg1 + intercept\n",
    "    equation_text = f\"y = {round(slope,2)}x {'+' if intercept >= 0 else '-'} {abs(round(intercept,2))}\"\n",
    "    return line, r_value, round(slope,2), round(intercept,2), equation_text\n",
    "\n",
    "# Calculate Linear regression line\n",
    "regression_line, r_value, slope, intercept, equation_text = linear_regression_line(avg_change_broadband, avg_change_mobile)\n",
    "\n",
    "# Print the R^2 value\n",
    "print(f\"The r-value is: {r_value**2}\")\n",
    "\n",
    "#Create Plots\n",
    "fig, ax = plt.subplots()\n",
    "ax.scatter(avg_change_broadband, avg_change_mobile)\n",
    "plt.plot(avg_change_broadband, regression_line, color='red')\n",
    "ax.set_xlabel(\"Rate of Change (%) - Broadband\")\n",
    "ax.set_ylabel(\"Rate of Change (%) - Mobile\")\n",
    "ax.set_xlim(-20, 30)\n",
    "ax.set_ylim(-20, 20)\n",
    "plt.show()"
   ]
  },
  {
   "cell_type": "markdown",
   "metadata": {},
   "source": [
    "## Broadband Top 10 Countries"
   ]
  },
  {
   "cell_type": "code",
   "execution_count": null,
   "metadata": {},
   "outputs": [],
   "source": [
    "#Find the top 10 Broadband Countries\n",
    "broadband_top_ten = broadband_population.nlargest(10)"
   ]
  },
  {
   "cell_type": "code",
   "execution_count": null,
   "metadata": {},
   "outputs": [],
   "source": [
    "#Find the last 10 Broadband Countries\n",
    "broadband_last_ten = broadband_population.nsmallest(10)"
   ]
  },
  {
   "cell_type": "code",
   "execution_count": null,
   "metadata": {},
   "outputs": [],
   "source": [
    "#Find the Lat and Lon\n",
    "#Set the Id's for the search\n",
    "g_ids = ['China', 'United States', 'Japan', 'Germany', 'Russia', 'Brazil', 'France', 'United Kingdom', \n",
    "         'South Korea', 'India','Guinea', 'Congo (DRC)', 'Burundi', 'Liberia', 'Malawi', 'Burkina Faso', 'Niger', \n",
    "         'Rwanda', 'Papua New Guinea', 'Gabon']\n",
    "\n",
    "#Search the DataFrame and return the results from the appended list\n",
    "broadband_top_country = subscriber_data_complete[subscriber_data_complete['Country'].isin(g_ids)][['Country','Lat', 'Lng']]\n",
    "\n",
    "#Set the new order of the DataFrame\n",
    "order = ['China', 'United States', 'Japan', 'Germany', 'Russia', 'Brazil', 'France', 'United Kingdom', \n",
    "         'South Korea', 'India','Guinea', 'Congo (DRC)', 'Burundi', 'Liberia', 'Malawi', 'Burkina Faso', 'Niger', \n",
    "         'Rwanda', 'Papua New Guinea', 'Gabon']\n",
    "lat_broadband = broadband_top_country.set_index('Country').reindex(order).reset_index()\n",
    "lat_broadband"
   ]
  },
  {
   "cell_type": "code",
   "execution_count": null,
   "metadata": {},
   "outputs": [],
   "source": [
    "#Add Data to two data frames\n",
    "broadband_top = pd.DataFrame({\"Broadband Top 10\" : broadband_top_ten})\n",
    "broadband_bottom = pd.DataFrame({\"Broadband Bottom 10\" : broadband_last_ten})\n",
    "\n",
    "# Minor data cleaning - renaming\n",
    "broadband_top = broadband_top.rename_axis('Top Country')\n",
    "broadband_bottom = broadband_bottom.rename_axis('Bottom Country')\n",
    "\n",
    "# Minor data cleaning - adding columns and values\n",
    "broadband_top[\"Broadband Top 10\"] = broadband_top[\"Broadband Top 10\"].map(\"{:,.2f}\".format)\n",
    "broadband_top['Place'] = [1, 2, 3, 4, 5, 6, 7, 8, 9, 10]\n",
    "broadband_top['Number'] = [10, 9, 8, 7, 6, 5, 4, 3, 2, 1]\n",
    "broadband_bottom[\"Broadband Bottom 10\"] = broadband_bottom[\"Broadband Bottom 10\"].map(\"{:,.2f}\".format)\n",
    "broadband_bottom['Place'] = [1, 2, 3, 4, 5, 6, 7, 8, 9, 10]\n",
    "broadband_bottom['Number'] = [-10, -9, -8, -7, -6, -5, -4, -3, -2, -1]\n",
    "\n",
    "# Display the DataFrame\n",
    "display(broadband_top, broadband_bottom)\n",
    "\n",
    "#Export both singles to one CSV\n",
    "broadband_top.to_csv(\"Resources/Broadband_10.csv\")\n",
    "broadband_bottom.to_csv(\"Resources/Broadband_10.csv\", mode='a', header=True)\n",
    "lat_broadband.to_csv(\"Resources/Broadband_10.csv\", mode='a', header=True)"
   ]
  },
  {
   "cell_type": "code",
   "execution_count": 2,
   "metadata": {},
   "outputs": [
    {
     "data": {
      "text/html": [
       "<div>\n",
       "<style scoped>\n",
       "    .dataframe tbody tr th:only-of-type {\n",
       "        vertical-align: middle;\n",
       "    }\n",
       "\n",
       "    .dataframe tbody tr th {\n",
       "        vertical-align: top;\n",
       "    }\n",
       "\n",
       "    .dataframe thead th {\n",
       "        text-align: right;\n",
       "    }\n",
       "</style>\n",
       "<table border=\"1\" class=\"dataframe\">\n",
       "  <thead>\n",
       "    <tr style=\"text-align: right;\">\n",
       "      <th></th>\n",
       "      <th>Top Broadband Country</th>\n",
       "      <th>Broadband Top 10</th>\n",
       "      <th>Place</th>\n",
       "      <th>Number</th>\n",
       "      <th>Lat</th>\n",
       "      <th>Lng</th>\n",
       "    </tr>\n",
       "  </thead>\n",
       "  <tbody>\n",
       "    <tr>\n",
       "      <th>0</th>\n",
       "      <td>China</td>\n",
       "      <td>360.17</td>\n",
       "      <td>1</td>\n",
       "      <td>10</td>\n",
       "      <td>35.000074</td>\n",
       "      <td>104.999927</td>\n",
       "    </tr>\n",
       "    <tr>\n",
       "      <th>1</th>\n",
       "      <td>United States</td>\n",
       "      <td>108.89</td>\n",
       "      <td>2</td>\n",
       "      <td>9</td>\n",
       "      <td>39.783730</td>\n",
       "      <td>-100.445882</td>\n",
       "    </tr>\n",
       "    <tr>\n",
       "      <th>2</th>\n",
       "      <td>Japan</td>\n",
       "      <td>40.56</td>\n",
       "      <td>3</td>\n",
       "      <td>8</td>\n",
       "      <td>36.574844</td>\n",
       "      <td>139.239418</td>\n",
       "    </tr>\n",
       "    <tr>\n",
       "      <th>3</th>\n",
       "      <td>Germany</td>\n",
       "      <td>33.04</td>\n",
       "      <td>4</td>\n",
       "      <td>7</td>\n",
       "      <td>51.163818</td>\n",
       "      <td>10.447831</td>\n",
       "    </tr>\n",
       "    <tr>\n",
       "      <th>4</th>\n",
       "      <td>Russia</td>\n",
       "      <td>30.75</td>\n",
       "      <td>5</td>\n",
       "      <td>6</td>\n",
       "      <td>64.686314</td>\n",
       "      <td>97.745306</td>\n",
       "    </tr>\n",
       "    <tr>\n",
       "      <th>5</th>\n",
       "      <td>Brazil</td>\n",
       "      <td>29.15</td>\n",
       "      <td>6</td>\n",
       "      <td>5</td>\n",
       "      <td>-10.333333</td>\n",
       "      <td>-53.200000</td>\n",
       "    </tr>\n",
       "    <tr>\n",
       "      <th>6</th>\n",
       "      <td>France</td>\n",
       "      <td>28.44</td>\n",
       "      <td>7</td>\n",
       "      <td>4</td>\n",
       "      <td>46.603354</td>\n",
       "      <td>1.888334</td>\n",
       "    </tr>\n",
       "    <tr>\n",
       "      <th>7</th>\n",
       "      <td>United Kingdom</td>\n",
       "      <td>26.02</td>\n",
       "      <td>8</td>\n",
       "      <td>3</td>\n",
       "      <td>54.702354</td>\n",
       "      <td>-3.276575</td>\n",
       "    </tr>\n",
       "    <tr>\n",
       "      <th>8</th>\n",
       "      <td>South Korea</td>\n",
       "      <td>21.03</td>\n",
       "      <td>9</td>\n",
       "      <td>2</td>\n",
       "      <td>36.638392</td>\n",
       "      <td>127.696119</td>\n",
       "    </tr>\n",
       "    <tr>\n",
       "      <th>9</th>\n",
       "      <td>India</td>\n",
       "      <td>18.31</td>\n",
       "      <td>10</td>\n",
       "      <td>1</td>\n",
       "      <td>22.351115</td>\n",
       "      <td>78.667743</td>\n",
       "    </tr>\n",
       "  </tbody>\n",
       "</table>\n",
       "</div>"
      ],
      "text/plain": [
       "  Top Broadband Country  Broadband Top 10  Place  Number        Lat  \\\n",
       "0                 China            360.17      1      10  35.000074   \n",
       "1         United States            108.89      2       9  39.783730   \n",
       "2                 Japan             40.56      3       8  36.574844   \n",
       "3               Germany             33.04      4       7  51.163818   \n",
       "4                Russia             30.75      5       6  64.686314   \n",
       "5                Brazil             29.15      6       5 -10.333333   \n",
       "6                France             28.44      7       4  46.603354   \n",
       "7        United Kingdom             26.02      8       3  54.702354   \n",
       "8           South Korea             21.03      9       2  36.638392   \n",
       "9                 India             18.31     10       1  22.351115   \n",
       "\n",
       "          Lng  \n",
       "0  104.999927  \n",
       "1 -100.445882  \n",
       "2  139.239418  \n",
       "3   10.447831  \n",
       "4   97.745306  \n",
       "5  -53.200000  \n",
       "6    1.888334  \n",
       "7   -3.276575  \n",
       "8  127.696119  \n",
       "9   78.667743  "
      ]
     },
     "execution_count": 2,
     "metadata": {},
     "output_type": "execute_result"
    }
   ],
   "source": [
    "#Import the complete CSV\n",
    "data_to_load = Path(\"Resources/Broadband_10.csv\")\n",
    "\n",
    "broadband_ten_data = pd.read_csv(data_to_load)\n",
    "\n",
    "#Split into two \n",
    "broadband_ten_data = broadband_ten_data.iloc[:, :6]\n",
    "\n",
    "broadband_ten_data.rename(columns={'Top Country': 'Top Broadband Country'}, inplace=True)\n",
    "\n",
    "#Show\n",
    "broadband_ten_data\n"
   ]
  },
  {
   "cell_type": "code",
   "execution_count": 41,
   "metadata": {
    "scrolled": true
   },
   "outputs": [
    {
     "data": {},
     "metadata": {},
     "output_type": "display_data"
    },
    {
     "data": {
      "application/vnd.holoviews_exec.v0+json": "",
      "text/html": [
       "<div id='p1379'>\n",
       "  <div id=\"eef66715-ef9b-4da7-bb36-2188bed275ec\" data-root-id=\"p1379\" style=\"display: contents;\"></div>\n",
       "</div>\n",
       "<script type=\"application/javascript\">(function(root) {\n",
       "  var docs_json = {\"cbf7cc2d-55ba-42e2-8ec7-784264539702\":{\"version\":\"3.3.0\",\"title\":\"Bokeh Application\",\"roots\":[{\"type\":\"object\",\"name\":\"Row\",\"id\":\"p1379\",\"attributes\":{\"name\":\"Row02318\",\"tags\":[\"embedded\"],\"stylesheets\":[\"\\n:host(.pn-loading.pn-arc):before, .pn-loading.pn-arc:before {\\n  background-image: url(\\\"data:image/svg+xml;base64,PHN2ZyB4bWxucz0iaHR0cDovL3d3dy53My5vcmcvMjAwMC9zdmciIHN0eWxlPSJtYXJnaW46IGF1dG87IGJhY2tncm91bmQ6IG5vbmU7IGRpc3BsYXk6IGJsb2NrOyBzaGFwZS1yZW5kZXJpbmc6IGF1dG87IiB2aWV3Qm94PSIwIDAgMTAwIDEwMCIgcHJlc2VydmVBc3BlY3RSYXRpbz0ieE1pZFlNaWQiPiAgPGNpcmNsZSBjeD0iNTAiIGN5PSI1MCIgZmlsbD0ibm9uZSIgc3Ryb2tlPSIjYzNjM2MzIiBzdHJva2Utd2lkdGg9IjEwIiByPSIzNSIgc3Ryb2tlLWRhc2hhcnJheT0iMTY0LjkzMzYxNDMxMzQ2NDE1IDU2Ljk3Nzg3MTQzNzgyMTM4Ij4gICAgPGFuaW1hdGVUcmFuc2Zvcm0gYXR0cmlidXRlTmFtZT0idHJhbnNmb3JtIiB0eXBlPSJyb3RhdGUiIHJlcGVhdENvdW50PSJpbmRlZmluaXRlIiBkdXI9IjFzIiB2YWx1ZXM9IjAgNTAgNTA7MzYwIDUwIDUwIiBrZXlUaW1lcz0iMDsxIj48L2FuaW1hdGVUcmFuc2Zvcm0+ICA8L2NpcmNsZT48L3N2Zz4=\\\");\\n  background-size: auto calc(min(50%, 400px));\\n}\",{\"type\":\"object\",\"name\":\"ImportedStyleSheet\",\"id\":\"p1382\",\"attributes\":{\"url\":\"https://cdn.holoviz.org/panel/1.3.1/dist/css/loading.css\"}},{\"type\":\"object\",\"name\":\"ImportedStyleSheet\",\"id\":\"p1464\",\"attributes\":{\"url\":\"https://cdn.holoviz.org/panel/1.3.1/dist/css/listpanel.css\"}},{\"type\":\"object\",\"name\":\"ImportedStyleSheet\",\"id\":\"p1380\",\"attributes\":{\"url\":\"https://cdn.holoviz.org/panel/1.3.1/dist/bundled/theme/default.css\"}},{\"type\":\"object\",\"name\":\"ImportedStyleSheet\",\"id\":\"p1381\",\"attributes\":{\"url\":\"https://cdn.holoviz.org/panel/1.3.1/dist/bundled/theme/native.css\"}}],\"margin\":0,\"sizing_mode\":\"stretch_width\",\"align\":\"start\",\"children\":[{\"type\":\"object\",\"name\":\"Spacer\",\"id\":\"p1383\",\"attributes\":{\"name\":\"HSpacer02328\",\"stylesheets\":[\"\\n:host(.pn-loading.pn-arc):before, .pn-loading.pn-arc:before {\\n  background-image: url(\\\"data:image/svg+xml;base64,PHN2ZyB4bWxucz0iaHR0cDovL3d3dy53My5vcmcvMjAwMC9zdmciIHN0eWxlPSJtYXJnaW46IGF1dG87IGJhY2tncm91bmQ6IG5vbmU7IGRpc3BsYXk6IGJsb2NrOyBzaGFwZS1yZW5kZXJpbmc6IGF1dG87IiB2aWV3Qm94PSIwIDAgMTAwIDEwMCIgcHJlc2VydmVBc3BlY3RSYXRpbz0ieE1pZFlNaWQiPiAgPGNpcmNsZSBjeD0iNTAiIGN5PSI1MCIgZmlsbD0ibm9uZSIgc3Ryb2tlPSIjYzNjM2MzIiBzdHJva2Utd2lkdGg9IjEwIiByPSIzNSIgc3Ryb2tlLWRhc2hhcnJheT0iMTY0LjkzMzYxNDMxMzQ2NDE1IDU2Ljk3Nzg3MTQzNzgyMTM4Ij4gICAgPGFuaW1hdGVUcmFuc2Zvcm0gYXR0cmlidXRlTmFtZT0idHJhbnNmb3JtIiB0eXBlPSJyb3RhdGUiIHJlcGVhdENvdW50PSJpbmRlZmluaXRlIiBkdXI9IjFzIiB2YWx1ZXM9IjAgNTAgNTA7MzYwIDUwIDUwIiBrZXlUaW1lcz0iMDsxIj48L2FuaW1hdGVUcmFuc2Zvcm0+ICA8L2NpcmNsZT48L3N2Zz4=\\\");\\n  background-size: auto calc(min(50%, 400px));\\n}\",{\"id\":\"p1382\"},{\"id\":\"p1380\"},{\"id\":\"p1381\"}],\"margin\":0,\"sizing_mode\":\"stretch_width\",\"align\":\"start\"}},{\"type\":\"object\",\"name\":\"Figure\",\"id\":\"p1404\",\"attributes\":{\"width\":null,\"height\":null,\"margin\":[5,10],\"sizing_mode\":\"fixed\",\"align\":\"start\",\"x_range\":{\"type\":\"object\",\"name\":\"Range1d\",\"id\":\"p1393\",\"attributes\":{\"tags\":[[[\"Longitude\",\"Longitude\",null]],[]],\"start\":-12782483.043973522,\"end\":17100959.70643211,\"reset_start\":-12782483.043973522,\"reset_end\":17100959.70643211,\"min_interval\":5}},\"y_range\":{\"type\":\"object\",\"name\":\"Range1d\",\"id\":\"p1394\",\"attributes\":{\"tags\":[[[\"Latitude\",\"Latitude\",null]],{\"type\":\"map\",\"entries\":[[\"invert_yaxis\",false],[\"autorange\",false]]}],\"start\":-4780214.108245509,\"end\":13149851.541997869,\"reset_start\":-4780214.108245509,\"reset_end\":13149851.541997869,\"min_interval\":5}},\"x_scale\":{\"type\":\"object\",\"name\":\"LinearScale\",\"id\":\"p1414\"},\"y_scale\":{\"type\":\"object\",\"name\":\"LinearScale\",\"id\":\"p1415\"},\"title\":{\"type\":\"object\",\"name\":\"Title\",\"id\":\"p1407\",\"attributes\":{\"text\":\"Broadband Top 10 Countries by Penetration (%)\",\"text_color\":\"black\",\"text_font_size\":\"12pt\"}},\"renderers\":[{\"type\":\"object\",\"name\":\"TileRenderer\",\"id\":\"p1437\",\"attributes\":{\"level\":\"underlay\",\"tile_source\":{\"type\":\"object\",\"name\":\"WMTSTileSource\",\"id\":\"p1433\",\"attributes\":{\"url\":\"https://server.arcgisonline.com/ArcGIS/rest/services/World_Terrain_Base/MapServer/tile/{Z}/{Y}/{X}\",\"attribution\":\"&copy; <a href=\\\"http://downloads.esri.com/ArcGISOnline/docs/tou_summary.pdf\\\">Esri</a>, USGS, NOAA\"}}}},{\"type\":\"object\",\"name\":\"GlyphRenderer\",\"id\":\"p1453\",\"attributes\":{\"data_source\":{\"type\":\"object\",\"name\":\"ColumnDataSource\",\"id\":\"p1442\",\"attributes\":{\"selected\":{\"type\":\"object\",\"name\":\"Selection\",\"id\":\"p1443\",\"attributes\":{\"indices\":[],\"line_indices\":[]}},\"selection_policy\":{\"type\":\"object\",\"name\":\"UnionRenderers\",\"id\":\"p1444\"},\"data\":{\"type\":\"map\",\"entries\":[[\"Lng\",{\"type\":\"ndarray\",\"array\":{\"type\":\"bytes\",\"data\":\"7ecFTUtLZkF9+/cNwlNlwdvXKqNjkG1B4R+dQie/MUEwwXq298BkQaLAQDpll1bBmS/flgKpCUEnr5jGKkMWwemYeV3zHGtBWlNAogC0YEE=\"},\"shape\":[10],\"dtype\":\"float64\",\"order\":\"little\"}],[\"Lat\",{\"type\":\"ndarray\",\"array\":{\"type\":\"bytes\",\"data\":\"1NSlmZnET0FI6lcKQXFSQVB/Q4RatVBBdrhVnXReWUFPWOpAeitiQb+tmXLspTHBM6w2ftBrVkEKhL0KHt1bQTR9LZz1vVBBDdrlpcJ7Q0E=\"},\"shape\":[10],\"dtype\":\"float64\",\"order\":\"little\"}],[\"Broadband_Top_10\",{\"type\":\"ndarray\",\"array\":{\"type\":\"bytes\",\"data\":\"H4XrUbiCdkApXI/C9ThbQEjhehSuR0RAhetRuB6FQEAAAAAAAMA+QGZmZmZmJj1AcT0K16NwPECF61G4HgU6QEjhehSuBzVAj8L1KFxPMkA=\"},\"shape\":[10],\"dtype\":\"float64\",\"order\":\"little\"}],[\"Top_Broadband_Country\",[\"China\",\"United States\",\"Japan\",\"Germany\",\"Russia\",\"Brazil\",\"France\",\"United Kingdom\",\"South Korea\",\"India\"]],[\"Place\",{\"type\":\"ndarray\",\"array\":{\"type\":\"bytes\",\"data\":\"AQAAAAIAAAADAAAABAAAAAUAAAAGAAAABwAAAAgAAAAJAAAACgAAAA==\"},\"shape\":[10],\"dtype\":\"int32\",\"order\":\"little\"}],[\"color\",{\"type\":\"ndarray\",\"array\":{\"type\":\"bytes\",\"data\":\"H4XrUbiCdkApXI/C9ThbQEjhehSuR0RAhetRuB6FQEAAAAAAAMA+QGZmZmZmJj1AcT0K16NwPECF61G4HgU6QEjhehSuBzVAj8L1KFxPMkA=\"},\"shape\":[10],\"dtype\":\"float64\",\"order\":\"little\"}],[\"size\",{\"type\":\"ndarray\",\"array\":{\"type\":\"bytes\",\"data\":\"l1kcmZt3PEAkqezHG04vQI6zVSAkGyNAXexGRH8+IUAOL8kZxKIgQOp30yN9MiBA/EtSJ1z/H0D2OZ8RG5seQDnTArrcgxtAyWnQkZKsGUA=\"},\"shape\":[10],\"dtype\":\"float64\",\"order\":\"little\"}]]}}},\"view\":{\"type\":\"object\",\"name\":\"CDSView\",\"id\":\"p1454\",\"attributes\":{\"filter\":{\"type\":\"object\",\"name\":\"AllIndices\",\"id\":\"p1455\"}}},\"glyph\":{\"type\":\"object\",\"name\":\"Scatter\",\"id\":\"p1448\",\"attributes\":{\"tags\":[\"apply_ranges\"],\"x\":{\"type\":\"field\",\"field\":\"Lng\"},\"y\":{\"type\":\"field\",\"field\":\"Lat\"},\"size\":{\"type\":\"field\",\"field\":\"size\"},\"line_color\":{\"type\":\"field\",\"field\":\"color\",\"transform\":{\"type\":\"object\",\"name\":\"LinearColorMapper\",\"id\":\"p1441\",\"attributes\":{\"palette\":[\"#006837\",\"#016937\",\"#026b38\",\"#036d39\",\"#046f3a\",\"#05713b\",\"#06733c\",\"#07753d\",\"#08773e\",\"#09783f\",\"#0a7a40\",\"#0b7c41\",\"#0c7e42\",\"#0d8043\",\"#0e8244\",\"#0f8445\",\"#108646\",\"#118847\",\"#128948\",\"#138b49\",\"#148d4a\",\"#158f4b\",\"#16914c\",\"#17934d\",\"#18954e\",\"#19974f\",\"#1b9850\",\"#1e9a51\",\"#219b51\",\"#249d52\",\"#279e53\",\"#2a9f54\",\"#2da154\",\"#30a255\",\"#33a456\",\"#36a557\",\"#39a757\",\"#3ca858\",\"#3faa59\",\"#42ab5a\",\"#45ad5a\",\"#48ae5b\",\"#4baf5c\",\"#4eb15d\",\"#51b25d\",\"#54b45e\",\"#57b55f\",\"#5ab760\",\"#5db860\",\"#60ba61\",\"#63bb62\",\"#66bd63\",\"#68be63\",\"#6bbf63\",\"#6dc063\",\"#70c164\",\"#72c264\",\"#75c364\",\"#77c464\",\"#7ac565\",\"#7cc665\",\"#7fc765\",\"#81c966\",\"#84ca66\",\"#86cb66\",\"#89cc66\",\"#8bcd67\",\"#8ece67\",\"#90cf67\",\"#93d067\",\"#95d168\",\"#98d268\",\"#9ad468\",\"#9dd569\",\"#9fd669\",\"#a2d769\",\"#a4d869\",\"#a7d96a\",\"#a9da6b\",\"#abdb6d\",\"#addc6e\",\"#afdc6f\",\"#b1dd71\",\"#b3de72\",\"#b5df73\",\"#b7e075\",\"#b9e176\",\"#bbe277\",\"#bde278\",\"#bfe37a\",\"#c1e47b\",\"#c3e57c\",\"#c5e67e\",\"#c7e77f\",\"#c9e880\",\"#cbe881\",\"#cde983\",\"#cfea84\",\"#d1eb85\",\"#d3ec87\",\"#d5ed88\",\"#d7ee89\",\"#d9ef8b\",\"#daef8d\",\"#dbf08f\",\"#ddf091\",\"#def193\",\"#e0f295\",\"#e1f297\",\"#e3f399\",\"#e4f49b\",\"#e6f49d\",\"#e7f59f\",\"#e9f5a1\",\"#eaf6a3\",\"#ecf7a5\",\"#edf7a7\",\"#eff8a9\",\"#f0f9ab\",\"#f2f9ad\",\"#f3faaf\",\"#f5fab1\",\"#f6fbb3\",\"#f8fcb5\",\"#f9fcb7\",\"#fbfdb9\",\"#fcfebb\",\"#fefebd\",\"#fefebd\",\"#fefdbb\",\"#fefbb9\",\"#fefab7\",\"#fef9b5\",\"#fef8b3\",\"#fef7b1\",\"#fef5af\",\"#fef4ad\",\"#fef3ab\",\"#fef2a9\",\"#fef1a7\",\"#feefa5\",\"#feeea3\",\"#feeda1\",\"#feec9f\",\"#feea9d\",\"#fee99b\",\"#fee899\",\"#fee797\",\"#fee695\",\"#fee493\",\"#fee391\",\"#fee28f\",\"#fee18d\",\"#fee08b\",\"#fdde89\",\"#fddc87\",\"#fdda86\",\"#fdd884\",\"#fdd682\",\"#fdd481\",\"#fdd27f\",\"#fdd07d\",\"#fdce7c\",\"#fdcc7a\",\"#fdca78\",\"#fdc877\",\"#fdc675\",\"#fdc473\",\"#fdc272\",\"#fdc070\",\"#fdbe6f\",\"#fdbc6d\",\"#fdba6b\",\"#fdb86a\",\"#fdb668\",\"#fdb466\",\"#fdb265\",\"#fdb063\",\"#fdae61\",\"#fcac60\",\"#fcaa5f\",\"#fca75e\",\"#fba55c\",\"#fba25b\",\"#fb9f5a\",\"#fa9d59\",\"#fa9a58\",\"#fa9857\",\"#f99555\",\"#f99354\",\"#f89053\",\"#f88e52\",\"#f88b51\",\"#f7894f\",\"#f7864e\",\"#f7834d\",\"#f6814c\",\"#f67e4b\",\"#f67c4a\",\"#f57948\",\"#f57747\",\"#f57446\",\"#f47245\",\"#f46f44\",\"#f46d43\",\"#f26a41\",\"#f16840\",\"#f0653f\",\"#ef633e\",\"#ee613d\",\"#ed5e3c\",\"#ec5c3b\",\"#ea593a\",\"#e95739\",\"#e85538\",\"#e75236\",\"#e65035\",\"#e54d34\",\"#e44b33\",\"#e24932\",\"#e14631\",\"#e04430\",\"#df412f\",\"#de3f2e\",\"#dd3d2d\",\"#dc3a2b\",\"#da382a\",\"#d93529\",\"#d83328\",\"#d73127\",\"#d62f26\",\"#d42d26\",\"#d22b26\",\"#d02926\",\"#ce2726\",\"#cc2526\",\"#ca2326\",\"#c82126\",\"#c62026\",\"#c41e26\",\"#c21c26\",\"#c01a26\",\"#be1826\",\"#bc1626\",\"#ba1426\",\"#b81226\",\"#b61026\",\"#b40f26\",\"#b20d26\",\"#b00b26\",\"#ae0926\",\"#ac0726\",\"#aa0526\",\"#a80326\",\"#a60126\",\"#a50026\"],\"low\":18.31,\"high\":360.17}}},\"fill_color\":{\"type\":\"field\",\"field\":\"color\",\"transform\":{\"id\":\"p1441\"}},\"hatch_color\":{\"type\":\"field\",\"field\":\"color\",\"transform\":{\"id\":\"p1441\"}}}},\"selection_glyph\":{\"type\":\"object\",\"name\":\"Scatter\",\"id\":\"p1450\",\"attributes\":{\"tags\":[\"apply_ranges\"],\"x\":{\"type\":\"field\",\"field\":\"Lng\"},\"y\":{\"type\":\"field\",\"field\":\"Lat\"},\"size\":{\"type\":\"field\",\"field\":\"size\"},\"line_color\":{\"type\":\"field\",\"field\":\"color\",\"transform\":{\"id\":\"p1441\"}},\"fill_color\":{\"type\":\"field\",\"field\":\"color\",\"transform\":{\"id\":\"p1441\"}},\"hatch_color\":{\"type\":\"field\",\"field\":\"color\",\"transform\":{\"id\":\"p1441\"}}}},\"nonselection_glyph\":{\"type\":\"object\",\"name\":\"Scatter\",\"id\":\"p1449\",\"attributes\":{\"tags\":[\"apply_ranges\"],\"x\":{\"type\":\"field\",\"field\":\"Lng\"},\"y\":{\"type\":\"field\",\"field\":\"Lat\"},\"size\":{\"type\":\"field\",\"field\":\"size\"},\"line_color\":{\"type\":\"field\",\"field\":\"color\",\"transform\":{\"id\":\"p1441\"}},\"line_alpha\":{\"type\":\"value\",\"value\":0.1},\"fill_color\":{\"type\":\"field\",\"field\":\"color\",\"transform\":{\"id\":\"p1441\"}},\"fill_alpha\":{\"type\":\"value\",\"value\":0.1},\"hatch_color\":{\"type\":\"field\",\"field\":\"color\",\"transform\":{\"id\":\"p1441\"}},\"hatch_alpha\":{\"type\":\"value\",\"value\":0.1}}},\"hover_glyph\":{\"type\":\"object\",\"name\":\"Scatter\",\"id\":\"p1451\",\"attributes\":{\"tags\":[\"apply_ranges\"],\"x\":{\"type\":\"field\",\"field\":\"Lng\"},\"y\":{\"type\":\"field\",\"field\":\"Lat\"},\"size\":{\"type\":\"field\",\"field\":\"size\"},\"line_color\":{\"type\":\"field\",\"field\":\"color\",\"transform\":{\"id\":\"p1441\"}},\"fill_color\":{\"type\":\"field\",\"field\":\"color\",\"transform\":{\"id\":\"p1441\"}},\"hatch_color\":{\"type\":\"field\",\"field\":\"color\",\"transform\":{\"id\":\"p1441\"}}}},\"muted_glyph\":{\"type\":\"object\",\"name\":\"Scatter\",\"id\":\"p1452\",\"attributes\":{\"tags\":[\"apply_ranges\"],\"x\":{\"type\":\"field\",\"field\":\"Lng\"},\"y\":{\"type\":\"field\",\"field\":\"Lat\"},\"size\":{\"type\":\"field\",\"field\":\"size\"},\"line_color\":{\"type\":\"field\",\"field\":\"color\",\"transform\":{\"id\":\"p1441\"}},\"line_alpha\":{\"type\":\"value\",\"value\":0.2},\"fill_color\":{\"type\":\"field\",\"field\":\"color\",\"transform\":{\"id\":\"p1441\"}},\"fill_alpha\":{\"type\":\"value\",\"value\":0.2},\"hatch_color\":{\"type\":\"field\",\"field\":\"color\",\"transform\":{\"id\":\"p1441\"}},\"hatch_alpha\":{\"type\":\"value\",\"value\":0.2}}}}}],\"toolbar\":{\"type\":\"object\",\"name\":\"Toolbar\",\"id\":\"p1413\",\"attributes\":{\"tools\":[{\"type\":\"object\",\"name\":\"WheelZoomTool\",\"id\":\"p1397\",\"attributes\":{\"renderers\":\"auto\",\"zoom_on_axis\":false}},{\"type\":\"object\",\"name\":\"BoxZoomTool\",\"id\":\"p1398\",\"attributes\":{\"overlay\":{\"type\":\"object\",\"name\":\"BoxAnnotation\",\"id\":\"p1006\",\"attributes\":{\"syncable\":false,\"level\":\"overlay\",\"visible\":false,\"left_units\":\"canvas\",\"right_units\":\"canvas\",\"top_units\":\"canvas\",\"bottom_units\":\"canvas\",\"line_color\":\"black\",\"line_alpha\":1.0,\"line_width\":2,\"line_dash\":[4,4],\"fill_color\":\"lightgrey\",\"fill_alpha\":0.5}},\"match_aspect\":true}},{\"type\":\"object\",\"name\":\"HoverTool\",\"id\":\"p1403\",\"attributes\":{\"tags\":[\"hv_created\"],\"renderers\":[{\"id\":\"p1453\"}],\"tooltips\":[[\"Lng\",\"$x{custom}\"],[\"Lat\",\"$y{custom}\"],[\"Broadband Top 10\",\"@{Broadband_Top_10}\"],[\"Top Broadband Country\",\"@{Top_Broadband_Country}\"],[\"Place\",\"@{Place}\"]],\"formatters\":{\"type\":\"map\",\"entries\":[[\"$x\",{\"type\":\"object\",\"name\":\"CustomJSHover\",\"id\":\"p1459\",\"attributes\":{\"code\":\"\\n        const projections = Bokeh.require(\\\"core/util/projections\\\");\\n        const {snap_x, snap_y} = special_vars\\n        const coords = projections.wgs84_mercator.invert(snap_x, snap_y)\\n        return \\\"\\\" + (coords[0]).toFixed(4)\\n    \"}}],[\"$y\",{\"type\":\"object\",\"name\":\"CustomJSHover\",\"id\":\"p1460\",\"attributes\":{\"code\":\"\\n        const projections = Bokeh.require(\\\"core/util/projections\\\");\\n        const {snap_x, snap_y} = special_vars\\n        const coords = projections.wgs84_mercator.invert(snap_x, snap_y)\\n        return \\\"\\\" + (coords[1]).toFixed(4)\\n    \"}}]]}}},{\"type\":\"object\",\"name\":\"PanTool\",\"id\":\"p1427\"},{\"type\":\"object\",\"name\":\"ResetTool\",\"id\":\"p1428\"}],\"active_drag\":{\"id\":\"p1427\"}}},\"left\":[{\"type\":\"object\",\"name\":\"LinearAxis\",\"id\":\"p1421\",\"attributes\":{\"ticker\":{\"type\":\"object\",\"name\":\"MercatorTicker\",\"id\":\"p1431\",\"attributes\":{\"mantissas\":[1,2,5],\"dimension\":\"lat\"}},\"formatter\":{\"type\":\"object\",\"name\":\"MercatorTickFormatter\",\"id\":\"p1432\",\"attributes\":{\"dimension\":\"lat\"}},\"axis_label\":\"Latitude\",\"major_label_policy\":{\"type\":\"object\",\"name\":\"AllLabels\",\"id\":\"p1424\"}}}],\"right\":[{\"type\":\"object\",\"name\":\"ColorBar\",\"id\":\"p1457\",\"attributes\":{\"location\":[0,0],\"ticker\":{\"type\":\"object\",\"name\":\"BasicTicker\",\"id\":\"p1456\",\"attributes\":{\"mantissas\":[1,2,5]}},\"major_label_policy\":{\"type\":\"object\",\"name\":\"NoOverlap\",\"id\":\"p1458\"},\"label_standoff\":8,\"major_tick_line_color\":\"black\",\"bar_line_color\":\"black\",\"color_mapper\":{\"id\":\"p1441\"}}}],\"below\":[{\"type\":\"object\",\"name\":\"LinearAxis\",\"id\":\"p1416\",\"attributes\":{\"ticker\":{\"type\":\"object\",\"name\":\"MercatorTicker\",\"id\":\"p1429\",\"attributes\":{\"mantissas\":[1,2,5],\"dimension\":\"lon\"}},\"formatter\":{\"type\":\"object\",\"name\":\"MercatorTickFormatter\",\"id\":\"p1430\",\"attributes\":{\"dimension\":\"lon\"}},\"axis_label\":\"Longitude\",\"major_label_policy\":{\"type\":\"object\",\"name\":\"AllLabels\",\"id\":\"p1419\"}}}],\"center\":[{\"type\":\"object\",\"name\":\"Grid\",\"id\":\"p1420\",\"attributes\":{\"axis\":{\"id\":\"p1416\"},\"grid_line_color\":null}},{\"type\":\"object\",\"name\":\"Grid\",\"id\":\"p1425\",\"attributes\":{\"dimension\":1,\"axis\":{\"id\":\"p1421\"},\"grid_line_color\":null}}],\"frame_width\":500,\"frame_height\":300,\"min_border_top\":10,\"min_border_bottom\":10,\"min_border_left\":10,\"min_border_right\":10,\"output_backend\":\"webgl\",\"match_aspect\":true}},{\"type\":\"object\",\"name\":\"Spacer\",\"id\":\"p1462\",\"attributes\":{\"name\":\"HSpacer02331\",\"stylesheets\":[\"\\n:host(.pn-loading.pn-arc):before, .pn-loading.pn-arc:before {\\n  background-image: url(\\\"data:image/svg+xml;base64,PHN2ZyB4bWxucz0iaHR0cDovL3d3dy53My5vcmcvMjAwMC9zdmciIHN0eWxlPSJtYXJnaW46IGF1dG87IGJhY2tncm91bmQ6IG5vbmU7IGRpc3BsYXk6IGJsb2NrOyBzaGFwZS1yZW5kZXJpbmc6IGF1dG87IiB2aWV3Qm94PSIwIDAgMTAwIDEwMCIgcHJlc2VydmVBc3BlY3RSYXRpbz0ieE1pZFlNaWQiPiAgPGNpcmNsZSBjeD0iNTAiIGN5PSI1MCIgZmlsbD0ibm9uZSIgc3Ryb2tlPSIjYzNjM2MzIiBzdHJva2Utd2lkdGg9IjEwIiByPSIzNSIgc3Ryb2tlLWRhc2hhcnJheT0iMTY0LjkzMzYxNDMxMzQ2NDE1IDU2Ljk3Nzg3MTQzNzgyMTM4Ij4gICAgPGFuaW1hdGVUcmFuc2Zvcm0gYXR0cmlidXRlTmFtZT0idHJhbnNmb3JtIiB0eXBlPSJyb3RhdGUiIHJlcGVhdENvdW50PSJpbmRlZmluaXRlIiBkdXI9IjFzIiB2YWx1ZXM9IjAgNTAgNTA7MzYwIDUwIDUwIiBrZXlUaW1lcz0iMDsxIj48L2FuaW1hdGVUcmFuc2Zvcm0+ICA8L2NpcmNsZT48L3N2Zz4=\\\");\\n  background-size: auto calc(min(50%, 400px));\\n}\",{\"id\":\"p1382\"},{\"id\":\"p1380\"},{\"id\":\"p1381\"}],\"margin\":0,\"sizing_mode\":\"stretch_width\",\"align\":\"start\"}}]}}],\"defs\":[{\"type\":\"model\",\"name\":\"ReactiveHTML1\"},{\"type\":\"model\",\"name\":\"FlexBox1\",\"properties\":[{\"name\":\"align_content\",\"kind\":\"Any\",\"default\":\"flex-start\"},{\"name\":\"align_items\",\"kind\":\"Any\",\"default\":\"flex-start\"},{\"name\":\"flex_direction\",\"kind\":\"Any\",\"default\":\"row\"},{\"name\":\"flex_wrap\",\"kind\":\"Any\",\"default\":\"wrap\"},{\"name\":\"justify_content\",\"kind\":\"Any\",\"default\":\"flex-start\"}]},{\"type\":\"model\",\"name\":\"FloatPanel1\",\"properties\":[{\"name\":\"config\",\"kind\":\"Any\",\"default\":{\"type\":\"map\"}},{\"name\":\"contained\",\"kind\":\"Any\",\"default\":true},{\"name\":\"position\",\"kind\":\"Any\",\"default\":\"right-top\"},{\"name\":\"offsetx\",\"kind\":\"Any\",\"default\":null},{\"name\":\"offsety\",\"kind\":\"Any\",\"default\":null},{\"name\":\"theme\",\"kind\":\"Any\",\"default\":\"primary\"},{\"name\":\"status\",\"kind\":\"Any\",\"default\":\"normalized\"}]},{\"type\":\"model\",\"name\":\"GridStack1\",\"properties\":[{\"name\":\"mode\",\"kind\":\"Any\",\"default\":\"warn\"},{\"name\":\"ncols\",\"kind\":\"Any\",\"default\":null},{\"name\":\"nrows\",\"kind\":\"Any\",\"default\":null},{\"name\":\"allow_resize\",\"kind\":\"Any\",\"default\":true},{\"name\":\"allow_drag\",\"kind\":\"Any\",\"default\":true},{\"name\":\"state\",\"kind\":\"Any\",\"default\":[]}]},{\"type\":\"model\",\"name\":\"drag1\",\"properties\":[{\"name\":\"slider_width\",\"kind\":\"Any\",\"default\":5},{\"name\":\"slider_color\",\"kind\":\"Any\",\"default\":\"black\"},{\"name\":\"value\",\"kind\":\"Any\",\"default\":50}]},{\"type\":\"model\",\"name\":\"click1\",\"properties\":[{\"name\":\"terminal_output\",\"kind\":\"Any\",\"default\":\"\"},{\"name\":\"debug_name\",\"kind\":\"Any\",\"default\":\"\"},{\"name\":\"clears\",\"kind\":\"Any\",\"default\":0}]},{\"type\":\"model\",\"name\":\"toggle_value1\",\"properties\":[{\"name\":\"active_icons\",\"kind\":\"Any\",\"default\":{\"type\":\"map\"}},{\"name\":\"options\",\"kind\":\"Any\",\"default\":{\"type\":\"map\",\"entries\":[[\"favorite\",\"heart\"]]}},{\"name\":\"value\",\"kind\":\"Any\",\"default\":[]},{\"name\":\"_reactions\",\"kind\":\"Any\",\"default\":[]},{\"name\":\"_base_url\",\"kind\":\"Any\",\"default\":\"https://tabler-icons.io/static/tabler-icons/icons/\"}]},{\"type\":\"model\",\"name\":\"copy_to_clipboard1\",\"properties\":[{\"name\":\"value\",\"kind\":\"Any\",\"default\":null},{\"name\":\"fill\",\"kind\":\"Any\",\"default\":\"none\"}]},{\"type\":\"model\",\"name\":\"FastWrapper1\",\"properties\":[{\"name\":\"object\",\"kind\":\"Any\",\"default\":null},{\"name\":\"style\",\"kind\":\"Any\",\"default\":null}]},{\"type\":\"model\",\"name\":\"NotificationAreaBase1\",\"properties\":[{\"name\":\"js_events\",\"kind\":\"Any\",\"default\":{\"type\":\"map\"}},{\"name\":\"position\",\"kind\":\"Any\",\"default\":\"bottom-right\"},{\"name\":\"_clear\",\"kind\":\"Any\",\"default\":0}]},{\"type\":\"model\",\"name\":\"NotificationArea1\",\"properties\":[{\"name\":\"js_events\",\"kind\":\"Any\",\"default\":{\"type\":\"map\"}},{\"name\":\"notifications\",\"kind\":\"Any\",\"default\":[]},{\"name\":\"position\",\"kind\":\"Any\",\"default\":\"bottom-right\"},{\"name\":\"_clear\",\"kind\":\"Any\",\"default\":0},{\"name\":\"types\",\"kind\":\"Any\",\"default\":[{\"type\":\"map\",\"entries\":[[\"type\",\"warning\"],[\"background\",\"#ffc107\"],[\"icon\",{\"type\":\"map\",\"entries\":[[\"className\",\"fas fa-exclamation-triangle\"],[\"tagName\",\"i\"],[\"color\",\"white\"]]}]]},{\"type\":\"map\",\"entries\":[[\"type\",\"info\"],[\"background\",\"#007bff\"],[\"icon\",{\"type\":\"map\",\"entries\":[[\"className\",\"fas fa-info-circle\"],[\"tagName\",\"i\"],[\"color\",\"white\"]]}]]}]}]},{\"type\":\"model\",\"name\":\"Notification\",\"properties\":[{\"name\":\"background\",\"kind\":\"Any\",\"default\":null},{\"name\":\"duration\",\"kind\":\"Any\",\"default\":3000},{\"name\":\"icon\",\"kind\":\"Any\",\"default\":null},{\"name\":\"message\",\"kind\":\"Any\",\"default\":\"\"},{\"name\":\"notification_type\",\"kind\":\"Any\",\"default\":null},{\"name\":\"_destroyed\",\"kind\":\"Any\",\"default\":false}]},{\"type\":\"model\",\"name\":\"TemplateActions1\",\"properties\":[{\"name\":\"open_modal\",\"kind\":\"Any\",\"default\":0},{\"name\":\"close_modal\",\"kind\":\"Any\",\"default\":0}]},{\"type\":\"model\",\"name\":\"BootstrapTemplateActions1\",\"properties\":[{\"name\":\"open_modal\",\"kind\":\"Any\",\"default\":0},{\"name\":\"close_modal\",\"kind\":\"Any\",\"default\":0}]},{\"type\":\"model\",\"name\":\"MaterialTemplateActions1\",\"properties\":[{\"name\":\"open_modal\",\"kind\":\"Any\",\"default\":0},{\"name\":\"close_modal\",\"kind\":\"Any\",\"default\":0}]}]}};\n",
       "  var render_items = [{\"docid\":\"cbf7cc2d-55ba-42e2-8ec7-784264539702\",\"roots\":{\"p1379\":\"eef66715-ef9b-4da7-bb36-2188bed275ec\"},\"root_ids\":[\"p1379\"]}];\n",
       "  var docs = Object.values(docs_json)\n",
       "  if (!docs) {\n",
       "    return\n",
       "  }\n",
       "  const py_version = docs[0].version.replace('rc', '-rc.').replace('.dev', '-dev.')\n",
       "  const is_dev = py_version.indexOf(\"+\") !== -1 || py_version.indexOf(\"-\") !== -1\n",
       "  function embed_document(root) {\n",
       "    var Bokeh = get_bokeh(root)\n",
       "    Bokeh.embed.embed_items_notebook(docs_json, render_items);\n",
       "    for (const render_item of render_items) {\n",
       "      for (const root_id of render_item.root_ids) {\n",
       "\tconst id_el = document.getElementById(root_id)\n",
       "\tif (id_el.children.length && (id_el.children[0].className === 'bk-root')) {\n",
       "\t  const root_el = id_el.children[0]\n",
       "\t  root_el.id = root_el.id + '-rendered'\n",
       "\t}\n",
       "      }\n",
       "    }\n",
       "  }\n",
       "  function get_bokeh(root) {\n",
       "    if (root.Bokeh === undefined) {\n",
       "      return null\n",
       "    } else if (root.Bokeh.version !== py_version && !is_dev) {\n",
       "      if (root.Bokeh.versions === undefined || !root.Bokeh.versions.has(py_version)) {\n",
       "\treturn null\n",
       "      }\n",
       "      return root.Bokeh.versions.get(py_version);\n",
       "    } else if (root.Bokeh.version === py_version) {\n",
       "      return root.Bokeh\n",
       "    }\n",
       "    return null\n",
       "  }\n",
       "  function is_loaded(root) {\n",
       "    var Bokeh = get_bokeh(root)\n",
       "    return (Bokeh != null && Bokeh.Panel !== undefined)\n",
       "  }\n",
       "  if (is_loaded(root)) {\n",
       "    embed_document(root);\n",
       "  } else {\n",
       "    var attempts = 0;\n",
       "    var timer = setInterval(function(root) {\n",
       "      if (is_loaded(root)) {\n",
       "        clearInterval(timer);\n",
       "        embed_document(root);\n",
       "      } else if (document.readyState == \"complete\") {\n",
       "        attempts++;\n",
       "        if (attempts > 200) {\n",
       "          clearInterval(timer);\n",
       "\t  var Bokeh = get_bokeh(root)\n",
       "\t  if (Bokeh == null || Bokeh.Panel == null) {\n",
       "            console.warn(\"Panel: ERROR: Unable to run Panel code because Bokeh or Panel library is missing\");\n",
       "\t  } else {\n",
       "\t    console.warn(\"Panel: WARNING: Attempting to render but not all required libraries could be resolved.\")\n",
       "\t    embed_document(root)\n",
       "\t  }\n",
       "        }\n",
       "      }\n",
       "    }, 25, root)\n",
       "  }\n",
       "})(window);</script>"
      ],
      "text/plain": [
       ":Overlay\n",
       "   .WMTS.I   :WMTS   [Longitude,Latitude]\n",
       "   .Points.I :Points   [Lng,Lat]   (Broadband Top 10,Top Broadband Country,Place)"
      ]
     },
     "execution_count": 41,
     "metadata": {
      "application/vnd.holoviews_exec.v0+json": {
       "id": "p1379"
      }
     },
     "output_type": "execute_result"
    }
   ],
   "source": [
    "%%capture --no-display\n",
    "#Hover Cols\n",
    "hover = ['Top Broadband Country', 'Broadband Top 10', 'Place']\n",
    "\n",
    "# Configure the map plot\n",
    "broadband_1 = broadband_ten_data.hvplot.points(\n",
    "    \"Lng\",\n",
    "    \"Lat\",\n",
    "    geo = True,\n",
    "    tiles = \"EsriTerrain\",\n",
    "    frame_width = 500,\n",
    "    frame_height = 300,\n",
    "    size = \"Broadband Top 10\",\n",
    "    scale = 1.5,\n",
    "    color = \"Broadband Top 10\",\n",
    "    cmap='RdYlGn_r',\n",
    "    title='Broadband Top 10 Countries by Penetration (%)',\n",
    "    hover_cols = hover\n",
    ")\n",
    "\n",
    "# Display the map\n",
    "broadband_1\n"
   ]
  },
  {
   "cell_type": "code",
   "execution_count": 26,
   "metadata": {},
   "outputs": [
    {
     "data": {
      "text/plain": [
       "<Figure size 640x480 with 0 Axes>"
      ]
     },
     "metadata": {},
     "output_type": "display_data"
    },
    {
     "data": {
      "image/png": "[encoded data removed]",
      "text/plain": [
       "<Figure size 500x300 with 1 Axes>"
      ]
     },
     "metadata": {},
     "output_type": "display_data"
    }
   ],
   "source": [
    "%matplotlib inline\n",
    "plt.figure(figsize=(5, 3))\n",
    "broadband_bar = broadband_ten_data.sort_values(by='Broadband Top 10', ascending=True)\n",
    "ax = plt.bar(broadband_bar['Top Broadband Country'], broadband_bar['Broadband Top 10'], \n",
    "             color='#2252a3', alpha=1, linewidth=0.7, edgecolor=\"black\")\n",
    "\n",
    "# Add labels and title\n",
    "plt.xlabel('Country')\n",
    "plt.ylim(0, 1500)\n",
    "plt.xticks(rotation=330, ha='left')\n",
    "plt.ylabel('Broadband Penetration (%)')\n",
    "plt.title('Top 10 Countries with Highest Broadband Penetration')\n",
    "\n",
    "plt.savefig(\"Images/broadband10.png\", transparent=True, bbox_inches='tight', pad_inches=0, dpi=300)"
   ]
  },
  {
   "cell_type": "markdown",
   "metadata": {},
   "source": [
    "## Mobile Top 10 Countries"
   ]
  },
  {
   "cell_type": "code",
   "execution_count": null,
   "metadata": {},
   "outputs": [],
   "source": [
    "#Find the top 10 Mobile Countries\n",
    "mobile_top_ten = mobile_population.nlargest(10)"
   ]
  },
  {
   "cell_type": "code",
   "execution_count": null,
   "metadata": {},
   "outputs": [],
   "source": [
    "#Find the last 10 Mobile Countries\n",
    "mobile_last_ten = mobile_population.nsmallest(10)"
   ]
  },
  {
   "cell_type": "code",
   "execution_count": null,
   "metadata": {},
   "outputs": [],
   "source": [
    "#Find the Lat and Lon\n",
    "#Set the Id's for the search\n",
    "g_ids = ['China', 'India', 'United States', 'Indonesia', 'Russia', 'Brazil', 'Japan', 'Nigeria', \n",
    "         'Bangladesh', 'Pakistan','Estonia', 'Trinidad & Tobago', 'Latvia', 'Bahrain', 'Namibia', 'Jamaica', 'Gabon', \n",
    "         'Liberia', 'Botswana', 'Mongolia']\n",
    "\n",
    "#Search the DataFrame and return the results from the appended list\n",
    "mobile_top_country = subscriber_data_complete[subscriber_data_complete['Country'].isin(g_ids)][['Country','Lat', 'Lng']]\n",
    "\n",
    "#Set the new order of the DataFrame\n",
    "order = ['China', 'India', 'United States', 'Indonesia', 'Russia', 'Brazil', 'Japan', 'Nigeria', \n",
    "         'Bangladesh', 'Pakistan','Estonia', 'Trinidad & Tobago', 'Latvia', 'Bahrain', 'Namibia', 'Jamaica', 'Gabon', \n",
    "         'Liberia', 'Botswana', 'Mongolia']\n",
    "lat_mobile = mobile_top_country.set_index('Country').reindex(order).reset_index()"
   ]
  },
  {
   "cell_type": "code",
   "execution_count": null,
   "metadata": {},
   "outputs": [],
   "source": [
    "#Add Data to two data frames\n",
    "mobile_top = pd.DataFrame({\"Mobile Top 10\" : mobile_top_ten})\n",
    "mobile_bottom = pd.DataFrame({\"Mobile Bottom 10\" : mobile_last_ten})\n",
    "\n",
    "# Minor data cleaning - renaming\n",
    "mobile_top = mobile_top.rename_axis('Top Country')\n",
    "mobile_bottom = mobile_bottom.rename_axis('Bottom Country')\n",
    "\n",
    "# Minor data cleaning - adding columns and values\n",
    "mobile_top[\"Mobile Top 10\"] = mobile_top[\"Mobile Top 10\"].map(\"{:,.2f}\".format)\n",
    "mobile_top['Place'] = [1, 2, 3, 4, 5, 6, 7, 8, 9, 10]\n",
    "mobile_top['Number'] = [10, 9, 8, 7, 6, 5, 4, 3, 2, 1]\n",
    "mobile_bottom[\"Mobile Bottom 10\"] = mobile_bottom[\"Mobile Bottom 10\"].map(\"{:,.2f}\".format)\n",
    "mobile_bottom['Place'] = [1, 2, 3, 4, 5, 6, 7, 8, 9, 10]\n",
    "mobile_bottom['Number'] = [-10, -9, -8, -7, -6, -5, -4, -3, -2, -1]\n",
    "\n",
    "# Display the DataFrame\n",
    "display(mobile_top, mobile_bottom)\n",
    "\n",
    "#Export both singles to one CSV\n",
    "mobile_top.to_csv(\"Resources/Mobile_10.csv\")\n",
    "mobile_bottom.to_csv(\"Resources/Mobile_10.csv\", mode='a', header=True)\n",
    "lat_mobile.to_csv(\"Resources/Mobile_10.csv\", mode='a', header=True)"
   ]
  },
  {
   "cell_type": "code",
   "execution_count": 9,
   "metadata": {},
   "outputs": [
    {
     "data": {
      "text/html": [
       "<div>\n",
       "<style scoped>\n",
       "    .dataframe tbody tr th:only-of-type {\n",
       "        vertical-align: middle;\n",
       "    }\n",
       "\n",
       "    .dataframe tbody tr th {\n",
       "        vertical-align: top;\n",
       "    }\n",
       "\n",
       "    .dataframe thead th {\n",
       "        text-align: right;\n",
       "    }\n",
       "</style>\n",
       "<table border=\"1\" class=\"dataframe\">\n",
       "  <thead>\n",
       "    <tr style=\"text-align: right;\">\n",
       "      <th></th>\n",
       "      <th>Top Mobile Country</th>\n",
       "      <th>Mobile Top 10</th>\n",
       "      <th>Place</th>\n",
       "      <th>Number</th>\n",
       "      <th>Lat</th>\n",
       "      <th>Lng</th>\n",
       "    </tr>\n",
       "  </thead>\n",
       "  <tbody>\n",
       "    <tr>\n",
       "      <th>0</th>\n",
       "      <td>China</td>\n",
       "      <td>1464.27</td>\n",
       "      <td>1</td>\n",
       "      <td>10</td>\n",
       "      <td>35.000074</td>\n",
       "      <td>104.999927</td>\n",
       "    </tr>\n",
       "    <tr>\n",
       "      <th>1</th>\n",
       "      <td>India</td>\n",
       "      <td>1136.05</td>\n",
       "      <td>2</td>\n",
       "      <td>9</td>\n",
       "      <td>22.351115</td>\n",
       "      <td>78.667743</td>\n",
       "    </tr>\n",
       "    <tr>\n",
       "      <th>2</th>\n",
       "      <td>United States</td>\n",
       "      <td>410.92</td>\n",
       "      <td>3</td>\n",
       "      <td>8</td>\n",
       "      <td>39.783730</td>\n",
       "      <td>-100.445882</td>\n",
       "    </tr>\n",
       "    <tr>\n",
       "      <th>3</th>\n",
       "      <td>Indonesia</td>\n",
       "      <td>361.96</td>\n",
       "      <td>4</td>\n",
       "      <td>7</td>\n",
       "      <td>-2.483383</td>\n",
       "      <td>117.890285</td>\n",
       "    </tr>\n",
       "    <tr>\n",
       "      <th>4</th>\n",
       "      <td>Russia</td>\n",
       "      <td>235.72</td>\n",
       "      <td>5</td>\n",
       "      <td>6</td>\n",
       "      <td>64.686314</td>\n",
       "      <td>97.745306</td>\n",
       "    </tr>\n",
       "    <tr>\n",
       "      <th>5</th>\n",
       "      <td>Brazil</td>\n",
       "      <td>227.95</td>\n",
       "      <td>6</td>\n",
       "      <td>5</td>\n",
       "      <td>-10.333333</td>\n",
       "      <td>-53.200000</td>\n",
       "    </tr>\n",
       "    <tr>\n",
       "      <th>6</th>\n",
       "      <td>Japan</td>\n",
       "      <td>172.96</td>\n",
       "      <td>7</td>\n",
       "      <td>4</td>\n",
       "      <td>36.574844</td>\n",
       "      <td>139.239418</td>\n",
       "    </tr>\n",
       "    <tr>\n",
       "      <th>7</th>\n",
       "      <td>Nigeria</td>\n",
       "      <td>165.52</td>\n",
       "      <td>8</td>\n",
       "      <td>3</td>\n",
       "      <td>9.600036</td>\n",
       "      <td>7.999972</td>\n",
       "    </tr>\n",
       "    <tr>\n",
       "      <th>8</th>\n",
       "      <td>Bangladesh</td>\n",
       "      <td>150.52</td>\n",
       "      <td>9</td>\n",
       "      <td>2</td>\n",
       "      <td>24.476929</td>\n",
       "      <td>90.293441</td>\n",
       "    </tr>\n",
       "    <tr>\n",
       "      <th>9</th>\n",
       "      <td>Pakistan</td>\n",
       "      <td>147.97</td>\n",
       "      <td>10</td>\n",
       "      <td>1</td>\n",
       "      <td>30.330840</td>\n",
       "      <td>71.247499</td>\n",
       "    </tr>\n",
       "  </tbody>\n",
       "</table>\n",
       "</div>"
      ],
      "text/plain": [
       "  Top Mobile Country  Mobile Top 10  Place  Number        Lat         Lng\n",
       "0              China        1464.27      1      10  35.000074  104.999927\n",
       "1              India        1136.05      2       9  22.351115   78.667743\n",
       "2      United States         410.92      3       8  39.783730 -100.445882\n",
       "3          Indonesia         361.96      4       7  -2.483383  117.890285\n",
       "4             Russia         235.72      5       6  64.686314   97.745306\n",
       "5             Brazil         227.95      6       5 -10.333333  -53.200000\n",
       "6              Japan         172.96      7       4  36.574844  139.239418\n",
       "7            Nigeria         165.52      8       3   9.600036    7.999972\n",
       "8         Bangladesh         150.52      9       2  24.476929   90.293441\n",
       "9           Pakistan         147.97     10       1  30.330840   71.247499"
      ]
     },
     "execution_count": 9,
     "metadata": {},
     "output_type": "execute_result"
    }
   ],
   "source": [
    "#Import the complete CSV\n",
    "data_to_load = Path(\"Resources/Mobile_10.csv\")\n",
    "\n",
    "mobile_ten_data = pd.read_csv(data_to_load)\n",
    "\n",
    "#Split into two \n",
    "mobile_ten_data = mobile_ten_data.replace({',': ''}, regex=True)\n",
    "mobile_ten_data = mobile_ten_data.iloc[:, :6]\n",
    "\n",
    "mobile_ten_data['Mobile Top 10'] = mobile_ten_data['Mobile Top 10'].astype(float)\n",
    "\n",
    "mobile_ten_data.rename(columns={'Top Country': 'Top Mobile Country'}, inplace=True)\n",
    "\n",
    "#Show\n",
    "mobile_ten_data\n"
   ]
  },
  {
   "cell_type": "code",
   "execution_count": 42,
   "metadata": {},
   "outputs": [
    {
     "data": {},
     "metadata": {},
     "output_type": "display_data"
    },
    {
     "data": {
      "application/vnd.holoviews_exec.v0+json": "",
      "text/html": [
       "<div id='p1472'>\n",
       "  <div id=\"ecb6206c-3cc3-4e3e-a5b4-c004ac10f04c\" data-root-id=\"p1472\" style=\"display: contents;\"></div>\n",
       "</div>\n",
       "<script type=\"application/javascript\">(function(root) {\n",
       "  var docs_json = {\"eaefd4b2-c068-4a89-b259-27b7ec79e1b1\":{\"version\":\"3.3.0\",\"title\":\"Bokeh Application\",\"roots\":[{\"type\":\"object\",\"name\":\"Row\",\"id\":\"p1472\",\"attributes\":{\"name\":\"Row02474\",\"tags\":[\"embedded\"],\"stylesheets\":[\"\\n:host(.pn-loading.pn-arc):before, .pn-loading.pn-arc:before {\\n  background-image: url(\\\"data:image/svg+xml;base64,PHN2ZyB4bWxucz0iaHR0cDovL3d3dy53My5vcmcvMjAwMC9zdmciIHN0eWxlPSJtYXJnaW46IGF1dG87IGJhY2tncm91bmQ6IG5vbmU7IGRpc3BsYXk6IGJsb2NrOyBzaGFwZS1yZW5kZXJpbmc6IGF1dG87IiB2aWV3Qm94PSIwIDAgMTAwIDEwMCIgcHJlc2VydmVBc3BlY3RSYXRpbz0ieE1pZFlNaWQiPiAgPGNpcmNsZSBjeD0iNTAiIGN5PSI1MCIgZmlsbD0ibm9uZSIgc3Ryb2tlPSIjYzNjM2MzIiBzdHJva2Utd2lkdGg9IjEwIiByPSIzNSIgc3Ryb2tlLWRhc2hhcnJheT0iMTY0LjkzMzYxNDMxMzQ2NDE1IDU2Ljk3Nzg3MTQzNzgyMTM4Ij4gICAgPGFuaW1hdGVUcmFuc2Zvcm0gYXR0cmlidXRlTmFtZT0idHJhbnNmb3JtIiB0eXBlPSJyb3RhdGUiIHJlcGVhdENvdW50PSJpbmRlZmluaXRlIiBkdXI9IjFzIiB2YWx1ZXM9IjAgNTAgNTA7MzYwIDUwIDUwIiBrZXlUaW1lcz0iMDsxIj48L2FuaW1hdGVUcmFuc2Zvcm0+ICA8L2NpcmNsZT48L3N2Zz4=\\\");\\n  background-size: auto calc(min(50%, 400px));\\n}\",{\"type\":\"object\",\"name\":\"ImportedStyleSheet\",\"id\":\"p1475\",\"attributes\":{\"url\":\"https://cdn.holoviz.org/panel/1.3.1/dist/css/loading.css\"}},{\"type\":\"object\",\"name\":\"ImportedStyleSheet\",\"id\":\"p1557\",\"attributes\":{\"url\":\"https://cdn.holoviz.org/panel/1.3.1/dist/css/listpanel.css\"}},{\"type\":\"object\",\"name\":\"ImportedStyleSheet\",\"id\":\"p1473\",\"attributes\":{\"url\":\"https://cdn.holoviz.org/panel/1.3.1/dist/bundled/theme/default.css\"}},{\"type\":\"object\",\"name\":\"ImportedStyleSheet\",\"id\":\"p1474\",\"attributes\":{\"url\":\"https://cdn.holoviz.org/panel/1.3.1/dist/bundled/theme/native.css\"}}],\"margin\":0,\"sizing_mode\":\"stretch_width\",\"align\":\"start\",\"children\":[{\"type\":\"object\",\"name\":\"Spacer\",\"id\":\"p1476\",\"attributes\":{\"name\":\"HSpacer02484\",\"stylesheets\":[\"\\n:host(.pn-loading.pn-arc):before, .pn-loading.pn-arc:before {\\n  background-image: url(\\\"data:image/svg+xml;base64,PHN2ZyB4bWxucz0iaHR0cDovL3d3dy53My5vcmcvMjAwMC9zdmciIHN0eWxlPSJtYXJnaW46IGF1dG87IGJhY2tncm91bmQ6IG5vbmU7IGRpc3BsYXk6IGJsb2NrOyBzaGFwZS1yZW5kZXJpbmc6IGF1dG87IiB2aWV3Qm94PSIwIDAgMTAwIDEwMCIgcHJlc2VydmVBc3BlY3RSYXRpbz0ieE1pZFlNaWQiPiAgPGNpcmNsZSBjeD0iNTAiIGN5PSI1MCIgZmlsbD0ibm9uZSIgc3Ryb2tlPSIjYzNjM2MzIiBzdHJva2Utd2lkdGg9IjEwIiByPSIzNSIgc3Ryb2tlLWRhc2hhcnJheT0iMTY0LjkzMzYxNDMxMzQ2NDE1IDU2Ljk3Nzg3MTQzNzgyMTM4Ij4gICAgPGFuaW1hdGVUcmFuc2Zvcm0gYXR0cmlidXRlTmFtZT0idHJhbnNmb3JtIiB0eXBlPSJyb3RhdGUiIHJlcGVhdENvdW50PSJpbmRlZmluaXRlIiBkdXI9IjFzIiB2YWx1ZXM9IjAgNTAgNTA7MzYwIDUwIDUwIiBrZXlUaW1lcz0iMDsxIj48L2FuaW1hdGVUcmFuc2Zvcm0+ICA8L2NpcmNsZT48L3N2Zz4=\\\");\\n  background-size: auto calc(min(50%, 400px));\\n}\",{\"id\":\"p1475\"},{\"id\":\"p1473\"},{\"id\":\"p1474\"}],\"margin\":0,\"sizing_mode\":\"stretch_width\",\"align\":\"start\"}},{\"type\":\"object\",\"name\":\"Figure\",\"id\":\"p1497\",\"attributes\":{\"width\":null,\"height\":null,\"margin\":[5,10],\"sizing_mode\":\"fixed\",\"align\":\"start\",\"x_range\":{\"type\":\"object\",\"name\":\"Range1d\",\"id\":\"p1486\",\"attributes\":{\"tags\":[[[\"Longitude\",\"Longitude\",null]],[]],\"start\":-12782483.043973522,\"end\":17100959.70643211,\"reset_start\":-12782483.043973522,\"reset_end\":17100959.70643211,\"min_interval\":5}},\"y_range\":{\"type\":\"object\",\"name\":\"Range1d\",\"id\":\"p1487\",\"attributes\":{\"tags\":[[[\"Latitude\",\"Latitude\",null]],{\"type\":\"map\",\"entries\":[[\"invert_yaxis\",false],[\"autorange\",false]]}],\"start\":-4780214.108245509,\"end\":13149851.541997869,\"reset_start\":-4780214.108245509,\"reset_end\":13149851.541997869,\"min_interval\":5}},\"x_scale\":{\"type\":\"object\",\"name\":\"LinearScale\",\"id\":\"p1507\"},\"y_scale\":{\"type\":\"object\",\"name\":\"LinearScale\",\"id\":\"p1508\"},\"title\":{\"type\":\"object\",\"name\":\"Title\",\"id\":\"p1500\",\"attributes\":{\"text\":\"Mobile Top 10 Data by Penetration (%)\",\"text_color\":\"black\",\"text_font_size\":\"12pt\"}},\"renderers\":[{\"type\":\"object\",\"name\":\"TileRenderer\",\"id\":\"p1530\",\"attributes\":{\"level\":\"underlay\",\"tile_source\":{\"type\":\"object\",\"name\":\"WMTSTileSource\",\"id\":\"p1526\",\"attributes\":{\"url\":\"https://server.arcgisonline.com/ArcGIS/rest/services/World_Terrain_Base/MapServer/tile/{Z}/{Y}/{X}\",\"attribution\":\"&copy; <a href=\\\"http://downloads.esri.com/ArcGISOnline/docs/tou_summary.pdf\\\">Esri</a>, USGS, NOAA\"}}}},{\"type\":\"object\",\"name\":\"GlyphRenderer\",\"id\":\"p1546\",\"attributes\":{\"data_source\":{\"type\":\"object\",\"name\":\"ColumnDataSource\",\"id\":\"p1535\",\"attributes\":{\"selected\":{\"type\":\"object\",\"name\":\"Selection\",\"id\":\"p1536\",\"attributes\":{\"indices\":[],\"line_indices\":[]}},\"selection_policy\":{\"type\":\"object\",\"name\":\"UnionRenderers\",\"id\":\"p1537\"},\"data\":{\"type\":\"map\",\"entries\":[[\"Lng\",{\"type\":\"ndarray\",\"array\":{\"type\":\"bytes\",\"data\":\"7ecFTUtLZkFaU0CiALRgQX379w3CU2XBxyPu0PMHaUEwwXq298BkQaLAQDpll1bB29cqo2OQbUGU0hykcS0rQQ8lCn3rK2NBJDzG01hBXkE=\"},\"shape\":[10],\"dtype\":\"float64\",\"order\":\"little\"}],[\"Lat\",{\"type\":\"ndarray\",\"array\":{\"type\":\"bytes\",\"data\":\"1NSlmZnET0EN2uWlwntDQUjqVwpBcVJBKSx38N3gEMFPWOpAeitiQb+tmXLspTHBUH9DhFq1UEEXVDXCKmIwQfC3u0t4c0VBdnKGxBEOS0E=\"},\"shape\":[10],\"dtype\":\"float64\",\"order\":\"little\"}],[\"Mobile_Top_10\",{\"type\":\"ndarray\",\"array\":{\"type\":\"bytes\",\"data\":\"rkfhehThlkAzMzMzM8CRQB+F61G4rnlAj8L1KFyfdkDXo3A9CndtQGZmZmZmfmxAH4XrUbieZUBxPQrXo7BkQHE9Ctej0GJA16NwPQp/YkA=\"},\"shape\":[10],\"dtype\":\"float64\",\"order\":\"little\"}],[\"Top_Mobile_Country\",[\"China\",\"India\",\"United States\",\"Indonesia\",\"Russia\",\"Brazil\",\"Japan\",\"Nigeria\",\"Bangladesh\",\"Pakistan\"]],[\"Place\",{\"type\":\"ndarray\",\"array\":{\"type\":\"bytes\",\"data\":\"AQAAAAIAAAADAAAABAAAAAUAAAAGAAAABwAAAAgAAAAJAAAACgAAAA==\"},\"shape\":[10],\"dtype\":\"int32\",\"order\":\"little\"}],[\"color\",{\"type\":\"ndarray\",\"array\":{\"type\":\"bytes\",\"data\":\"rkfhehThlkAzMzMzM8CRQB+F61G4rnlAj8L1KFyfdkDXo3A9CndtQGZmZmZmfmxAH4XrUbieZUBxPQrXo7BkQHE9Ctej0GJA16NwPQp/YkA=\"},\"shape\":[10],\"dtype\":\"float64\",\"order\":\"little\"}],[\"size\",{\"type\":\"ndarray\",\"array\":{\"type\":\"bytes\",\"data\":\"uuWqqwezTEBfv4HpbEdJQOywr0kgaD5AszAT0rGJPED44CqSngc3QE7WyBSjpTZAB9V7wiW6M0AKC17yVUwzQHo6nUcqZzJA9jqzjxY/MkA=\"},\"shape\":[10],\"dtype\":\"float64\",\"order\":\"little\"}]]}}},\"view\":{\"type\":\"object\",\"name\":\"CDSView\",\"id\":\"p1547\",\"attributes\":{\"filter\":{\"type\":\"object\",\"name\":\"AllIndices\",\"id\":\"p1548\"}}},\"glyph\":{\"type\":\"object\",\"name\":\"Scatter\",\"id\":\"p1541\",\"attributes\":{\"tags\":[\"apply_ranges\"],\"x\":{\"type\":\"field\",\"field\":\"Lng\"},\"y\":{\"type\":\"field\",\"field\":\"Lat\"},\"size\":{\"type\":\"field\",\"field\":\"size\"},\"line_color\":{\"type\":\"field\",\"field\":\"color\",\"transform\":{\"type\":\"object\",\"name\":\"LinearColorMapper\",\"id\":\"p1534\",\"attributes\":{\"palette\":[\"#006837\",\"#016937\",\"#026b38\",\"#036d39\",\"#046f3a\",\"#05713b\",\"#06733c\",\"#07753d\",\"#08773e\",\"#09783f\",\"#0a7a40\",\"#0b7c41\",\"#0c7e42\",\"#0d8043\",\"#0e8244\",\"#0f8445\",\"#108646\",\"#118847\",\"#128948\",\"#138b49\",\"#148d4a\",\"#158f4b\",\"#16914c\",\"#17934d\",\"#18954e\",\"#19974f\",\"#1b9850\",\"#1e9a51\",\"#219b51\",\"#249d52\",\"#279e53\",\"#2a9f54\",\"#2da154\",\"#30a255\",\"#33a456\",\"#36a557\",\"#39a757\",\"#3ca858\",\"#3faa59\",\"#42ab5a\",\"#45ad5a\",\"#48ae5b\",\"#4baf5c\",\"#4eb15d\",\"#51b25d\",\"#54b45e\",\"#57b55f\",\"#5ab760\",\"#5db860\",\"#60ba61\",\"#63bb62\",\"#66bd63\",\"#68be63\",\"#6bbf63\",\"#6dc063\",\"#70c164\",\"#72c264\",\"#75c364\",\"#77c464\",\"#7ac565\",\"#7cc665\",\"#7fc765\",\"#81c966\",\"#84ca66\",\"#86cb66\",\"#89cc66\",\"#8bcd67\",\"#8ece67\",\"#90cf67\",\"#93d067\",\"#95d168\",\"#98d268\",\"#9ad468\",\"#9dd569\",\"#9fd669\",\"#a2d769\",\"#a4d869\",\"#a7d96a\",\"#a9da6b\",\"#abdb6d\",\"#addc6e\",\"#afdc6f\",\"#b1dd71\",\"#b3de72\",\"#b5df73\",\"#b7e075\",\"#b9e176\",\"#bbe277\",\"#bde278\",\"#bfe37a\",\"#c1e47b\",\"#c3e57c\",\"#c5e67e\",\"#c7e77f\",\"#c9e880\",\"#cbe881\",\"#cde983\",\"#cfea84\",\"#d1eb85\",\"#d3ec87\",\"#d5ed88\",\"#d7ee89\",\"#d9ef8b\",\"#daef8d\",\"#dbf08f\",\"#ddf091\",\"#def193\",\"#e0f295\",\"#e1f297\",\"#e3f399\",\"#e4f49b\",\"#e6f49d\",\"#e7f59f\",\"#e9f5a1\",\"#eaf6a3\",\"#ecf7a5\",\"#edf7a7\",\"#eff8a9\",\"#f0f9ab\",\"#f2f9ad\",\"#f3faaf\",\"#f5fab1\",\"#f6fbb3\",\"#f8fcb5\",\"#f9fcb7\",\"#fbfdb9\",\"#fcfebb\",\"#fefebd\",\"#fefebd\",\"#fefdbb\",\"#fefbb9\",\"#fefab7\",\"#fef9b5\",\"#fef8b3\",\"#fef7b1\",\"#fef5af\",\"#fef4ad\",\"#fef3ab\",\"#fef2a9\",\"#fef1a7\",\"#feefa5\",\"#feeea3\",\"#feeda1\",\"#feec9f\",\"#feea9d\",\"#fee99b\",\"#fee899\",\"#fee797\",\"#fee695\",\"#fee493\",\"#fee391\",\"#fee28f\",\"#fee18d\",\"#fee08b\",\"#fdde89\",\"#fddc87\",\"#fdda86\",\"#fdd884\",\"#fdd682\",\"#fdd481\",\"#fdd27f\",\"#fdd07d\",\"#fdce7c\",\"#fdcc7a\",\"#fdca78\",\"#fdc877\",\"#fdc675\",\"#fdc473\",\"#fdc272\",\"#fdc070\",\"#fdbe6f\",\"#fdbc6d\",\"#fdba6b\",\"#fdb86a\",\"#fdb668\",\"#fdb466\",\"#fdb265\",\"#fdb063\",\"#fdae61\",\"#fcac60\",\"#fcaa5f\",\"#fca75e\",\"#fba55c\",\"#fba25b\",\"#fb9f5a\",\"#fa9d59\",\"#fa9a58\",\"#fa9857\",\"#f99555\",\"#f99354\",\"#f89053\",\"#f88e52\",\"#f88b51\",\"#f7894f\",\"#f7864e\",\"#f7834d\",\"#f6814c\",\"#f67e4b\",\"#f67c4a\",\"#f57948\",\"#f57747\",\"#f57446\",\"#f47245\",\"#f46f44\",\"#f46d43\",\"#f26a41\",\"#f16840\",\"#f0653f\",\"#ef633e\",\"#ee613d\",\"#ed5e3c\",\"#ec5c3b\",\"#ea593a\",\"#e95739\",\"#e85538\",\"#e75236\",\"#e65035\",\"#e54d34\",\"#e44b33\",\"#e24932\",\"#e14631\",\"#e04430\",\"#df412f\",\"#de3f2e\",\"#dd3d2d\",\"#dc3a2b\",\"#da382a\",\"#d93529\",\"#d83328\",\"#d73127\",\"#d62f26\",\"#d42d26\",\"#d22b26\",\"#d02926\",\"#ce2726\",\"#cc2526\",\"#ca2326\",\"#c82126\",\"#c62026\",\"#c41e26\",\"#c21c26\",\"#c01a26\",\"#be1826\",\"#bc1626\",\"#ba1426\",\"#b81226\",\"#b61026\",\"#b40f26\",\"#b20d26\",\"#b00b26\",\"#ae0926\",\"#ac0726\",\"#aa0526\",\"#a80326\",\"#a60126\",\"#a50026\"],\"low\":147.97,\"high\":1464.27}}},\"fill_color\":{\"type\":\"field\",\"field\":\"color\",\"transform\":{\"id\":\"p1534\"}},\"hatch_color\":{\"type\":\"field\",\"field\":\"color\",\"transform\":{\"id\":\"p1534\"}}}},\"selection_glyph\":{\"type\":\"object\",\"name\":\"Scatter\",\"id\":\"p1543\",\"attributes\":{\"tags\":[\"apply_ranges\"],\"x\":{\"type\":\"field\",\"field\":\"Lng\"},\"y\":{\"type\":\"field\",\"field\":\"Lat\"},\"size\":{\"type\":\"field\",\"field\":\"size\"},\"line_color\":{\"type\":\"field\",\"field\":\"color\",\"transform\":{\"id\":\"p1534\"}},\"fill_color\":{\"type\":\"field\",\"field\":\"color\",\"transform\":{\"id\":\"p1534\"}},\"hatch_color\":{\"type\":\"field\",\"field\":\"color\",\"transform\":{\"id\":\"p1534\"}}}},\"nonselection_glyph\":{\"type\":\"object\",\"name\":\"Scatter\",\"id\":\"p1542\",\"attributes\":{\"tags\":[\"apply_ranges\"],\"x\":{\"type\":\"field\",\"field\":\"Lng\"},\"y\":{\"type\":\"field\",\"field\":\"Lat\"},\"size\":{\"type\":\"field\",\"field\":\"size\"},\"line_color\":{\"type\":\"field\",\"field\":\"color\",\"transform\":{\"id\":\"p1534\"}},\"line_alpha\":{\"type\":\"value\",\"value\":0.1},\"fill_color\":{\"type\":\"field\",\"field\":\"color\",\"transform\":{\"id\":\"p1534\"}},\"fill_alpha\":{\"type\":\"value\",\"value\":0.1},\"hatch_color\":{\"type\":\"field\",\"field\":\"color\",\"transform\":{\"id\":\"p1534\"}},\"hatch_alpha\":{\"type\":\"value\",\"value\":0.1}}},\"hover_glyph\":{\"type\":\"object\",\"name\":\"Scatter\",\"id\":\"p1544\",\"attributes\":{\"tags\":[\"apply_ranges\"],\"x\":{\"type\":\"field\",\"field\":\"Lng\"},\"y\":{\"type\":\"field\",\"field\":\"Lat\"},\"size\":{\"type\":\"field\",\"field\":\"size\"},\"line_color\":{\"type\":\"field\",\"field\":\"color\",\"transform\":{\"id\":\"p1534\"}},\"fill_color\":{\"type\":\"field\",\"field\":\"color\",\"transform\":{\"id\":\"p1534\"}},\"hatch_color\":{\"type\":\"field\",\"field\":\"color\",\"transform\":{\"id\":\"p1534\"}}}},\"muted_glyph\":{\"type\":\"object\",\"name\":\"Scatter\",\"id\":\"p1545\",\"attributes\":{\"tags\":[\"apply_ranges\"],\"x\":{\"type\":\"field\",\"field\":\"Lng\"},\"y\":{\"type\":\"field\",\"field\":\"Lat\"},\"size\":{\"type\":\"field\",\"field\":\"size\"},\"line_color\":{\"type\":\"field\",\"field\":\"color\",\"transform\":{\"id\":\"p1534\"}},\"line_alpha\":{\"type\":\"value\",\"value\":0.2},\"fill_color\":{\"type\":\"field\",\"field\":\"color\",\"transform\":{\"id\":\"p1534\"}},\"fill_alpha\":{\"type\":\"value\",\"value\":0.2},\"hatch_color\":{\"type\":\"field\",\"field\":\"color\",\"transform\":{\"id\":\"p1534\"}},\"hatch_alpha\":{\"type\":\"value\",\"value\":0.2}}}}}],\"toolbar\":{\"type\":\"object\",\"name\":\"Toolbar\",\"id\":\"p1506\",\"attributes\":{\"tools\":[{\"type\":\"object\",\"name\":\"WheelZoomTool\",\"id\":\"p1490\",\"attributes\":{\"renderers\":\"auto\",\"zoom_on_axis\":false}},{\"type\":\"object\",\"name\":\"BoxZoomTool\",\"id\":\"p1491\",\"attributes\":{\"overlay\":{\"type\":\"object\",\"name\":\"BoxAnnotation\",\"id\":\"p1006\",\"attributes\":{\"syncable\":false,\"level\":\"overlay\",\"visible\":false,\"left_units\":\"canvas\",\"right_units\":\"canvas\",\"top_units\":\"canvas\",\"bottom_units\":\"canvas\",\"line_color\":\"black\",\"line_alpha\":1.0,\"line_width\":2,\"line_dash\":[4,4],\"fill_color\":\"lightgrey\",\"fill_alpha\":0.5}},\"match_aspect\":true}},{\"type\":\"object\",\"name\":\"HoverTool\",\"id\":\"p1496\",\"attributes\":{\"tags\":[\"hv_created\"],\"renderers\":[{\"id\":\"p1546\"}],\"tooltips\":[[\"Lng\",\"$x{custom}\"],[\"Lat\",\"$y{custom}\"],[\"Mobile Top 10\",\"@{Mobile_Top_10}\"],[\"Top Mobile Country\",\"@{Top_Mobile_Country}\"],[\"Place\",\"@{Place}\"]],\"formatters\":{\"type\":\"map\",\"entries\":[[\"$x\",{\"type\":\"object\",\"name\":\"CustomJSHover\",\"id\":\"p1552\",\"attributes\":{\"code\":\"\\n        const projections = Bokeh.require(\\\"core/util/projections\\\");\\n        const {snap_x, snap_y} = special_vars\\n        const coords = projections.wgs84_mercator.invert(snap_x, snap_y)\\n        return \\\"\\\" + (coords[0]).toFixed(4)\\n    \"}}],[\"$y\",{\"type\":\"object\",\"name\":\"CustomJSHover\",\"id\":\"p1553\",\"attributes\":{\"code\":\"\\n        const projections = Bokeh.require(\\\"core/util/projections\\\");\\n        const {snap_x, snap_y} = special_vars\\n        const coords = projections.wgs84_mercator.invert(snap_x, snap_y)\\n        return \\\"\\\" + (coords[1]).toFixed(4)\\n    \"}}]]}}},{\"type\":\"object\",\"name\":\"PanTool\",\"id\":\"p1520\"},{\"type\":\"object\",\"name\":\"ResetTool\",\"id\":\"p1521\"}],\"active_drag\":{\"id\":\"p1520\"}}},\"left\":[{\"type\":\"object\",\"name\":\"LinearAxis\",\"id\":\"p1514\",\"attributes\":{\"ticker\":{\"type\":\"object\",\"name\":\"MercatorTicker\",\"id\":\"p1524\",\"attributes\":{\"mantissas\":[1,2,5],\"dimension\":\"lat\"}},\"formatter\":{\"type\":\"object\",\"name\":\"MercatorTickFormatter\",\"id\":\"p1525\",\"attributes\":{\"dimension\":\"lat\"}},\"axis_label\":\"Latitude\",\"major_label_policy\":{\"type\":\"object\",\"name\":\"AllLabels\",\"id\":\"p1517\"}}}],\"right\":[{\"type\":\"object\",\"name\":\"ColorBar\",\"id\":\"p1550\",\"attributes\":{\"location\":[0,0],\"ticker\":{\"type\":\"object\",\"name\":\"BasicTicker\",\"id\":\"p1549\",\"attributes\":{\"mantissas\":[1,2,5]}},\"major_label_policy\":{\"type\":\"object\",\"name\":\"NoOverlap\",\"id\":\"p1551\"},\"label_standoff\":8,\"major_tick_line_color\":\"black\",\"bar_line_color\":\"black\",\"color_mapper\":{\"id\":\"p1534\"}}}],\"below\":[{\"type\":\"object\",\"name\":\"LinearAxis\",\"id\":\"p1509\",\"attributes\":{\"ticker\":{\"type\":\"object\",\"name\":\"MercatorTicker\",\"id\":\"p1522\",\"attributes\":{\"mantissas\":[1,2,5],\"dimension\":\"lon\"}},\"formatter\":{\"type\":\"object\",\"name\":\"MercatorTickFormatter\",\"id\":\"p1523\",\"attributes\":{\"dimension\":\"lon\"}},\"axis_label\":\"Longitude\",\"major_label_policy\":{\"type\":\"object\",\"name\":\"AllLabels\",\"id\":\"p1512\"}}}],\"center\":[{\"type\":\"object\",\"name\":\"Grid\",\"id\":\"p1513\",\"attributes\":{\"axis\":{\"id\":\"p1509\"},\"grid_line_color\":null}},{\"type\":\"object\",\"name\":\"Grid\",\"id\":\"p1518\",\"attributes\":{\"dimension\":1,\"axis\":{\"id\":\"p1514\"},\"grid_line_color\":null}}],\"frame_width\":500,\"frame_height\":300,\"min_border_top\":10,\"min_border_bottom\":10,\"min_border_left\":10,\"min_border_right\":10,\"output_backend\":\"webgl\",\"match_aspect\":true}},{\"type\":\"object\",\"name\":\"Spacer\",\"id\":\"p1555\",\"attributes\":{\"name\":\"HSpacer02487\",\"stylesheets\":[\"\\n:host(.pn-loading.pn-arc):before, .pn-loading.pn-arc:before {\\n  background-image: url(\\\"data:image/svg+xml;base64,PHN2ZyB4bWxucz0iaHR0cDovL3d3dy53My5vcmcvMjAwMC9zdmciIHN0eWxlPSJtYXJnaW46IGF1dG87IGJhY2tncm91bmQ6IG5vbmU7IGRpc3BsYXk6IGJsb2NrOyBzaGFwZS1yZW5kZXJpbmc6IGF1dG87IiB2aWV3Qm94PSIwIDAgMTAwIDEwMCIgcHJlc2VydmVBc3BlY3RSYXRpbz0ieE1pZFlNaWQiPiAgPGNpcmNsZSBjeD0iNTAiIGN5PSI1MCIgZmlsbD0ibm9uZSIgc3Ryb2tlPSIjYzNjM2MzIiBzdHJva2Utd2lkdGg9IjEwIiByPSIzNSIgc3Ryb2tlLWRhc2hhcnJheT0iMTY0LjkzMzYxNDMxMzQ2NDE1IDU2Ljk3Nzg3MTQzNzgyMTM4Ij4gICAgPGFuaW1hdGVUcmFuc2Zvcm0gYXR0cmlidXRlTmFtZT0idHJhbnNmb3JtIiB0eXBlPSJyb3RhdGUiIHJlcGVhdENvdW50PSJpbmRlZmluaXRlIiBkdXI9IjFzIiB2YWx1ZXM9IjAgNTAgNTA7MzYwIDUwIDUwIiBrZXlUaW1lcz0iMDsxIj48L2FuaW1hdGVUcmFuc2Zvcm0+ICA8L2NpcmNsZT48L3N2Zz4=\\\");\\n  background-size: auto calc(min(50%, 400px));\\n}\",{\"id\":\"p1475\"},{\"id\":\"p1473\"},{\"id\":\"p1474\"}],\"margin\":0,\"sizing_mode\":\"stretch_width\",\"align\":\"start\"}}]}}],\"defs\":[{\"type\":\"model\",\"name\":\"ReactiveHTML1\"},{\"type\":\"model\",\"name\":\"FlexBox1\",\"properties\":[{\"name\":\"align_content\",\"kind\":\"Any\",\"default\":\"flex-start\"},{\"name\":\"align_items\",\"kind\":\"Any\",\"default\":\"flex-start\"},{\"name\":\"flex_direction\",\"kind\":\"Any\",\"default\":\"row\"},{\"name\":\"flex_wrap\",\"kind\":\"Any\",\"default\":\"wrap\"},{\"name\":\"justify_content\",\"kind\":\"Any\",\"default\":\"flex-start\"}]},{\"type\":\"model\",\"name\":\"FloatPanel1\",\"properties\":[{\"name\":\"config\",\"kind\":\"Any\",\"default\":{\"type\":\"map\"}},{\"name\":\"contained\",\"kind\":\"Any\",\"default\":true},{\"name\":\"position\",\"kind\":\"Any\",\"default\":\"right-top\"},{\"name\":\"offsetx\",\"kind\":\"Any\",\"default\":null},{\"name\":\"offsety\",\"kind\":\"Any\",\"default\":null},{\"name\":\"theme\",\"kind\":\"Any\",\"default\":\"primary\"},{\"name\":\"status\",\"kind\":\"Any\",\"default\":\"normalized\"}]},{\"type\":\"model\",\"name\":\"GridStack1\",\"properties\":[{\"name\":\"mode\",\"kind\":\"Any\",\"default\":\"warn\"},{\"name\":\"ncols\",\"kind\":\"Any\",\"default\":null},{\"name\":\"nrows\",\"kind\":\"Any\",\"default\":null},{\"name\":\"allow_resize\",\"kind\":\"Any\",\"default\":true},{\"name\":\"allow_drag\",\"kind\":\"Any\",\"default\":true},{\"name\":\"state\",\"kind\":\"Any\",\"default\":[]}]},{\"type\":\"model\",\"name\":\"drag1\",\"properties\":[{\"name\":\"slider_width\",\"kind\":\"Any\",\"default\":5},{\"name\":\"slider_color\",\"kind\":\"Any\",\"default\":\"black\"},{\"name\":\"value\",\"kind\":\"Any\",\"default\":50}]},{\"type\":\"model\",\"name\":\"click1\",\"properties\":[{\"name\":\"terminal_output\",\"kind\":\"Any\",\"default\":\"\"},{\"name\":\"debug_name\",\"kind\":\"Any\",\"default\":\"\"},{\"name\":\"clears\",\"kind\":\"Any\",\"default\":0}]},{\"type\":\"model\",\"name\":\"toggle_value1\",\"properties\":[{\"name\":\"active_icons\",\"kind\":\"Any\",\"default\":{\"type\":\"map\"}},{\"name\":\"options\",\"kind\":\"Any\",\"default\":{\"type\":\"map\",\"entries\":[[\"favorite\",\"heart\"]]}},{\"name\":\"value\",\"kind\":\"Any\",\"default\":[]},{\"name\":\"_reactions\",\"kind\":\"Any\",\"default\":[]},{\"name\":\"_base_url\",\"kind\":\"Any\",\"default\":\"https://tabler-icons.io/static/tabler-icons/icons/\"}]},{\"type\":\"model\",\"name\":\"copy_to_clipboard1\",\"properties\":[{\"name\":\"value\",\"kind\":\"Any\",\"default\":null},{\"name\":\"fill\",\"kind\":\"Any\",\"default\":\"none\"}]},{\"type\":\"model\",\"name\":\"FastWrapper1\",\"properties\":[{\"name\":\"object\",\"kind\":\"Any\",\"default\":null},{\"name\":\"style\",\"kind\":\"Any\",\"default\":null}]},{\"type\":\"model\",\"name\":\"NotificationAreaBase1\",\"properties\":[{\"name\":\"js_events\",\"kind\":\"Any\",\"default\":{\"type\":\"map\"}},{\"name\":\"position\",\"kind\":\"Any\",\"default\":\"bottom-right\"},{\"name\":\"_clear\",\"kind\":\"Any\",\"default\":0}]},{\"type\":\"model\",\"name\":\"NotificationArea1\",\"properties\":[{\"name\":\"js_events\",\"kind\":\"Any\",\"default\":{\"type\":\"map\"}},{\"name\":\"notifications\",\"kind\":\"Any\",\"default\":[]},{\"name\":\"position\",\"kind\":\"Any\",\"default\":\"bottom-right\"},{\"name\":\"_clear\",\"kind\":\"Any\",\"default\":0},{\"name\":\"types\",\"kind\":\"Any\",\"default\":[{\"type\":\"map\",\"entries\":[[\"type\",\"warning\"],[\"background\",\"#ffc107\"],[\"icon\",{\"type\":\"map\",\"entries\":[[\"className\",\"fas fa-exclamation-triangle\"],[\"tagName\",\"i\"],[\"color\",\"white\"]]}]]},{\"type\":\"map\",\"entries\":[[\"type\",\"info\"],[\"background\",\"#007bff\"],[\"icon\",{\"type\":\"map\",\"entries\":[[\"className\",\"fas fa-info-circle\"],[\"tagName\",\"i\"],[\"color\",\"white\"]]}]]}]}]},{\"type\":\"model\",\"name\":\"Notification\",\"properties\":[{\"name\":\"background\",\"kind\":\"Any\",\"default\":null},{\"name\":\"duration\",\"kind\":\"Any\",\"default\":3000},{\"name\":\"icon\",\"kind\":\"Any\",\"default\":null},{\"name\":\"message\",\"kind\":\"Any\",\"default\":\"\"},{\"name\":\"notification_type\",\"kind\":\"Any\",\"default\":null},{\"name\":\"_destroyed\",\"kind\":\"Any\",\"default\":false}]},{\"type\":\"model\",\"name\":\"TemplateActions1\",\"properties\":[{\"name\":\"open_modal\",\"kind\":\"Any\",\"default\":0},{\"name\":\"close_modal\",\"kind\":\"Any\",\"default\":0}]},{\"type\":\"model\",\"name\":\"BootstrapTemplateActions1\",\"properties\":[{\"name\":\"open_modal\",\"kind\":\"Any\",\"default\":0},{\"name\":\"close_modal\",\"kind\":\"Any\",\"default\":0}]},{\"type\":\"model\",\"name\":\"MaterialTemplateActions1\",\"properties\":[{\"name\":\"open_modal\",\"kind\":\"Any\",\"default\":0},{\"name\":\"close_modal\",\"kind\":\"Any\",\"default\":0}]}]}};\n",
       "  var render_items = [{\"docid\":\"eaefd4b2-c068-4a89-b259-27b7ec79e1b1\",\"roots\":{\"p1472\":\"ecb6206c-3cc3-4e3e-a5b4-c004ac10f04c\"},\"root_ids\":[\"p1472\"]}];\n",
       "  var docs = Object.values(docs_json)\n",
       "  if (!docs) {\n",
       "    return\n",
       "  }\n",
       "  const py_version = docs[0].version.replace('rc', '-rc.').replace('.dev', '-dev.')\n",
       "  const is_dev = py_version.indexOf(\"+\") !== -1 || py_version.indexOf(\"-\") !== -1\n",
       "  function embed_document(root) {\n",
       "    var Bokeh = get_bokeh(root)\n",
       "    Bokeh.embed.embed_items_notebook(docs_json, render_items);\n",
       "    for (const render_item of render_items) {\n",
       "      for (const root_id of render_item.root_ids) {\n",
       "\tconst id_el = document.getElementById(root_id)\n",
       "\tif (id_el.children.length && (id_el.children[0].className === 'bk-root')) {\n",
       "\t  const root_el = id_el.children[0]\n",
       "\t  root_el.id = root_el.id + '-rendered'\n",
       "\t}\n",
       "      }\n",
       "    }\n",
       "  }\n",
       "  function get_bokeh(root) {\n",
       "    if (root.Bokeh === undefined) {\n",
       "      return null\n",
       "    } else if (root.Bokeh.version !== py_version && !is_dev) {\n",
       "      if (root.Bokeh.versions === undefined || !root.Bokeh.versions.has(py_version)) {\n",
       "\treturn null\n",
       "      }\n",
       "      return root.Bokeh.versions.get(py_version);\n",
       "    } else if (root.Bokeh.version === py_version) {\n",
       "      return root.Bokeh\n",
       "    }\n",
       "    return null\n",
       "  }\n",
       "  function is_loaded(root) {\n",
       "    var Bokeh = get_bokeh(root)\n",
       "    return (Bokeh != null && Bokeh.Panel !== undefined)\n",
       "  }\n",
       "  if (is_loaded(root)) {\n",
       "    embed_document(root);\n",
       "  } else {\n",
       "    var attempts = 0;\n",
       "    var timer = setInterval(function(root) {\n",
       "      if (is_loaded(root)) {\n",
       "        clearInterval(timer);\n",
       "        embed_document(root);\n",
       "      } else if (document.readyState == \"complete\") {\n",
       "        attempts++;\n",
       "        if (attempts > 200) {\n",
       "          clearInterval(timer);\n",
       "\t  var Bokeh = get_bokeh(root)\n",
       "\t  if (Bokeh == null || Bokeh.Panel == null) {\n",
       "            console.warn(\"Panel: ERROR: Unable to run Panel code because Bokeh or Panel library is missing\");\n",
       "\t  } else {\n",
       "\t    console.warn(\"Panel: WARNING: Attempting to render but not all required libraries could be resolved.\")\n",
       "\t    embed_document(root)\n",
       "\t  }\n",
       "        }\n",
       "      }\n",
       "    }, 25, root)\n",
       "  }\n",
       "})(window);</script>"
      ],
      "text/plain": [
       ":Overlay\n",
       "   .WMTS.I   :WMTS   [Longitude,Latitude]\n",
       "   .Points.I :Points   [Lng,Lat]   (Mobile Top 10,Top Mobile Country,Place)"
      ]
     },
     "execution_count": 42,
     "metadata": {
      "application/vnd.holoviews_exec.v0+json": {
       "id": "p1472"
      }
     },
     "output_type": "execute_result"
    }
   ],
   "source": [
    "%%capture --no-display\n",
    "#Hover Cols\n",
    "hover = ['Top Mobile Country', 'Mobile Top 10', 'Place']\n",
    "\n",
    "# Configure the map plot\n",
    "mobile_1 = mobile_ten_data.hvplot.points(\n",
    "    \"Lng\",\n",
    "    \"Lat\",\n",
    "    geo = True,\n",
    "    tiles = \"EsriTerrain\",\n",
    "    frame_width = 500,\n",
    "    frame_height = 300,\n",
    "    size = \"Mobile Top 10\",\n",
    "    scale = 1.5,\n",
    "    color = \"Mobile Top 10\",\n",
    "    cmap='RdYlGn_r',\n",
    "    title='Mobile Top 10 Data by Penetration (%)',\n",
    "    hover_cols = hover\n",
    ")\n",
    "\n",
    "# Display the map\n",
    "mobile_1"
   ]
  },
  {
   "cell_type": "code",
   "execution_count": 32,
   "metadata": {},
   "outputs": [
    {
     "data": {
      "text/plain": [
       "<Figure size 640x480 with 0 Axes>"
      ]
     },
     "metadata": {},
     "output_type": "display_data"
    },
    {
     "data": {
      "image/png": "[encoded data removed]",
      "text/plain": [
       "<Figure size 500x300 with 1 Axes>"
      ]
     },
     "metadata": {},
     "output_type": "display_data"
    }
   ],
   "source": [
    "plt.clf()\n",
    "plt.figure(figsize=(5, 3))\n",
    "mobile_bar = mobile_ten_data.sort_values(by='Mobile Top 10', ascending=True)\n",
    "ax = plt.bar(mobile_bar['Top Mobile Country'], mobile_bar['Mobile Top 10'], \n",
    "             color='#2252a3', alpha=1, linewidth=0.7, edgecolor=\"black\")\n",
    "\n",
    "# Add labels and title\n",
    "plt.xlabel('Country')\n",
    "plt.xticks(rotation=330, ha='left')\n",
    "plt.ylabel('Mobile Penetration (%)')\n",
    "plt.title('Top 10 Countries with Highest Mobile Penetration')\n",
    "\n",
    "# Show the plot\n",
    "plt.show()\n",
    "#plt.savefig(\"Images/mobile10.png\", transparent=True, bbox_inches='tight', pad_inches=0, dpi=300)"
   ]
  },
  {
   "cell_type": "markdown",
   "metadata": {},
   "source": [
    "## Top 10 Countries 2g, 3g, and 4g Coverage"
   ]
  },
  {
   "cell_type": "code",
   "execution_count": null,
   "metadata": {},
   "outputs": [],
   "source": [
    "#Set the Id's for the search\n",
    "g_ids = ['China', 'India', 'United States', 'Indonesia', 'Russia', 'Brazil', 'Japan', 'Nigeria', 'Bangladesh', 'Pakistan']\n",
    "\n",
    "#Search the DataFrame and return the results from the appended list\n",
    "mobile_coverage = internet_summary[internet_summary['Country'].isin(g_ids)][['Country','2G Coverage', '3G Coverage', '4G Coverage']]\n",
    "\n",
    "#Set the new order of the DataFrame\n",
    "order = ['China', 'India', 'United States', 'Indonesia', 'Russia', 'Brazil', 'Japan', 'Nigeria', 'Bangladesh', 'Pakistan']\n",
    "coverage_reordered = mobile_coverage.set_index('Country').reindex(order).reset_index()\n",
    "\n",
    "#Export to CSV\n",
    "coverage_reordered.to_csv(\"Resources/Coverage.csv\")\n",
    "\n",
    "#Show\n",
    "coverage_reordered"
   ]
  },
  {
   "cell_type": "code",
   "execution_count": 34,
   "metadata": {},
   "outputs": [
    {
     "data": {
      "text/html": [
       "<div>\n",
       "<style scoped>\n",
       "    .dataframe tbody tr th:only-of-type {\n",
       "        vertical-align: middle;\n",
       "    }\n",
       "\n",
       "    .dataframe tbody tr th {\n",
       "        vertical-align: top;\n",
       "    }\n",
       "\n",
       "    .dataframe thead th {\n",
       "        text-align: right;\n",
       "    }\n",
       "</style>\n",
       "<table border=\"1\" class=\"dataframe\">\n",
       "  <thead>\n",
       "    <tr style=\"text-align: right;\">\n",
       "      <th></th>\n",
       "      <th>Country</th>\n",
       "      <th>2G</th>\n",
       "      <th>3G</th>\n",
       "      <th>4G</th>\n",
       "    </tr>\n",
       "  </thead>\n",
       "  <tbody>\n",
       "    <tr>\n",
       "      <th>0</th>\n",
       "      <td>China</td>\n",
       "      <td>99.66</td>\n",
       "      <td>98.06</td>\n",
       "      <td>95.86</td>\n",
       "    </tr>\n",
       "    <tr>\n",
       "      <th>1</th>\n",
       "      <td>India</td>\n",
       "      <td>96.81</td>\n",
       "      <td>86.76</td>\n",
       "      <td>71.48</td>\n",
       "    </tr>\n",
       "    <tr>\n",
       "      <th>2</th>\n",
       "      <td>United States</td>\n",
       "      <td>99.90</td>\n",
       "      <td>99.90</td>\n",
       "      <td>99.76</td>\n",
       "    </tr>\n",
       "    <tr>\n",
       "      <th>3</th>\n",
       "      <td>Indonesia</td>\n",
       "      <td>94.36</td>\n",
       "      <td>84.81</td>\n",
       "      <td>62.64</td>\n",
       "    </tr>\n",
       "    <tr>\n",
       "      <th>4</th>\n",
       "      <td>Russia</td>\n",
       "      <td>91.98</td>\n",
       "      <td>78.14</td>\n",
       "      <td>65.74</td>\n",
       "    </tr>\n",
       "    <tr>\n",
       "      <th>5</th>\n",
       "      <td>Brazil</td>\n",
       "      <td>94.40</td>\n",
       "      <td>94.17</td>\n",
       "      <td>80.46</td>\n",
       "    </tr>\n",
       "    <tr>\n",
       "      <th>6</th>\n",
       "      <td>Japan</td>\n",
       "      <td>99.90</td>\n",
       "      <td>99.90</td>\n",
       "      <td>99.00</td>\n",
       "    </tr>\n",
       "    <tr>\n",
       "      <th>7</th>\n",
       "      <td>Nigeria</td>\n",
       "      <td>92.33</td>\n",
       "      <td>59.54</td>\n",
       "      <td>17.21</td>\n",
       "    </tr>\n",
       "    <tr>\n",
       "      <th>8</th>\n",
       "      <td>Bangladesh</td>\n",
       "      <td>99.51</td>\n",
       "      <td>89.16</td>\n",
       "      <td>71.60</td>\n",
       "    </tr>\n",
       "    <tr>\n",
       "      <th>9</th>\n",
       "      <td>Pakistan</td>\n",
       "      <td>87.70</td>\n",
       "      <td>70.92</td>\n",
       "      <td>49.47</td>\n",
       "    </tr>\n",
       "  </tbody>\n",
       "</table>\n",
       "</div>"
      ],
      "text/plain": [
       "         Country     2G     3G     4G\n",
       "0          China  99.66  98.06  95.86\n",
       "1          India  96.81  86.76  71.48\n",
       "2  United States  99.90  99.90  99.76\n",
       "3      Indonesia  94.36  84.81  62.64\n",
       "4         Russia  91.98  78.14  65.74\n",
       "5         Brazil  94.40  94.17  80.46\n",
       "6          Japan  99.90  99.90  99.00\n",
       "7        Nigeria  92.33  59.54  17.21\n",
       "8     Bangladesh  99.51  89.16  71.60\n",
       "9       Pakistan  87.70  70.92  49.47"
      ]
     },
     "execution_count": 34,
     "metadata": {},
     "output_type": "execute_result"
    }
   ],
   "source": [
    "#Import the complete CSV\n",
    "data_to_load = Path(\"Resources/Coverage.csv\")\n",
    "\n",
    "coverage_data = pd.read_csv(data_to_load)\n",
    "\n",
    "unwanted_column = ['Unnamed: 0']\n",
    "coverage_data.drop(columns=unwanted_column, inplace=True)\n",
    "coverage_data.rename(columns={'2G Coverage': '2G', '3G Coverage': '3G', '4G Coverage': '4G'}, inplace=True)\n",
    "\n",
    "#Show\n",
    "coverage_data"
   ]
  },
  {
   "cell_type": "code",
   "execution_count": 35,
   "metadata": {},
   "outputs": [
    {
     "data": {
      "image/png": "[encoded data removed]",
      "text/plain": [
       "<Figure size 1200x300 with 1 Axes>"
      ]
     },
     "metadata": {},
     "output_type": "display_data"
    }
   ],
   "source": [
    "coverage = pd.DataFrame(coverage_data)\n",
    "plt.figure(figsize=(12, 3))\n",
    "\n",
    "# Set up positions for bars on x-axis\n",
    "bar_width = 0.2\n",
    "\n",
    "space_between_groups = .0\n",
    "twog = np.arange(len(coverage))\n",
    "threeg = [x + bar_width + space_between_groups for x in twog]\n",
    "fourg = [x + bar_width + space_between_groups for x in threeg]\n",
    "\n",
    "# Create grouped bar chart\n",
    "plt.bar(twog, coverage['2G'], width=bar_width, color='#2252A3', linewidth=0.6, edgecolor=\"Black\", label='2G')\n",
    "plt.bar(threeg, coverage['3G'], width=bar_width, color='#88aad9', linewidth=0.4, edgecolor=\"Black\", label='3G')\n",
    "plt.bar(fourg, coverage['4G'], width=bar_width, color='#213982', linewidth=0.6, edgecolor=\"Black\", label='4G')\n",
    "\n",
    "# Customize the plot\n",
    "plt.xlabel('Country', fontweight='bold')\n",
    "plt.xticks([r + bar_width + space_between_groups for r in range(len(coverage))], coverage['Country'])\n",
    "plt.xticks(rotation=330, ha='left')\n",
    "plt.title('2G, 3G, and 4G Coverage in Top 10 Mobile Countries')\n",
    "plt.legend()\n",
    "plt.tick_params(axis='both')\n",
    "\n",
    "# Show the plot\n",
    "plt.show()\n",
    "#plt.savefig(\"Images/'coverage.png\", transparent=True, bbox_inches='tight', pad_inches=0, dpi=300)"
   ]
  },
  {
   "cell_type": "markdown",
   "metadata": {},
   "source": [
    "### Top 10 Countries Cost of Broadband v. Cost of Mobile"
   ]
  },
  {
   "cell_type": "code",
   "execution_count": null,
   "metadata": {},
   "outputs": [],
   "source": [
    "#Set the Id's for the search\n",
    "g_ids = ['China', 'India', 'United States', 'Indonesia', 'Russia', 'Brazil', 'Japan', 'Nigeria', 'Bangladesh', 'Pakistan']\n",
    "\n",
    "#Search the DataFrame and return the results from the appended list\n",
    "cost_analysis = internet_summary[internet_summary['Country'].isin(g_ids)][['Country', 'Broadband Cost (% of GNI)', 'Mobile Cost (% of GNI)']]\n",
    "\n",
    "#Set the new order of the DataFrame\n",
    "order = ['China', 'India', 'United States', 'Indonesia', 'Russia', 'Brazil', 'Japan', 'Nigeria', 'Bangladesh', 'Pakistan']\n",
    "cost_reordered = cost_analysis.set_index('Country').reindex(order).reset_index()\n",
    "\n",
    "#Show\n",
    "cost_reordered.to_csv(\"Resources/Cost_comparisons.csv\")\n",
    "\n",
    "#Show\n",
    "cost_reordered"
   ]
  },
  {
   "cell_type": "code",
   "execution_count": 36,
   "metadata": {},
   "outputs": [
    {
     "data": {
      "text/html": [
       "<div>\n",
       "<style scoped>\n",
       "    .dataframe tbody tr th:only-of-type {\n",
       "        vertical-align: middle;\n",
       "    }\n",
       "\n",
       "    .dataframe tbody tr th {\n",
       "        vertical-align: top;\n",
       "    }\n",
       "\n",
       "    .dataframe thead th {\n",
       "        text-align: right;\n",
       "    }\n",
       "</style>\n",
       "<table border=\"1\" class=\"dataframe\">\n",
       "  <thead>\n",
       "    <tr style=\"text-align: right;\">\n",
       "      <th></th>\n",
       "      <th>Country</th>\n",
       "      <th>Broadband Cost</th>\n",
       "      <th>Mobile Cost</th>\n",
       "    </tr>\n",
       "  </thead>\n",
       "  <tbody>\n",
       "    <tr>\n",
       "      <th>0</th>\n",
       "      <td>China</td>\n",
       "      <td>2.34</td>\n",
       "      <td>0.85</td>\n",
       "    </tr>\n",
       "    <tr>\n",
       "      <th>1</th>\n",
       "      <td>India</td>\n",
       "      <td>4.60</td>\n",
       "      <td>2.18</td>\n",
       "    </tr>\n",
       "    <tr>\n",
       "      <th>2</th>\n",
       "      <td>United States</td>\n",
       "      <td>0.84</td>\n",
       "      <td>0.15</td>\n",
       "    </tr>\n",
       "    <tr>\n",
       "      <th>3</th>\n",
       "      <td>Indonesia</td>\n",
       "      <td>8.94</td>\n",
       "      <td>0.85</td>\n",
       "    </tr>\n",
       "    <tr>\n",
       "      <th>4</th>\n",
       "      <td>Russia</td>\n",
       "      <td>0.55</td>\n",
       "      <td>0.24</td>\n",
       "    </tr>\n",
       "    <tr>\n",
       "      <th>5</th>\n",
       "      <td>Brazil</td>\n",
       "      <td>2.09</td>\n",
       "      <td>2.18</td>\n",
       "    </tr>\n",
       "    <tr>\n",
       "      <th>6</th>\n",
       "      <td>Japan</td>\n",
       "      <td>0.83</td>\n",
       "      <td>1.74</td>\n",
       "    </tr>\n",
       "    <tr>\n",
       "      <th>7</th>\n",
       "      <td>Nigeria</td>\n",
       "      <td>14.61</td>\n",
       "      <td>2.43</td>\n",
       "    </tr>\n",
       "    <tr>\n",
       "      <th>8</th>\n",
       "      <td>Bangladesh</td>\n",
       "      <td>3.67</td>\n",
       "      <td>3.22</td>\n",
       "    </tr>\n",
       "    <tr>\n",
       "      <th>9</th>\n",
       "      <td>Pakistan</td>\n",
       "      <td>5.94</td>\n",
       "      <td>3.32</td>\n",
       "    </tr>\n",
       "  </tbody>\n",
       "</table>\n",
       "</div>"
      ],
      "text/plain": [
       "         Country  Broadband Cost  Mobile Cost\n",
       "0          China            2.34         0.85\n",
       "1          India            4.60         2.18\n",
       "2  United States            0.84         0.15\n",
       "3      Indonesia            8.94         0.85\n",
       "4         Russia            0.55         0.24\n",
       "5         Brazil            2.09         2.18\n",
       "6          Japan            0.83         1.74\n",
       "7        Nigeria           14.61         2.43\n",
       "8     Bangladesh            3.67         3.22\n",
       "9       Pakistan            5.94         3.32"
      ]
     },
     "execution_count": 36,
     "metadata": {},
     "output_type": "execute_result"
    }
   ],
   "source": [
    "#Import the complete CSV\n",
    "data_to_load = Path(\"Resources/Cost_comparisons.csv\")\n",
    "\n",
    "cost_data = pd.read_csv(data_to_load)\n",
    "\n",
    "unwanted_column = ['Unnamed: 0']\n",
    "cost_data.drop(columns=unwanted_column, inplace=True)\n",
    "cost_data.rename(columns={'Broadband Cost (% of GNI)': 'Broadband Cost', \n",
    "                          'Mobile Cost (% of GNI)': 'Mobile Cost'}, inplace=True)\n",
    "\n",
    "#Show\n",
    "cost_data"
   ]
  },
  {
   "cell_type": "code",
   "execution_count": 38,
   "metadata": {},
   "outputs": [
    {
     "data": {
      "text/plain": [
       "<Figure size 640x480 with 0 Axes>"
      ]
     },
     "metadata": {},
     "output_type": "display_data"
    },
    {
     "data": {
      "image/png": "[encoded data removed]",
      "text/plain": [
       "<Figure size 900x400 with 1 Axes>"
      ]
     },
     "metadata": {},
     "output_type": "display_data"
    }
   ],
   "source": [
    "cost = pd.DataFrame(cost_data)\n",
    "plt.figure(figsize=(9, 4))\n",
    "\n",
    "# Set up positions for bars on x-axis\n",
    "bar_width = 0.3\n",
    "\n",
    "space_between_groups = 0.0\n",
    "broadband = np.arange(len(cost))\n",
    "mobile = [x + bar_width + space_between_groups for x in broadband]\n",
    "\n",
    "# Create grouped bar chart\n",
    "plt.bar(broadband, cost['Broadband Cost'], width=bar_width, color='#2252A3', \n",
    "        linewidth=0.5, edgecolor=\"black\", label='Broadband Cost (% of GNI)')\n",
    "plt.bar(mobile, cost['Mobile Cost'], width=bar_width, color='#88aad9', \n",
    "        linewidth=0.5, edgecolor=\"black\", label='Mobile Cost (% of GNI)')\n",
    "\n",
    "# Customize the plot\n",
    "plt.xlabel('Country', fontweight='bold')\n",
    "plt.xticks([r + bar_width + space_between_groups for r in range(len(coverage))], coverage['Country'])\n",
    "plt.xticks(rotation=45, ha='right')\n",
    "plt.title('Cost of Broadband v. Cost of Mobile, (% of GNI)')\n",
    "plt.legend()\n",
    "\n",
    "# Show the plot\n",
    "plt.show()\n",
    "#plt.savefig(\"Images/'broadband_mobile_cost.png\", transparent=True, bbox_inches='tight', pad_inches=0, dpi=300)"
   ]
  }
 ],
 "metadata": {
  "anaconda-cloud": {},
  "kernel_info": {
   "name": "python3"
  },
  "kernelspec": {
   "display_name": "Python 3 (ipykernel)",
   "language": "python",
   "name": "python3"
  },
  "language_info": {
   "codemirror_mode": {
    "name": "ipython",
    "version": 3
   },
   "file_extension": ".py",
   "mimetype": "text/x-python",
   "name": "python",
   "nbconvert_exporter": "python",
   "pygments_lexer": "ipython3",
   "version": "3.10.13"
  },
  "latex_envs": {
   "LaTeX_envs_menu_present": true,
   "autoclose": false,
   "autocomplete": true,
   "bibliofile": "biblio.bib",
   "cite_by": "apalike",
   "current_citInitial": 1,
   "eqLabelWithNumbers": true,
   "eqNumInitial": 1,
   "hotkeys": {
    "equation": "Ctrl-E",
    "itemize": "Ctrl-I"
   },
   "labels_anchors": false,
   "latex_user_defs": false,
   "report_style_numbering": false,
   "user_envs_cfg": false
  },
  "nteract": {
   "version": "0.8.4"
  },
  "vscode": {
   "interpreter": {
    "hash": "5384d77d82de63fd599f73e77f9ec786e7719288bf80a29ec0288c670ac3cf32"
   }
  }
 },
 "nbformat": 4,
 "nbformat_minor": 4
}
