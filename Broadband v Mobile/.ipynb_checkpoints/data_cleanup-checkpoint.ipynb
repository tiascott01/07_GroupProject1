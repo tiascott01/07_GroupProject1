{
 "cells": [
  {
   "cell_type": "markdown",
   "metadata": {},
   "source": [
    "# Data Cleanup - Broadband v Mobile\n",
    "---\n",
    "\n",
    "### Notes:\n",
    "\n",
    " \n",
    " "
   ]
  },
  {
   "cell_type": "markdown",
   "metadata": {},
   "source": [
    "### Dataframe Setup"
   ]
  },
  {
   "cell_type": "code",
   "execution_count": 137,
   "metadata": {},
   "outputs": [
    {
     "data": {
      "text/html": [
       "<div>\n",
       "<style scoped>\n",
       "    .dataframe tbody tr th:only-of-type {\n",
       "        vertical-align: middle;\n",
       "    }\n",
       "\n",
       "    .dataframe tbody tr th {\n",
       "        vertical-align: top;\n",
       "    }\n",
       "\n",
       "    .dataframe thead th {\n",
       "        text-align: right;\n",
       "    }\n",
       "</style>\n",
       "<table border=\"1\" class=\"dataframe\">\n",
       "  <thead>\n",
       "    <tr style=\"text-align: right;\">\n",
       "      <th></th>\n",
       "      <th>Country</th>\n",
       "      <th>Edition</th>\n",
       "      <th>1.1.1) Internet users</th>\n",
       "      <th>1.1.2) Fixed-line broadband subscribers</th>\n",
       "      <th>1.1.3) Mobile subscribers</th>\n",
       "      <th>1.1.4) Gender gap in internet access</th>\n",
       "      <th>1.1.5) Gender gap in mobile phone access</th>\n",
       "      <th>1.2.1) Average fixed broadband upload speed</th>\n",
       "      <th>1.2.2) Average fixed broadband download speed</th>\n",
       "      <th>1.2.3) Average fixed broadband latency</th>\n",
       "      <th>...</th>\n",
       "      <th>BG15) Internet users (population)</th>\n",
       "      <th>BG16) Offline population</th>\n",
       "      <th>BG17) Internet access gender gap</th>\n",
       "      <th>BG18) Mobile phone access gender gap</th>\n",
       "      <th>BG19) Internet users (percent of population)</th>\n",
       "      <th>BG20) Male internet users</th>\n",
       "      <th>BG21) Female internet users</th>\n",
       "      <th>BG22) Male mobile phone subscribers</th>\n",
       "      <th>BG23) Female mobile phone subscribers</th>\n",
       "      <th>BG24) Total fixed line broadband subscribers</th>\n",
       "    </tr>\n",
       "  </thead>\n",
       "  <tbody>\n",
       "    <tr>\n",
       "      <th>0</th>\n",
       "      <td>Algeria</td>\n",
       "      <td>E1</td>\n",
       "      <td>31.9</td>\n",
       "      <td>5.71</td>\n",
       "      <td>108.8</td>\n",
       "      <td>NaN</td>\n",
       "      <td>NaN</td>\n",
       "      <td>1.69</td>\n",
       "      <td>3.39</td>\n",
       "      <td>74.00</td>\n",
       "      <td>...</td>\n",
       "      <td>15.23</td>\n",
       "      <td>24.64</td>\n",
       "      <td>NaN</td>\n",
       "      <td>NaN</td>\n",
       "      <td>38.2</td>\n",
       "      <td>NaN</td>\n",
       "      <td>NaN</td>\n",
       "      <td>95.5</td>\n",
       "      <td>89.9</td>\n",
       "      <td>2269348</td>\n",
       "    </tr>\n",
       "    <tr>\n",
       "      <th>1</th>\n",
       "      <td>Algeria</td>\n",
       "      <td>E2</td>\n",
       "      <td>47.3</td>\n",
       "      <td>7.05</td>\n",
       "      <td>116.0</td>\n",
       "      <td>22.0</td>\n",
       "      <td>7.8</td>\n",
       "      <td>6.12</td>\n",
       "      <td>7.85</td>\n",
       "      <td>76.92</td>\n",
       "      <td>...</td>\n",
       "      <td>17.44</td>\n",
       "      <td>23.18</td>\n",
       "      <td>13.0</td>\n",
       "      <td>7.0</td>\n",
       "      <td>42.9</td>\n",
       "      <td>59.0</td>\n",
       "      <td>46.0</td>\n",
       "      <td>90.0</td>\n",
       "      <td>83.0</td>\n",
       "      <td>2859567</td>\n",
       "    </tr>\n",
       "    <tr>\n",
       "      <th>2</th>\n",
       "      <td>Algeria</td>\n",
       "      <td>E3</td>\n",
       "      <td>54.2</td>\n",
       "      <td>7.76</td>\n",
       "      <td>110.8</td>\n",
       "      <td>11.7</td>\n",
       "      <td>8.9</td>\n",
       "      <td>2.59</td>\n",
       "      <td>3.77</td>\n",
       "      <td>64.71</td>\n",
       "      <td>...</td>\n",
       "      <td>19.71</td>\n",
       "      <td>21.62</td>\n",
       "      <td>7.0</td>\n",
       "      <td>8.0</td>\n",
       "      <td>47.7</td>\n",
       "      <td>60.0</td>\n",
       "      <td>53.0</td>\n",
       "      <td>90.0</td>\n",
       "      <td>82.0</td>\n",
       "      <td>3210267</td>\n",
       "    </tr>\n",
       "    <tr>\n",
       "      <th>3</th>\n",
       "      <td>Algeria</td>\n",
       "      <td>E4</td>\n",
       "      <td>74.4</td>\n",
       "      <td>7.26</td>\n",
       "      <td>111.7</td>\n",
       "      <td>21.7</td>\n",
       "      <td>7.3</td>\n",
       "      <td>1.97</td>\n",
       "      <td>3.87</td>\n",
       "      <td>64.99</td>\n",
       "      <td>...</td>\n",
       "      <td>20.64</td>\n",
       "      <td>21.45</td>\n",
       "      <td>13.0</td>\n",
       "      <td>6.0</td>\n",
       "      <td>49.0</td>\n",
       "      <td>60.0</td>\n",
       "      <td>47.0</td>\n",
       "      <td>82.0</td>\n",
       "      <td>76.0</td>\n",
       "      <td>3067022</td>\n",
       "    </tr>\n",
       "    <tr>\n",
       "      <th>4</th>\n",
       "      <td>Algeria</td>\n",
       "      <td>E5</td>\n",
       "      <td>74.4</td>\n",
       "      <td>8.32</td>\n",
       "      <td>109.4</td>\n",
       "      <td>10.9</td>\n",
       "      <td>8.0</td>\n",
       "      <td>1.41</td>\n",
       "      <td>3.84</td>\n",
       "      <td>54.09</td>\n",
       "      <td>...</td>\n",
       "      <td>20.64</td>\n",
       "      <td>21.45</td>\n",
       "      <td>7.0</td>\n",
       "      <td>7.0</td>\n",
       "      <td>49.0</td>\n",
       "      <td>64.0</td>\n",
       "      <td>57.0</td>\n",
       "      <td>87.0</td>\n",
       "      <td>80.0</td>\n",
       "      <td>3582739</td>\n",
       "    </tr>\n",
       "  </tbody>\n",
       "</table>\n",
       "<p>5 rows × 86 columns</p>\n",
       "</div>"
      ],
      "text/plain": [
       "   Country Edition  1.1.1) Internet users  \\\n",
       "0  Algeria      E1                   31.9   \n",
       "1  Algeria      E2                   47.3   \n",
       "2  Algeria      E3                   54.2   \n",
       "3  Algeria      E4                   74.4   \n",
       "4  Algeria      E5                   74.4   \n",
       "\n",
       "   1.1.2) Fixed-line broadband subscribers  1.1.3) Mobile subscribers  \\\n",
       "0                                     5.71                      108.8   \n",
       "1                                     7.05                      116.0   \n",
       "2                                     7.76                      110.8   \n",
       "3                                     7.26                      111.7   \n",
       "4                                     8.32                      109.4   \n",
       "\n",
       "   1.1.4) Gender gap in internet access  \\\n",
       "0                                   NaN   \n",
       "1                                  22.0   \n",
       "2                                  11.7   \n",
       "3                                  21.7   \n",
       "4                                  10.9   \n",
       "\n",
       "   1.1.5) Gender gap in mobile phone access  \\\n",
       "0                                       NaN   \n",
       "1                                       7.8   \n",
       "2                                       8.9   \n",
       "3                                       7.3   \n",
       "4                                       8.0   \n",
       "\n",
       "   1.2.1) Average fixed broadband upload speed  \\\n",
       "0                                         1.69   \n",
       "1                                         6.12   \n",
       "2                                         2.59   \n",
       "3                                         1.97   \n",
       "4                                         1.41   \n",
       "\n",
       "   1.2.2) Average fixed broadband download speed  \\\n",
       "0                                           3.39   \n",
       "1                                           7.85   \n",
       "2                                           3.77   \n",
       "3                                           3.87   \n",
       "4                                           3.84   \n",
       "\n",
       "   1.2.3) Average fixed broadband latency  ...  \\\n",
       "0                                   74.00  ...   \n",
       "1                                   76.92  ...   \n",
       "2                                   64.71  ...   \n",
       "3                                   64.99  ...   \n",
       "4                                   54.09  ...   \n",
       "\n",
       "   BG15) Internet users (population)  BG16) Offline population  \\\n",
       "0                              15.23                     24.64   \n",
       "1                              17.44                     23.18   \n",
       "2                              19.71                     21.62   \n",
       "3                              20.64                     21.45   \n",
       "4                              20.64                     21.45   \n",
       "\n",
       "   BG17) Internet access gender gap  BG18) Mobile phone access gender gap  \\\n",
       "0                               NaN                                   NaN   \n",
       "1                              13.0                                   7.0   \n",
       "2                               7.0                                   8.0   \n",
       "3                              13.0                                   6.0   \n",
       "4                               7.0                                   7.0   \n",
       "\n",
       "   BG19) Internet users (percent of population)  BG20) Male internet users  \\\n",
       "0                                          38.2                        NaN   \n",
       "1                                          42.9                       59.0   \n",
       "2                                          47.7                       60.0   \n",
       "3                                          49.0                       60.0   \n",
       "4                                          49.0                       64.0   \n",
       "\n",
       "   BG21) Female internet users  BG22) Male mobile phone subscribers  \\\n",
       "0                          NaN                                 95.5   \n",
       "1                         46.0                                 90.0   \n",
       "2                         53.0                                 90.0   \n",
       "3                         47.0                                 82.0   \n",
       "4                         57.0                                 87.0   \n",
       "\n",
       "   BG23) Female mobile phone subscribers  \\\n",
       "0                                   89.9   \n",
       "1                                   83.0   \n",
       "2                                   82.0   \n",
       "3                                   76.0   \n",
       "4                                   80.0   \n",
       "\n",
       "   BG24) Total fixed line broadband subscribers  \n",
       "0                                       2269348  \n",
       "1                                       2859567  \n",
       "2                                       3210267  \n",
       "3                                       3067022  \n",
       "4                                       3582739  \n",
       "\n",
       "[5 rows x 86 columns]"
      ]
     },
     "execution_count": 137,
     "metadata": {},
     "output_type": "execute_result"
    }
   ],
   "source": [
    "# Dependencies and Setup\n",
    "import pandas as pd\n",
    "import plotly.express as px\n",
    "import matplotlib.pyplot as plt\n",
    "from scipy.stats import linregress\n",
    "import numpy as np\n",
    "\n",
    "# Study data files\n",
    "internet_data_csv = \"../Resources/Internet_Inclusivity_Index_ Data_table.csv\"\n",
    "\n",
    "# Read the mouse data and the study results\n",
    "internet_data = pd.read_csv(internet_data_csv)\n",
    "\n",
    "# Display the data table for preview\n",
    "internet_data.head()"
   ]
  },
  {
   "cell_type": "markdown",
   "metadata": {},
   "source": [
    "### Clean Initial Data"
   ]
  },
  {
   "cell_type": "code",
   "execution_count": 138,
   "metadata": {},
   "outputs": [
    {
     "data": {
      "text/html": [
       "<div>\n",
       "<style scoped>\n",
       "    .dataframe tbody tr th:only-of-type {\n",
       "        vertical-align: middle;\n",
       "    }\n",
       "\n",
       "    .dataframe tbody tr th {\n",
       "        vertical-align: top;\n",
       "    }\n",
       "\n",
       "    .dataframe thead th {\n",
       "        text-align: right;\n",
       "    }\n",
       "</style>\n",
       "<table border=\"1\" class=\"dataframe\">\n",
       "  <thead>\n",
       "    <tr style=\"text-align: right;\">\n",
       "      <th></th>\n",
       "      <th>Country</th>\n",
       "      <th>Year</th>\n",
       "      <th>Population (millions)</th>\n",
       "      <th>Internet users (% of households)</th>\n",
       "      <th>Fixed-line broadband subscribers (per 100 inhabitants)</th>\n",
       "      <th>Mobile subscribers (per 100 inhabitants)</th>\n",
       "      <th>Rural electricity access (%)</th>\n",
       "    </tr>\n",
       "  </thead>\n",
       "  <tbody>\n",
       "    <tr>\n",
       "      <th>0</th>\n",
       "      <td>Algeria</td>\n",
       "      <td>2017</td>\n",
       "      <td>40.6</td>\n",
       "      <td>31.9</td>\n",
       "      <td>5.71</td>\n",
       "      <td>108.8</td>\n",
       "      <td>96.70</td>\n",
       "    </tr>\n",
       "    <tr>\n",
       "      <th>1</th>\n",
       "      <td>Algeria</td>\n",
       "      <td>2018</td>\n",
       "      <td>41.3</td>\n",
       "      <td>47.3</td>\n",
       "      <td>7.05</td>\n",
       "      <td>116.0</td>\n",
       "      <td>96.87</td>\n",
       "    </tr>\n",
       "    <tr>\n",
       "      <th>2</th>\n",
       "      <td>Algeria</td>\n",
       "      <td>2019</td>\n",
       "      <td>42.1</td>\n",
       "      <td>54.2</td>\n",
       "      <td>7.76</td>\n",
       "      <td>110.8</td>\n",
       "      <td>96.87</td>\n",
       "    </tr>\n",
       "    <tr>\n",
       "      <th>3</th>\n",
       "      <td>Algeria</td>\n",
       "      <td>2020</td>\n",
       "      <td>42.9</td>\n",
       "      <td>74.4</td>\n",
       "      <td>7.26</td>\n",
       "      <td>111.7</td>\n",
       "      <td>100.00</td>\n",
       "    </tr>\n",
       "    <tr>\n",
       "      <th>4</th>\n",
       "      <td>Algeria</td>\n",
       "      <td>2021</td>\n",
       "      <td>43.7</td>\n",
       "      <td>74.4</td>\n",
       "      <td>8.32</td>\n",
       "      <td>109.4</td>\n",
       "      <td>96.70</td>\n",
       "    </tr>\n",
       "    <tr>\n",
       "      <th>...</th>\n",
       "      <td>...</td>\n",
       "      <td>...</td>\n",
       "      <td>...</td>\n",
       "      <td>...</td>\n",
       "      <td>...</td>\n",
       "      <td>...</td>\n",
       "      <td>...</td>\n",
       "    </tr>\n",
       "    <tr>\n",
       "      <th>595</th>\n",
       "      <td>Zimbabwe</td>\n",
       "      <td>2017</td>\n",
       "      <td>14.0</td>\n",
       "      <td>21.6</td>\n",
       "      <td>1.19</td>\n",
       "      <td>92.3</td>\n",
       "      <td>20.60</td>\n",
       "    </tr>\n",
       "    <tr>\n",
       "      <th>596</th>\n",
       "      <td>Zimbabwe</td>\n",
       "      <td>2018</td>\n",
       "      <td>14.2</td>\n",
       "      <td>22.1</td>\n",
       "      <td>1.22</td>\n",
       "      <td>91.8</td>\n",
       "      <td>11.00</td>\n",
       "    </tr>\n",
       "    <tr>\n",
       "      <th>597</th>\n",
       "      <td>Zimbabwe</td>\n",
       "      <td>2019</td>\n",
       "      <td>14.4</td>\n",
       "      <td>24.0</td>\n",
       "      <td>1.32</td>\n",
       "      <td>99.0</td>\n",
       "      <td>11.00</td>\n",
       "    </tr>\n",
       "    <tr>\n",
       "      <th>598</th>\n",
       "      <td>Zimbabwe</td>\n",
       "      <td>2020</td>\n",
       "      <td>14.6</td>\n",
       "      <td>30.3</td>\n",
       "      <td>1.41</td>\n",
       "      <td>89.4</td>\n",
       "      <td>11.50</td>\n",
       "    </tr>\n",
       "    <tr>\n",
       "      <th>599</th>\n",
       "      <td>Zimbabwe</td>\n",
       "      <td>2021</td>\n",
       "      <td>14.9</td>\n",
       "      <td>30.3</td>\n",
       "      <td>1.40</td>\n",
       "      <td>90.1</td>\n",
       "      <td>36.20</td>\n",
       "    </tr>\n",
       "  </tbody>\n",
       "</table>\n",
       "<p>600 rows × 7 columns</p>\n",
       "</div>"
      ],
      "text/plain": [
       "      Country  Year  Population (millions)  Internet users (% of households)  \\\n",
       "0     Algeria  2017                   40.6                              31.9   \n",
       "1     Algeria  2018                   41.3                              47.3   \n",
       "2     Algeria  2019                   42.1                              54.2   \n",
       "3     Algeria  2020                   42.9                              74.4   \n",
       "4     Algeria  2021                   43.7                              74.4   \n",
       "..        ...   ...                    ...                               ...   \n",
       "595  Zimbabwe  2017                   14.0                              21.6   \n",
       "596  Zimbabwe  2018                   14.2                              22.1   \n",
       "597  Zimbabwe  2019                   14.4                              24.0   \n",
       "598  Zimbabwe  2020                   14.6                              30.3   \n",
       "599  Zimbabwe  2021                   14.9                              30.3   \n",
       "\n",
       "     Fixed-line broadband subscribers (per 100 inhabitants)  \\\n",
       "0                                                 5.71        \n",
       "1                                                 7.05        \n",
       "2                                                 7.76        \n",
       "3                                                 7.26        \n",
       "4                                                 8.32        \n",
       "..                                                 ...        \n",
       "595                                               1.19        \n",
       "596                                               1.22        \n",
       "597                                               1.32        \n",
       "598                                               1.41        \n",
       "599                                               1.40        \n",
       "\n",
       "     Mobile subscribers (per 100 inhabitants)  Rural electricity access (%)  \n",
       "0                                       108.8                         96.70  \n",
       "1                                       116.0                         96.87  \n",
       "2                                       110.8                         96.87  \n",
       "3                                       111.7                        100.00  \n",
       "4                                       109.4                         96.70  \n",
       "..                                        ...                           ...  \n",
       "595                                      92.3                         20.60  \n",
       "596                                      91.8                         11.00  \n",
       "597                                      99.0                         11.00  \n",
       "598                                      89.4                         11.50  \n",
       "599                                      90.1                         36.20  \n",
       "\n",
       "[600 rows x 7 columns]"
      ]
     },
     "execution_count": 138,
     "metadata": {},
     "output_type": "execute_result"
    }
   ],
   "source": [
    "# Update Edition to Year\n",
    "edition_mapping = {'E1': 2017, 'E2': 2018, 'E3': 2019, 'E4': 2020, 'E5': 2021}\n",
    "\n",
    "# Use the map function to replace values in the 'Edition' column\n",
    "internet_data['Edition'] = internet_data['Edition'].map(edition_mapping)\n",
    "\n",
    "# Rename the 'Edition' column to 'Year'\n",
    "internet_data = internet_data.rename(columns={'Edition': 'Year'})\n",
    "\n",
    "# We only want the last 3 years of data\n",
    "# internet_data = internet_data[internet_data['Year'].isin([2019, 2020, 2021])]\n",
    "\n",
    "# Drop columns we aren't looking to use for this analysis\n",
    "# List columns to keep\n",
    "columns_to_keep = ['Country', 'Year', 'BG2) Population', '1.1.1) Internet users', '1.1.2) Fixed-line broadband subscribers', '1.1.3) Mobile subscribers', '1.4.2) Rural electricity access']\n",
    "\n",
    "# Update the dataframe to just use the columns to keep\n",
    "internet_data = internet_data[columns_to_keep]\n",
    "\n",
    "# Rename the columns to drop the numbers from the beginning\n",
    "new_column_names = ['Country', 'Year', 'Population (millions)', 'Internet users (% of households)', 'Fixed-line broadband subscribers (per 100 inhabitants)', 'Mobile subscribers (per 100 inhabitants)', 'Rural electricity access (%)']\n",
    "internet_data.columns = new_column_names\n",
    "\n",
    "# Test Display\n",
    "internet_data"
   ]
  },
  {
   "cell_type": "markdown",
   "metadata": {},
   "source": [
    "### Calculate Rates of Change "
   ]
  },
  {
   "cell_type": "code",
   "execution_count": 139,
   "metadata": {},
   "outputs": [
    {
     "data": {
      "text/html": [
       "<div>\n",
       "<style scoped>\n",
       "    .dataframe tbody tr th:only-of-type {\n",
       "        vertical-align: middle;\n",
       "    }\n",
       "\n",
       "    .dataframe tbody tr th {\n",
       "        vertical-align: top;\n",
       "    }\n",
       "\n",
       "    .dataframe thead th {\n",
       "        text-align: right;\n",
       "    }\n",
       "</style>\n",
       "<table border=\"1\" class=\"dataframe\">\n",
       "  <thead>\n",
       "    <tr style=\"text-align: right;\">\n",
       "      <th></th>\n",
       "      <th>Country</th>\n",
       "      <th>Year</th>\n",
       "      <th>Population (millions)</th>\n",
       "      <th>Rate of Change (%) - Broadband</th>\n",
       "      <th>Rate of Change (%) - Mobile</th>\n",
       "      <th>Rural electricity access (%)</th>\n",
       "    </tr>\n",
       "  </thead>\n",
       "  <tbody>\n",
       "    <tr>\n",
       "      <th>0</th>\n",
       "      <td>Algeria</td>\n",
       "      <td>2018</td>\n",
       "      <td>41.3</td>\n",
       "      <td>23.47</td>\n",
       "      <td>6.62</td>\n",
       "      <td>96.87</td>\n",
       "    </tr>\n",
       "    <tr>\n",
       "      <th>1</th>\n",
       "      <td>Algeria</td>\n",
       "      <td>2019</td>\n",
       "      <td>42.1</td>\n",
       "      <td>10.07</td>\n",
       "      <td>-4.48</td>\n",
       "      <td>96.87</td>\n",
       "    </tr>\n",
       "    <tr>\n",
       "      <th>2</th>\n",
       "      <td>Algeria</td>\n",
       "      <td>2020</td>\n",
       "      <td>42.9</td>\n",
       "      <td>-6.44</td>\n",
       "      <td>0.81</td>\n",
       "      <td>100.00</td>\n",
       "    </tr>\n",
       "    <tr>\n",
       "      <th>3</th>\n",
       "      <td>Algeria</td>\n",
       "      <td>2021</td>\n",
       "      <td>43.7</td>\n",
       "      <td>14.60</td>\n",
       "      <td>-2.06</td>\n",
       "      <td>96.70</td>\n",
       "    </tr>\n",
       "    <tr>\n",
       "      <th>4</th>\n",
       "      <td>Angola</td>\n",
       "      <td>2018</td>\n",
       "      <td>29.8</td>\n",
       "      <td>-47.27</td>\n",
       "      <td>-9.44</td>\n",
       "      <td>5.55</td>\n",
       "    </tr>\n",
       "    <tr>\n",
       "      <th>...</th>\n",
       "      <td>...</td>\n",
       "      <td>...</td>\n",
       "      <td>...</td>\n",
       "      <td>...</td>\n",
       "      <td>...</td>\n",
       "      <td>...</td>\n",
       "    </tr>\n",
       "    <tr>\n",
       "      <th>473</th>\n",
       "      <td>Zambia</td>\n",
       "      <td>2021</td>\n",
       "      <td>18.4</td>\n",
       "      <td>19.05</td>\n",
       "      <td>8.07</td>\n",
       "      <td>6.30</td>\n",
       "    </tr>\n",
       "    <tr>\n",
       "      <th>474</th>\n",
       "      <td>Zimbabwe</td>\n",
       "      <td>2018</td>\n",
       "      <td>14.2</td>\n",
       "      <td>2.52</td>\n",
       "      <td>-0.54</td>\n",
       "      <td>11.00</td>\n",
       "    </tr>\n",
       "    <tr>\n",
       "      <th>475</th>\n",
       "      <td>Zimbabwe</td>\n",
       "      <td>2019</td>\n",
       "      <td>14.4</td>\n",
       "      <td>8.20</td>\n",
       "      <td>7.84</td>\n",
       "      <td>11.00</td>\n",
       "    </tr>\n",
       "    <tr>\n",
       "      <th>476</th>\n",
       "      <td>Zimbabwe</td>\n",
       "      <td>2020</td>\n",
       "      <td>14.6</td>\n",
       "      <td>6.82</td>\n",
       "      <td>-9.70</td>\n",
       "      <td>11.50</td>\n",
       "    </tr>\n",
       "    <tr>\n",
       "      <th>477</th>\n",
       "      <td>Zimbabwe</td>\n",
       "      <td>2021</td>\n",
       "      <td>14.9</td>\n",
       "      <td>-0.71</td>\n",
       "      <td>0.78</td>\n",
       "      <td>36.20</td>\n",
       "    </tr>\n",
       "  </tbody>\n",
       "</table>\n",
       "<p>477 rows × 6 columns</p>\n",
       "</div>"
      ],
      "text/plain": [
       "      Country  Year  Population (millions)  Rate of Change (%) - Broadband  \\\n",
       "0     Algeria  2018                   41.3                           23.47   \n",
       "1     Algeria  2019                   42.1                           10.07   \n",
       "2     Algeria  2020                   42.9                           -6.44   \n",
       "3     Algeria  2021                   43.7                           14.60   \n",
       "4      Angola  2018                   29.8                          -47.27   \n",
       "..        ...   ...                    ...                             ...   \n",
       "473    Zambia  2021                   18.4                           19.05   \n",
       "474  Zimbabwe  2018                   14.2                            2.52   \n",
       "475  Zimbabwe  2019                   14.4                            8.20   \n",
       "476  Zimbabwe  2020                   14.6                            6.82   \n",
       "477  Zimbabwe  2021                   14.9                           -0.71   \n",
       "\n",
       "     Rate of Change (%) - Mobile  Rural electricity access (%)  \n",
       "0                           6.62                         96.87  \n",
       "1                          -4.48                         96.87  \n",
       "2                           0.81                        100.00  \n",
       "3                          -2.06                         96.70  \n",
       "4                          -9.44                          5.55  \n",
       "..                           ...                           ...  \n",
       "473                         8.07                          6.30  \n",
       "474                        -0.54                         11.00  \n",
       "475                         7.84                         11.00  \n",
       "476                        -9.70                         11.50  \n",
       "477                         0.78                         36.20  \n",
       "\n",
       "[477 rows x 6 columns]"
      ]
     },
     "execution_count": 139,
     "metadata": {},
     "output_type": "execute_result"
    }
   ],
   "source": [
    "# Rate of change(%) = (new value - old value)/(old value) * 100\n",
    "\n",
    "# Set up new dataframe\n",
    "internet_adoption_rate = internet_data\n",
    "\n",
    "# Add column for percentage change by country - broadband\n",
    "internet_adoption_rate[\"Rate of Change (%) - Broadband\"] = internet_data.groupby(\"Country\")[\"Fixed-line broadband subscribers (per 100 inhabitants)\"].pct_change().round(4) * 100\n",
    "\n",
    "# Add column for percentage change by country - mobile\n",
    "internet_adoption_rate[\"Rate of Change (%) - Mobile\"] = internet_data.groupby(\"Country\")[\"Mobile subscribers (per 100 inhabitants)\"].pct_change().round(4) * 100\n",
    "\n",
    "# Drop unnecessary rows and columns\n",
    "internet_adoption_rate = internet_adoption_rate.loc[:, ['Country', 'Year', 'Population (millions)', 'Rate of Change (%) - Broadband', 'Rate of Change (%) - Mobile', 'Rural electricity access (%)']].dropna().reset_index(drop=True)\n",
    "\n",
    "# Export CSV of cleaned data with new columns for team analysis\n",
    "#csv_file_path = \"../Resources/internet_adoption_rates_of_change.csv\"\n",
    "#internet_adoption_rate.to_csv(csv_file_path, index=False)\n",
    "#print(f'DataFrame exported to {csv_file_path}')\n",
    "\n",
    "# Replace 'inf' with NaN and drop rows with NaN\n",
    "internet_adoption_rate_clean = internet_adoption_rate.replace([np.inf, -np.inf], np.nan).dropna()\n",
    "\n",
    "# Test Display\n",
    "internet_adoption_rate_clean"
   ]
  },
  {
   "cell_type": "markdown",
   "metadata": {},
   "source": [
    "### Chart Setup - Broadband"
   ]
  },
  {
   "cell_type": "code",
   "execution_count": 174,
   "metadata": {},
   "outputs": [],
   "source": [
    "# Set up data from existing dataframe\n",
    "df = internet_adoption_rate_clean\n",
    "\n",
    "# Create a choropleth map for Broadband rate of change\n",
    "fig_broadband = px.choropleth(\n",
    "    df,\n",
    "    locations='Country',\n",
    "    locationmode='country names',\n",
    "    color='Rate of Change (%) - Broadband',\n",
    "    color_continuous_scale='RdYlGn',\n",
    "    range_color=(-10, 10),\n",
    "    animation_frame='Year',\n",
    "    projection='natural earth',\n",
    "    title='Rate of Change (%) - Broadband',\n",
    ")\n",
    "\n",
    "fig_broadband.update_geos(\n",
    "    showocean=True,\n",
    "    oceancolor='rgba(0,255,255,0.7)',\n",
    "    showland=True,\n",
    "    landcolor='rgba(212,212,212,0.7)',\n",
    "    showcountries=True,\n",
    "    showframe=False,\n",
    ")\n",
    "\n",
    "fig_broadband;"
   ]
  },
  {
   "cell_type": "markdown",
   "metadata": {},
   "source": [
    "### Chart Setup - Mobile"
   ]
  },
  {
   "cell_type": "code",
   "execution_count": 175,
   "metadata": {},
   "outputs": [],
   "source": [
    "# Set up data from existing dataframe\n",
    "df = internet_adoption_rate_clean\n",
    "\n",
    "# Create a choropleth map for Broadband rate of change\n",
    "fig_mobile = px.choropleth(\n",
    "    df,\n",
    "    locations='Country',\n",
    "    locationmode='country names',\n",
    "    color='Rate of Change (%) - Mobile',\n",
    "    color_continuous_scale='RdYlGn',\n",
    "    range_color=(-5, 5),\n",
    "    animation_frame='Year',\n",
    "    projection='natural earth',\n",
    "    title='Rate of Change (%) - Mobile',\n",
    ")\n",
    "\n",
    "fig_mobile.update_geos(\n",
    "    showocean=True,\n",
    "    oceancolor='rgba(0,255,255,0.7)',\n",
    "    showland=True,\n",
    "    landcolor='rgba(212,212,212,0.7)',\n",
    "    showcountries=True,\n",
    "    showframe=False,\n",
    ")\n",
    "\n",
    "fig_mobile;"
   ]
  },
  {
   "cell_type": "markdown",
   "metadata": {},
   "source": [
    "### View Charts Congruently"
   ]
  },
  {
   "cell_type": "code",
   "execution_count": 176,
   "metadata": {},
   "outputs": [
    {
     "data": {
      "application/vnd.plotly.v1+json": {
       "config": {
        "plotlyServerURL": "https://plot.ly"
       },
       "data": [
        {
         "coloraxis": "coloraxis",
         "geo": "geo",
         "hovertemplate": "Year=2018<br>Country=%{location}<br>Rate of Change (%) - Broadband=%{z}<extra></extra>",
         "locationmode": "country names",
         "locations": [
          "Algeria",
          "Angola",
          "Argentina",
          "Australia",
          "Austria",
          "Azerbaijan",
          "Bahrain",
          "Bangladesh",
          "Belgium",
          "Benin",
          "Botswana",
          "Brazil",
          "Bulgaria",
          "Burkina Faso",
          "Burundi",
          "Cambodia",
          "Cameroon",
          "Canada",
          "Chile",
          "China",
          "Colombia",
          "Costa Rica",
          "Côte d'Ivoire",
          "Croatia",
          "Cuba",
          "Czech Republic",
          "Denmark",
          "Dominican Republic",
          "Ecuador",
          "Egypt",
          "El Salvador",
          "Estonia",
          "Ethiopia",
          "Finland",
          "France",
          "Gabon",
          "Germany",
          "Ghana",
          "Greece",
          "Guatemala",
          "Guinea",
          "Honduras",
          "Hong Kong",
          "Hungary",
          "India",
          "Indonesia",
          "Iran",
          "Ireland",
          "Israel",
          "Italy",
          "Jamaica",
          "Japan",
          "Jordan",
          "Kazakhstan",
          "Kenya",
          "Kuwait",
          "Laos",
          "Latvia",
          "Lebanon",
          "Liberia",
          "Lithuania",
          "Madagascar",
          "Malawi",
          "Malaysia",
          "Mali",
          "Mexico",
          "Mongolia",
          "Morocco",
          "Mozambique",
          "Myanmar",
          "Namibia",
          "Nepal",
          "Netherlands",
          "New Zealand",
          "Nicaragua",
          "Niger",
          "Nigeria",
          "Oman",
          "Pakistan",
          "Panama",
          "Papua New Guinea",
          "Paraguay",
          "Peru",
          "Philippines",
          "Poland",
          "Portugal",
          "Qatar",
          "Romania",
          "Russia",
          "Rwanda",
          "Saudi Arabia",
          "Senegal",
          "Sierra Leone",
          "Singapore",
          "Slovakia",
          "South Africa",
          "South Korea",
          "Spain",
          "Sri Lanka",
          "Sudan",
          "Sweden",
          "Switzerland",
          "Taiwan",
          "Tanzania",
          "Thailand",
          "Trinidad & Tobago",
          "Tunisia",
          "Turkey",
          "UAE",
          "Uganda",
          "Ukraine",
          "United Kingdom",
          "United States",
          "Uruguay",
          "Uzbekistan",
          "Venezuela",
          "Vietnam",
          "Zambia",
          "Zimbabwe"
         ],
         "name": "",
         "type": "choropleth",
         "z": [
          23.47,
          -47.27,
          4.71,
          6.52,
          1.9800000000000002,
          -6.13,
          -11.65,
          33.23,
          3.01,
          -69.57,
          56.89999999999999,
          4.569999999999999,
          5.89,
          40,
          0,
          14.81,
          1588.8899999999999,
          1.0699999999999998,
          5.42,
          15.85,
          5.5,
          13.19,
          21.279999999999998,
          6.4399999999999995,
          85.71,
          4.03,
          1.94,
          9.75,
          6.32,
          14.249999999999998,
          11.469999999999999,
          6.1,
          14.89,
          -1.3299999999999998,
          2.69,
          31.580000000000002,
          3.2199999999999998,
          15.379999999999999,
          5.58,
          7.7700000000000005,
          0,
          9.68,
          10.96,
          3.7800000000000002,
          9.3,
          29.87,
          13.54,
          2.91,
          2.2399999999999998,
          4.31,
          24.240000000000002,
          2.6,
          -6.890000000000001,
          0.69,
          -3.5700000000000003,
          79.02,
          63.63999999999999,
          4.37,
          -1.43,
          6.25,
          4.43,
          10,
          66.67,
          -12.45,
          500,
          6.61,
          6.63,
          7.85,
          6.25,
          183.32999999999998,
          -10.2,
          -26.790000000000003,
          2.48,
          4.4799999999999995,
          50.27,
          -71.43,
          500,
          16.09,
          -10,
          33.629999999999995,
          10.530000000000001,
          13.04,
          4.569999999999999,
          1.41,
          0.9900000000000001,
          7.85,
          3.1300000000000003,
          5.1,
          2.21,
          0,
          -1.25,
          -4.35,
          12.24,
          5.94,
          4.82,
          -19.29,
          2.34,
          4.2700000000000005,
          41.81,
          0,
          4.5,
          1.03,
          0.25,
          185.71,
          15.440000000000001,
          -8.76,
          10.33,
          8.68,
          3.9800000000000004,
          9.520000000000001,
          3.35,
          2.59,
          2.76,
          1.97,
          51.04,
          1.7399999999999998,
          17.68,
          26.669999999999998,
          2.52
         ]
        }
       ],
       "frames": [
        {
         "data": [
          {
           "coloraxis": "coloraxis",
           "geo": "geo",
           "hovertemplate": "Year=2018<br>Country=%{location}<br>Rate of Change (%) - Broadband=%{z}<extra></extra>",
           "locationmode": "country names",
           "locations": [
            "Algeria",
            "Angola",
            "Argentina",
            "Australia",
            "Austria",
            "Azerbaijan",
            "Bahrain",
            "Bangladesh",
            "Belgium",
            "Benin",
            "Botswana",
            "Brazil",
            "Bulgaria",
            "Burkina Faso",
            "Burundi",
            "Cambodia",
            "Cameroon",
            "Canada",
            "Chile",
            "China",
            "Colombia",
            "Costa Rica",
            "Côte d'Ivoire",
            "Croatia",
            "Cuba",
            "Czech Republic",
            "Denmark",
            "Dominican Republic",
            "Ecuador",
            "Egypt",
            "El Salvador",
            "Estonia",
            "Ethiopia",
            "Finland",
            "France",
            "Gabon",
            "Germany",
            "Ghana",
            "Greece",
            "Guatemala",
            "Guinea",
            "Honduras",
            "Hong Kong",
            "Hungary",
            "India",
            "Indonesia",
            "Iran",
            "Ireland",
            "Israel",
            "Italy",
            "Jamaica",
            "Japan",
            "Jordan",
            "Kazakhstan",
            "Kenya",
            "Kuwait",
            "Laos",
            "Latvia",
            "Lebanon",
            "Liberia",
            "Lithuania",
            "Madagascar",
            "Malawi",
            "Malaysia",
            "Mali",
            "Mexico",
            "Mongolia",
            "Morocco",
            "Mozambique",
            "Myanmar",
            "Namibia",
            "Nepal",
            "Netherlands",
            "New Zealand",
            "Nicaragua",
            "Niger",
            "Nigeria",
            "Oman",
            "Pakistan",
            "Panama",
            "Papua New Guinea",
            "Paraguay",
            "Peru",
            "Philippines",
            "Poland",
            "Portugal",
            "Qatar",
            "Romania",
            "Russia",
            "Rwanda",
            "Saudi Arabia",
            "Senegal",
            "Sierra Leone",
            "Singapore",
            "Slovakia",
            "South Africa",
            "South Korea",
            "Spain",
            "Sri Lanka",
            "Sudan",
            "Sweden",
            "Switzerland",
            "Taiwan",
            "Tanzania",
            "Thailand",
            "Trinidad & Tobago",
            "Tunisia",
            "Turkey",
            "UAE",
            "Uganda",
            "Ukraine",
            "United Kingdom",
            "United States",
            "Uruguay",
            "Uzbekistan",
            "Venezuela",
            "Vietnam",
            "Zambia",
            "Zimbabwe"
           ],
           "name": "",
           "type": "choropleth",
           "z": [
            23.47,
            -47.27,
            4.71,
            6.52,
            1.9800000000000002,
            -6.13,
            -11.65,
            33.23,
            3.01,
            -69.57,
            56.89999999999999,
            4.569999999999999,
            5.89,
            40,
            0,
            14.81,
            1588.8899999999999,
            1.0699999999999998,
            5.42,
            15.85,
            5.5,
            13.19,
            21.279999999999998,
            6.4399999999999995,
            85.71,
            4.03,
            1.94,
            9.75,
            6.32,
            14.249999999999998,
            11.469999999999999,
            6.1,
            14.89,
            -1.3299999999999998,
            2.69,
            31.580000000000002,
            3.2199999999999998,
            15.379999999999999,
            5.58,
            7.7700000000000005,
            0,
            9.68,
            10.96,
            3.7800000000000002,
            9.3,
            29.87,
            13.54,
            2.91,
            2.2399999999999998,
            4.31,
            24.240000000000002,
            2.6,
            -6.890000000000001,
            0.69,
            -3.5700000000000003,
            79.02,
            63.63999999999999,
            4.37,
            -1.43,
            6.25,
            4.43,
            10,
            66.67,
            -12.45,
            500,
            6.61,
            6.63,
            7.85,
            6.25,
            183.32999999999998,
            -10.2,
            -26.790000000000003,
            2.48,
            4.4799999999999995,
            50.27,
            -71.43,
            500,
            16.09,
            -10,
            33.629999999999995,
            10.530000000000001,
            13.04,
            4.569999999999999,
            1.41,
            0.9900000000000001,
            7.85,
            3.1300000000000003,
            5.1,
            2.21,
            0,
            -1.25,
            -4.35,
            12.24,
            5.94,
            4.82,
            -19.29,
            2.34,
            4.2700000000000005,
            41.81,
            0,
            4.5,
            1.03,
            0.25,
            185.71,
            15.440000000000001,
            -8.76,
            10.33,
            8.68,
            3.9800000000000004,
            9.520000000000001,
            3.35,
            2.59,
            2.76,
            1.97,
            51.04,
            1.7399999999999998,
            17.68,
            26.669999999999998,
            2.52
           ]
          }
         ],
         "name": "2018"
        },
        {
         "data": [
          {
           "coloraxis": "coloraxis",
           "geo": "geo",
           "hovertemplate": "Year=2019<br>Country=%{location}<br>Rate of Change (%) - Broadband=%{z}<extra></extra>",
           "locationmode": "country names",
           "locations": [
            "Algeria",
            "Angola",
            "Argentina",
            "Australia",
            "Austria",
            "Azerbaijan",
            "Bahrain",
            "Bangladesh",
            "Belgium",
            "Benin",
            "Botswana",
            "Brazil",
            "Bulgaria",
            "Burkina Faso",
            "Burundi",
            "Cambodia",
            "Cameroon",
            "Canada",
            "Chile",
            "China",
            "Colombia",
            "Costa Rica",
            "Côte d'Ivoire",
            "Croatia",
            "Cuba",
            "Czech Republic",
            "Denmark",
            "Dominican Republic",
            "Ecuador",
            "Egypt",
            "El Salvador",
            "Estonia",
            "Ethiopia",
            "Finland",
            "France",
            "Gabon",
            "Germany",
            "Ghana",
            "Greece",
            "Guatemala",
            "Guinea",
            "Honduras",
            "Hong Kong",
            "Hungary",
            "India",
            "Indonesia",
            "Iran",
            "Ireland",
            "Israel",
            "Italy",
            "Jamaica",
            "Japan",
            "Jordan",
            "Kazakhstan",
            "Kenya",
            "Kuwait",
            "Laos",
            "Latvia",
            "Lebanon",
            "Liberia",
            "Lithuania",
            "Madagascar",
            "Malawi",
            "Malaysia",
            "Mali",
            "Mexico",
            "Mongolia",
            "Morocco",
            "Mozambique",
            "Myanmar",
            "Namibia",
            "Nepal",
            "Netherlands",
            "New Zealand",
            "Nicaragua",
            "Niger",
            "Nigeria",
            "Oman",
            "Pakistan",
            "Panama",
            "Papua New Guinea",
            "Paraguay",
            "Peru",
            "Philippines",
            "Poland",
            "Portugal",
            "Qatar",
            "Romania",
            "Russia",
            "Rwanda",
            "Saudi Arabia",
            "Senegal",
            "Sierra Leone",
            "Singapore",
            "Slovakia",
            "South Africa",
            "South Korea",
            "Spain",
            "Sri Lanka",
            "Sudan",
            "Sweden",
            "Switzerland",
            "Taiwan",
            "Tanzania",
            "Thailand",
            "Trinidad & Tobago",
            "Tunisia",
            "Turkey",
            "UAE",
            "Uganda",
            "Ukraine",
            "United Kingdom",
            "United States",
            "Uruguay",
            "Uzbekistan",
            "Venezuela",
            "Vietnam",
            "Zambia",
            "Zimbabwe"
           ],
           "name": "",
           "type": "choropleth",
           "z": [
            10.07,
            13.79,
            7.08,
            6.02,
            -1.32,
            -1.03,
            -20.25,
            9.59,
            1.97,
            23.810000000000002,
            -46.150000000000006,
            6.75,
            6.569999999999999,
            -14.29,
            33.33,
            33.87,
            2.63,
            3.04,
            3.95,
            21.61,
            5.46,
            15.260000000000002,
            1.7500000000000002,
            5.65,
            130.77,
            2.2800000000000002,
            1.67,
            6.69,
            8.61,
            14.799999999999999,
            13.5,
            3.1399999999999997,
            -88.89,
            -0.35000000000000003,
            2.62,
            -4,
            3.7699999999999996,
            -33.33,
            4.96,
            2.9499999999999997,
            0,
            6.3,
            0.36,
            5.3,
            -5.67,
            17.5,
            11.51,
            1.59,
            2.01,
            6.550000000000001,
            -16.77,
            2.02,
            9,
            8.12,
            111.11,
            13.28,
            8.33,
            2.55,
            0,
            11.76,
            -5.42,
            -9.09,
            20,
            -2.48,
            -33.33,
            5.5,
            23.78,
            8.68,
            29.409999999999997,
            23.53,
            0.37,
            121.95,
            0.7100000000000001,
            2.5,
            17.080000000000002,
            0,
            0,
            17.8,
            8.64,
            0.8500000000000001,
            0,
            16.21,
            7.140000000000001,
            12.15,
            4.25,
            6.2700000000000005,
            -1.46,
            7.61,
            12.770000000000001,
            -5.26,
            1.9300000000000002,
            10.61,
            -1.82,
            -8.200000000000001,
            5.01,
            -3.9,
            2.88,
            3.9,
            36.32,
            0,
            4.04,
            2.8000000000000003,
            0.25,
            133.32999999999998,
            13.28,
            27.279999999999998,
            23.849999999999998,
            11.790000000000001,
            110.03,
            -91.3,
            2.6599999999999997,
            1.59,
            1.68,
            3.05,
            19.009999999999998,
            1.26,
            22.53,
            10.530000000000001,
            8.200000000000001
           ]
          }
         ],
         "name": "2019"
        },
        {
         "data": [
          {
           "coloraxis": "coloraxis",
           "geo": "geo",
           "hovertemplate": "Year=2020<br>Country=%{location}<br>Rate of Change (%) - Broadband=%{z}<extra></extra>",
           "locationmode": "country names",
           "locations": [
            "Algeria",
            "Angola",
            "Argentina",
            "Australia",
            "Austria",
            "Azerbaijan",
            "Bahrain",
            "Bangladesh",
            "Belgium",
            "Benin",
            "Botswana",
            "Brazil",
            "Bulgaria",
            "Burkina Faso",
            "Burundi",
            "Cambodia",
            "Cameroon",
            "Canada",
            "Chile",
            "China",
            "Colombia",
            "Costa Rica",
            "Côte d'Ivoire",
            "Croatia",
            "Cuba",
            "Czech Republic",
            "Denmark",
            "Dominican Republic",
            "Ecuador",
            "Egypt",
            "El Salvador",
            "Estonia",
            "Ethiopia",
            "Finland",
            "France",
            "Gabon",
            "Germany",
            "Ghana",
            "Greece",
            "Guatemala",
            "Guinea",
            "Honduras",
            "Hong Kong",
            "Hungary",
            "India",
            "Indonesia",
            "Iran",
            "Ireland",
            "Israel",
            "Italy",
            "Jamaica",
            "Japan",
            "Jordan",
            "Kazakhstan",
            "Kenya",
            "Kuwait",
            "Laos",
            "Latvia",
            "Lebanon",
            "Liberia",
            "Lithuania",
            "Madagascar",
            "Malawi",
            "Malaysia",
            "Mali",
            "Mexico",
            "Mongolia",
            "Morocco",
            "Mozambique",
            "Myanmar",
            "Namibia",
            "Nepal",
            "Netherlands",
            "New Zealand",
            "Nicaragua",
            "Niger",
            "Nigeria",
            "Oman",
            "Pakistan",
            "Panama",
            "Papua New Guinea",
            "Paraguay",
            "Peru",
            "Philippines",
            "Poland",
            "Portugal",
            "Qatar",
            "Romania",
            "Russia",
            "Rwanda",
            "Saudi Arabia",
            "Senegal",
            "Sierra Leone",
            "Singapore",
            "Slovakia",
            "South Africa",
            "South Korea",
            "Spain",
            "Sri Lanka",
            "Sudan",
            "Sweden",
            "Switzerland",
            "Taiwan",
            "Tanzania",
            "Thailand",
            "Trinidad & Tobago",
            "Tunisia",
            "Turkey",
            "UAE",
            "Uganda",
            "Ukraine",
            "United Kingdom",
            "United States",
            "Uruguay",
            "Uzbekistan",
            "Venezuela",
            "Vietnam",
            "Zambia",
            "Zimbabwe"
           ],
           "name": "",
           "type": "choropleth",
           "z": [
            -6.4399999999999995,
            9.09,
            7.000000000000001,
            5.06,
            -0.42,
            3.65,
            -38.080000000000005,
            9.19,
            2.27,
            -7.6899999999999995,
            21.09,
            7.19,
            6.72,
            16.669999999999998,
            0,
            22.89,
            0.64,
            2.77,
            4.7,
            2.88,
            3.94,
            11.110000000000001,
            20.69,
            3.63,
            190,
            2.1999999999999997,
            0.62,
            5.76,
            7.920000000000001,
            23.94,
            8.64,
            2.71,
            0,
            1.35,
            1.96,
            90.28,
            2.21,
            5,
            5.3100000000000005,
            0,
            0,
            46.25,
            1.24,
            4.38,
            0.75,
            41.28,
            19.23,
            0.8500000000000001,
            2.25,
            2.93,
            18.44,
            2.6100000000000003,
            18.29,
            -5.680000000000001,
            26.32,
            -13.450000000000001,
            64.1,
            1.15,
            -99.28,
            0,
            0.32,
            0,
            0,
            -1.04,
            687.5,
            6.83,
            5.46,
            11.08,
            9.09,
            14.29,
            -7.66,
            54.949999999999996,
            1.38,
            3.1199999999999997,
            -9.42,
            0,
            -33.33,
            22.59,
            -3.4099999999999997,
            20.39,
            0,
            8.98,
            7.89,
            9.91,
            2.93,
            6.22,
            2.23,
            7.85,
            2.9499999999999997,
            -66.67,
            0.7000000000000001,
            12.33,
            25.929999999999996,
            0.35000000000000003,
            7.21,
            -2.54,
            0.29,
            3.37,
            25.779999999999998,
            14.29,
            1.5699999999999998,
            -1.6400000000000001,
            0,
            9.29,
            11.64,
            4.279999999999999,
            25.11,
            10.75,
            7.870000000000001,
            0,
            3.64,
            1.46,
            1.83,
            2.16,
            22.23,
            1.69,
            14.19,
            100,
            6.819999999999999
           ]
          }
         ],
         "name": "2020"
        },
        {
         "data": [
          {
           "coloraxis": "coloraxis",
           "geo": "geo",
           "hovertemplate": "Year=2021<br>Country=%{location}<br>Rate of Change (%) - Broadband=%{z}<extra></extra>",
           "locationmode": "country names",
           "locations": [
            "Algeria",
            "Angola",
            "Argentina",
            "Australia",
            "Austria",
            "Azerbaijan",
            "Bahrain",
            "Bangladesh",
            "Belgium",
            "Benin",
            "Botswana",
            "Brazil",
            "Bulgaria",
            "Burkina Faso",
            "Burundi",
            "Cambodia",
            "Cameroon",
            "Canada",
            "Chile",
            "China",
            "Colombia",
            "Congo (DRC)",
            "Costa Rica",
            "Côte d'Ivoire",
            "Croatia",
            "Cuba",
            "Czech Republic",
            "Denmark",
            "Dominican Republic",
            "Ecuador",
            "Egypt",
            "El Salvador",
            "Estonia",
            "Ethiopia",
            "Finland",
            "France",
            "Gabon",
            "Germany",
            "Ghana",
            "Greece",
            "Guatemala",
            "Guinea",
            "Honduras",
            "Hong Kong",
            "Hungary",
            "India",
            "Indonesia",
            "Iran",
            "Ireland",
            "Israel",
            "Italy",
            "Jamaica",
            "Japan",
            "Jordan",
            "Kazakhstan",
            "Kenya",
            "Kuwait",
            "Laos",
            "Latvia",
            "Lebanon",
            "Liberia",
            "Lithuania",
            "Madagascar",
            "Malawi",
            "Malaysia",
            "Mali",
            "Mexico",
            "Mongolia",
            "Morocco",
            "Mozambique",
            "Myanmar",
            "Namibia",
            "Nepal",
            "Netherlands",
            "New Zealand",
            "Nicaragua",
            "Niger",
            "Nigeria",
            "Oman",
            "Pakistan",
            "Panama",
            "Papua New Guinea",
            "Paraguay",
            "Peru",
            "Philippines",
            "Poland",
            "Portugal",
            "Qatar",
            "Romania",
            "Russia",
            "Rwanda",
            "Saudi Arabia",
            "Senegal",
            "Sierra Leone",
            "Singapore",
            "Slovakia",
            "South Africa",
            "South Korea",
            "Spain",
            "Sri Lanka",
            "Sudan",
            "Sweden",
            "Switzerland",
            "Taiwan",
            "Tanzania",
            "Thailand",
            "Trinidad & Tobago",
            "Tunisia",
            "Turkey",
            "UAE",
            "Uganda",
            "Ukraine",
            "United Kingdom",
            "United States",
            "Uruguay",
            "Uzbekistan",
            "Venezuela",
            "Vietnam",
            "Zambia",
            "Zimbabwe"
           ],
           "name": "",
           "type": "choropleth",
           "z": [
            14.6,
            2.78,
            2.83,
            2.6,
            -0.7799999999999999,
            1.7399999999999998,
            6.710000000000001,
            -0.6,
            1.43,
            -12.5,
            20.22,
            4.63,
            6.59,
            -14.29,
            -25,
            9.8,
            -1.27,
            4.8,
            4.21,
            9.81,
            2.68,
            0,
            7.31,
            20,
            2.98,
            85.06,
            15.75,
            -0.32,
            7.26,
            5.24,
            12.479999999999999,
            0,
            -2.46,
            0,
            3.2800000000000002,
            2.03,
            -24.82,
            2.1399999999999997,
            -9.520000000000001,
            5.2299999999999995,
            0,
            0,
            8.38,
            2.42,
            3.85,
            4.4799999999999995,
            14.46,
            -16.76,
            0.91,
            0.24,
            2.52,
            11.129999999999999,
            2.7,
            12.97,
            0.74,
            29.17,
            -19.919999999999998,
            65.62,
            -2.16,
            4278.57,
            0,
            1.8800000000000001,
            0,
            0,
            8.540000000000001,
            15.870000000000001,
            4.26,
            1.8599999999999999,
            11.37,
            -4.17,
            0,
            0.4,
            0,
            0.48,
            0,
            11.41,
            0,
            0,
            11.67,
            -4.71,
            -4.64,
            0,
            16.27,
            0,
            54.37,
            -0.77,
            5.1499999999999995,
            4.36,
            4.45,
            2.36,
            16.669999999999998,
            -1.9300000000000002,
            13.41,
            -4.41,
            -0.12,
            5.06,
            11.459999999999999,
            2.79,
            2.8000000000000003,
            7.430000000000001,
            0,
            1.7999999999999998,
            2.94,
            1.66,
            16.99,
            9.67,
            -1.18,
            16.31,
            4.79,
            -0.73,
            0,
            26.25,
            0.18,
            2.45,
            3.2099999999999995,
            9.76,
            -0.44,
            12.870000000000001,
            19.05,
            -0.7100000000000001
           ]
          }
         ],
         "name": "2021"
        }
       ],
       "layout": {
        "coloraxis": {
         "cmax": 10,
         "cmin": -10,
         "colorbar": {
          "title": {
           "text": "Rate of Change (%) - Broadband"
          }
         },
         "colorscale": [
          [
           0,
           "rgb(165,0,38)"
          ],
          [
           0.1,
           "rgb(215,48,39)"
          ],
          [
           0.2,
           "rgb(244,109,67)"
          ],
          [
           0.3,
           "rgb(253,174,97)"
          ],
          [
           0.4,
           "rgb(254,224,139)"
          ],
          [
           0.5,
           "rgb(255,255,191)"
          ],
          [
           0.6,
           "rgb(217,239,139)"
          ],
          [
           0.7,
           "rgb(166,217,106)"
          ],
          [
           0.8,
           "rgb(102,189,99)"
          ],
          [
           0.9,
           "rgb(26,152,80)"
          ],
          [
           1,
           "rgb(0,104,55)"
          ]
         ]
        },
        "geo": {
         "center": {},
         "domain": {
          "x": [
           0,
           1
          ],
          "y": [
           0,
           1
          ]
         },
         "landcolor": "rgba(212,212,212,0.7)",
         "oceancolor": "rgba(0,255,255,0.7)",
         "projection": {
          "type": "natural earth"
         },
         "showcountries": true,
         "showframe": false,
         "showland": true,
         "showocean": true
        },
        "legend": {
         "tracegroupgap": 0
        },
        "sliders": [
         {
          "active": 0,
          "currentvalue": {
           "prefix": "Year="
          },
          "len": 0.9,
          "pad": {
           "b": 10,
           "t": 60
          },
          "steps": [
           {
            "args": [
             [
              "2018"
             ],
             {
              "frame": {
               "duration": 0,
               "redraw": true
              },
              "fromcurrent": true,
              "mode": "immediate",
              "transition": {
               "duration": 0,
               "easing": "linear"
              }
             }
            ],
            "label": "2018",
            "method": "animate"
           },
           {
            "args": [
             [
              "2019"
             ],
             {
              "frame": {
               "duration": 0,
               "redraw": true
              },
              "fromcurrent": true,
              "mode": "immediate",
              "transition": {
               "duration": 0,
               "easing": "linear"
              }
             }
            ],
            "label": "2019",
            "method": "animate"
           },
           {
            "args": [
             [
              "2020"
             ],
             {
              "frame": {
               "duration": 0,
               "redraw": true
              },
              "fromcurrent": true,
              "mode": "immediate",
              "transition": {
               "duration": 0,
               "easing": "linear"
              }
             }
            ],
            "label": "2020",
            "method": "animate"
           },
           {
            "args": [
             [
              "2021"
             ],
             {
              "frame": {
               "duration": 0,
               "redraw": true
              },
              "fromcurrent": true,
              "mode": "immediate",
              "transition": {
               "duration": 0,
               "easing": "linear"
              }
             }
            ],
            "label": "2021",
            "method": "animate"
           }
          ],
          "x": 0.1,
          "xanchor": "left",
          "y": 0,
          "yanchor": "top"
         }
        ],
        "template": {
         "data": {
          "bar": [
           {
            "error_x": {
             "color": "#2a3f5f"
            },
            "error_y": {
             "color": "#2a3f5f"
            },
            "marker": {
             "line": {
              "color": "#E5ECF6",
              "width": 0.5
             },
             "pattern": {
              "fillmode": "overlay",
              "size": 10,
              "solidity": 0.2
             }
            },
            "type": "bar"
           }
          ],
          "barpolar": [
           {
            "marker": {
             "line": {
              "color": "#E5ECF6",
              "width": 0.5
             },
             "pattern": {
              "fillmode": "overlay",
              "size": 10,
              "solidity": 0.2
             }
            },
            "type": "barpolar"
           }
          ],
          "carpet": [
           {
            "aaxis": {
             "endlinecolor": "#2a3f5f",
             "gridcolor": "white",
             "linecolor": "white",
             "minorgridcolor": "white",
             "startlinecolor": "#2a3f5f"
            },
            "baxis": {
             "endlinecolor": "#2a3f5f",
             "gridcolor": "white",
             "linecolor": "white",
             "minorgridcolor": "white",
             "startlinecolor": "#2a3f5f"
            },
            "type": "carpet"
           }
          ],
          "choropleth": [
           {
            "colorbar": {
             "outlinewidth": 0,
             "ticks": ""
            },
            "type": "choropleth"
           }
          ],
          "contour": [
           {
            "colorbar": {
             "outlinewidth": 0,
             "ticks": ""
            },
            "colorscale": [
             [
              0,
              "#0d0887"
             ],
             [
              0.1111111111111111,
              "#46039f"
             ],
             [
              0.2222222222222222,
              "#7201a8"
             ],
             [
              0.3333333333333333,
              "#9c179e"
             ],
             [
              0.4444444444444444,
              "#bd3786"
             ],
             [
              0.5555555555555556,
              "#d8576b"
             ],
             [
              0.6666666666666666,
              "#ed7953"
             ],
             [
              0.7777777777777778,
              "#fb9f3a"
             ],
             [
              0.8888888888888888,
              "#fdca26"
             ],
             [
              1,
              "#f0f921"
             ]
            ],
            "type": "contour"
           }
          ],
          "contourcarpet": [
           {
            "colorbar": {
             "outlinewidth": 0,
             "ticks": ""
            },
            "type": "contourcarpet"
           }
          ],
          "heatmap": [
           {
            "colorbar": {
             "outlinewidth": 0,
             "ticks": ""
            },
            "colorscale": [
             [
              0,
              "#0d0887"
             ],
             [
              0.1111111111111111,
              "#46039f"
             ],
             [
              0.2222222222222222,
              "#7201a8"
             ],
             [
              0.3333333333333333,
              "#9c179e"
             ],
             [
              0.4444444444444444,
              "#bd3786"
             ],
             [
              0.5555555555555556,
              "#d8576b"
             ],
             [
              0.6666666666666666,
              "#ed7953"
             ],
             [
              0.7777777777777778,
              "#fb9f3a"
             ],
             [
              0.8888888888888888,
              "#fdca26"
             ],
             [
              1,
              "#f0f921"
             ]
            ],
            "type": "heatmap"
           }
          ],
          "heatmapgl": [
           {
            "colorbar": {
             "outlinewidth": 0,
             "ticks": ""
            },
            "colorscale": [
             [
              0,
              "#0d0887"
             ],
             [
              0.1111111111111111,
              "#46039f"
             ],
             [
              0.2222222222222222,
              "#7201a8"
             ],
             [
              0.3333333333333333,
              "#9c179e"
             ],
             [
              0.4444444444444444,
              "#bd3786"
             ],
             [
              0.5555555555555556,
              "#d8576b"
             ],
             [
              0.6666666666666666,
              "#ed7953"
             ],
             [
              0.7777777777777778,
              "#fb9f3a"
             ],
             [
              0.8888888888888888,
              "#fdca26"
             ],
             [
              1,
              "#f0f921"
             ]
            ],
            "type": "heatmapgl"
           }
          ],
          "histogram": [
           {
            "marker": {
             "pattern": {
              "fillmode": "overlay",
              "size": 10,
              "solidity": 0.2
             }
            },
            "type": "histogram"
           }
          ],
          "histogram2d": [
           {
            "colorbar": {
             "outlinewidth": 0,
             "ticks": ""
            },
            "colorscale": [
             [
              0,
              "#0d0887"
             ],
             [
              0.1111111111111111,
              "#46039f"
             ],
             [
              0.2222222222222222,
              "#7201a8"
             ],
             [
              0.3333333333333333,
              "#9c179e"
             ],
             [
              0.4444444444444444,
              "#bd3786"
             ],
             [
              0.5555555555555556,
              "#d8576b"
             ],
             [
              0.6666666666666666,
              "#ed7953"
             ],
             [
              0.7777777777777778,
              "#fb9f3a"
             ],
             [
              0.8888888888888888,
              "#fdca26"
             ],
             [
              1,
              "#f0f921"
             ]
            ],
            "type": "histogram2d"
           }
          ],
          "histogram2dcontour": [
           {
            "colorbar": {
             "outlinewidth": 0,
             "ticks": ""
            },
            "colorscale": [
             [
              0,
              "#0d0887"
             ],
             [
              0.1111111111111111,
              "#46039f"
             ],
             [
              0.2222222222222222,
              "#7201a8"
             ],
             [
              0.3333333333333333,
              "#9c179e"
             ],
             [
              0.4444444444444444,
              "#bd3786"
             ],
             [
              0.5555555555555556,
              "#d8576b"
             ],
             [
              0.6666666666666666,
              "#ed7953"
             ],
             [
              0.7777777777777778,
              "#fb9f3a"
             ],
             [
              0.8888888888888888,
              "#fdca26"
             ],
             [
              1,
              "#f0f921"
             ]
            ],
            "type": "histogram2dcontour"
           }
          ],
          "mesh3d": [
           {
            "colorbar": {
             "outlinewidth": 0,
             "ticks": ""
            },
            "type": "mesh3d"
           }
          ],
          "parcoords": [
           {
            "line": {
             "colorbar": {
              "outlinewidth": 0,
              "ticks": ""
             }
            },
            "type": "parcoords"
           }
          ],
          "pie": [
           {
            "automargin": true,
            "type": "pie"
           }
          ],
          "scatter": [
           {
            "fillpattern": {
             "fillmode": "overlay",
             "size": 10,
             "solidity": 0.2
            },
            "type": "scatter"
           }
          ],
          "scatter3d": [
           {
            "line": {
             "colorbar": {
              "outlinewidth": 0,
              "ticks": ""
             }
            },
            "marker": {
             "colorbar": {
              "outlinewidth": 0,
              "ticks": ""
             }
            },
            "type": "scatter3d"
           }
          ],
          "scattercarpet": [
           {
            "marker": {
             "colorbar": {
              "outlinewidth": 0,
              "ticks": ""
             }
            },
            "type": "scattercarpet"
           }
          ],
          "scattergeo": [
           {
            "marker": {
             "colorbar": {
              "outlinewidth": 0,
              "ticks": ""
             }
            },
            "type": "scattergeo"
           }
          ],
          "scattergl": [
           {
            "marker": {
             "colorbar": {
              "outlinewidth": 0,
              "ticks": ""
             }
            },
            "type": "scattergl"
           }
          ],
          "scattermapbox": [
           {
            "marker": {
             "colorbar": {
              "outlinewidth": 0,
              "ticks": ""
             }
            },
            "type": "scattermapbox"
           }
          ],
          "scatterpolar": [
           {
            "marker": {
             "colorbar": {
              "outlinewidth": 0,
              "ticks": ""
             }
            },
            "type": "scatterpolar"
           }
          ],
          "scatterpolargl": [
           {
            "marker": {
             "colorbar": {
              "outlinewidth": 0,
              "ticks": ""
             }
            },
            "type": "scatterpolargl"
           }
          ],
          "scatterternary": [
           {
            "marker": {
             "colorbar": {
              "outlinewidth": 0,
              "ticks": ""
             }
            },
            "type": "scatterternary"
           }
          ],
          "surface": [
           {
            "colorbar": {
             "outlinewidth": 0,
             "ticks": ""
            },
            "colorscale": [
             [
              0,
              "#0d0887"
             ],
             [
              0.1111111111111111,
              "#46039f"
             ],
             [
              0.2222222222222222,
              "#7201a8"
             ],
             [
              0.3333333333333333,
              "#9c179e"
             ],
             [
              0.4444444444444444,
              "#bd3786"
             ],
             [
              0.5555555555555556,
              "#d8576b"
             ],
             [
              0.6666666666666666,
              "#ed7953"
             ],
             [
              0.7777777777777778,
              "#fb9f3a"
             ],
             [
              0.8888888888888888,
              "#fdca26"
             ],
             [
              1,
              "#f0f921"
             ]
            ],
            "type": "surface"
           }
          ],
          "table": [
           {
            "cells": {
             "fill": {
              "color": "#EBF0F8"
             },
             "line": {
              "color": "white"
             }
            },
            "header": {
             "fill": {
              "color": "#C8D4E3"
             },
             "line": {
              "color": "white"
             }
            },
            "type": "table"
           }
          ]
         },
         "layout": {
          "annotationdefaults": {
           "arrowcolor": "#2a3f5f",
           "arrowhead": 0,
           "arrowwidth": 1
          },
          "autotypenumbers": "strict",
          "coloraxis": {
           "colorbar": {
            "outlinewidth": 0,
            "ticks": ""
           }
          },
          "colorscale": {
           "diverging": [
            [
             0,
             "#8e0152"
            ],
            [
             0.1,
             "#c51b7d"
            ],
            [
             0.2,
             "#de77ae"
            ],
            [
             0.3,
             "#f1b6da"
            ],
            [
             0.4,
             "#fde0ef"
            ],
            [
             0.5,
             "#f7f7f7"
            ],
            [
             0.6,
             "#e6f5d0"
            ],
            [
             0.7,
             "#b8e186"
            ],
            [
             0.8,
             "#7fbc41"
            ],
            [
             0.9,
             "#4d9221"
            ],
            [
             1,
             "#276419"
            ]
           ],
           "sequential": [
            [
             0,
             "#0d0887"
            ],
            [
             0.1111111111111111,
             "#46039f"
            ],
            [
             0.2222222222222222,
             "#7201a8"
            ],
            [
             0.3333333333333333,
             "#9c179e"
            ],
            [
             0.4444444444444444,
             "#bd3786"
            ],
            [
             0.5555555555555556,
             "#d8576b"
            ],
            [
             0.6666666666666666,
             "#ed7953"
            ],
            [
             0.7777777777777778,
             "#fb9f3a"
            ],
            [
             0.8888888888888888,
             "#fdca26"
            ],
            [
             1,
             "#f0f921"
            ]
           ],
           "sequentialminus": [
            [
             0,
             "#0d0887"
            ],
            [
             0.1111111111111111,
             "#46039f"
            ],
            [
             0.2222222222222222,
             "#7201a8"
            ],
            [
             0.3333333333333333,
             "#9c179e"
            ],
            [
             0.4444444444444444,
             "#bd3786"
            ],
            [
             0.5555555555555556,
             "#d8576b"
            ],
            [
             0.6666666666666666,
             "#ed7953"
            ],
            [
             0.7777777777777778,
             "#fb9f3a"
            ],
            [
             0.8888888888888888,
             "#fdca26"
            ],
            [
             1,
             "#f0f921"
            ]
           ]
          },
          "colorway": [
           "#636efa",
           "#EF553B",
           "#00cc96",
           "#ab63fa",
           "#FFA15A",
           "#19d3f3",
           "#FF6692",
           "#B6E880",
           "#FF97FF",
           "#FECB52"
          ],
          "font": {
           "color": "#2a3f5f"
          },
          "geo": {
           "bgcolor": "white",
           "lakecolor": "white",
           "landcolor": "#E5ECF6",
           "showlakes": true,
           "showland": true,
           "subunitcolor": "white"
          },
          "hoverlabel": {
           "align": "left"
          },
          "hovermode": "closest",
          "mapbox": {
           "style": "light"
          },
          "paper_bgcolor": "white",
          "plot_bgcolor": "#E5ECF6",
          "polar": {
           "angularaxis": {
            "gridcolor": "white",
            "linecolor": "white",
            "ticks": ""
           },
           "bgcolor": "#E5ECF6",
           "radialaxis": {
            "gridcolor": "white",
            "linecolor": "white",
            "ticks": ""
           }
          },
          "scene": {
           "xaxis": {
            "backgroundcolor": "#E5ECF6",
            "gridcolor": "white",
            "gridwidth": 2,
            "linecolor": "white",
            "showbackground": true,
            "ticks": "",
            "zerolinecolor": "white"
           },
           "yaxis": {
            "backgroundcolor": "#E5ECF6",
            "gridcolor": "white",
            "gridwidth": 2,
            "linecolor": "white",
            "showbackground": true,
            "ticks": "",
            "zerolinecolor": "white"
           },
           "zaxis": {
            "backgroundcolor": "#E5ECF6",
            "gridcolor": "white",
            "gridwidth": 2,
            "linecolor": "white",
            "showbackground": true,
            "ticks": "",
            "zerolinecolor": "white"
           }
          },
          "shapedefaults": {
           "line": {
            "color": "#2a3f5f"
           }
          },
          "ternary": {
           "aaxis": {
            "gridcolor": "white",
            "linecolor": "white",
            "ticks": ""
           },
           "baxis": {
            "gridcolor": "white",
            "linecolor": "white",
            "ticks": ""
           },
           "bgcolor": "#E5ECF6",
           "caxis": {
            "gridcolor": "white",
            "linecolor": "white",
            "ticks": ""
           }
          },
          "title": {
           "x": 0.05
          },
          "xaxis": {
           "automargin": true,
           "gridcolor": "white",
           "linecolor": "white",
           "ticks": "",
           "title": {
            "standoff": 15
           },
           "zerolinecolor": "white",
           "zerolinewidth": 2
          },
          "yaxis": {
           "automargin": true,
           "gridcolor": "white",
           "linecolor": "white",
           "ticks": "",
           "title": {
            "standoff": 15
           },
           "zerolinecolor": "white",
           "zerolinewidth": 2
          }
         }
        },
        "title": {
         "text": "Rate of Change (%) - Broadband"
        },
        "updatemenus": [
         {
          "buttons": [
           {
            "args": [
             null,
             {
              "frame": {
               "duration": 500,
               "redraw": true
              },
              "fromcurrent": true,
              "mode": "immediate",
              "transition": {
               "duration": 500,
               "easing": "linear"
              }
             }
            ],
            "label": "&#9654;",
            "method": "animate"
           },
           {
            "args": [
             [
              null
             ],
             {
              "frame": {
               "duration": 0,
               "redraw": true
              },
              "fromcurrent": true,
              "mode": "immediate",
              "transition": {
               "duration": 0,
               "easing": "linear"
              }
             }
            ],
            "label": "&#9724;",
            "method": "animate"
           }
          ],
          "direction": "left",
          "pad": {
           "r": 10,
           "t": 70
          },
          "showactive": false,
          "type": "buttons",
          "x": 0.1,
          "xanchor": "right",
          "y": 0,
          "yanchor": "top"
         }
        ]
       }
      },
      "text/html": [
       "<div>                            <div id=\"50130961-d23e-46d4-8e9c-35c95a7eef75\" class=\"plotly-graph-div\" style=\"height:525px; width:100%;\"></div>            <script type=\"text/javascript\">                require([\"plotly\"], function(Plotly) {                    window.PLOTLYENV=window.PLOTLYENV || {};                                    if (document.getElementById(\"50130961-d23e-46d4-8e9c-35c95a7eef75\")) {                    Plotly.newPlot(                        \"50130961-d23e-46d4-8e9c-35c95a7eef75\",                        [{\"coloraxis\":\"coloraxis\",\"geo\":\"geo\",\"hovertemplate\":\"Year=2018<br>Country=%{location}<br>Rate of Change (%) - Broadband=%{z}<extra></extra>\",\"locationmode\":\"country names\",\"locations\":[\"Algeria\",\"Angola\",\"Argentina\",\"Australia\",\"Austria\",\"Azerbaijan\",\"Bahrain\",\"Bangladesh\",\"Belgium\",\"Benin\",\"Botswana\",\"Brazil\",\"Bulgaria\",\"Burkina Faso\",\"Burundi\",\"Cambodia\",\"Cameroon\",\"Canada\",\"Chile\",\"China\",\"Colombia\",\"Costa Rica\",\"C\\u00f4te d'Ivoire\",\"Croatia\",\"Cuba\",\"Czech Republic\",\"Denmark\",\"Dominican Republic\",\"Ecuador\",\"Egypt\",\"El Salvador\",\"Estonia\",\"Ethiopia\",\"Finland\",\"France\",\"Gabon\",\"Germany\",\"Ghana\",\"Greece\",\"Guatemala\",\"Guinea\",\"Honduras\",\"Hong Kong\",\"Hungary\",\"India\",\"Indonesia\",\"Iran\",\"Ireland\",\"Israel\",\"Italy\",\"Jamaica\",\"Japan\",\"Jordan\",\"Kazakhstan\",\"Kenya\",\"Kuwait\",\"Laos\",\"Latvia\",\"Lebanon\",\"Liberia\",\"Lithuania\",\"Madagascar\",\"Malawi\",\"Malaysia\",\"Mali\",\"Mexico\",\"Mongolia\",\"Morocco\",\"Mozambique\",\"Myanmar\",\"Namibia\",\"Nepal\",\"Netherlands\",\"New Zealand\",\"Nicaragua\",\"Niger\",\"Nigeria\",\"Oman\",\"Pakistan\",\"Panama\",\"Papua New Guinea\",\"Paraguay\",\"Peru\",\"Philippines\",\"Poland\",\"Portugal\",\"Qatar\",\"Romania\",\"Russia\",\"Rwanda\",\"Saudi Arabia\",\"Senegal\",\"Sierra Leone\",\"Singapore\",\"Slovakia\",\"South Africa\",\"South Korea\",\"Spain\",\"Sri Lanka\",\"Sudan\",\"Sweden\",\"Switzerland\",\"Taiwan\",\"Tanzania\",\"Thailand\",\"Trinidad & Tobago\",\"Tunisia\",\"Turkey\",\"UAE\",\"Uganda\",\"Ukraine\",\"United Kingdom\",\"United States\",\"Uruguay\",\"Uzbekistan\",\"Venezuela\",\"Vietnam\",\"Zambia\",\"Zimbabwe\"],\"name\":\"\",\"z\":[23.47,-47.27,4.71,6.52,1.9800000000000002,-6.13,-11.65,33.23,3.01,-69.57,56.89999999999999,4.569999999999999,5.89,40.0,0.0,14.81,1588.8899999999999,1.0699999999999998,5.42,15.85,5.5,13.19,21.279999999999998,6.4399999999999995,85.71,4.03,1.94,9.75,6.32,14.249999999999998,11.469999999999999,6.1,14.89,-1.3299999999999998,2.69,31.580000000000002,3.2199999999999998,15.379999999999999,5.58,7.7700000000000005,0.0,9.68,10.96,3.7800000000000002,9.3,29.87,13.54,2.91,2.2399999999999998,4.31,24.240000000000002,2.6,-6.890000000000001,0.69,-3.5700000000000003,79.02,63.63999999999999,4.37,-1.43,6.25,4.43,10.0,66.67,-12.45,500.0,6.61,6.63,7.85,6.25,183.32999999999998,-10.2,-26.790000000000003,2.48,4.4799999999999995,50.27,-71.43,500.0,16.09,-10.0,33.629999999999995,10.530000000000001,13.04,4.569999999999999,1.41,0.9900000000000001,7.85,3.1300000000000003,5.1,2.21,0.0,-1.25,-4.35,12.24,5.94,4.82,-19.29,2.34,4.2700000000000005,41.81,0.0,4.5,1.03,0.25,185.71,15.440000000000001,-8.76,10.33,8.68,3.9800000000000004,9.520000000000001,3.35,2.59,2.76,1.97,51.04,1.7399999999999998,17.68,26.669999999999998,2.52],\"type\":\"choropleth\"}],                        {\"template\":{\"data\":{\"histogram2dcontour\":[{\"type\":\"histogram2dcontour\",\"colorbar\":{\"outlinewidth\":0,\"ticks\":\"\"},\"colorscale\":[[0.0,\"#0d0887\"],[0.1111111111111111,\"#46039f\"],[0.2222222222222222,\"#7201a8\"],[0.3333333333333333,\"#9c179e\"],[0.4444444444444444,\"#bd3786\"],[0.5555555555555556,\"#d8576b\"],[0.6666666666666666,\"#ed7953\"],[0.7777777777777778,\"#fb9f3a\"],[0.8888888888888888,\"#fdca26\"],[1.0,\"#f0f921\"]]}],\"choropleth\":[{\"type\":\"choropleth\",\"colorbar\":{\"outlinewidth\":0,\"ticks\":\"\"}}],\"histogram2d\":[{\"type\":\"histogram2d\",\"colorbar\":{\"outlinewidth\":0,\"ticks\":\"\"},\"colorscale\":[[0.0,\"#0d0887\"],[0.1111111111111111,\"#46039f\"],[0.2222222222222222,\"#7201a8\"],[0.3333333333333333,\"#9c179e\"],[0.4444444444444444,\"#bd3786\"],[0.5555555555555556,\"#d8576b\"],[0.6666666666666666,\"#ed7953\"],[0.7777777777777778,\"#fb9f3a\"],[0.8888888888888888,\"#fdca26\"],[1.0,\"#f0f921\"]]}],\"heatmap\":[{\"type\":\"heatmap\",\"colorbar\":{\"outlinewidth\":0,\"ticks\":\"\"},\"colorscale\":[[0.0,\"#0d0887\"],[0.1111111111111111,\"#46039f\"],[0.2222222222222222,\"#7201a8\"],[0.3333333333333333,\"#9c179e\"],[0.4444444444444444,\"#bd3786\"],[0.5555555555555556,\"#d8576b\"],[0.6666666666666666,\"#ed7953\"],[0.7777777777777778,\"#fb9f3a\"],[0.8888888888888888,\"#fdca26\"],[1.0,\"#f0f921\"]]}],\"heatmapgl\":[{\"type\":\"heatmapgl\",\"colorbar\":{\"outlinewidth\":0,\"ticks\":\"\"},\"colorscale\":[[0.0,\"#0d0887\"],[0.1111111111111111,\"#46039f\"],[0.2222222222222222,\"#7201a8\"],[0.3333333333333333,\"#9c179e\"],[0.4444444444444444,\"#bd3786\"],[0.5555555555555556,\"#d8576b\"],[0.6666666666666666,\"#ed7953\"],[0.7777777777777778,\"#fb9f3a\"],[0.8888888888888888,\"#fdca26\"],[1.0,\"#f0f921\"]]}],\"contourcarpet\":[{\"type\":\"contourcarpet\",\"colorbar\":{\"outlinewidth\":0,\"ticks\":\"\"}}],\"contour\":[{\"type\":\"contour\",\"colorbar\":{\"outlinewidth\":0,\"ticks\":\"\"},\"colorscale\":[[0.0,\"#0d0887\"],[0.1111111111111111,\"#46039f\"],[0.2222222222222222,\"#7201a8\"],[0.3333333333333333,\"#9c179e\"],[0.4444444444444444,\"#bd3786\"],[0.5555555555555556,\"#d8576b\"],[0.6666666666666666,\"#ed7953\"],[0.7777777777777778,\"#fb9f3a\"],[0.8888888888888888,\"#fdca26\"],[1.0,\"#f0f921\"]]}],\"surface\":[{\"type\":\"surface\",\"colorbar\":{\"outlinewidth\":0,\"ticks\":\"\"},\"colorscale\":[[0.0,\"#0d0887\"],[0.1111111111111111,\"#46039f\"],[0.2222222222222222,\"#7201a8\"],[0.3333333333333333,\"#9c179e\"],[0.4444444444444444,\"#bd3786\"],[0.5555555555555556,\"#d8576b\"],[0.6666666666666666,\"#ed7953\"],[0.7777777777777778,\"#fb9f3a\"],[0.8888888888888888,\"#fdca26\"],[1.0,\"#f0f921\"]]}],\"mesh3d\":[{\"type\":\"mesh3d\",\"colorbar\":{\"outlinewidth\":0,\"ticks\":\"\"}}],\"scatter\":[{\"fillpattern\":{\"fillmode\":\"overlay\",\"size\":10,\"solidity\":0.2},\"type\":\"scatter\"}],\"parcoords\":[{\"type\":\"parcoords\",\"line\":{\"colorbar\":{\"outlinewidth\":0,\"ticks\":\"\"}}}],\"scatterpolargl\":[{\"type\":\"scatterpolargl\",\"marker\":{\"colorbar\":{\"outlinewidth\":0,\"ticks\":\"\"}}}],\"bar\":[{\"error_x\":{\"color\":\"#2a3f5f\"},\"error_y\":{\"color\":\"#2a3f5f\"},\"marker\":{\"line\":{\"color\":\"#E5ECF6\",\"width\":0.5},\"pattern\":{\"fillmode\":\"overlay\",\"size\":10,\"solidity\":0.2}},\"type\":\"bar\"}],\"scattergeo\":[{\"type\":\"scattergeo\",\"marker\":{\"colorbar\":{\"outlinewidth\":0,\"ticks\":\"\"}}}],\"scatterpolar\":[{\"type\":\"scatterpolar\",\"marker\":{\"colorbar\":{\"outlinewidth\":0,\"ticks\":\"\"}}}],\"histogram\":[{\"marker\":{\"pattern\":{\"fillmode\":\"overlay\",\"size\":10,\"solidity\":0.2}},\"type\":\"histogram\"}],\"scattergl\":[{\"type\":\"scattergl\",\"marker\":{\"colorbar\":{\"outlinewidth\":0,\"ticks\":\"\"}}}],\"scatter3d\":[{\"type\":\"scatter3d\",\"line\":{\"colorbar\":{\"outlinewidth\":0,\"ticks\":\"\"}},\"marker\":{\"colorbar\":{\"outlinewidth\":0,\"ticks\":\"\"}}}],\"scattermapbox\":[{\"type\":\"scattermapbox\",\"marker\":{\"colorbar\":{\"outlinewidth\":0,\"ticks\":\"\"}}}],\"scatterternary\":[{\"type\":\"scatterternary\",\"marker\":{\"colorbar\":{\"outlinewidth\":0,\"ticks\":\"\"}}}],\"scattercarpet\":[{\"type\":\"scattercarpet\",\"marker\":{\"colorbar\":{\"outlinewidth\":0,\"ticks\":\"\"}}}],\"carpet\":[{\"aaxis\":{\"endlinecolor\":\"#2a3f5f\",\"gridcolor\":\"white\",\"linecolor\":\"white\",\"minorgridcolor\":\"white\",\"startlinecolor\":\"#2a3f5f\"},\"baxis\":{\"endlinecolor\":\"#2a3f5f\",\"gridcolor\":\"white\",\"linecolor\":\"white\",\"minorgridcolor\":\"white\",\"startlinecolor\":\"#2a3f5f\"},\"type\":\"carpet\"}],\"table\":[{\"cells\":{\"fill\":{\"color\":\"#EBF0F8\"},\"line\":{\"color\":\"white\"}},\"header\":{\"fill\":{\"color\":\"#C8D4E3\"},\"line\":{\"color\":\"white\"}},\"type\":\"table\"}],\"barpolar\":[{\"marker\":{\"line\":{\"color\":\"#E5ECF6\",\"width\":0.5},\"pattern\":{\"fillmode\":\"overlay\",\"size\":10,\"solidity\":0.2}},\"type\":\"barpolar\"}],\"pie\":[{\"automargin\":true,\"type\":\"pie\"}]},\"layout\":{\"autotypenumbers\":\"strict\",\"colorway\":[\"#636efa\",\"#EF553B\",\"#00cc96\",\"#ab63fa\",\"#FFA15A\",\"#19d3f3\",\"#FF6692\",\"#B6E880\",\"#FF97FF\",\"#FECB52\"],\"font\":{\"color\":\"#2a3f5f\"},\"hovermode\":\"closest\",\"hoverlabel\":{\"align\":\"left\"},\"paper_bgcolor\":\"white\",\"plot_bgcolor\":\"#E5ECF6\",\"polar\":{\"bgcolor\":\"#E5ECF6\",\"angularaxis\":{\"gridcolor\":\"white\",\"linecolor\":\"white\",\"ticks\":\"\"},\"radialaxis\":{\"gridcolor\":\"white\",\"linecolor\":\"white\",\"ticks\":\"\"}},\"ternary\":{\"bgcolor\":\"#E5ECF6\",\"aaxis\":{\"gridcolor\":\"white\",\"linecolor\":\"white\",\"ticks\":\"\"},\"baxis\":{\"gridcolor\":\"white\",\"linecolor\":\"white\",\"ticks\":\"\"},\"caxis\":{\"gridcolor\":\"white\",\"linecolor\":\"white\",\"ticks\":\"\"}},\"coloraxis\":{\"colorbar\":{\"outlinewidth\":0,\"ticks\":\"\"}},\"colorscale\":{\"sequential\":[[0.0,\"#0d0887\"],[0.1111111111111111,\"#46039f\"],[0.2222222222222222,\"#7201a8\"],[0.3333333333333333,\"#9c179e\"],[0.4444444444444444,\"#bd3786\"],[0.5555555555555556,\"#d8576b\"],[0.6666666666666666,\"#ed7953\"],[0.7777777777777778,\"#fb9f3a\"],[0.8888888888888888,\"#fdca26\"],[1.0,\"#f0f921\"]],\"sequentialminus\":[[0.0,\"#0d0887\"],[0.1111111111111111,\"#46039f\"],[0.2222222222222222,\"#7201a8\"],[0.3333333333333333,\"#9c179e\"],[0.4444444444444444,\"#bd3786\"],[0.5555555555555556,\"#d8576b\"],[0.6666666666666666,\"#ed7953\"],[0.7777777777777778,\"#fb9f3a\"],[0.8888888888888888,\"#fdca26\"],[1.0,\"#f0f921\"]],\"diverging\":[[0,\"#8e0152\"],[0.1,\"#c51b7d\"],[0.2,\"#de77ae\"],[0.3,\"#f1b6da\"],[0.4,\"#fde0ef\"],[0.5,\"#f7f7f7\"],[0.6,\"#e6f5d0\"],[0.7,\"#b8e186\"],[0.8,\"#7fbc41\"],[0.9,\"#4d9221\"],[1,\"#276419\"]]},\"xaxis\":{\"gridcolor\":\"white\",\"linecolor\":\"white\",\"ticks\":\"\",\"title\":{\"standoff\":15},\"zerolinecolor\":\"white\",\"automargin\":true,\"zerolinewidth\":2},\"yaxis\":{\"gridcolor\":\"white\",\"linecolor\":\"white\",\"ticks\":\"\",\"title\":{\"standoff\":15},\"zerolinecolor\":\"white\",\"automargin\":true,\"zerolinewidth\":2},\"scene\":{\"xaxis\":{\"backgroundcolor\":\"#E5ECF6\",\"gridcolor\":\"white\",\"linecolor\":\"white\",\"showbackground\":true,\"ticks\":\"\",\"zerolinecolor\":\"white\",\"gridwidth\":2},\"yaxis\":{\"backgroundcolor\":\"#E5ECF6\",\"gridcolor\":\"white\",\"linecolor\":\"white\",\"showbackground\":true,\"ticks\":\"\",\"zerolinecolor\":\"white\",\"gridwidth\":2},\"zaxis\":{\"backgroundcolor\":\"#E5ECF6\",\"gridcolor\":\"white\",\"linecolor\":\"white\",\"showbackground\":true,\"ticks\":\"\",\"zerolinecolor\":\"white\",\"gridwidth\":2}},\"shapedefaults\":{\"line\":{\"color\":\"#2a3f5f\"}},\"annotationdefaults\":{\"arrowcolor\":\"#2a3f5f\",\"arrowhead\":0,\"arrowwidth\":1},\"geo\":{\"bgcolor\":\"white\",\"landcolor\":\"#E5ECF6\",\"subunitcolor\":\"white\",\"showland\":true,\"showlakes\":true,\"lakecolor\":\"white\"},\"title\":{\"x\":0.05},\"mapbox\":{\"style\":\"light\"}}},\"geo\":{\"domain\":{\"x\":[0.0,1.0],\"y\":[0.0,1.0]},\"projection\":{\"type\":\"natural earth\"},\"center\":{},\"showocean\":true,\"oceancolor\":\"rgba(0,255,255,0.7)\",\"showland\":true,\"landcolor\":\"rgba(212,212,212,0.7)\",\"showcountries\":true,\"showframe\":false},\"coloraxis\":{\"colorbar\":{\"title\":{\"text\":\"Rate of Change (%) - Broadband\"}},\"colorscale\":[[0.0,\"rgb(165,0,38)\"],[0.1,\"rgb(215,48,39)\"],[0.2,\"rgb(244,109,67)\"],[0.3,\"rgb(253,174,97)\"],[0.4,\"rgb(254,224,139)\"],[0.5,\"rgb(255,255,191)\"],[0.6,\"rgb(217,239,139)\"],[0.7,\"rgb(166,217,106)\"],[0.8,\"rgb(102,189,99)\"],[0.9,\"rgb(26,152,80)\"],[1.0,\"rgb(0,104,55)\"]],\"cmin\":-10,\"cmax\":10},\"legend\":{\"tracegroupgap\":0},\"title\":{\"text\":\"Rate of Change (%) - Broadband\"},\"updatemenus\":[{\"buttons\":[{\"args\":[null,{\"frame\":{\"duration\":500,\"redraw\":true},\"mode\":\"immediate\",\"fromcurrent\":true,\"transition\":{\"duration\":500,\"easing\":\"linear\"}}],\"label\":\"&#9654;\",\"method\":\"animate\"},{\"args\":[[null],{\"frame\":{\"duration\":0,\"redraw\":true},\"mode\":\"immediate\",\"fromcurrent\":true,\"transition\":{\"duration\":0,\"easing\":\"linear\"}}],\"label\":\"&#9724;\",\"method\":\"animate\"}],\"direction\":\"left\",\"pad\":{\"r\":10,\"t\":70},\"showactive\":false,\"type\":\"buttons\",\"x\":0.1,\"xanchor\":\"right\",\"y\":0,\"yanchor\":\"top\"}],\"sliders\":[{\"active\":0,\"currentvalue\":{\"prefix\":\"Year=\"},\"len\":0.9,\"pad\":{\"b\":10,\"t\":60},\"steps\":[{\"args\":[[\"2018\"],{\"frame\":{\"duration\":0,\"redraw\":true},\"mode\":\"immediate\",\"fromcurrent\":true,\"transition\":{\"duration\":0,\"easing\":\"linear\"}}],\"label\":\"2018\",\"method\":\"animate\"},{\"args\":[[\"2019\"],{\"frame\":{\"duration\":0,\"redraw\":true},\"mode\":\"immediate\",\"fromcurrent\":true,\"transition\":{\"duration\":0,\"easing\":\"linear\"}}],\"label\":\"2019\",\"method\":\"animate\"},{\"args\":[[\"2020\"],{\"frame\":{\"duration\":0,\"redraw\":true},\"mode\":\"immediate\",\"fromcurrent\":true,\"transition\":{\"duration\":0,\"easing\":\"linear\"}}],\"label\":\"2020\",\"method\":\"animate\"},{\"args\":[[\"2021\"],{\"frame\":{\"duration\":0,\"redraw\":true},\"mode\":\"immediate\",\"fromcurrent\":true,\"transition\":{\"duration\":0,\"easing\":\"linear\"}}],\"label\":\"2021\",\"method\":\"animate\"}],\"x\":0.1,\"xanchor\":\"left\",\"y\":0,\"yanchor\":\"top\"}]},                        {\"responsive\": true}                    ).then(function(){\n",
       "                            Plotly.addFrames('50130961-d23e-46d4-8e9c-35c95a7eef75', [{\"data\":[{\"coloraxis\":\"coloraxis\",\"geo\":\"geo\",\"hovertemplate\":\"Year=2018<br>Country=%{location}<br>Rate of Change (%) - Broadband=%{z}<extra></extra>\",\"locationmode\":\"country names\",\"locations\":[\"Algeria\",\"Angola\",\"Argentina\",\"Australia\",\"Austria\",\"Azerbaijan\",\"Bahrain\",\"Bangladesh\",\"Belgium\",\"Benin\",\"Botswana\",\"Brazil\",\"Bulgaria\",\"Burkina Faso\",\"Burundi\",\"Cambodia\",\"Cameroon\",\"Canada\",\"Chile\",\"China\",\"Colombia\",\"Costa Rica\",\"C\\u00f4te d'Ivoire\",\"Croatia\",\"Cuba\",\"Czech Republic\",\"Denmark\",\"Dominican Republic\",\"Ecuador\",\"Egypt\",\"El Salvador\",\"Estonia\",\"Ethiopia\",\"Finland\",\"France\",\"Gabon\",\"Germany\",\"Ghana\",\"Greece\",\"Guatemala\",\"Guinea\",\"Honduras\",\"Hong Kong\",\"Hungary\",\"India\",\"Indonesia\",\"Iran\",\"Ireland\",\"Israel\",\"Italy\",\"Jamaica\",\"Japan\",\"Jordan\",\"Kazakhstan\",\"Kenya\",\"Kuwait\",\"Laos\",\"Latvia\",\"Lebanon\",\"Liberia\",\"Lithuania\",\"Madagascar\",\"Malawi\",\"Malaysia\",\"Mali\",\"Mexico\",\"Mongolia\",\"Morocco\",\"Mozambique\",\"Myanmar\",\"Namibia\",\"Nepal\",\"Netherlands\",\"New Zealand\",\"Nicaragua\",\"Niger\",\"Nigeria\",\"Oman\",\"Pakistan\",\"Panama\",\"Papua New Guinea\",\"Paraguay\",\"Peru\",\"Philippines\",\"Poland\",\"Portugal\",\"Qatar\",\"Romania\",\"Russia\",\"Rwanda\",\"Saudi Arabia\",\"Senegal\",\"Sierra Leone\",\"Singapore\",\"Slovakia\",\"South Africa\",\"South Korea\",\"Spain\",\"Sri Lanka\",\"Sudan\",\"Sweden\",\"Switzerland\",\"Taiwan\",\"Tanzania\",\"Thailand\",\"Trinidad & Tobago\",\"Tunisia\",\"Turkey\",\"UAE\",\"Uganda\",\"Ukraine\",\"United Kingdom\",\"United States\",\"Uruguay\",\"Uzbekistan\",\"Venezuela\",\"Vietnam\",\"Zambia\",\"Zimbabwe\"],\"name\":\"\",\"z\":[23.47,-47.27,4.71,6.52,1.9800000000000002,-6.13,-11.65,33.23,3.01,-69.57,56.89999999999999,4.569999999999999,5.89,40.0,0.0,14.81,1588.8899999999999,1.0699999999999998,5.42,15.85,5.5,13.19,21.279999999999998,6.4399999999999995,85.71,4.03,1.94,9.75,6.32,14.249999999999998,11.469999999999999,6.1,14.89,-1.3299999999999998,2.69,31.580000000000002,3.2199999999999998,15.379999999999999,5.58,7.7700000000000005,0.0,9.68,10.96,3.7800000000000002,9.3,29.87,13.54,2.91,2.2399999999999998,4.31,24.240000000000002,2.6,-6.890000000000001,0.69,-3.5700000000000003,79.02,63.63999999999999,4.37,-1.43,6.25,4.43,10.0,66.67,-12.45,500.0,6.61,6.63,7.85,6.25,183.32999999999998,-10.2,-26.790000000000003,2.48,4.4799999999999995,50.27,-71.43,500.0,16.09,-10.0,33.629999999999995,10.530000000000001,13.04,4.569999999999999,1.41,0.9900000000000001,7.85,3.1300000000000003,5.1,2.21,0.0,-1.25,-4.35,12.24,5.94,4.82,-19.29,2.34,4.2700000000000005,41.81,0.0,4.5,1.03,0.25,185.71,15.440000000000001,-8.76,10.33,8.68,3.9800000000000004,9.520000000000001,3.35,2.59,2.76,1.97,51.04,1.7399999999999998,17.68,26.669999999999998,2.52],\"type\":\"choropleth\"}],\"name\":\"2018\"},{\"data\":[{\"coloraxis\":\"coloraxis\",\"geo\":\"geo\",\"hovertemplate\":\"Year=2019<br>Country=%{location}<br>Rate of Change (%) - Broadband=%{z}<extra></extra>\",\"locationmode\":\"country names\",\"locations\":[\"Algeria\",\"Angola\",\"Argentina\",\"Australia\",\"Austria\",\"Azerbaijan\",\"Bahrain\",\"Bangladesh\",\"Belgium\",\"Benin\",\"Botswana\",\"Brazil\",\"Bulgaria\",\"Burkina Faso\",\"Burundi\",\"Cambodia\",\"Cameroon\",\"Canada\",\"Chile\",\"China\",\"Colombia\",\"Costa Rica\",\"C\\u00f4te d'Ivoire\",\"Croatia\",\"Cuba\",\"Czech Republic\",\"Denmark\",\"Dominican Republic\",\"Ecuador\",\"Egypt\",\"El Salvador\",\"Estonia\",\"Ethiopia\",\"Finland\",\"France\",\"Gabon\",\"Germany\",\"Ghana\",\"Greece\",\"Guatemala\",\"Guinea\",\"Honduras\",\"Hong Kong\",\"Hungary\",\"India\",\"Indonesia\",\"Iran\",\"Ireland\",\"Israel\",\"Italy\",\"Jamaica\",\"Japan\",\"Jordan\",\"Kazakhstan\",\"Kenya\",\"Kuwait\",\"Laos\",\"Latvia\",\"Lebanon\",\"Liberia\",\"Lithuania\",\"Madagascar\",\"Malawi\",\"Malaysia\",\"Mali\",\"Mexico\",\"Mongolia\",\"Morocco\",\"Mozambique\",\"Myanmar\",\"Namibia\",\"Nepal\",\"Netherlands\",\"New Zealand\",\"Nicaragua\",\"Niger\",\"Nigeria\",\"Oman\",\"Pakistan\",\"Panama\",\"Papua New Guinea\",\"Paraguay\",\"Peru\",\"Philippines\",\"Poland\",\"Portugal\",\"Qatar\",\"Romania\",\"Russia\",\"Rwanda\",\"Saudi Arabia\",\"Senegal\",\"Sierra Leone\",\"Singapore\",\"Slovakia\",\"South Africa\",\"South Korea\",\"Spain\",\"Sri Lanka\",\"Sudan\",\"Sweden\",\"Switzerland\",\"Taiwan\",\"Tanzania\",\"Thailand\",\"Trinidad & Tobago\",\"Tunisia\",\"Turkey\",\"UAE\",\"Uganda\",\"Ukraine\",\"United Kingdom\",\"United States\",\"Uruguay\",\"Uzbekistan\",\"Venezuela\",\"Vietnam\",\"Zambia\",\"Zimbabwe\"],\"name\":\"\",\"z\":[10.07,13.79,7.08,6.02,-1.32,-1.03,-20.25,9.59,1.97,23.810000000000002,-46.150000000000006,6.75,6.569999999999999,-14.29,33.33,33.87,2.63,3.04,3.95,21.61,5.46,15.260000000000002,1.7500000000000002,5.65,130.77,2.2800000000000002,1.67,6.69,8.61,14.799999999999999,13.5,3.1399999999999997,-88.89,-0.35000000000000003,2.62,-4.0,3.7699999999999996,-33.33,4.96,2.9499999999999997,0.0,6.3,0.36,5.3,-5.67,17.5,11.51,1.59,2.01,6.550000000000001,-16.77,2.02,9.0,8.12,111.11,13.28,8.33,2.55,0.0,11.76,-5.42,-9.09,20.0,-2.48,-33.33,5.5,23.78,8.68,29.409999999999997,23.53,0.37,121.95,0.7100000000000001,2.5,17.080000000000002,0.0,0.0,17.8,8.64,0.8500000000000001,0.0,16.21,7.140000000000001,12.15,4.25,6.2700000000000005,-1.46,7.61,12.770000000000001,-5.26,1.9300000000000002,10.61,-1.82,-8.200000000000001,5.01,-3.9,2.88,3.9,36.32,0.0,4.04,2.8000000000000003,0.25,133.32999999999998,13.28,27.279999999999998,23.849999999999998,11.790000000000001,110.03,-91.3,2.6599999999999997,1.59,1.68,3.05,19.009999999999998,1.26,22.53,10.530000000000001,8.200000000000001],\"type\":\"choropleth\"}],\"name\":\"2019\"},{\"data\":[{\"coloraxis\":\"coloraxis\",\"geo\":\"geo\",\"hovertemplate\":\"Year=2020<br>Country=%{location}<br>Rate of Change (%) - Broadband=%{z}<extra></extra>\",\"locationmode\":\"country names\",\"locations\":[\"Algeria\",\"Angola\",\"Argentina\",\"Australia\",\"Austria\",\"Azerbaijan\",\"Bahrain\",\"Bangladesh\",\"Belgium\",\"Benin\",\"Botswana\",\"Brazil\",\"Bulgaria\",\"Burkina Faso\",\"Burundi\",\"Cambodia\",\"Cameroon\",\"Canada\",\"Chile\",\"China\",\"Colombia\",\"Costa Rica\",\"C\\u00f4te d'Ivoire\",\"Croatia\",\"Cuba\",\"Czech Republic\",\"Denmark\",\"Dominican Republic\",\"Ecuador\",\"Egypt\",\"El Salvador\",\"Estonia\",\"Ethiopia\",\"Finland\",\"France\",\"Gabon\",\"Germany\",\"Ghana\",\"Greece\",\"Guatemala\",\"Guinea\",\"Honduras\",\"Hong Kong\",\"Hungary\",\"India\",\"Indonesia\",\"Iran\",\"Ireland\",\"Israel\",\"Italy\",\"Jamaica\",\"Japan\",\"Jordan\",\"Kazakhstan\",\"Kenya\",\"Kuwait\",\"Laos\",\"Latvia\",\"Lebanon\",\"Liberia\",\"Lithuania\",\"Madagascar\",\"Malawi\",\"Malaysia\",\"Mali\",\"Mexico\",\"Mongolia\",\"Morocco\",\"Mozambique\",\"Myanmar\",\"Namibia\",\"Nepal\",\"Netherlands\",\"New Zealand\",\"Nicaragua\",\"Niger\",\"Nigeria\",\"Oman\",\"Pakistan\",\"Panama\",\"Papua New Guinea\",\"Paraguay\",\"Peru\",\"Philippines\",\"Poland\",\"Portugal\",\"Qatar\",\"Romania\",\"Russia\",\"Rwanda\",\"Saudi Arabia\",\"Senegal\",\"Sierra Leone\",\"Singapore\",\"Slovakia\",\"South Africa\",\"South Korea\",\"Spain\",\"Sri Lanka\",\"Sudan\",\"Sweden\",\"Switzerland\",\"Taiwan\",\"Tanzania\",\"Thailand\",\"Trinidad & Tobago\",\"Tunisia\",\"Turkey\",\"UAE\",\"Uganda\",\"Ukraine\",\"United Kingdom\",\"United States\",\"Uruguay\",\"Uzbekistan\",\"Venezuela\",\"Vietnam\",\"Zambia\",\"Zimbabwe\"],\"name\":\"\",\"z\":[-6.4399999999999995,9.09,7.000000000000001,5.06,-0.42,3.65,-38.080000000000005,9.19,2.27,-7.6899999999999995,21.09,7.19,6.72,16.669999999999998,0.0,22.89,0.64,2.77,4.7,2.88,3.94,11.110000000000001,20.69,3.63,190.0,2.1999999999999997,0.62,5.76,7.920000000000001,23.94,8.64,2.71,0.0,1.35,1.96,90.28,2.21,5.0,5.3100000000000005,0.0,0.0,46.25,1.24,4.38,0.75,41.28,19.23,0.8500000000000001,2.25,2.93,18.44,2.6100000000000003,18.29,-5.680000000000001,26.32,-13.450000000000001,64.1,1.15,-99.28,0.0,0.32,0.0,0.0,-1.04,687.5,6.83,5.46,11.08,9.09,14.29,-7.66,54.949999999999996,1.38,3.1199999999999997,-9.42,0.0,-33.33,22.59,-3.4099999999999997,20.39,0.0,8.98,7.89,9.91,2.93,6.22,2.23,7.85,2.9499999999999997,-66.67,0.7000000000000001,12.33,25.929999999999996,0.35000000000000003,7.21,-2.54,0.29,3.37,25.779999999999998,14.29,1.5699999999999998,-1.6400000000000001,0.0,9.29,11.64,4.279999999999999,25.11,10.75,7.870000000000001,0.0,3.64,1.46,1.83,2.16,22.23,1.69,14.19,100.0,6.819999999999999],\"type\":\"choropleth\"}],\"name\":\"2020\"},{\"data\":[{\"coloraxis\":\"coloraxis\",\"geo\":\"geo\",\"hovertemplate\":\"Year=2021<br>Country=%{location}<br>Rate of Change (%) - Broadband=%{z}<extra></extra>\",\"locationmode\":\"country names\",\"locations\":[\"Algeria\",\"Angola\",\"Argentina\",\"Australia\",\"Austria\",\"Azerbaijan\",\"Bahrain\",\"Bangladesh\",\"Belgium\",\"Benin\",\"Botswana\",\"Brazil\",\"Bulgaria\",\"Burkina Faso\",\"Burundi\",\"Cambodia\",\"Cameroon\",\"Canada\",\"Chile\",\"China\",\"Colombia\",\"Congo (DRC)\",\"Costa Rica\",\"C\\u00f4te d'Ivoire\",\"Croatia\",\"Cuba\",\"Czech Republic\",\"Denmark\",\"Dominican Republic\",\"Ecuador\",\"Egypt\",\"El Salvador\",\"Estonia\",\"Ethiopia\",\"Finland\",\"France\",\"Gabon\",\"Germany\",\"Ghana\",\"Greece\",\"Guatemala\",\"Guinea\",\"Honduras\",\"Hong Kong\",\"Hungary\",\"India\",\"Indonesia\",\"Iran\",\"Ireland\",\"Israel\",\"Italy\",\"Jamaica\",\"Japan\",\"Jordan\",\"Kazakhstan\",\"Kenya\",\"Kuwait\",\"Laos\",\"Latvia\",\"Lebanon\",\"Liberia\",\"Lithuania\",\"Madagascar\",\"Malawi\",\"Malaysia\",\"Mali\",\"Mexico\",\"Mongolia\",\"Morocco\",\"Mozambique\",\"Myanmar\",\"Namibia\",\"Nepal\",\"Netherlands\",\"New Zealand\",\"Nicaragua\",\"Niger\",\"Nigeria\",\"Oman\",\"Pakistan\",\"Panama\",\"Papua New Guinea\",\"Paraguay\",\"Peru\",\"Philippines\",\"Poland\",\"Portugal\",\"Qatar\",\"Romania\",\"Russia\",\"Rwanda\",\"Saudi Arabia\",\"Senegal\",\"Sierra Leone\",\"Singapore\",\"Slovakia\",\"South Africa\",\"South Korea\",\"Spain\",\"Sri Lanka\",\"Sudan\",\"Sweden\",\"Switzerland\",\"Taiwan\",\"Tanzania\",\"Thailand\",\"Trinidad & Tobago\",\"Tunisia\",\"Turkey\",\"UAE\",\"Uganda\",\"Ukraine\",\"United Kingdom\",\"United States\",\"Uruguay\",\"Uzbekistan\",\"Venezuela\",\"Vietnam\",\"Zambia\",\"Zimbabwe\"],\"name\":\"\",\"z\":[14.6,2.78,2.83,2.6,-0.7799999999999999,1.7399999999999998,6.710000000000001,-0.6,1.43,-12.5,20.22,4.63,6.59,-14.29,-25.0,9.8,-1.27,4.8,4.21,9.81,2.68,0.0,7.31,20.0,2.98,85.06,15.75,-0.32,7.26,5.24,12.479999999999999,0.0,-2.46,0.0,3.2800000000000002,2.03,-24.82,2.1399999999999997,-9.520000000000001,5.2299999999999995,0.0,0.0,8.38,2.42,3.85,4.4799999999999995,14.46,-16.76,0.91,0.24,2.52,11.129999999999999,2.7,12.97,0.74,29.17,-19.919999999999998,65.62,-2.16,4278.57,0.0,1.8800000000000001,0.0,0.0,8.540000000000001,15.870000000000001,4.26,1.8599999999999999,11.37,-4.17,0.0,0.4,0.0,0.48,0.0,11.41,0.0,0.0,11.67,-4.71,-4.64,0.0,16.27,0.0,54.37,-0.77,5.1499999999999995,4.36,4.45,2.36,16.669999999999998,-1.9300000000000002,13.41,-4.41,-0.12,5.06,11.459999999999999,2.79,2.8000000000000003,7.430000000000001,0.0,1.7999999999999998,2.94,1.66,16.99,9.67,-1.18,16.31,4.79,-0.73,0.0,26.25,0.18,2.45,3.2099999999999995,9.76,-0.44,12.870000000000001,19.05,-0.7100000000000001],\"type\":\"choropleth\"}],\"name\":\"2021\"}]);\n",
       "                        }).then(function(){\n",
       "                            \n",
       "var gd = document.getElementById('50130961-d23e-46d4-8e9c-35c95a7eef75');\n",
       "var x = new MutationObserver(function (mutations, observer) {{\n",
       "        var display = window.getComputedStyle(gd).display;\n",
       "        if (!display || display === 'none') {{\n",
       "            console.log([gd, 'removed!']);\n",
       "            Plotly.purge(gd);\n",
       "            observer.disconnect();\n",
       "        }}\n",
       "}});\n",
       "\n",
       "// Listen for the removal of the full notebook cells\n",
       "var notebookContainer = gd.closest('#notebook-container');\n",
       "if (notebookContainer) {{\n",
       "    x.observe(notebookContainer, {childList: true});\n",
       "}}\n",
       "\n",
       "// Listen for the clearing of the current output cell\n",
       "var outputEl = gd.closest('.output');\n",
       "if (outputEl) {{\n",
       "    x.observe(outputEl, {childList: true});\n",
       "}}\n",
       "\n",
       "                        })                };                });            </script>        </div>"
      ]
     },
     "metadata": {},
     "output_type": "display_data"
    },
    {
     "data": {
      "application/vnd.plotly.v1+json": {
       "config": {
        "plotlyServerURL": "https://plot.ly"
       },
       "data": [
        {
         "coloraxis": "coloraxis",
         "geo": "geo",
         "hovertemplate": "Year=2018<br>Country=%{location}<br>Rate of Change (%) - Mobile=%{z}<extra></extra>",
         "locationmode": "country names",
         "locations": [
          "Algeria",
          "Angola",
          "Argentina",
          "Australia",
          "Austria",
          "Azerbaijan",
          "Bahrain",
          "Bangladesh",
          "Belgium",
          "Benin",
          "Botswana",
          "Brazil",
          "Bulgaria",
          "Burkina Faso",
          "Burundi",
          "Cambodia",
          "Cameroon",
          "Canada",
          "Chile",
          "China",
          "Colombia",
          "Costa Rica",
          "Côte d'Ivoire",
          "Croatia",
          "Cuba",
          "Czech Republic",
          "Denmark",
          "Dominican Republic",
          "Ecuador",
          "Egypt",
          "El Salvador",
          "Estonia",
          "Ethiopia",
          "Finland",
          "France",
          "Gabon",
          "Germany",
          "Ghana",
          "Greece",
          "Guatemala",
          "Guinea",
          "Honduras",
          "Hong Kong",
          "Hungary",
          "India",
          "Indonesia",
          "Iran",
          "Ireland",
          "Israel",
          "Italy",
          "Jamaica",
          "Japan",
          "Jordan",
          "Kazakhstan",
          "Kenya",
          "Kuwait",
          "Laos",
          "Latvia",
          "Lebanon",
          "Liberia",
          "Lithuania",
          "Madagascar",
          "Malawi",
          "Malaysia",
          "Mali",
          "Mexico",
          "Mongolia",
          "Morocco",
          "Mozambique",
          "Myanmar",
          "Namibia",
          "Nepal",
          "Netherlands",
          "New Zealand",
          "Nicaragua",
          "Niger",
          "Nigeria",
          "Oman",
          "Pakistan",
          "Panama",
          "Papua New Guinea",
          "Paraguay",
          "Peru",
          "Philippines",
          "Poland",
          "Portugal",
          "Qatar",
          "Romania",
          "Russia",
          "Rwanda",
          "Saudi Arabia",
          "Senegal",
          "Sierra Leone",
          "Singapore",
          "Slovakia",
          "South Africa",
          "South Korea",
          "Spain",
          "Sri Lanka",
          "Sudan",
          "Sweden",
          "Switzerland",
          "Taiwan",
          "Tanzania",
          "Thailand",
          "Trinidad & Tobago",
          "Tunisia",
          "Turkey",
          "UAE",
          "Uganda",
          "Ukraine",
          "United Kingdom",
          "United States",
          "Uruguay",
          "Uzbekistan",
          "Venezuela",
          "Vietnam",
          "Zambia",
          "Zimbabwe"
         ],
         "name": "",
         "type": "choropleth",
         "z": [
          6.619999999999999,
          -9.44,
          2.02,
          1.58,
          -18.360000000000003,
          -5.8500000000000005,
          14.38,
          2.3800000000000003,
          -2.39,
          -7.1499999999999995,
          -7.08,
          -6.11,
          -1.72,
          3.51,
          3.8600000000000003,
          -5.96,
          0.38999999999999996,
          2.3,
          -0.8500000000000001,
          5.12,
          1,
          9.4,
          5.3,
          0.58,
          19.32,
          0.09,
          -1.69,
          -2.1,
          5.510000000000001,
          1.77,
          2.71,
          -0.35000000000000003,
          17.62,
          -2.67,
          0.97,
          1.79,
          6.88,
          7.000000000000001,
          0.16999999999999998,
          -1.26,
          0.42,
          -4.3,
          4.34,
          0.69,
          11.39,
          12.35,
          6.98,
          -1.52,
          -1.66,
          -2.1399999999999997,
          3.5900000000000003,
          4.06,
          -30.959999999999997,
          -4.34,
          0.89,
          -3.1,
          4.52,
          3.47,
          -10.66,
          -16.77,
          1.96,
          -27.21,
          6.38,
          -2.81,
          -13.59,
          2.4899999999999998,
          7.720000000000001,
          -4.91,
          -27.52,
          22.62,
          2.45,
          15.6,
          0.08,
          7.829999999999999,
          5.3100000000000005,
          -19.869999999999997,
          -0.36,
          -1.6,
          6.18,
          -11.959999999999999,
          4.1000000000000005,
          -0.27,
          6.23,
          0.43,
          -2.7199999999999998,
          -0.8,
          -5.62,
          -0.26,
          0.5700000000000001,
          -0.65,
          -11.29,
          -1.27,
          8.62,
          1.7000000000000002,
          4.5600000000000005,
          -7.739999999999999,
          3.62,
          1.01,
          7.35,
          -2.79,
          -1.47,
          -0.96,
          -1.7500000000000002,
          -1.95,
          15.82,
          1.4200000000000002,
          -3.29,
          0.21,
          9.76,
          8.88,
          -6.2,
          -1,
          2.94,
          -1.32,
          5.11,
          -4.34,
          -0.77,
          0.8200000000000001,
          -0.54
         ]
        }
       ],
       "frames": [
        {
         "data": [
          {
           "coloraxis": "coloraxis",
           "geo": "geo",
           "hovertemplate": "Year=2018<br>Country=%{location}<br>Rate of Change (%) - Mobile=%{z}<extra></extra>",
           "locationmode": "country names",
           "locations": [
            "Algeria",
            "Angola",
            "Argentina",
            "Australia",
            "Austria",
            "Azerbaijan",
            "Bahrain",
            "Bangladesh",
            "Belgium",
            "Benin",
            "Botswana",
            "Brazil",
            "Bulgaria",
            "Burkina Faso",
            "Burundi",
            "Cambodia",
            "Cameroon",
            "Canada",
            "Chile",
            "China",
            "Colombia",
            "Costa Rica",
            "Côte d'Ivoire",
            "Croatia",
            "Cuba",
            "Czech Republic",
            "Denmark",
            "Dominican Republic",
            "Ecuador",
            "Egypt",
            "El Salvador",
            "Estonia",
            "Ethiopia",
            "Finland",
            "France",
            "Gabon",
            "Germany",
            "Ghana",
            "Greece",
            "Guatemala",
            "Guinea",
            "Honduras",
            "Hong Kong",
            "Hungary",
            "India",
            "Indonesia",
            "Iran",
            "Ireland",
            "Israel",
            "Italy",
            "Jamaica",
            "Japan",
            "Jordan",
            "Kazakhstan",
            "Kenya",
            "Kuwait",
            "Laos",
            "Latvia",
            "Lebanon",
            "Liberia",
            "Lithuania",
            "Madagascar",
            "Malawi",
            "Malaysia",
            "Mali",
            "Mexico",
            "Mongolia",
            "Morocco",
            "Mozambique",
            "Myanmar",
            "Namibia",
            "Nepal",
            "Netherlands",
            "New Zealand",
            "Nicaragua",
            "Niger",
            "Nigeria",
            "Oman",
            "Pakistan",
            "Panama",
            "Papua New Guinea",
            "Paraguay",
            "Peru",
            "Philippines",
            "Poland",
            "Portugal",
            "Qatar",
            "Romania",
            "Russia",
            "Rwanda",
            "Saudi Arabia",
            "Senegal",
            "Sierra Leone",
            "Singapore",
            "Slovakia",
            "South Africa",
            "South Korea",
            "Spain",
            "Sri Lanka",
            "Sudan",
            "Sweden",
            "Switzerland",
            "Taiwan",
            "Tanzania",
            "Thailand",
            "Trinidad & Tobago",
            "Tunisia",
            "Turkey",
            "UAE",
            "Uganda",
            "Ukraine",
            "United Kingdom",
            "United States",
            "Uruguay",
            "Uzbekistan",
            "Venezuela",
            "Vietnam",
            "Zambia",
            "Zimbabwe"
           ],
           "name": "",
           "type": "choropleth",
           "z": [
            6.619999999999999,
            -9.44,
            2.02,
            1.58,
            -18.360000000000003,
            -5.8500000000000005,
            14.38,
            2.3800000000000003,
            -2.39,
            -7.1499999999999995,
            -7.08,
            -6.11,
            -1.72,
            3.51,
            3.8600000000000003,
            -5.96,
            0.38999999999999996,
            2.3,
            -0.8500000000000001,
            5.12,
            1,
            9.4,
            5.3,
            0.58,
            19.32,
            0.09,
            -1.69,
            -2.1,
            5.510000000000001,
            1.77,
            2.71,
            -0.35000000000000003,
            17.62,
            -2.67,
            0.97,
            1.79,
            6.88,
            7.000000000000001,
            0.16999999999999998,
            -1.26,
            0.42,
            -4.3,
            4.34,
            0.69,
            11.39,
            12.35,
            6.98,
            -1.52,
            -1.66,
            -2.1399999999999997,
            3.5900000000000003,
            4.06,
            -30.959999999999997,
            -4.34,
            0.89,
            -3.1,
            4.52,
            3.47,
            -10.66,
            -16.77,
            1.96,
            -27.21,
            6.38,
            -2.81,
            -13.59,
            2.4899999999999998,
            7.720000000000001,
            -4.91,
            -27.52,
            22.62,
            2.45,
            15.6,
            0.08,
            7.829999999999999,
            5.3100000000000005,
            -19.869999999999997,
            -0.36,
            -1.6,
            6.18,
            -11.959999999999999,
            4.1000000000000005,
            -0.27,
            6.23,
            0.43,
            -2.7199999999999998,
            -0.8,
            -5.62,
            -0.26,
            0.5700000000000001,
            -0.65,
            -11.29,
            -1.27,
            8.62,
            1.7000000000000002,
            4.5600000000000005,
            -7.739999999999999,
            3.62,
            1.01,
            7.35,
            -2.79,
            -1.47,
            -0.96,
            -1.7500000000000002,
            -1.95,
            15.82,
            1.4200000000000002,
            -3.29,
            0.21,
            9.76,
            8.88,
            -6.2,
            -1,
            2.94,
            -1.32,
            5.11,
            -4.34,
            -0.77,
            0.8200000000000001,
            -0.54
           ]
          }
         ],
         "name": "2018"
        },
        {
         "data": [
          {
           "coloraxis": "coloraxis",
           "geo": "geo",
           "hovertemplate": "Year=2019<br>Country=%{location}<br>Rate of Change (%) - Mobile=%{z}<extra></extra>",
           "locationmode": "country names",
           "locations": [
            "Algeria",
            "Angola",
            "Argentina",
            "Australia",
            "Austria",
            "Azerbaijan",
            "Bahrain",
            "Bangladesh",
            "Belgium",
            "Benin",
            "Botswana",
            "Brazil",
            "Bulgaria",
            "Burkina Faso",
            "Burundi",
            "Cambodia",
            "Cameroon",
            "Canada",
            "Chile",
            "China",
            "Colombia",
            "Costa Rica",
            "Côte d'Ivoire",
            "Croatia",
            "Cuba",
            "Czech Republic",
            "Denmark",
            "Dominican Republic",
            "Ecuador",
            "Egypt",
            "El Salvador",
            "Estonia",
            "Ethiopia",
            "Finland",
            "France",
            "Gabon",
            "Germany",
            "Ghana",
            "Greece",
            "Guatemala",
            "Guinea",
            "Honduras",
            "Hong Kong",
            "Hungary",
            "India",
            "Indonesia",
            "Iran",
            "Ireland",
            "Israel",
            "Italy",
            "Jamaica",
            "Japan",
            "Jordan",
            "Kazakhstan",
            "Kenya",
            "Kuwait",
            "Laos",
            "Latvia",
            "Lebanon",
            "Liberia",
            "Lithuania",
            "Madagascar",
            "Malawi",
            "Malaysia",
            "Mali",
            "Mexico",
            "Mongolia",
            "Morocco",
            "Mozambique",
            "Myanmar",
            "Namibia",
            "Nepal",
            "Netherlands",
            "New Zealand",
            "Nicaragua",
            "Niger",
            "Nigeria",
            "Oman",
            "Pakistan",
            "Panama",
            "Papua New Guinea",
            "Paraguay",
            "Peru",
            "Philippines",
            "Poland",
            "Portugal",
            "Qatar",
            "Romania",
            "Russia",
            "Rwanda",
            "Saudi Arabia",
            "Senegal",
            "Sierra Leone",
            "Singapore",
            "Slovakia",
            "South Africa",
            "South Korea",
            "Spain",
            "Sri Lanka",
            "Sudan",
            "Sweden",
            "Switzerland",
            "Taiwan",
            "Tanzania",
            "Thailand",
            "Trinidad & Tobago",
            "Tunisia",
            "Turkey",
            "UAE",
            "Uganda",
            "Ukraine",
            "United Kingdom",
            "United States",
            "Uruguay",
            "Uzbekistan",
            "Venezuela",
            "Vietnam",
            "Zambia",
            "Zimbabwe"
           ],
           "name": "",
           "type": "choropleth",
           "z": [
            -4.4799999999999995,
            -0.89,
            -3.82,
            -0.91,
            -2.8400000000000003,
            -1.72,
            -24.62,
            9.76,
            -9.950000000000001,
            -4.03,
            -3.4799999999999995,
            -10.05,
            -4.3,
            13.200000000000001,
            7.049999999999999,
            -8.16,
            4.859999999999999,
            2.13,
            -2.6599999999999997,
            7.1499999999999995,
            4.43,
            5.06,
            12.76,
            -1.6199999999999999,
            15.620000000000001,
            1.02,
            1.8800000000000001,
            -0.48,
            3.6799999999999997,
            3.19,
            -2.11,
            0.06999999999999999,
            -24.7,
            -1.0699999999999998,
            1.82,
            -12.540000000000001,
            5.4,
            -6.17,
            3.64,
            7.359999999999999,
            2.54,
            3.3099999999999996,
            3.71,
            0.2,
            2.59,
            11.53,
            6.619999999999999,
            -0.67,
            -1.8399999999999999,
            -2.4699999999999998,
            -5.87,
            3.75,
            -3.5000000000000004,
            3.0700000000000003,
            7.3,
            -9.09,
            -7.61,
            -5.89,
            1.26,
            -16.76,
            5.36,
            6.23,
            5.52,
            -3.88,
            5.779999999999999,
            1.0999999999999999,
            13.25,
            4.3999999999999995,
            -23.150000000000002,
            -5.87,
            -1.06,
            10.870000000000001,
            -1.95,
            3.9699999999999998,
            4.2299999999999995,
            13.089999999999998,
            -8.55,
            -2.94,
            3.73,
            0.9400000000000001,
            4.16,
            -1.54,
            3.6900000000000004,
            -1.55,
            -4.66,
            1.96,
            6.4,
            -1.47,
            -0.95,
            -3.7900000000000005,
            -17.740000000000002,
            0.89,
            3.27,
            -1.94,
            1.79,
            5.87,
            3.66,
            1.9,
            8.799999999999999,
            0.5700000000000001,
            -0.86,
            -2.31,
            -1.78,
            -3.18,
            1.21,
            -6.68,
            -0.7100000000000001,
            2.02,
            -1.69,
            5.21,
            -1.35,
            -0.5,
            0.33,
            -0.74,
            2.5700000000000003,
            -9.950000000000001,
            -1.48,
            8.58,
            7.84
           ]
          }
         ],
         "name": "2019"
        },
        {
         "data": [
          {
           "coloraxis": "coloraxis",
           "geo": "geo",
           "hovertemplate": "Year=2020<br>Country=%{location}<br>Rate of Change (%) - Mobile=%{z}<extra></extra>",
           "locationmode": "country names",
           "locations": [
            "Algeria",
            "Angola",
            "Argentina",
            "Australia",
            "Austria",
            "Azerbaijan",
            "Bahrain",
            "Bangladesh",
            "Belgium",
            "Benin",
            "Botswana",
            "Brazil",
            "Bulgaria",
            "Burkina Faso",
            "Burundi",
            "Cambodia",
            "Cameroon",
            "Canada",
            "Chile",
            "China",
            "Colombia",
            "Costa Rica",
            "Côte d'Ivoire",
            "Croatia",
            "Cuba",
            "Czech Republic",
            "Denmark",
            "Dominican Republic",
            "Ecuador",
            "Egypt",
            "El Salvador",
            "Estonia",
            "Ethiopia",
            "Finland",
            "France",
            "Gabon",
            "Germany",
            "Ghana",
            "Greece",
            "Guatemala",
            "Guinea",
            "Honduras",
            "Hong Kong",
            "Hungary",
            "India",
            "Indonesia",
            "Iran",
            "Ireland",
            "Israel",
            "Italy",
            "Jamaica",
            "Japan",
            "Jordan",
            "Kazakhstan",
            "Kenya",
            "Kuwait",
            "Laos",
            "Latvia",
            "Lebanon",
            "Liberia",
            "Lithuania",
            "Madagascar",
            "Malawi",
            "Malaysia",
            "Mali",
            "Mexico",
            "Mongolia",
            "Morocco",
            "Mozambique",
            "Myanmar",
            "Namibia",
            "Nepal",
            "Netherlands",
            "New Zealand",
            "Nicaragua",
            "Niger",
            "Nigeria",
            "Oman",
            "Pakistan",
            "Panama",
            "Papua New Guinea",
            "Paraguay",
            "Peru",
            "Philippines",
            "Poland",
            "Portugal",
            "Qatar",
            "Romania",
            "Russia",
            "Rwanda",
            "Saudi Arabia",
            "Senegal",
            "Sierra Leone",
            "Singapore",
            "Slovakia",
            "South Africa",
            "South Korea",
            "Spain",
            "Sri Lanka",
            "Sudan",
            "Sweden",
            "Switzerland",
            "Taiwan",
            "Tanzania",
            "Thailand",
            "Trinidad & Tobago",
            "Tunisia",
            "Turkey",
            "UAE",
            "Uganda",
            "Ukraine",
            "United Kingdom",
            "United States",
            "Uruguay",
            "Uzbekistan",
            "Venezuela",
            "Vietnam",
            "Zambia",
            "Zimbabwe"
           ],
           "name": "",
           "type": "choropleth",
           "z": [
            0.8099999999999999,
            -3.58,
            -6.25,
            2.4,
            0.32,
            0.97,
            -15.790000000000001,
            6.03,
            0.2,
            4.97,
            2.04,
            -6.1,
            -1,
            4.71,
            3.29,
            3.02,
            -10.73,
            3.82,
            7.870000000000001,
            11.700000000000001,
            2.12,
            -4.87,
            3.85,
            2.33,
            16.46,
            0.25,
            0.72,
            0.84,
            5.7299999999999995,
            -10.77,
            -1.01,
            0.76,
            0,
            -0.31,
            1.8800000000000001,
            7.21,
            -2.56,
            8.95,
            -5.47,
            0.42,
            -0.21,
            -9.28,
            7.19,
            1.17,
            -0.45999999999999996,
            -27.43,
            0.5599999999999999,
            0.1,
            -0.16,
            -0.51,
            -4.54,
            4.35,
            -11.690000000000001,
            -3.5900000000000003,
            12.9,
            -2.5,
            -2.81,
            -15.040000000000001,
            0,
            0,
            6.909999999999999,
            19.06,
            -11.360000000000001,
            -1.18,
            -3.2800000000000002,
            3.93,
            6.7299999999999995,
            0.65,
            14.940000000000001,
            26.729999999999997,
            0.9900000000000001,
            6.74,
            2.5700000000000003,
            -0.88,
            -10.15,
            0,
            16.21,
            -5.91,
            4.46,
            6.529999999999999,
            0,
            -1.6500000000000001,
            6.460000000000001,
            10.6,
            -4.29,
            1.1400000000000001,
            -3.0700000000000003,
            1.7500000000000002,
            0.77,
            7.199999999999999,
            0.91,
            2.25,
            -6.1,
            1.3599999999999999,
            1.6099999999999999,
            3.0300000000000002,
            4.09,
            3.02,
            6.890000000000001,
            2.56,
            0.16,
            -3.51,
            1.73,
            5.609999999999999,
            2.62,
            -3.27,
            1.83,
            1.46,
            -0.24,
            -5.45,
            -2.74,
            -0.08,
            4.88,
            1.08,
            -5.800000000000001,
            -13.81,
            16,
            11.92,
            -9.700000000000001
           ]
          }
         ],
         "name": "2020"
        },
        {
         "data": [
          {
           "coloraxis": "coloraxis",
           "geo": "geo",
           "hovertemplate": "Year=2021<br>Country=%{location}<br>Rate of Change (%) - Mobile=%{z}<extra></extra>",
           "locationmode": "country names",
           "locations": [
            "Algeria",
            "Angola",
            "Argentina",
            "Australia",
            "Austria",
            "Azerbaijan",
            "Bahrain",
            "Bangladesh",
            "Belgium",
            "Benin",
            "Botswana",
            "Brazil",
            "Bulgaria",
            "Burkina Faso",
            "Burundi",
            "Cambodia",
            "Cameroon",
            "Canada",
            "Chile",
            "China",
            "Colombia",
            "Congo (DRC)",
            "Costa Rica",
            "Côte d'Ivoire",
            "Croatia",
            "Cuba",
            "Czech Republic",
            "Denmark",
            "Dominican Republic",
            "Ecuador",
            "Egypt",
            "El Salvador",
            "Estonia",
            "Ethiopia",
            "Finland",
            "France",
            "Gabon",
            "Germany",
            "Ghana",
            "Greece",
            "Guatemala",
            "Guinea",
            "Honduras",
            "Hong Kong",
            "Hungary",
            "India",
            "Indonesia",
            "Iran",
            "Ireland",
            "Israel",
            "Italy",
            "Jamaica",
            "Japan",
            "Jordan",
            "Kazakhstan",
            "Kenya",
            "Kuwait",
            "Laos",
            "Latvia",
            "Lebanon",
            "Liberia",
            "Lithuania",
            "Madagascar",
            "Malawi",
            "Malaysia",
            "Mali",
            "Mexico",
            "Mongolia",
            "Morocco",
            "Mozambique",
            "Myanmar",
            "Namibia",
            "Nepal",
            "Netherlands",
            "New Zealand",
            "Nicaragua",
            "Niger",
            "Nigeria",
            "Oman",
            "Pakistan",
            "Panama",
            "Papua New Guinea",
            "Paraguay",
            "Peru",
            "Philippines",
            "Poland",
            "Portugal",
            "Qatar",
            "Romania",
            "Russia",
            "Rwanda",
            "Saudi Arabia",
            "Senegal",
            "Sierra Leone",
            "Singapore",
            "Slovakia",
            "South Africa",
            "South Korea",
            "Spain",
            "Sri Lanka",
            "Sudan",
            "Sweden",
            "Switzerland",
            "Taiwan",
            "Tanzania",
            "Thailand",
            "Trinidad & Tobago",
            "Tunisia",
            "Turkey",
            "UAE",
            "Uganda",
            "Ukraine",
            "United Kingdom",
            "United States",
            "Uruguay",
            "Uzbekistan",
            "Venezuela",
            "Vietnam",
            "Zambia",
            "Zimbabwe"
           ],
           "name": "",
           "type": "choropleth",
           "z": [
            -2.06,
            8.12,
            -4.77,
            -0.36,
            -3,
            2.98,
            -13.13,
            1.3,
            0,
            6.43,
            8.4,
            -4.3,
            -2.27,
            2.35,
            0.18,
            8.7,
            12.98,
            2.5700000000000003,
            -1.6400000000000001,
            5.45,
            1.39,
            -1.38,
            -0.29,
            7.71,
            0.95,
            12.45,
            2.94,
            0,
            -0.95,
            -1.1900000000000002,
            -0.31,
            0,
            1.24,
            0,
            -0.22999999999999998,
            2.03,
            -0.36,
            -0.7000000000000001,
            -2.33,
            -1.9900000000000002,
            0,
            4.130000000000001,
            -2.02,
            6.890000000000001,
            2.6100000000000003,
            -2.9899999999999998,
            5.7,
            31.240000000000002,
            2.42,
            7.5200000000000005,
            -4.51,
            1.58,
            3.9600000000000004,
            -12.1,
            -2.6,
            7.79,
            1.52,
            17.150000000000002,
            1.3,
            -4.19,
            0,
            2.9899999999999998,
            0,
            22.56,
            3.7900000000000005,
            1.3,
            0.53,
            2.85,
            3.06,
            2.1,
            0,
            0.44,
            0,
            2.91,
            0,
            -23.200000000000003,
            0,
            4.2,
            -1.29,
            5.2299999999999995,
            -3.7199999999999998,
            0,
            2.9899999999999998,
            0,
            22.66,
            0.31,
            0.7799999999999999,
            -2.54,
            0.95,
            4.45,
            -3.04,
            -1.71,
            4.9799999999999995,
            3.61,
            4.569999999999999,
            2.11,
            3.56,
            3.6999999999999997,
            2.07,
            1.1199999999999999,
            7.08,
            1.5,
            -0.4,
            -0.4,
            6.4799999999999995,
            3.3300000000000005,
            9.3,
            -1.0999999999999999,
            -0.51,
            -3.7900000000000005,
            0.16999999999999998,
            2.19,
            1.27,
            4.26,
            -7.870000000000001,
            41.54,
            -34.12,
            -4.08,
            8.07,
            0.7799999999999999
           ]
          }
         ],
         "name": "2021"
        }
       ],
       "layout": {
        "coloraxis": {
         "cmax": 5,
         "cmin": -5,
         "colorbar": {
          "title": {
           "text": "Rate of Change (%) - Mobile"
          }
         },
         "colorscale": [
          [
           0,
           "rgb(165,0,38)"
          ],
          [
           0.1,
           "rgb(215,48,39)"
          ],
          [
           0.2,
           "rgb(244,109,67)"
          ],
          [
           0.3,
           "rgb(253,174,97)"
          ],
          [
           0.4,
           "rgb(254,224,139)"
          ],
          [
           0.5,
           "rgb(255,255,191)"
          ],
          [
           0.6,
           "rgb(217,239,139)"
          ],
          [
           0.7,
           "rgb(166,217,106)"
          ],
          [
           0.8,
           "rgb(102,189,99)"
          ],
          [
           0.9,
           "rgb(26,152,80)"
          ],
          [
           1,
           "rgb(0,104,55)"
          ]
         ]
        },
        "geo": {
         "center": {},
         "domain": {
          "x": [
           0,
           1
          ],
          "y": [
           0,
           1
          ]
         },
         "landcolor": "rgba(212,212,212,0.7)",
         "oceancolor": "rgba(0,255,255,0.7)",
         "projection": {
          "type": "natural earth"
         },
         "showcountries": true,
         "showframe": false,
         "showland": true,
         "showocean": true
        },
        "legend": {
         "tracegroupgap": 0
        },
        "sliders": [
         {
          "active": 0,
          "currentvalue": {
           "prefix": "Year="
          },
          "len": 0.9,
          "pad": {
           "b": 10,
           "t": 60
          },
          "steps": [
           {
            "args": [
             [
              "2018"
             ],
             {
              "frame": {
               "duration": 0,
               "redraw": true
              },
              "fromcurrent": true,
              "mode": "immediate",
              "transition": {
               "duration": 0,
               "easing": "linear"
              }
             }
            ],
            "label": "2018",
            "method": "animate"
           },
           {
            "args": [
             [
              "2019"
             ],
             {
              "frame": {
               "duration": 0,
               "redraw": true
              },
              "fromcurrent": true,
              "mode": "immediate",
              "transition": {
               "duration": 0,
               "easing": "linear"
              }
             }
            ],
            "label": "2019",
            "method": "animate"
           },
           {
            "args": [
             [
              "2020"
             ],
             {
              "frame": {
               "duration": 0,
               "redraw": true
              },
              "fromcurrent": true,
              "mode": "immediate",
              "transition": {
               "duration": 0,
               "easing": "linear"
              }
             }
            ],
            "label": "2020",
            "method": "animate"
           },
           {
            "args": [
             [
              "2021"
             ],
             {
              "frame": {
               "duration": 0,
               "redraw": true
              },
              "fromcurrent": true,
              "mode": "immediate",
              "transition": {
               "duration": 0,
               "easing": "linear"
              }
             }
            ],
            "label": "2021",
            "method": "animate"
           }
          ],
          "x": 0.1,
          "xanchor": "left",
          "y": 0,
          "yanchor": "top"
         }
        ],
        "template": {
         "data": {
          "bar": [
           {
            "error_x": {
             "color": "#2a3f5f"
            },
            "error_y": {
             "color": "#2a3f5f"
            },
            "marker": {
             "line": {
              "color": "#E5ECF6",
              "width": 0.5
             },
             "pattern": {
              "fillmode": "overlay",
              "size": 10,
              "solidity": 0.2
             }
            },
            "type": "bar"
           }
          ],
          "barpolar": [
           {
            "marker": {
             "line": {
              "color": "#E5ECF6",
              "width": 0.5
             },
             "pattern": {
              "fillmode": "overlay",
              "size": 10,
              "solidity": 0.2
             }
            },
            "type": "barpolar"
           }
          ],
          "carpet": [
           {
            "aaxis": {
             "endlinecolor": "#2a3f5f",
             "gridcolor": "white",
             "linecolor": "white",
             "minorgridcolor": "white",
             "startlinecolor": "#2a3f5f"
            },
            "baxis": {
             "endlinecolor": "#2a3f5f",
             "gridcolor": "white",
             "linecolor": "white",
             "minorgridcolor": "white",
             "startlinecolor": "#2a3f5f"
            },
            "type": "carpet"
           }
          ],
          "choropleth": [
           {
            "colorbar": {
             "outlinewidth": 0,
             "ticks": ""
            },
            "type": "choropleth"
           }
          ],
          "contour": [
           {
            "colorbar": {
             "outlinewidth": 0,
             "ticks": ""
            },
            "colorscale": [
             [
              0,
              "#0d0887"
             ],
             [
              0.1111111111111111,
              "#46039f"
             ],
             [
              0.2222222222222222,
              "#7201a8"
             ],
             [
              0.3333333333333333,
              "#9c179e"
             ],
             [
              0.4444444444444444,
              "#bd3786"
             ],
             [
              0.5555555555555556,
              "#d8576b"
             ],
             [
              0.6666666666666666,
              "#ed7953"
             ],
             [
              0.7777777777777778,
              "#fb9f3a"
             ],
             [
              0.8888888888888888,
              "#fdca26"
             ],
             [
              1,
              "#f0f921"
             ]
            ],
            "type": "contour"
           }
          ],
          "contourcarpet": [
           {
            "colorbar": {
             "outlinewidth": 0,
             "ticks": ""
            },
            "type": "contourcarpet"
           }
          ],
          "heatmap": [
           {
            "colorbar": {
             "outlinewidth": 0,
             "ticks": ""
            },
            "colorscale": [
             [
              0,
              "#0d0887"
             ],
             [
              0.1111111111111111,
              "#46039f"
             ],
             [
              0.2222222222222222,
              "#7201a8"
             ],
             [
              0.3333333333333333,
              "#9c179e"
             ],
             [
              0.4444444444444444,
              "#bd3786"
             ],
             [
              0.5555555555555556,
              "#d8576b"
             ],
             [
              0.6666666666666666,
              "#ed7953"
             ],
             [
              0.7777777777777778,
              "#fb9f3a"
             ],
             [
              0.8888888888888888,
              "#fdca26"
             ],
             [
              1,
              "#f0f921"
             ]
            ],
            "type": "heatmap"
           }
          ],
          "heatmapgl": [
           {
            "colorbar": {
             "outlinewidth": 0,
             "ticks": ""
            },
            "colorscale": [
             [
              0,
              "#0d0887"
             ],
             [
              0.1111111111111111,
              "#46039f"
             ],
             [
              0.2222222222222222,
              "#7201a8"
             ],
             [
              0.3333333333333333,
              "#9c179e"
             ],
             [
              0.4444444444444444,
              "#bd3786"
             ],
             [
              0.5555555555555556,
              "#d8576b"
             ],
             [
              0.6666666666666666,
              "#ed7953"
             ],
             [
              0.7777777777777778,
              "#fb9f3a"
             ],
             [
              0.8888888888888888,
              "#fdca26"
             ],
             [
              1,
              "#f0f921"
             ]
            ],
            "type": "heatmapgl"
           }
          ],
          "histogram": [
           {
            "marker": {
             "pattern": {
              "fillmode": "overlay",
              "size": 10,
              "solidity": 0.2
             }
            },
            "type": "histogram"
           }
          ],
          "histogram2d": [
           {
            "colorbar": {
             "outlinewidth": 0,
             "ticks": ""
            },
            "colorscale": [
             [
              0,
              "#0d0887"
             ],
             [
              0.1111111111111111,
              "#46039f"
             ],
             [
              0.2222222222222222,
              "#7201a8"
             ],
             [
              0.3333333333333333,
              "#9c179e"
             ],
             [
              0.4444444444444444,
              "#bd3786"
             ],
             [
              0.5555555555555556,
              "#d8576b"
             ],
             [
              0.6666666666666666,
              "#ed7953"
             ],
             [
              0.7777777777777778,
              "#fb9f3a"
             ],
             [
              0.8888888888888888,
              "#fdca26"
             ],
             [
              1,
              "#f0f921"
             ]
            ],
            "type": "histogram2d"
           }
          ],
          "histogram2dcontour": [
           {
            "colorbar": {
             "outlinewidth": 0,
             "ticks": ""
            },
            "colorscale": [
             [
              0,
              "#0d0887"
             ],
             [
              0.1111111111111111,
              "#46039f"
             ],
             [
              0.2222222222222222,
              "#7201a8"
             ],
             [
              0.3333333333333333,
              "#9c179e"
             ],
             [
              0.4444444444444444,
              "#bd3786"
             ],
             [
              0.5555555555555556,
              "#d8576b"
             ],
             [
              0.6666666666666666,
              "#ed7953"
             ],
             [
              0.7777777777777778,
              "#fb9f3a"
             ],
             [
              0.8888888888888888,
              "#fdca26"
             ],
             [
              1,
              "#f0f921"
             ]
            ],
            "type": "histogram2dcontour"
           }
          ],
          "mesh3d": [
           {
            "colorbar": {
             "outlinewidth": 0,
             "ticks": ""
            },
            "type": "mesh3d"
           }
          ],
          "parcoords": [
           {
            "line": {
             "colorbar": {
              "outlinewidth": 0,
              "ticks": ""
             }
            },
            "type": "parcoords"
           }
          ],
          "pie": [
           {
            "automargin": true,
            "type": "pie"
           }
          ],
          "scatter": [
           {
            "fillpattern": {
             "fillmode": "overlay",
             "size": 10,
             "solidity": 0.2
            },
            "type": "scatter"
           }
          ],
          "scatter3d": [
           {
            "line": {
             "colorbar": {
              "outlinewidth": 0,
              "ticks": ""
             }
            },
            "marker": {
             "colorbar": {
              "outlinewidth": 0,
              "ticks": ""
             }
            },
            "type": "scatter3d"
           }
          ],
          "scattercarpet": [
           {
            "marker": {
             "colorbar": {
              "outlinewidth": 0,
              "ticks": ""
             }
            },
            "type": "scattercarpet"
           }
          ],
          "scattergeo": [
           {
            "marker": {
             "colorbar": {
              "outlinewidth": 0,
              "ticks": ""
             }
            },
            "type": "scattergeo"
           }
          ],
          "scattergl": [
           {
            "marker": {
             "colorbar": {
              "outlinewidth": 0,
              "ticks": ""
             }
            },
            "type": "scattergl"
           }
          ],
          "scattermapbox": [
           {
            "marker": {
             "colorbar": {
              "outlinewidth": 0,
              "ticks": ""
             }
            },
            "type": "scattermapbox"
           }
          ],
          "scatterpolar": [
           {
            "marker": {
             "colorbar": {
              "outlinewidth": 0,
              "ticks": ""
             }
            },
            "type": "scatterpolar"
           }
          ],
          "scatterpolargl": [
           {
            "marker": {
             "colorbar": {
              "outlinewidth": 0,
              "ticks": ""
             }
            },
            "type": "scatterpolargl"
           }
          ],
          "scatterternary": [
           {
            "marker": {
             "colorbar": {
              "outlinewidth": 0,
              "ticks": ""
             }
            },
            "type": "scatterternary"
           }
          ],
          "surface": [
           {
            "colorbar": {
             "outlinewidth": 0,
             "ticks": ""
            },
            "colorscale": [
             [
              0,
              "#0d0887"
             ],
             [
              0.1111111111111111,
              "#46039f"
             ],
             [
              0.2222222222222222,
              "#7201a8"
             ],
             [
              0.3333333333333333,
              "#9c179e"
             ],
             [
              0.4444444444444444,
              "#bd3786"
             ],
             [
              0.5555555555555556,
              "#d8576b"
             ],
             [
              0.6666666666666666,
              "#ed7953"
             ],
             [
              0.7777777777777778,
              "#fb9f3a"
             ],
             [
              0.8888888888888888,
              "#fdca26"
             ],
             [
              1,
              "#f0f921"
             ]
            ],
            "type": "surface"
           }
          ],
          "table": [
           {
            "cells": {
             "fill": {
              "color": "#EBF0F8"
             },
             "line": {
              "color": "white"
             }
            },
            "header": {
             "fill": {
              "color": "#C8D4E3"
             },
             "line": {
              "color": "white"
             }
            },
            "type": "table"
           }
          ]
         },
         "layout": {
          "annotationdefaults": {
           "arrowcolor": "#2a3f5f",
           "arrowhead": 0,
           "arrowwidth": 1
          },
          "autotypenumbers": "strict",
          "coloraxis": {
           "colorbar": {
            "outlinewidth": 0,
            "ticks": ""
           }
          },
          "colorscale": {
           "diverging": [
            [
             0,
             "#8e0152"
            ],
            [
             0.1,
             "#c51b7d"
            ],
            [
             0.2,
             "#de77ae"
            ],
            [
             0.3,
             "#f1b6da"
            ],
            [
             0.4,
             "#fde0ef"
            ],
            [
             0.5,
             "#f7f7f7"
            ],
            [
             0.6,
             "#e6f5d0"
            ],
            [
             0.7,
             "#b8e186"
            ],
            [
             0.8,
             "#7fbc41"
            ],
            [
             0.9,
             "#4d9221"
            ],
            [
             1,
             "#276419"
            ]
           ],
           "sequential": [
            [
             0,
             "#0d0887"
            ],
            [
             0.1111111111111111,
             "#46039f"
            ],
            [
             0.2222222222222222,
             "#7201a8"
            ],
            [
             0.3333333333333333,
             "#9c179e"
            ],
            [
             0.4444444444444444,
             "#bd3786"
            ],
            [
             0.5555555555555556,
             "#d8576b"
            ],
            [
             0.6666666666666666,
             "#ed7953"
            ],
            [
             0.7777777777777778,
             "#fb9f3a"
            ],
            [
             0.8888888888888888,
             "#fdca26"
            ],
            [
             1,
             "#f0f921"
            ]
           ],
           "sequentialminus": [
            [
             0,
             "#0d0887"
            ],
            [
             0.1111111111111111,
             "#46039f"
            ],
            [
             0.2222222222222222,
             "#7201a8"
            ],
            [
             0.3333333333333333,
             "#9c179e"
            ],
            [
             0.4444444444444444,
             "#bd3786"
            ],
            [
             0.5555555555555556,
             "#d8576b"
            ],
            [
             0.6666666666666666,
             "#ed7953"
            ],
            [
             0.7777777777777778,
             "#fb9f3a"
            ],
            [
             0.8888888888888888,
             "#fdca26"
            ],
            [
             1,
             "#f0f921"
            ]
           ]
          },
          "colorway": [
           "#636efa",
           "#EF553B",
           "#00cc96",
           "#ab63fa",
           "#FFA15A",
           "#19d3f3",
           "#FF6692",
           "#B6E880",
           "#FF97FF",
           "#FECB52"
          ],
          "font": {
           "color": "#2a3f5f"
          },
          "geo": {
           "bgcolor": "white",
           "lakecolor": "white",
           "landcolor": "#E5ECF6",
           "showlakes": true,
           "showland": true,
           "subunitcolor": "white"
          },
          "hoverlabel": {
           "align": "left"
          },
          "hovermode": "closest",
          "mapbox": {
           "style": "light"
          },
          "paper_bgcolor": "white",
          "plot_bgcolor": "#E5ECF6",
          "polar": {
           "angularaxis": {
            "gridcolor": "white",
            "linecolor": "white",
            "ticks": ""
           },
           "bgcolor": "#E5ECF6",
           "radialaxis": {
            "gridcolor": "white",
            "linecolor": "white",
            "ticks": ""
           }
          },
          "scene": {
           "xaxis": {
            "backgroundcolor": "#E5ECF6",
            "gridcolor": "white",
            "gridwidth": 2,
            "linecolor": "white",
            "showbackground": true,
            "ticks": "",
            "zerolinecolor": "white"
           },
           "yaxis": {
            "backgroundcolor": "#E5ECF6",
            "gridcolor": "white",
            "gridwidth": 2,
            "linecolor": "white",
            "showbackground": true,
            "ticks": "",
            "zerolinecolor": "white"
           },
           "zaxis": {
            "backgroundcolor": "#E5ECF6",
            "gridcolor": "white",
            "gridwidth": 2,
            "linecolor": "white",
            "showbackground": true,
            "ticks": "",
            "zerolinecolor": "white"
           }
          },
          "shapedefaults": {
           "line": {
            "color": "#2a3f5f"
           }
          },
          "ternary": {
           "aaxis": {
            "gridcolor": "white",
            "linecolor": "white",
            "ticks": ""
           },
           "baxis": {
            "gridcolor": "white",
            "linecolor": "white",
            "ticks": ""
           },
           "bgcolor": "#E5ECF6",
           "caxis": {
            "gridcolor": "white",
            "linecolor": "white",
            "ticks": ""
           }
          },
          "title": {
           "x": 0.05
          },
          "xaxis": {
           "automargin": true,
           "gridcolor": "white",
           "linecolor": "white",
           "ticks": "",
           "title": {
            "standoff": 15
           },
           "zerolinecolor": "white",
           "zerolinewidth": 2
          },
          "yaxis": {
           "automargin": true,
           "gridcolor": "white",
           "linecolor": "white",
           "ticks": "",
           "title": {
            "standoff": 15
           },
           "zerolinecolor": "white",
           "zerolinewidth": 2
          }
         }
        },
        "title": {
         "text": "Rate of Change (%) - Mobile"
        },
        "updatemenus": [
         {
          "buttons": [
           {
            "args": [
             null,
             {
              "frame": {
               "duration": 500,
               "redraw": true
              },
              "fromcurrent": true,
              "mode": "immediate",
              "transition": {
               "duration": 500,
               "easing": "linear"
              }
             }
            ],
            "label": "&#9654;",
            "method": "animate"
           },
           {
            "args": [
             [
              null
             ],
             {
              "frame": {
               "duration": 0,
               "redraw": true
              },
              "fromcurrent": true,
              "mode": "immediate",
              "transition": {
               "duration": 0,
               "easing": "linear"
              }
             }
            ],
            "label": "&#9724;",
            "method": "animate"
           }
          ],
          "direction": "left",
          "pad": {
           "r": 10,
           "t": 70
          },
          "showactive": false,
          "type": "buttons",
          "x": 0.1,
          "xanchor": "right",
          "y": 0,
          "yanchor": "top"
         }
        ]
       }
      },
      "text/html": [
       "<div>                            <div id=\"aa92fb88-0b40-4810-b019-9279ca165601\" class=\"plotly-graph-div\" style=\"height:525px; width:100%;\"></div>            <script type=\"text/javascript\">                require([\"plotly\"], function(Plotly) {                    window.PLOTLYENV=window.PLOTLYENV || {};                                    if (document.getElementById(\"aa92fb88-0b40-4810-b019-9279ca165601\")) {                    Plotly.newPlot(                        \"aa92fb88-0b40-4810-b019-9279ca165601\",                        [{\"coloraxis\":\"coloraxis\",\"geo\":\"geo\",\"hovertemplate\":\"Year=2018<br>Country=%{location}<br>Rate of Change (%) - Mobile=%{z}<extra></extra>\",\"locationmode\":\"country names\",\"locations\":[\"Algeria\",\"Angola\",\"Argentina\",\"Australia\",\"Austria\",\"Azerbaijan\",\"Bahrain\",\"Bangladesh\",\"Belgium\",\"Benin\",\"Botswana\",\"Brazil\",\"Bulgaria\",\"Burkina Faso\",\"Burundi\",\"Cambodia\",\"Cameroon\",\"Canada\",\"Chile\",\"China\",\"Colombia\",\"Costa Rica\",\"C\\u00f4te d'Ivoire\",\"Croatia\",\"Cuba\",\"Czech Republic\",\"Denmark\",\"Dominican Republic\",\"Ecuador\",\"Egypt\",\"El Salvador\",\"Estonia\",\"Ethiopia\",\"Finland\",\"France\",\"Gabon\",\"Germany\",\"Ghana\",\"Greece\",\"Guatemala\",\"Guinea\",\"Honduras\",\"Hong Kong\",\"Hungary\",\"India\",\"Indonesia\",\"Iran\",\"Ireland\",\"Israel\",\"Italy\",\"Jamaica\",\"Japan\",\"Jordan\",\"Kazakhstan\",\"Kenya\",\"Kuwait\",\"Laos\",\"Latvia\",\"Lebanon\",\"Liberia\",\"Lithuania\",\"Madagascar\",\"Malawi\",\"Malaysia\",\"Mali\",\"Mexico\",\"Mongolia\",\"Morocco\",\"Mozambique\",\"Myanmar\",\"Namibia\",\"Nepal\",\"Netherlands\",\"New Zealand\",\"Nicaragua\",\"Niger\",\"Nigeria\",\"Oman\",\"Pakistan\",\"Panama\",\"Papua New Guinea\",\"Paraguay\",\"Peru\",\"Philippines\",\"Poland\",\"Portugal\",\"Qatar\",\"Romania\",\"Russia\",\"Rwanda\",\"Saudi Arabia\",\"Senegal\",\"Sierra Leone\",\"Singapore\",\"Slovakia\",\"South Africa\",\"South Korea\",\"Spain\",\"Sri Lanka\",\"Sudan\",\"Sweden\",\"Switzerland\",\"Taiwan\",\"Tanzania\",\"Thailand\",\"Trinidad & Tobago\",\"Tunisia\",\"Turkey\",\"UAE\",\"Uganda\",\"Ukraine\",\"United Kingdom\",\"United States\",\"Uruguay\",\"Uzbekistan\",\"Venezuela\",\"Vietnam\",\"Zambia\",\"Zimbabwe\"],\"name\":\"\",\"z\":[6.619999999999999,-9.44,2.02,1.58,-18.360000000000003,-5.8500000000000005,14.38,2.3800000000000003,-2.39,-7.1499999999999995,-7.08,-6.11,-1.72,3.51,3.8600000000000003,-5.96,0.38999999999999996,2.3,-0.8500000000000001,5.12,1.0,9.4,5.3,0.58,19.32,0.09,-1.69,-2.1,5.510000000000001,1.77,2.71,-0.35000000000000003,17.62,-2.67,0.97,1.79,6.88,7.000000000000001,0.16999999999999998,-1.26,0.42,-4.3,4.34,0.69,11.39,12.35,6.98,-1.52,-1.66,-2.1399999999999997,3.5900000000000003,4.06,-30.959999999999997,-4.34,0.89,-3.1,4.52,3.47,-10.66,-16.77,1.96,-27.21,6.38,-2.81,-13.59,2.4899999999999998,7.720000000000001,-4.91,-27.52,22.62,2.45,15.6,0.08,7.829999999999999,5.3100000000000005,-19.869999999999997,-0.36,-1.6,6.18,-11.959999999999999,4.1000000000000005,-0.27,6.23,0.43,-2.7199999999999998,-0.8,-5.62,-0.26,0.5700000000000001,-0.65,-11.29,-1.27,8.62,1.7000000000000002,4.5600000000000005,-7.739999999999999,3.62,1.01,7.35,-2.79,-1.47,-0.96,-1.7500000000000002,-1.95,15.82,1.4200000000000002,-3.29,0.21,9.76,8.88,-6.2,-1.0,2.94,-1.32,5.11,-4.34,-0.77,0.8200000000000001,-0.54],\"type\":\"choropleth\"}],                        {\"template\":{\"data\":{\"histogram2dcontour\":[{\"type\":\"histogram2dcontour\",\"colorbar\":{\"outlinewidth\":0,\"ticks\":\"\"},\"colorscale\":[[0.0,\"#0d0887\"],[0.1111111111111111,\"#46039f\"],[0.2222222222222222,\"#7201a8\"],[0.3333333333333333,\"#9c179e\"],[0.4444444444444444,\"#bd3786\"],[0.5555555555555556,\"#d8576b\"],[0.6666666666666666,\"#ed7953\"],[0.7777777777777778,\"#fb9f3a\"],[0.8888888888888888,\"#fdca26\"],[1.0,\"#f0f921\"]]}],\"choropleth\":[{\"type\":\"choropleth\",\"colorbar\":{\"outlinewidth\":0,\"ticks\":\"\"}}],\"histogram2d\":[{\"type\":\"histogram2d\",\"colorbar\":{\"outlinewidth\":0,\"ticks\":\"\"},\"colorscale\":[[0.0,\"#0d0887\"],[0.1111111111111111,\"#46039f\"],[0.2222222222222222,\"#7201a8\"],[0.3333333333333333,\"#9c179e\"],[0.4444444444444444,\"#bd3786\"],[0.5555555555555556,\"#d8576b\"],[0.6666666666666666,\"#ed7953\"],[0.7777777777777778,\"#fb9f3a\"],[0.8888888888888888,\"#fdca26\"],[1.0,\"#f0f921\"]]}],\"heatmap\":[{\"type\":\"heatmap\",\"colorbar\":{\"outlinewidth\":0,\"ticks\":\"\"},\"colorscale\":[[0.0,\"#0d0887\"],[0.1111111111111111,\"#46039f\"],[0.2222222222222222,\"#7201a8\"],[0.3333333333333333,\"#9c179e\"],[0.4444444444444444,\"#bd3786\"],[0.5555555555555556,\"#d8576b\"],[0.6666666666666666,\"#ed7953\"],[0.7777777777777778,\"#fb9f3a\"],[0.8888888888888888,\"#fdca26\"],[1.0,\"#f0f921\"]]}],\"heatmapgl\":[{\"type\":\"heatmapgl\",\"colorbar\":{\"outlinewidth\":0,\"ticks\":\"\"},\"colorscale\":[[0.0,\"#0d0887\"],[0.1111111111111111,\"#46039f\"],[0.2222222222222222,\"#7201a8\"],[0.3333333333333333,\"#9c179e\"],[0.4444444444444444,\"#bd3786\"],[0.5555555555555556,\"#d8576b\"],[0.6666666666666666,\"#ed7953\"],[0.7777777777777778,\"#fb9f3a\"],[0.8888888888888888,\"#fdca26\"],[1.0,\"#f0f921\"]]}],\"contourcarpet\":[{\"type\":\"contourcarpet\",\"colorbar\":{\"outlinewidth\":0,\"ticks\":\"\"}}],\"contour\":[{\"type\":\"contour\",\"colorbar\":{\"outlinewidth\":0,\"ticks\":\"\"},\"colorscale\":[[0.0,\"#0d0887\"],[0.1111111111111111,\"#46039f\"],[0.2222222222222222,\"#7201a8\"],[0.3333333333333333,\"#9c179e\"],[0.4444444444444444,\"#bd3786\"],[0.5555555555555556,\"#d8576b\"],[0.6666666666666666,\"#ed7953\"],[0.7777777777777778,\"#fb9f3a\"],[0.8888888888888888,\"#fdca26\"],[1.0,\"#f0f921\"]]}],\"surface\":[{\"type\":\"surface\",\"colorbar\":{\"outlinewidth\":0,\"ticks\":\"\"},\"colorscale\":[[0.0,\"#0d0887\"],[0.1111111111111111,\"#46039f\"],[0.2222222222222222,\"#7201a8\"],[0.3333333333333333,\"#9c179e\"],[0.4444444444444444,\"#bd3786\"],[0.5555555555555556,\"#d8576b\"],[0.6666666666666666,\"#ed7953\"],[0.7777777777777778,\"#fb9f3a\"],[0.8888888888888888,\"#fdca26\"],[1.0,\"#f0f921\"]]}],\"mesh3d\":[{\"type\":\"mesh3d\",\"colorbar\":{\"outlinewidth\":0,\"ticks\":\"\"}}],\"scatter\":[{\"fillpattern\":{\"fillmode\":\"overlay\",\"size\":10,\"solidity\":0.2},\"type\":\"scatter\"}],\"parcoords\":[{\"type\":\"parcoords\",\"line\":{\"colorbar\":{\"outlinewidth\":0,\"ticks\":\"\"}}}],\"scatterpolargl\":[{\"type\":\"scatterpolargl\",\"marker\":{\"colorbar\":{\"outlinewidth\":0,\"ticks\":\"\"}}}],\"bar\":[{\"error_x\":{\"color\":\"#2a3f5f\"},\"error_y\":{\"color\":\"#2a3f5f\"},\"marker\":{\"line\":{\"color\":\"#E5ECF6\",\"width\":0.5},\"pattern\":{\"fillmode\":\"overlay\",\"size\":10,\"solidity\":0.2}},\"type\":\"bar\"}],\"scattergeo\":[{\"type\":\"scattergeo\",\"marker\":{\"colorbar\":{\"outlinewidth\":0,\"ticks\":\"\"}}}],\"scatterpolar\":[{\"type\":\"scatterpolar\",\"marker\":{\"colorbar\":{\"outlinewidth\":0,\"ticks\":\"\"}}}],\"histogram\":[{\"marker\":{\"pattern\":{\"fillmode\":\"overlay\",\"size\":10,\"solidity\":0.2}},\"type\":\"histogram\"}],\"scattergl\":[{\"type\":\"scattergl\",\"marker\":{\"colorbar\":{\"outlinewidth\":0,\"ticks\":\"\"}}}],\"scatter3d\":[{\"type\":\"scatter3d\",\"line\":{\"colorbar\":{\"outlinewidth\":0,\"ticks\":\"\"}},\"marker\":{\"colorbar\":{\"outlinewidth\":0,\"ticks\":\"\"}}}],\"scattermapbox\":[{\"type\":\"scattermapbox\",\"marker\":{\"colorbar\":{\"outlinewidth\":0,\"ticks\":\"\"}}}],\"scatterternary\":[{\"type\":\"scatterternary\",\"marker\":{\"colorbar\":{\"outlinewidth\":0,\"ticks\":\"\"}}}],\"scattercarpet\":[{\"type\":\"scattercarpet\",\"marker\":{\"colorbar\":{\"outlinewidth\":0,\"ticks\":\"\"}}}],\"carpet\":[{\"aaxis\":{\"endlinecolor\":\"#2a3f5f\",\"gridcolor\":\"white\",\"linecolor\":\"white\",\"minorgridcolor\":\"white\",\"startlinecolor\":\"#2a3f5f\"},\"baxis\":{\"endlinecolor\":\"#2a3f5f\",\"gridcolor\":\"white\",\"linecolor\":\"white\",\"minorgridcolor\":\"white\",\"startlinecolor\":\"#2a3f5f\"},\"type\":\"carpet\"}],\"table\":[{\"cells\":{\"fill\":{\"color\":\"#EBF0F8\"},\"line\":{\"color\":\"white\"}},\"header\":{\"fill\":{\"color\":\"#C8D4E3\"},\"line\":{\"color\":\"white\"}},\"type\":\"table\"}],\"barpolar\":[{\"marker\":{\"line\":{\"color\":\"#E5ECF6\",\"width\":0.5},\"pattern\":{\"fillmode\":\"overlay\",\"size\":10,\"solidity\":0.2}},\"type\":\"barpolar\"}],\"pie\":[{\"automargin\":true,\"type\":\"pie\"}]},\"layout\":{\"autotypenumbers\":\"strict\",\"colorway\":[\"#636efa\",\"#EF553B\",\"#00cc96\",\"#ab63fa\",\"#FFA15A\",\"#19d3f3\",\"#FF6692\",\"#B6E880\",\"#FF97FF\",\"#FECB52\"],\"font\":{\"color\":\"#2a3f5f\"},\"hovermode\":\"closest\",\"hoverlabel\":{\"align\":\"left\"},\"paper_bgcolor\":\"white\",\"plot_bgcolor\":\"#E5ECF6\",\"polar\":{\"bgcolor\":\"#E5ECF6\",\"angularaxis\":{\"gridcolor\":\"white\",\"linecolor\":\"white\",\"ticks\":\"\"},\"radialaxis\":{\"gridcolor\":\"white\",\"linecolor\":\"white\",\"ticks\":\"\"}},\"ternary\":{\"bgcolor\":\"#E5ECF6\",\"aaxis\":{\"gridcolor\":\"white\",\"linecolor\":\"white\",\"ticks\":\"\"},\"baxis\":{\"gridcolor\":\"white\",\"linecolor\":\"white\",\"ticks\":\"\"},\"caxis\":{\"gridcolor\":\"white\",\"linecolor\":\"white\",\"ticks\":\"\"}},\"coloraxis\":{\"colorbar\":{\"outlinewidth\":0,\"ticks\":\"\"}},\"colorscale\":{\"sequential\":[[0.0,\"#0d0887\"],[0.1111111111111111,\"#46039f\"],[0.2222222222222222,\"#7201a8\"],[0.3333333333333333,\"#9c179e\"],[0.4444444444444444,\"#bd3786\"],[0.5555555555555556,\"#d8576b\"],[0.6666666666666666,\"#ed7953\"],[0.7777777777777778,\"#fb9f3a\"],[0.8888888888888888,\"#fdca26\"],[1.0,\"#f0f921\"]],\"sequentialminus\":[[0.0,\"#0d0887\"],[0.1111111111111111,\"#46039f\"],[0.2222222222222222,\"#7201a8\"],[0.3333333333333333,\"#9c179e\"],[0.4444444444444444,\"#bd3786\"],[0.5555555555555556,\"#d8576b\"],[0.6666666666666666,\"#ed7953\"],[0.7777777777777778,\"#fb9f3a\"],[0.8888888888888888,\"#fdca26\"],[1.0,\"#f0f921\"]],\"diverging\":[[0,\"#8e0152\"],[0.1,\"#c51b7d\"],[0.2,\"#de77ae\"],[0.3,\"#f1b6da\"],[0.4,\"#fde0ef\"],[0.5,\"#f7f7f7\"],[0.6,\"#e6f5d0\"],[0.7,\"#b8e186\"],[0.8,\"#7fbc41\"],[0.9,\"#4d9221\"],[1,\"#276419\"]]},\"xaxis\":{\"gridcolor\":\"white\",\"linecolor\":\"white\",\"ticks\":\"\",\"title\":{\"standoff\":15},\"zerolinecolor\":\"white\",\"automargin\":true,\"zerolinewidth\":2},\"yaxis\":{\"gridcolor\":\"white\",\"linecolor\":\"white\",\"ticks\":\"\",\"title\":{\"standoff\":15},\"zerolinecolor\":\"white\",\"automargin\":true,\"zerolinewidth\":2},\"scene\":{\"xaxis\":{\"backgroundcolor\":\"#E5ECF6\",\"gridcolor\":\"white\",\"linecolor\":\"white\",\"showbackground\":true,\"ticks\":\"\",\"zerolinecolor\":\"white\",\"gridwidth\":2},\"yaxis\":{\"backgroundcolor\":\"#E5ECF6\",\"gridcolor\":\"white\",\"linecolor\":\"white\",\"showbackground\":true,\"ticks\":\"\",\"zerolinecolor\":\"white\",\"gridwidth\":2},\"zaxis\":{\"backgroundcolor\":\"#E5ECF6\",\"gridcolor\":\"white\",\"linecolor\":\"white\",\"showbackground\":true,\"ticks\":\"\",\"zerolinecolor\":\"white\",\"gridwidth\":2}},\"shapedefaults\":{\"line\":{\"color\":\"#2a3f5f\"}},\"annotationdefaults\":{\"arrowcolor\":\"#2a3f5f\",\"arrowhead\":0,\"arrowwidth\":1},\"geo\":{\"bgcolor\":\"white\",\"landcolor\":\"#E5ECF6\",\"subunitcolor\":\"white\",\"showland\":true,\"showlakes\":true,\"lakecolor\":\"white\"},\"title\":{\"x\":0.05},\"mapbox\":{\"style\":\"light\"}}},\"geo\":{\"domain\":{\"x\":[0.0,1.0],\"y\":[0.0,1.0]},\"projection\":{\"type\":\"natural earth\"},\"center\":{},\"showocean\":true,\"oceancolor\":\"rgba(0,255,255,0.7)\",\"showland\":true,\"landcolor\":\"rgba(212,212,212,0.7)\",\"showcountries\":true,\"showframe\":false},\"coloraxis\":{\"colorbar\":{\"title\":{\"text\":\"Rate of Change (%) - Mobile\"}},\"colorscale\":[[0.0,\"rgb(165,0,38)\"],[0.1,\"rgb(215,48,39)\"],[0.2,\"rgb(244,109,67)\"],[0.3,\"rgb(253,174,97)\"],[0.4,\"rgb(254,224,139)\"],[0.5,\"rgb(255,255,191)\"],[0.6,\"rgb(217,239,139)\"],[0.7,\"rgb(166,217,106)\"],[0.8,\"rgb(102,189,99)\"],[0.9,\"rgb(26,152,80)\"],[1.0,\"rgb(0,104,55)\"]],\"cmin\":-5,\"cmax\":5},\"legend\":{\"tracegroupgap\":0},\"title\":{\"text\":\"Rate of Change (%) - Mobile\"},\"updatemenus\":[{\"buttons\":[{\"args\":[null,{\"frame\":{\"duration\":500,\"redraw\":true},\"mode\":\"immediate\",\"fromcurrent\":true,\"transition\":{\"duration\":500,\"easing\":\"linear\"}}],\"label\":\"&#9654;\",\"method\":\"animate\"},{\"args\":[[null],{\"frame\":{\"duration\":0,\"redraw\":true},\"mode\":\"immediate\",\"fromcurrent\":true,\"transition\":{\"duration\":0,\"easing\":\"linear\"}}],\"label\":\"&#9724;\",\"method\":\"animate\"}],\"direction\":\"left\",\"pad\":{\"r\":10,\"t\":70},\"showactive\":false,\"type\":\"buttons\",\"x\":0.1,\"xanchor\":\"right\",\"y\":0,\"yanchor\":\"top\"}],\"sliders\":[{\"active\":0,\"currentvalue\":{\"prefix\":\"Year=\"},\"len\":0.9,\"pad\":{\"b\":10,\"t\":60},\"steps\":[{\"args\":[[\"2018\"],{\"frame\":{\"duration\":0,\"redraw\":true},\"mode\":\"immediate\",\"fromcurrent\":true,\"transition\":{\"duration\":0,\"easing\":\"linear\"}}],\"label\":\"2018\",\"method\":\"animate\"},{\"args\":[[\"2019\"],{\"frame\":{\"duration\":0,\"redraw\":true},\"mode\":\"immediate\",\"fromcurrent\":true,\"transition\":{\"duration\":0,\"easing\":\"linear\"}}],\"label\":\"2019\",\"method\":\"animate\"},{\"args\":[[\"2020\"],{\"frame\":{\"duration\":0,\"redraw\":true},\"mode\":\"immediate\",\"fromcurrent\":true,\"transition\":{\"duration\":0,\"easing\":\"linear\"}}],\"label\":\"2020\",\"method\":\"animate\"},{\"args\":[[\"2021\"],{\"frame\":{\"duration\":0,\"redraw\":true},\"mode\":\"immediate\",\"fromcurrent\":true,\"transition\":{\"duration\":0,\"easing\":\"linear\"}}],\"label\":\"2021\",\"method\":\"animate\"}],\"x\":0.1,\"xanchor\":\"left\",\"y\":0,\"yanchor\":\"top\"}]},                        {\"responsive\": true}                    ).then(function(){\n",
       "                            Plotly.addFrames('aa92fb88-0b40-4810-b019-9279ca165601', [{\"data\":[{\"coloraxis\":\"coloraxis\",\"geo\":\"geo\",\"hovertemplate\":\"Year=2018<br>Country=%{location}<br>Rate of Change (%) - Mobile=%{z}<extra></extra>\",\"locationmode\":\"country names\",\"locations\":[\"Algeria\",\"Angola\",\"Argentina\",\"Australia\",\"Austria\",\"Azerbaijan\",\"Bahrain\",\"Bangladesh\",\"Belgium\",\"Benin\",\"Botswana\",\"Brazil\",\"Bulgaria\",\"Burkina Faso\",\"Burundi\",\"Cambodia\",\"Cameroon\",\"Canada\",\"Chile\",\"China\",\"Colombia\",\"Costa Rica\",\"C\\u00f4te d'Ivoire\",\"Croatia\",\"Cuba\",\"Czech Republic\",\"Denmark\",\"Dominican Republic\",\"Ecuador\",\"Egypt\",\"El Salvador\",\"Estonia\",\"Ethiopia\",\"Finland\",\"France\",\"Gabon\",\"Germany\",\"Ghana\",\"Greece\",\"Guatemala\",\"Guinea\",\"Honduras\",\"Hong Kong\",\"Hungary\",\"India\",\"Indonesia\",\"Iran\",\"Ireland\",\"Israel\",\"Italy\",\"Jamaica\",\"Japan\",\"Jordan\",\"Kazakhstan\",\"Kenya\",\"Kuwait\",\"Laos\",\"Latvia\",\"Lebanon\",\"Liberia\",\"Lithuania\",\"Madagascar\",\"Malawi\",\"Malaysia\",\"Mali\",\"Mexico\",\"Mongolia\",\"Morocco\",\"Mozambique\",\"Myanmar\",\"Namibia\",\"Nepal\",\"Netherlands\",\"New Zealand\",\"Nicaragua\",\"Niger\",\"Nigeria\",\"Oman\",\"Pakistan\",\"Panama\",\"Papua New Guinea\",\"Paraguay\",\"Peru\",\"Philippines\",\"Poland\",\"Portugal\",\"Qatar\",\"Romania\",\"Russia\",\"Rwanda\",\"Saudi Arabia\",\"Senegal\",\"Sierra Leone\",\"Singapore\",\"Slovakia\",\"South Africa\",\"South Korea\",\"Spain\",\"Sri Lanka\",\"Sudan\",\"Sweden\",\"Switzerland\",\"Taiwan\",\"Tanzania\",\"Thailand\",\"Trinidad & Tobago\",\"Tunisia\",\"Turkey\",\"UAE\",\"Uganda\",\"Ukraine\",\"United Kingdom\",\"United States\",\"Uruguay\",\"Uzbekistan\",\"Venezuela\",\"Vietnam\",\"Zambia\",\"Zimbabwe\"],\"name\":\"\",\"z\":[6.619999999999999,-9.44,2.02,1.58,-18.360000000000003,-5.8500000000000005,14.38,2.3800000000000003,-2.39,-7.1499999999999995,-7.08,-6.11,-1.72,3.51,3.8600000000000003,-5.96,0.38999999999999996,2.3,-0.8500000000000001,5.12,1.0,9.4,5.3,0.58,19.32,0.09,-1.69,-2.1,5.510000000000001,1.77,2.71,-0.35000000000000003,17.62,-2.67,0.97,1.79,6.88,7.000000000000001,0.16999999999999998,-1.26,0.42,-4.3,4.34,0.69,11.39,12.35,6.98,-1.52,-1.66,-2.1399999999999997,3.5900000000000003,4.06,-30.959999999999997,-4.34,0.89,-3.1,4.52,3.47,-10.66,-16.77,1.96,-27.21,6.38,-2.81,-13.59,2.4899999999999998,7.720000000000001,-4.91,-27.52,22.62,2.45,15.6,0.08,7.829999999999999,5.3100000000000005,-19.869999999999997,-0.36,-1.6,6.18,-11.959999999999999,4.1000000000000005,-0.27,6.23,0.43,-2.7199999999999998,-0.8,-5.62,-0.26,0.5700000000000001,-0.65,-11.29,-1.27,8.62,1.7000000000000002,4.5600000000000005,-7.739999999999999,3.62,1.01,7.35,-2.79,-1.47,-0.96,-1.7500000000000002,-1.95,15.82,1.4200000000000002,-3.29,0.21,9.76,8.88,-6.2,-1.0,2.94,-1.32,5.11,-4.34,-0.77,0.8200000000000001,-0.54],\"type\":\"choropleth\"}],\"name\":\"2018\"},{\"data\":[{\"coloraxis\":\"coloraxis\",\"geo\":\"geo\",\"hovertemplate\":\"Year=2019<br>Country=%{location}<br>Rate of Change (%) - Mobile=%{z}<extra></extra>\",\"locationmode\":\"country names\",\"locations\":[\"Algeria\",\"Angola\",\"Argentina\",\"Australia\",\"Austria\",\"Azerbaijan\",\"Bahrain\",\"Bangladesh\",\"Belgium\",\"Benin\",\"Botswana\",\"Brazil\",\"Bulgaria\",\"Burkina Faso\",\"Burundi\",\"Cambodia\",\"Cameroon\",\"Canada\",\"Chile\",\"China\",\"Colombia\",\"Costa Rica\",\"C\\u00f4te d'Ivoire\",\"Croatia\",\"Cuba\",\"Czech Republic\",\"Denmark\",\"Dominican Republic\",\"Ecuador\",\"Egypt\",\"El Salvador\",\"Estonia\",\"Ethiopia\",\"Finland\",\"France\",\"Gabon\",\"Germany\",\"Ghana\",\"Greece\",\"Guatemala\",\"Guinea\",\"Honduras\",\"Hong Kong\",\"Hungary\",\"India\",\"Indonesia\",\"Iran\",\"Ireland\",\"Israel\",\"Italy\",\"Jamaica\",\"Japan\",\"Jordan\",\"Kazakhstan\",\"Kenya\",\"Kuwait\",\"Laos\",\"Latvia\",\"Lebanon\",\"Liberia\",\"Lithuania\",\"Madagascar\",\"Malawi\",\"Malaysia\",\"Mali\",\"Mexico\",\"Mongolia\",\"Morocco\",\"Mozambique\",\"Myanmar\",\"Namibia\",\"Nepal\",\"Netherlands\",\"New Zealand\",\"Nicaragua\",\"Niger\",\"Nigeria\",\"Oman\",\"Pakistan\",\"Panama\",\"Papua New Guinea\",\"Paraguay\",\"Peru\",\"Philippines\",\"Poland\",\"Portugal\",\"Qatar\",\"Romania\",\"Russia\",\"Rwanda\",\"Saudi Arabia\",\"Senegal\",\"Sierra Leone\",\"Singapore\",\"Slovakia\",\"South Africa\",\"South Korea\",\"Spain\",\"Sri Lanka\",\"Sudan\",\"Sweden\",\"Switzerland\",\"Taiwan\",\"Tanzania\",\"Thailand\",\"Trinidad & Tobago\",\"Tunisia\",\"Turkey\",\"UAE\",\"Uganda\",\"Ukraine\",\"United Kingdom\",\"United States\",\"Uruguay\",\"Uzbekistan\",\"Venezuela\",\"Vietnam\",\"Zambia\",\"Zimbabwe\"],\"name\":\"\",\"z\":[-4.4799999999999995,-0.89,-3.82,-0.91,-2.8400000000000003,-1.72,-24.62,9.76,-9.950000000000001,-4.03,-3.4799999999999995,-10.05,-4.3,13.200000000000001,7.049999999999999,-8.16,4.859999999999999,2.13,-2.6599999999999997,7.1499999999999995,4.43,5.06,12.76,-1.6199999999999999,15.620000000000001,1.02,1.8800000000000001,-0.48,3.6799999999999997,3.19,-2.11,0.06999999999999999,-24.7,-1.0699999999999998,1.82,-12.540000000000001,5.4,-6.17,3.64,7.359999999999999,2.54,3.3099999999999996,3.71,0.2,2.59,11.53,6.619999999999999,-0.67,-1.8399999999999999,-2.4699999999999998,-5.87,3.75,-3.5000000000000004,3.0700000000000003,7.3,-9.09,-7.61,-5.89,1.26,-16.76,5.36,6.23,5.52,-3.88,5.779999999999999,1.0999999999999999,13.25,4.3999999999999995,-23.150000000000002,-5.87,-1.06,10.870000000000001,-1.95,3.9699999999999998,4.2299999999999995,13.089999999999998,-8.55,-2.94,3.73,0.9400000000000001,4.16,-1.54,3.6900000000000004,-1.55,-4.66,1.96,6.4,-1.47,-0.95,-3.7900000000000005,-17.740000000000002,0.89,3.27,-1.94,1.79,5.87,3.66,1.9,8.799999999999999,0.5700000000000001,-0.86,-2.31,-1.78,-3.18,1.21,-6.68,-0.7100000000000001,2.02,-1.69,5.21,-1.35,-0.5,0.33,-0.74,2.5700000000000003,-9.950000000000001,-1.48,8.58,7.84],\"type\":\"choropleth\"}],\"name\":\"2019\"},{\"data\":[{\"coloraxis\":\"coloraxis\",\"geo\":\"geo\",\"hovertemplate\":\"Year=2020<br>Country=%{location}<br>Rate of Change (%) - Mobile=%{z}<extra></extra>\",\"locationmode\":\"country names\",\"locations\":[\"Algeria\",\"Angola\",\"Argentina\",\"Australia\",\"Austria\",\"Azerbaijan\",\"Bahrain\",\"Bangladesh\",\"Belgium\",\"Benin\",\"Botswana\",\"Brazil\",\"Bulgaria\",\"Burkina Faso\",\"Burundi\",\"Cambodia\",\"Cameroon\",\"Canada\",\"Chile\",\"China\",\"Colombia\",\"Costa Rica\",\"C\\u00f4te d'Ivoire\",\"Croatia\",\"Cuba\",\"Czech Republic\",\"Denmark\",\"Dominican Republic\",\"Ecuador\",\"Egypt\",\"El Salvador\",\"Estonia\",\"Ethiopia\",\"Finland\",\"France\",\"Gabon\",\"Germany\",\"Ghana\",\"Greece\",\"Guatemala\",\"Guinea\",\"Honduras\",\"Hong Kong\",\"Hungary\",\"India\",\"Indonesia\",\"Iran\",\"Ireland\",\"Israel\",\"Italy\",\"Jamaica\",\"Japan\",\"Jordan\",\"Kazakhstan\",\"Kenya\",\"Kuwait\",\"Laos\",\"Latvia\",\"Lebanon\",\"Liberia\",\"Lithuania\",\"Madagascar\",\"Malawi\",\"Malaysia\",\"Mali\",\"Mexico\",\"Mongolia\",\"Morocco\",\"Mozambique\",\"Myanmar\",\"Namibia\",\"Nepal\",\"Netherlands\",\"New Zealand\",\"Nicaragua\",\"Niger\",\"Nigeria\",\"Oman\",\"Pakistan\",\"Panama\",\"Papua New Guinea\",\"Paraguay\",\"Peru\",\"Philippines\",\"Poland\",\"Portugal\",\"Qatar\",\"Romania\",\"Russia\",\"Rwanda\",\"Saudi Arabia\",\"Senegal\",\"Sierra Leone\",\"Singapore\",\"Slovakia\",\"South Africa\",\"South Korea\",\"Spain\",\"Sri Lanka\",\"Sudan\",\"Sweden\",\"Switzerland\",\"Taiwan\",\"Tanzania\",\"Thailand\",\"Trinidad & Tobago\",\"Tunisia\",\"Turkey\",\"UAE\",\"Uganda\",\"Ukraine\",\"United Kingdom\",\"United States\",\"Uruguay\",\"Uzbekistan\",\"Venezuela\",\"Vietnam\",\"Zambia\",\"Zimbabwe\"],\"name\":\"\",\"z\":[0.8099999999999999,-3.58,-6.25,2.4,0.32,0.97,-15.790000000000001,6.03,0.2,4.97,2.04,-6.1,-1.0,4.71,3.29,3.02,-10.73,3.82,7.870000000000001,11.700000000000001,2.12,-4.87,3.85,2.33,16.46,0.25,0.72,0.84,5.7299999999999995,-10.77,-1.01,0.76,0.0,-0.31,1.8800000000000001,7.21,-2.56,8.95,-5.47,0.42,-0.21,-9.28,7.19,1.17,-0.45999999999999996,-27.43,0.5599999999999999,0.1,-0.16,-0.51,-4.54,4.35,-11.690000000000001,-3.5900000000000003,12.9,-2.5,-2.81,-15.040000000000001,0.0,0.0,6.909999999999999,19.06,-11.360000000000001,-1.18,-3.2800000000000002,3.93,6.7299999999999995,0.65,14.940000000000001,26.729999999999997,0.9900000000000001,6.74,2.5700000000000003,-0.88,-10.15,0.0,16.21,-5.91,4.46,6.529999999999999,0.0,-1.6500000000000001,6.460000000000001,10.6,-4.29,1.1400000000000001,-3.0700000000000003,1.7500000000000002,0.77,7.199999999999999,0.91,2.25,-6.1,1.3599999999999999,1.6099999999999999,3.0300000000000002,4.09,3.02,6.890000000000001,2.56,0.16,-3.51,1.73,5.609999999999999,2.62,-3.27,1.83,1.46,-0.24,-5.45,-2.74,-0.08,4.88,1.08,-5.800000000000001,-13.81,16.0,11.92,-9.700000000000001],\"type\":\"choropleth\"}],\"name\":\"2020\"},{\"data\":[{\"coloraxis\":\"coloraxis\",\"geo\":\"geo\",\"hovertemplate\":\"Year=2021<br>Country=%{location}<br>Rate of Change (%) - Mobile=%{z}<extra></extra>\",\"locationmode\":\"country names\",\"locations\":[\"Algeria\",\"Angola\",\"Argentina\",\"Australia\",\"Austria\",\"Azerbaijan\",\"Bahrain\",\"Bangladesh\",\"Belgium\",\"Benin\",\"Botswana\",\"Brazil\",\"Bulgaria\",\"Burkina Faso\",\"Burundi\",\"Cambodia\",\"Cameroon\",\"Canada\",\"Chile\",\"China\",\"Colombia\",\"Congo (DRC)\",\"Costa Rica\",\"C\\u00f4te d'Ivoire\",\"Croatia\",\"Cuba\",\"Czech Republic\",\"Denmark\",\"Dominican Republic\",\"Ecuador\",\"Egypt\",\"El Salvador\",\"Estonia\",\"Ethiopia\",\"Finland\",\"France\",\"Gabon\",\"Germany\",\"Ghana\",\"Greece\",\"Guatemala\",\"Guinea\",\"Honduras\",\"Hong Kong\",\"Hungary\",\"India\",\"Indonesia\",\"Iran\",\"Ireland\",\"Israel\",\"Italy\",\"Jamaica\",\"Japan\",\"Jordan\",\"Kazakhstan\",\"Kenya\",\"Kuwait\",\"Laos\",\"Latvia\",\"Lebanon\",\"Liberia\",\"Lithuania\",\"Madagascar\",\"Malawi\",\"Malaysia\",\"Mali\",\"Mexico\",\"Mongolia\",\"Morocco\",\"Mozambique\",\"Myanmar\",\"Namibia\",\"Nepal\",\"Netherlands\",\"New Zealand\",\"Nicaragua\",\"Niger\",\"Nigeria\",\"Oman\",\"Pakistan\",\"Panama\",\"Papua New Guinea\",\"Paraguay\",\"Peru\",\"Philippines\",\"Poland\",\"Portugal\",\"Qatar\",\"Romania\",\"Russia\",\"Rwanda\",\"Saudi Arabia\",\"Senegal\",\"Sierra Leone\",\"Singapore\",\"Slovakia\",\"South Africa\",\"South Korea\",\"Spain\",\"Sri Lanka\",\"Sudan\",\"Sweden\",\"Switzerland\",\"Taiwan\",\"Tanzania\",\"Thailand\",\"Trinidad & Tobago\",\"Tunisia\",\"Turkey\",\"UAE\",\"Uganda\",\"Ukraine\",\"United Kingdom\",\"United States\",\"Uruguay\",\"Uzbekistan\",\"Venezuela\",\"Vietnam\",\"Zambia\",\"Zimbabwe\"],\"name\":\"\",\"z\":[-2.06,8.12,-4.77,-0.36,-3.0,2.98,-13.13,1.3,0.0,6.43,8.4,-4.3,-2.27,2.35,0.18,8.7,12.98,2.5700000000000003,-1.6400000000000001,5.45,1.39,-1.38,-0.29,7.71,0.95,12.45,2.94,0.0,-0.95,-1.1900000000000002,-0.31,0.0,1.24,0.0,-0.22999999999999998,2.03,-0.36,-0.7000000000000001,-2.33,-1.9900000000000002,0.0,4.130000000000001,-2.02,6.890000000000001,2.6100000000000003,-2.9899999999999998,5.7,31.240000000000002,2.42,7.5200000000000005,-4.51,1.58,3.9600000000000004,-12.1,-2.6,7.79,1.52,17.150000000000002,1.3,-4.19,0.0,2.9899999999999998,0.0,22.56,3.7900000000000005,1.3,0.53,2.85,3.06,2.1,0.0,0.44,0.0,2.91,0.0,-23.200000000000003,0.0,4.2,-1.29,5.2299999999999995,-3.7199999999999998,0.0,2.9899999999999998,0.0,22.66,0.31,0.7799999999999999,-2.54,0.95,4.45,-3.04,-1.71,4.9799999999999995,3.61,4.569999999999999,2.11,3.56,3.6999999999999997,2.07,1.1199999999999999,7.08,1.5,-0.4,-0.4,6.4799999999999995,3.3300000000000005,9.3,-1.0999999999999999,-0.51,-3.7900000000000005,0.16999999999999998,2.19,1.27,4.26,-7.870000000000001,41.54,-34.12,-4.08,8.07,0.7799999999999999],\"type\":\"choropleth\"}],\"name\":\"2021\"}]);\n",
       "                        }).then(function(){\n",
       "                            \n",
       "var gd = document.getElementById('aa92fb88-0b40-4810-b019-9279ca165601');\n",
       "var x = new MutationObserver(function (mutations, observer) {{\n",
       "        var display = window.getComputedStyle(gd).display;\n",
       "        if (!display || display === 'none') {{\n",
       "            console.log([gd, 'removed!']);\n",
       "            Plotly.purge(gd);\n",
       "            observer.disconnect();\n",
       "        }}\n",
       "}});\n",
       "\n",
       "// Listen for the removal of the full notebook cells\n",
       "var notebookContainer = gd.closest('#notebook-container');\n",
       "if (notebookContainer) {{\n",
       "    x.observe(notebookContainer, {childList: true});\n",
       "}}\n",
       "\n",
       "// Listen for the clearing of the current output cell\n",
       "var outputEl = gd.closest('.output');\n",
       "if (outputEl) {{\n",
       "    x.observe(outputEl, {childList: true});\n",
       "}}\n",
       "\n",
       "                        })                };                });            </script>        </div>"
      ]
     },
     "metadata": {},
     "output_type": "display_data"
    }
   ],
   "source": [
    "fig_broadband.show()\n",
    "fig_mobile.show()"
   ]
  },
  {
   "cell_type": "markdown",
   "metadata": {},
   "source": [
    "### Chart comparison over Time"
   ]
  },
  {
   "cell_type": "code",
   "execution_count": 155,
   "metadata": {},
   "outputs": [
    {
     "data": {
      "text/html": [
       "<div>\n",
       "<style scoped>\n",
       "    .dataframe tbody tr th:only-of-type {\n",
       "        vertical-align: middle;\n",
       "    }\n",
       "\n",
       "    .dataframe tbody tr th {\n",
       "        vertical-align: top;\n",
       "    }\n",
       "\n",
       "    .dataframe thead th {\n",
       "        text-align: right;\n",
       "    }\n",
       "</style>\n",
       "<table border=\"1\" class=\"dataframe\">\n",
       "  <thead>\n",
       "    <tr style=\"text-align: right;\">\n",
       "      <th></th>\n",
       "      <th>Country</th>\n",
       "      <th>Year</th>\n",
       "      <th>Population (millions)</th>\n",
       "      <th>Rate of Change (%) - Broadband</th>\n",
       "      <th>Rate of Change (%) - Mobile</th>\n",
       "      <th>Rural electricity access (%)</th>\n",
       "    </tr>\n",
       "  </thead>\n",
       "  <tbody>\n",
       "    <tr>\n",
       "      <th>0</th>\n",
       "      <td>Algeria</td>\n",
       "      <td>2018</td>\n",
       "      <td>41.3</td>\n",
       "      <td>23.47</td>\n",
       "      <td>6.62</td>\n",
       "      <td>96.87</td>\n",
       "    </tr>\n",
       "    <tr>\n",
       "      <th>1</th>\n",
       "      <td>Algeria</td>\n",
       "      <td>2019</td>\n",
       "      <td>42.1</td>\n",
       "      <td>10.07</td>\n",
       "      <td>-4.48</td>\n",
       "      <td>96.87</td>\n",
       "    </tr>\n",
       "    <tr>\n",
       "      <th>2</th>\n",
       "      <td>Algeria</td>\n",
       "      <td>2020</td>\n",
       "      <td>42.9</td>\n",
       "      <td>-6.44</td>\n",
       "      <td>0.81</td>\n",
       "      <td>100.00</td>\n",
       "    </tr>\n",
       "    <tr>\n",
       "      <th>3</th>\n",
       "      <td>Algeria</td>\n",
       "      <td>2021</td>\n",
       "      <td>43.7</td>\n",
       "      <td>14.60</td>\n",
       "      <td>-2.06</td>\n",
       "      <td>96.70</td>\n",
       "    </tr>\n",
       "    <tr>\n",
       "      <th>4</th>\n",
       "      <td>Angola</td>\n",
       "      <td>2018</td>\n",
       "      <td>29.8</td>\n",
       "      <td>-47.27</td>\n",
       "      <td>-9.44</td>\n",
       "      <td>5.55</td>\n",
       "    </tr>\n",
       "    <tr>\n",
       "      <th>...</th>\n",
       "      <td>...</td>\n",
       "      <td>...</td>\n",
       "      <td>...</td>\n",
       "      <td>...</td>\n",
       "      <td>...</td>\n",
       "      <td>...</td>\n",
       "    </tr>\n",
       "    <tr>\n",
       "      <th>473</th>\n",
       "      <td>Zambia</td>\n",
       "      <td>2021</td>\n",
       "      <td>18.4</td>\n",
       "      <td>19.05</td>\n",
       "      <td>8.07</td>\n",
       "      <td>6.30</td>\n",
       "    </tr>\n",
       "    <tr>\n",
       "      <th>474</th>\n",
       "      <td>Zimbabwe</td>\n",
       "      <td>2018</td>\n",
       "      <td>14.2</td>\n",
       "      <td>2.52</td>\n",
       "      <td>-0.54</td>\n",
       "      <td>11.00</td>\n",
       "    </tr>\n",
       "    <tr>\n",
       "      <th>475</th>\n",
       "      <td>Zimbabwe</td>\n",
       "      <td>2019</td>\n",
       "      <td>14.4</td>\n",
       "      <td>8.20</td>\n",
       "      <td>7.84</td>\n",
       "      <td>11.00</td>\n",
       "    </tr>\n",
       "    <tr>\n",
       "      <th>476</th>\n",
       "      <td>Zimbabwe</td>\n",
       "      <td>2020</td>\n",
       "      <td>14.6</td>\n",
       "      <td>6.82</td>\n",
       "      <td>-9.70</td>\n",
       "      <td>11.50</td>\n",
       "    </tr>\n",
       "    <tr>\n",
       "      <th>477</th>\n",
       "      <td>Zimbabwe</td>\n",
       "      <td>2021</td>\n",
       "      <td>14.9</td>\n",
       "      <td>-0.71</td>\n",
       "      <td>0.78</td>\n",
       "      <td>36.20</td>\n",
       "    </tr>\n",
       "  </tbody>\n",
       "</table>\n",
       "<p>444 rows × 6 columns</p>\n",
       "</div>"
      ],
      "text/plain": [
       "      Country  Year  Population (millions)  Rate of Change (%) - Broadband  \\\n",
       "0     Algeria  2018                   41.3                           23.47   \n",
       "1     Algeria  2019                   42.1                           10.07   \n",
       "2     Algeria  2020                   42.9                           -6.44   \n",
       "3     Algeria  2021                   43.7                           14.60   \n",
       "4      Angola  2018                   29.8                          -47.27   \n",
       "..        ...   ...                    ...                             ...   \n",
       "473    Zambia  2021                   18.4                           19.05   \n",
       "474  Zimbabwe  2018                   14.2                            2.52   \n",
       "475  Zimbabwe  2019                   14.4                            8.20   \n",
       "476  Zimbabwe  2020                   14.6                            6.82   \n",
       "477  Zimbabwe  2021                   14.9                           -0.71   \n",
       "\n",
       "     Rate of Change (%) - Mobile  Rural electricity access (%)  \n",
       "0                           6.62                         96.87  \n",
       "1                          -4.48                         96.87  \n",
       "2                           0.81                        100.00  \n",
       "3                          -2.06                         96.70  \n",
       "4                          -9.44                          5.55  \n",
       "..                           ...                           ...  \n",
       "473                         8.07                          6.30  \n",
       "474                        -0.54                         11.00  \n",
       "475                         7.84                         11.00  \n",
       "476                        -9.70                         11.50  \n",
       "477                         0.78                         36.20  \n",
       "\n",
       "[444 rows x 6 columns]"
      ]
     },
     "execution_count": 155,
     "metadata": {},
     "output_type": "execute_result"
    }
   ],
   "source": [
    "# Remove extreme outliers\n",
    "internet_adoption_rate_condensed = internet_adoption_rate_clean[\n",
    "    (internet_adoption_rate_clean['Rate of Change (%) - Broadband'] >= -50) &\n",
    "    (internet_adoption_rate_clean['Rate of Change (%) - Broadband'] <= 50) &\n",
    "    (internet_adoption_rate_clean['Rate of Change (%) - Mobile'] >= -50) &\n",
    "    (internet_adoption_rate_clean['Rate of Change (%) - Mobile'] <= 50)\n",
    "]\n",
    "\n",
    "internet_adoption_rate_condensed"
   ]
  },
  {
   "cell_type": "code",
   "execution_count": 173,
   "metadata": {},
   "outputs": [
    {
     "data": {
      "image/png": "[encoded data removed]",
      "text/plain": [
       "<Figure size 640x480 with 1 Axes>"
      ]
     },
     "metadata": {},
     "output_type": "display_data"
    }
   ],
   "source": [
    "# List of years\n",
    "years = internet_adoption_rate_condensed[\"Year\"].unique()\n",
    "\n",
    "# Find average rate of changes per year and rename the columns\n",
    "yearly_avg_change_broadband = pd.DataFrame(internet_adoption_rate_condensed.groupby(\"Year\")[\"Rate of Change (%) - Broadband\"].mean()).reset_index()\n",
    "yearly_avg_change_broadband = yearly_avg_change_broadband.rename(columns={\"Rate of Change (%) - Broadband\": \"Average Rate of Change (%) - Broadband\"})\n",
    "yearly_avg_change_mobile = pd.DataFrame(internet_adoption_rate_condensed.groupby(\"Year\")[\"Rate of Change (%) - Mobile\"].mean()).reset_index()\n",
    "yearly_avg_change_mobile = yearly_avg_change_mobile.rename(columns={\"Rate of Change (%) - Mobile\": \"Average Rate of Change (%) - Mobile\"})\n",
    "\n",
    "# Merge the averages to form a new dataframe\n",
    "merged_yearly_averages = yearly_avg_change_broadband.merge(yearly_avg_change_mobile, on=\"Year\")\n",
    "\n",
    "# Test Display\n",
    "merged_yearly_averages\n",
    "\n",
    "fig, ax = plt.subplots()\n",
    "ax.plot(years,merged_yearly_averages[\"Average Rate of Change (%) - Broadband\"], label=\"Broadband\")\n",
    "ax.plot(years,merged_yearly_averages[\"Average Rate of Change (%) - Mobile\"], label=\"Mobile\")\n",
    "ax.set_xlabel(\"Year\")\n",
    "ax.set_ylabel(\"Average Change (%)\")\n",
    "ax.set_title(\"Global Internet Access by Type - Changes over Time\")\n",
    "ax.legend()\n",
    "ax.set_xticks(years)\n",
    "plt.show()"
   ]
  },
  {
   "cell_type": "code",
   "execution_count": 157,
   "metadata": {},
   "outputs": [
    {
     "data": {
      "text/html": [
       "<div>\n",
       "<style scoped>\n",
       "    .dataframe tbody tr th:only-of-type {\n",
       "        vertical-align: middle;\n",
       "    }\n",
       "\n",
       "    .dataframe tbody tr th {\n",
       "        vertical-align: top;\n",
       "    }\n",
       "\n",
       "    .dataframe thead th {\n",
       "        text-align: right;\n",
       "    }\n",
       "</style>\n",
       "<table border=\"1\" class=\"dataframe\">\n",
       "  <thead>\n",
       "    <tr style=\"text-align: right;\">\n",
       "      <th></th>\n",
       "      <th>Country</th>\n",
       "      <th>Average Rate of Change (%) - Broadband</th>\n",
       "      <th>Average Rate of Change (%) - Mobile</th>\n",
       "    </tr>\n",
       "  </thead>\n",
       "  <tbody>\n",
       "    <tr>\n",
       "      <th>0</th>\n",
       "      <td>Algeria</td>\n",
       "      <td>10.4250</td>\n",
       "      <td>0.222500</td>\n",
       "    </tr>\n",
       "    <tr>\n",
       "      <th>1</th>\n",
       "      <td>Angola</td>\n",
       "      <td>-5.4025</td>\n",
       "      <td>-1.447500</td>\n",
       "    </tr>\n",
       "    <tr>\n",
       "      <th>2</th>\n",
       "      <td>Argentina</td>\n",
       "      <td>5.4050</td>\n",
       "      <td>-3.205000</td>\n",
       "    </tr>\n",
       "    <tr>\n",
       "      <th>3</th>\n",
       "      <td>Australia</td>\n",
       "      <td>5.0500</td>\n",
       "      <td>0.677500</td>\n",
       "    </tr>\n",
       "    <tr>\n",
       "      <th>4</th>\n",
       "      <td>Austria</td>\n",
       "      <td>-0.1350</td>\n",
       "      <td>-5.970000</td>\n",
       "    </tr>\n",
       "    <tr>\n",
       "      <th>...</th>\n",
       "      <td>...</td>\n",
       "      <td>...</td>\n",
       "      <td>...</td>\n",
       "    </tr>\n",
       "    <tr>\n",
       "      <th>114</th>\n",
       "      <td>Uzbekistan</td>\n",
       "      <td>17.0000</td>\n",
       "      <td>12.770000</td>\n",
       "    </tr>\n",
       "    <tr>\n",
       "      <th>115</th>\n",
       "      <td>Venezuela</td>\n",
       "      <td>1.0625</td>\n",
       "      <td>-15.555000</td>\n",
       "    </tr>\n",
       "    <tr>\n",
       "      <th>116</th>\n",
       "      <td>Vietnam</td>\n",
       "      <td>16.8175</td>\n",
       "      <td>2.417500</td>\n",
       "    </tr>\n",
       "    <tr>\n",
       "      <th>117</th>\n",
       "      <td>Zambia</td>\n",
       "      <td>18.7500</td>\n",
       "      <td>5.823333</td>\n",
       "    </tr>\n",
       "    <tr>\n",
       "      <th>118</th>\n",
       "      <td>Zimbabwe</td>\n",
       "      <td>4.2075</td>\n",
       "      <td>-0.405000</td>\n",
       "    </tr>\n",
       "  </tbody>\n",
       "</table>\n",
       "<p>119 rows × 3 columns</p>\n",
       "</div>"
      ],
      "text/plain": [
       "        Country  Average Rate of Change (%) - Broadband  \\\n",
       "0       Algeria                                 10.4250   \n",
       "1        Angola                                 -5.4025   \n",
       "2     Argentina                                  5.4050   \n",
       "3     Australia                                  5.0500   \n",
       "4       Austria                                 -0.1350   \n",
       "..          ...                                     ...   \n",
       "114  Uzbekistan                                 17.0000   \n",
       "115   Venezuela                                  1.0625   \n",
       "116     Vietnam                                 16.8175   \n",
       "117      Zambia                                 18.7500   \n",
       "118    Zimbabwe                                  4.2075   \n",
       "\n",
       "     Average Rate of Change (%) - Mobile  \n",
       "0                               0.222500  \n",
       "1                              -1.447500  \n",
       "2                              -3.205000  \n",
       "3                               0.677500  \n",
       "4                              -5.970000  \n",
       "..                                   ...  \n",
       "114                            12.770000  \n",
       "115                           -15.555000  \n",
       "116                             2.417500  \n",
       "117                             5.823333  \n",
       "118                            -0.405000  \n",
       "\n",
       "[119 rows x 3 columns]"
      ]
     },
     "execution_count": 157,
     "metadata": {},
     "output_type": "execute_result"
    }
   ],
   "source": [
    "# Find average rate of changes per country and rename the columns\n",
    "avg_change_broadband_all = pd.DataFrame(internet_adoption_rate_condensed.groupby(\"Country\")[\"Rate of Change (%) - Broadband\"].mean()).reset_index()\n",
    "avg_change_broadband_all = avg_change_broadband_all.rename(columns={\"Rate of Change (%) - Broadband\": \"Average Rate of Change (%) - Broadband\"})\n",
    "avg_change_mobile_all = pd.DataFrame(internet_adoption_rate_condensed.groupby(\"Country\")[\"Rate of Change (%) - Mobile\"].mean()).reset_index()\n",
    "avg_change_mobile_all = avg_change_mobile_all.rename(columns={\"Rate of Change (%) - Mobile\": \"Average Rate of Change (%) - Mobile\"})\n",
    "\n",
    "# Merge the averages to form a new dataframe\n",
    "merged_averages = avg_change_broadband_all.merge(avg_change_mobile_all, on=\"Country\")\n",
    "\n",
    "# Test Display\n",
    "merged_averages"
   ]
  },
  {
   "cell_type": "code",
   "execution_count": 160,
   "metadata": {},
   "outputs": [
    {
     "name": "stdout",
     "output_type": "stream",
     "text": [
      "The r-value is: 0.033034672042241774\n"
     ]
    },
    {
     "data": {
      "image/png": "[encoded data removed]",
      "text/plain": [
       "<Figure size 640x480 with 1 Axes>"
      ]
     },
     "metadata": {},
     "output_type": "display_data"
    }
   ],
   "source": [
    "# Calculate the average change per year of both mobile and broadband access\n",
    "\n",
    "# Find average rate of change for Broadband per country\n",
    "avg_change_broadband = merged_averages[\"Average Rate of Change (%) - Broadband\"]\n",
    "avg_change_mobile = merged_averages[\"Average Rate of Change (%) - Mobile\"]\n",
    "\n",
    "# Define linear regression formula\n",
    "def linear_regression_line(arg1, arg2):\n",
    "    slope, intercept, r_value, p_value, std_err = linregress(arg1, arg2)\n",
    "    line = slope * arg1 + intercept\n",
    "    equation_text = f\"y = {round(slope,2)}x {'+' if intercept >= 0 else '-'} {abs(round(intercept,2))}\"\n",
    "    return line, r_value, round(slope,2), round(intercept,2), equation_text\n",
    "\n",
    "# Calculate Linear regression line\n",
    "regression_line, r_value, slope, intercept, equation_text = linear_regression_line(avg_change_broadband, avg_change_mobile)\n",
    "\n",
    "# Print the R^2 value\n",
    "print(f\"The r-value is: {r_value**2}\")\n",
    "\n",
    "#Create Plots\n",
    "fig, ax = plt.subplots()\n",
    "ax.scatter(avg_change_broadband, avg_change_mobile)\n",
    "plt.plot(avg_change_broadband, regression_line, color='red')\n",
    "ax.set_xlabel(\"Rate of Change (%) - Broadband\")\n",
    "ax.set_ylabel(\"Rate of Change (%) - Mobile\")\n",
    "ax.set_xlim(-20, 30)\n",
    "ax.set_ylim(-20, 20)\n",
    "plt.show()"
   ]
  },
  {
   "cell_type": "code",
   "execution_count": null,
   "metadata": {},
   "outputs": [],
   "source": []
  }
 ],
 "metadata": {
  "anaconda-cloud": {},
  "kernelspec": {
   "display_name": "Python 3 (ipykernel)",
   "language": "python",
   "name": "python3"
  },
  "language_info": {
   "codemirror_mode": {
    "name": "ipython",
    "version": 3
   },
   "file_extension": ".py",
   "mimetype": "text/x-python",
   "name": "python",
   "nbconvert_exporter": "python",
   "pygments_lexer": "ipython3",
   "version": "3.10.13"
  }
 },
 "nbformat": 4,
 "nbformat_minor": 4
}
