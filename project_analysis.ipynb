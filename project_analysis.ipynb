{
 "cells": [
  {
   "cell_type": "code",
   "execution_count": 1,
   "metadata": {},
   "outputs": [],
   "source": [
    "# Dependencies and Setup\n",
    "import matplotlib.pyplot as plt\n",
    "import pandas as pd\n",
    "import numpy as np\n",
    "import requests\n",
    "import time\n",
    "from scipy.stats import linregress\n",
    "from pprint import pprint\n",
    "import json\n",
    "import curl\n",
    "import requests\n",
    "\n",
    "from api_keys import cloudflare_key"
   ]
  },
  {
   "cell_type": "code",
   "execution_count": 3,
   "metadata": {},
   "outputs": [],
   "source": [
    "# SETUP AUTHENTICATIONS\n",
    "\n",
    "CLOUDFLARE_EMAIL = 'q2thedizzawg@yahoo.com'\n",
    "CLOUDFLARE_TOKEN = cloudflare_key\n",
    "\n",
    "headers = {\n",
    "    'X-Auth-Email': CLOUDFLARE_EMAIL,\n",
    "    'Authorization': 'Bearer ' + CLOUDFLARE_TOKEN,\n",
    "    'Content-Type': 'application/json'\n",
    "}\n"
   ]
  },
  {
   "cell_type": "code",
   "execution_count": 6,
   "metadata": {},
   "outputs": [
    {
     "name": "stdout",
     "output_type": "stream",
     "text": [
      "{'errors': [],\n",
      " 'messages': [],\n",
      " 'result': [],\n",
      " 'result_info': {'count': 0,\n",
      "                 'page': 1,\n",
      "                 'per_page': 20,\n",
      "                 'total_count': 0,\n",
      "                 'total_pages': 0},\n",
      " 'success': True}\n"
     ]
    }
   ],
   "source": [
    "response = requests.get('https://api.cloudflare.com/client/v4/zones', headers=headers)\n",
    "zones = response.json()\n",
    "pprint(zones)\n"
   ]
  },
  {
   "cell_type": "code",
   "execution_count": 5,
   "metadata": {},
   "outputs": [
    {
     "name": "stdout",
     "output_type": "stream",
     "text": [
      "{'result': [], 'result_info': {'page': 1, 'per_page': 20, 'total_pages': 0, 'count': 0, 'total_count': 0}, 'success': True, 'errors': [], 'messages': []}\n"
     ]
    }
   ],
   "source": [
    "# Define the endpoint for security analytics\n",
    "analytics_endpoint = f\"https://api.cloudflare.com/client/v4/zones/{ZONE_ID}/security/events\"\n",
    "\n",
    "# Specify the parameters such as time range and desired metrics\n",
    "params = {\n",
    "    'since': '-1d',  # Last day\n",
    "    'until': 'now',\n",
    "    'per_page': 100  # Adjust per_page to your needs\n",
    "}\n",
    "\n",
    "response = requests.get(analytics_endpoint, headers=headers, params=params)\n",
    "data = response.json()\n",
    "\n",
    "# Check if the request was successful\n",
    "if response.status_code == 200:\n",
    "    # Parse the JSON response\n",
    "    events = data.get('result')\n",
    "    # Iterate over events and process them\n",
    "    for event in events:\n",
    "        if event.get('kind') == 'ddos':\n",
    "            # This is a DDoS event, process accordingly\n",
    "            print(event)\n",
    "else:\n",
    "    print(\"Error:\", response.status_code)\n"
   ]
  }
 ],
 "metadata": {
  "kernelspec": {
   "display_name": "dev",
   "language": "python",
   "name": "python3"
  },
  "language_info": {
   "codemirror_mode": {
    "name": "ipython",
    "version": 3
   },
   "file_extension": ".py",
   "mimetype": "text/x-python",
   "name": "python",
   "nbconvert_exporter": "python",
   "pygments_lexer": "ipython3",
   "version": "3.10.13"
  }
 },
 "nbformat": 4,
 "nbformat_minor": 2
}
