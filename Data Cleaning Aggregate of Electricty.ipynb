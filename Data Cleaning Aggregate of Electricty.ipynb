{
 "cells": [
  {
   "cell_type": "markdown",
   "metadata": {},
   "source": [
    "# Data Cleaning - Aggregate of Rural Electricty over years"
   ]
  },
  {
   "cell_type": "code",
   "execution_count": 21,
   "metadata": {},
   "outputs": [
    {
     "data": {
      "text/html": [
       "<div>\n",
       "<style scoped>\n",
       "    .dataframe tbody tr th:only-of-type {\n",
       "        vertical-align: middle;\n",
       "    }\n",
       "\n",
       "    .dataframe tbody tr th {\n",
       "        vertical-align: top;\n",
       "    }\n",
       "\n",
       "    .dataframe thead th {\n",
       "        text-align: right;\n",
       "    }\n",
       "</style>\n",
       "<table border=\"1\" class=\"dataframe\">\n",
       "  <thead>\n",
       "    <tr style=\"text-align: right;\">\n",
       "      <th></th>\n",
       "      <th>Country</th>\n",
       "      <th>Year</th>\n",
       "      <th>Population (millions)</th>\n",
       "      <th>Rate of Change (%) - Broadband</th>\n",
       "      <th>Rate of Change (%) - Mobile</th>\n",
       "      <th>Rural electricity access (%)</th>\n",
       "    </tr>\n",
       "  </thead>\n",
       "  <tbody>\n",
       "    <tr>\n",
       "      <th>0</th>\n",
       "      <td>Algeria</td>\n",
       "      <td>2018</td>\n",
       "      <td>41.3</td>\n",
       "      <td>23.47</td>\n",
       "      <td>6.62</td>\n",
       "      <td>96.87</td>\n",
       "    </tr>\n",
       "    <tr>\n",
       "      <th>1</th>\n",
       "      <td>Algeria</td>\n",
       "      <td>2019</td>\n",
       "      <td>42.1</td>\n",
       "      <td>10.07</td>\n",
       "      <td>-4.48</td>\n",
       "      <td>96.87</td>\n",
       "    </tr>\n",
       "    <tr>\n",
       "      <th>2</th>\n",
       "      <td>Algeria</td>\n",
       "      <td>2020</td>\n",
       "      <td>42.9</td>\n",
       "      <td>-6.44</td>\n",
       "      <td>0.81</td>\n",
       "      <td>100.00</td>\n",
       "    </tr>\n",
       "    <tr>\n",
       "      <th>3</th>\n",
       "      <td>Algeria</td>\n",
       "      <td>2021</td>\n",
       "      <td>43.7</td>\n",
       "      <td>14.60</td>\n",
       "      <td>-2.06</td>\n",
       "      <td>96.70</td>\n",
       "    </tr>\n",
       "    <tr>\n",
       "      <th>4</th>\n",
       "      <td>Angola</td>\n",
       "      <td>2018</td>\n",
       "      <td>29.8</td>\n",
       "      <td>-47.27</td>\n",
       "      <td>-9.44</td>\n",
       "      <td>5.55</td>\n",
       "    </tr>\n",
       "    <tr>\n",
       "      <th>...</th>\n",
       "      <td>...</td>\n",
       "      <td>...</td>\n",
       "      <td>...</td>\n",
       "      <td>...</td>\n",
       "      <td>...</td>\n",
       "      <td>...</td>\n",
       "    </tr>\n",
       "    <tr>\n",
       "      <th>473</th>\n",
       "      <td>Zambia</td>\n",
       "      <td>2021</td>\n",
       "      <td>18.4</td>\n",
       "      <td>19.05</td>\n",
       "      <td>8.07</td>\n",
       "      <td>6.30</td>\n",
       "    </tr>\n",
       "    <tr>\n",
       "      <th>474</th>\n",
       "      <td>Zimbabwe</td>\n",
       "      <td>2018</td>\n",
       "      <td>14.2</td>\n",
       "      <td>2.52</td>\n",
       "      <td>-0.54</td>\n",
       "      <td>11.00</td>\n",
       "    </tr>\n",
       "    <tr>\n",
       "      <th>475</th>\n",
       "      <td>Zimbabwe</td>\n",
       "      <td>2019</td>\n",
       "      <td>14.4</td>\n",
       "      <td>8.20</td>\n",
       "      <td>7.84</td>\n",
       "      <td>11.00</td>\n",
       "    </tr>\n",
       "    <tr>\n",
       "      <th>476</th>\n",
       "      <td>Zimbabwe</td>\n",
       "      <td>2020</td>\n",
       "      <td>14.6</td>\n",
       "      <td>6.82</td>\n",
       "      <td>-9.70</td>\n",
       "      <td>11.50</td>\n",
       "    </tr>\n",
       "    <tr>\n",
       "      <th>477</th>\n",
       "      <td>Zimbabwe</td>\n",
       "      <td>2021</td>\n",
       "      <td>14.9</td>\n",
       "      <td>-0.71</td>\n",
       "      <td>0.78</td>\n",
       "      <td>36.20</td>\n",
       "    </tr>\n",
       "  </tbody>\n",
       "</table>\n",
       "<p>477 rows × 6 columns</p>\n",
       "</div>"
      ],
      "text/plain": [
       "      Country  Year  Population (millions)  Rate of Change (%) - Broadband  \\\n",
       "0     Algeria  2018                   41.3                           23.47   \n",
       "1     Algeria  2019                   42.1                           10.07   \n",
       "2     Algeria  2020                   42.9                           -6.44   \n",
       "3     Algeria  2021                   43.7                           14.60   \n",
       "4      Angola  2018                   29.8                          -47.27   \n",
       "..        ...   ...                    ...                             ...   \n",
       "473    Zambia  2021                   18.4                           19.05   \n",
       "474  Zimbabwe  2018                   14.2                            2.52   \n",
       "475  Zimbabwe  2019                   14.4                            8.20   \n",
       "476  Zimbabwe  2020                   14.6                            6.82   \n",
       "477  Zimbabwe  2021                   14.9                           -0.71   \n",
       "\n",
       "     Rate of Change (%) - Mobile  Rural electricity access (%)  \n",
       "0                           6.62                         96.87  \n",
       "1                          -4.48                         96.87  \n",
       "2                           0.81                        100.00  \n",
       "3                          -2.06                         96.70  \n",
       "4                          -9.44                          5.55  \n",
       "..                           ...                           ...  \n",
       "473                         8.07                          6.30  \n",
       "474                        -0.54                         11.00  \n",
       "475                         7.84                         11.00  \n",
       "476                        -9.70                         11.50  \n",
       "477                         0.78                         36.20  \n",
       "\n",
       "[477 rows x 6 columns]"
      ]
     },
     "execution_count": 21,
     "metadata": {},
     "output_type": "execute_result"
    }
   ],
   "source": [
    "# Dependencies and Setup\n",
    "import pandas as pd\n",
    "from pathlib import Path\n",
    "import matplotlib.pyplot as plt\n",
    "import numpy as np\n",
    "import seaborn as sns\n",
    "import plotly.express as px\n",
    "from scipy.stats import linregress\n",
    "\n",
    "data_to_load = Path(\"Resources/internet_adoption_rates_of_change.csv\")\n",
    "\n",
    "internet_adoption_data = pd.read_csv(data_to_load)\n",
    "\n",
    "# Replace 'inf' with NaN and drop rows with NaN \n",
    "internet_data_clean = internet_adoption_data.replace([np.inf, -np.inf], np.nan).dropna()\n",
    "\n",
    "internet_data_clean"
   ]
  },
  {
   "cell_type": "markdown",
   "metadata": {},
   "source": [
    "## Data Cleaning"
   ]
  },
  {
   "cell_type": "code",
   "execution_count": 8,
   "metadata": {},
   "outputs": [
    {
     "data": {
      "text/plain": [
       "array(['Algeria', 'Angola', 'Argentina', 'Australia', 'Austria',\n",
       "       'Azerbaijan', 'Bahrain', 'Bangladesh', 'Belgium', 'Benin',\n",
       "       'Botswana', 'Brazil', 'Bulgaria', 'Burkina Faso', 'Burundi',\n",
       "       'Cambodia', 'Cameroon', 'Canada', 'Chile', 'China', 'Colombia',\n",
       "       'Congo (DRC)', 'Costa Rica', \"Côte d'Ivoire\", 'Croatia', 'Cuba',\n",
       "       'Czech Republic', 'Denmark', 'Dominican Republic', 'Ecuador',\n",
       "       'Egypt', 'El Salvador', 'Estonia', 'Ethiopia', 'Finland', 'France',\n",
       "       'Gabon', 'Germany', 'Ghana', 'Greece', 'Guatemala', 'Guinea',\n",
       "       'Honduras', 'Hong Kong', 'Hungary', 'India', 'Indonesia', 'Iran',\n",
       "       'Ireland', 'Israel', 'Italy', 'Jamaica', 'Japan', 'Jordan',\n",
       "       'Kazakhstan', 'Kenya', 'Kuwait', 'Laos', 'Latvia', 'Lebanon',\n",
       "       'Liberia', 'Lithuania', 'Madagascar', 'Malawi', 'Malaysia', 'Mali',\n",
       "       'Mexico', 'Mongolia', 'Morocco', 'Mozambique', 'Myanmar',\n",
       "       'Namibia', 'Nepal', 'Netherlands', 'New Zealand', 'Nicaragua',\n",
       "       'Niger', 'Nigeria', 'Oman', 'Pakistan', 'Panama',\n",
       "       'Papua New Guinea', 'Paraguay', 'Peru', 'Philippines', 'Poland',\n",
       "       'Portugal', 'Qatar', 'Romania', 'Russia', 'Rwanda', 'Saudi Arabia',\n",
       "       'Senegal', 'Sierra Leone', 'Singapore', 'Slovakia', 'South Africa',\n",
       "       'South Korea', 'Spain', 'Sri Lanka', 'Sudan', 'Sweden',\n",
       "       'Switzerland', 'Taiwan', 'Tanzania', 'Thailand',\n",
       "       'Trinidad & Tobago', 'Tunisia', 'Turkey', 'UAE', 'Uganda',\n",
       "       'Ukraine', 'United Kingdom', 'United States', 'Uruguay',\n",
       "       'Uzbekistan', 'Venezuela', 'Vietnam', 'Zambia', 'Zimbabwe'],\n",
       "      dtype=object)"
      ]
     },
     "execution_count": 8,
     "metadata": {},
     "output_type": "execute_result"
    }
   ],
   "source": [
    "#keep the original column but drop the duplicates\n",
    "country = internet_data_clean['Country'].unique()\n",
    "country"
   ]
  },
  {
   "cell_type": "code",
   "execution_count": 9,
   "metadata": {},
   "outputs": [
    {
     "data": {
      "text/plain": [
       "Country\n",
       "Algeria       10.4250\n",
       "Angola        -5.4025\n",
       "Argentina      5.4050\n",
       "Australia      5.0500\n",
       "Austria       -0.1350\n",
       "               ...   \n",
       "Uzbekistan    25.5100\n",
       "Venezuela      1.0625\n",
       "Vietnam       16.8175\n",
       "Zambia        39.0625\n",
       "Zimbabwe       4.2075\n",
       "Name: Rate of Change (%) - Broadband, Length: 120, dtype: float64"
      ]
     },
     "execution_count": 9,
     "metadata": {},
     "output_type": "execute_result"
    }
   ],
   "source": [
    "# Calculate the total mean for each country for broadband\n",
    "clean_broadband = internet_data_clean.groupby('Country')['Rate of Change (%) - Broadband'].mean()\n",
    "clean_broadband"
   ]
  },
  {
   "cell_type": "code",
   "execution_count": 10,
   "metadata": {},
   "outputs": [
    {
     "data": {
      "text/plain": [
       "Country\n",
       "Algeria        0.2225\n",
       "Angola        -1.4475\n",
       "Argentina     -3.2050\n",
       "Australia      0.6775\n",
       "Austria       -5.9700\n",
       "               ...   \n",
       "Uzbekistan    10.8550\n",
       "Venezuela    -15.5550\n",
       "Vietnam        2.4175\n",
       "Zambia         7.3475\n",
       "Zimbabwe      -0.4050\n",
       "Name: Rate of Change (%) - Mobile, Length: 120, dtype: float64"
      ]
     },
     "execution_count": 10,
     "metadata": {},
     "output_type": "execute_result"
    }
   ],
   "source": [
    "# Calculate the total mean for each country for mobile\n",
    "clean_mobile = internet_data_clean.groupby('Country')['Rate of Change (%) - Mobile'].mean()\n",
    "clean_mobile"
   ]
  },
  {
   "cell_type": "code",
   "execution_count": 11,
   "metadata": {},
   "outputs": [
    {
     "data": {
      "text/plain": [
       "Country\n",
       "Algeria        97.6100\n",
       "Angola          5.9250\n",
       "Argentina      85.1875\n",
       "Australia     100.0000\n",
       "Austria       100.0000\n",
       "                ...   \n",
       "Uzbekistan    100.0000\n",
       "Venezuela      98.7700\n",
       "Vietnam        98.7875\n",
       "Zambia          5.7600\n",
       "Zimbabwe       17.4250\n",
       "Name: Rural electricity access (%), Length: 120, dtype: float64"
      ]
     },
     "execution_count": 11,
     "metadata": {},
     "output_type": "execute_result"
    }
   ],
   "source": [
    "# Calculate the total mean for each country for rural electricity\n",
    "clean_elec = internet_data_clean.groupby('Country')['Rural electricity access (%)'].mean()\n",
    "clean_elec"
   ]
  },
  {
   "cell_type": "markdown",
   "metadata": {},
   "source": [
    "## Data Summary"
   ]
  },
  {
   "cell_type": "code",
   "execution_count": 12,
   "metadata": {},
   "outputs": [
    {
     "data": {
      "text/html": [
       "<div>\n",
       "<style scoped>\n",
       "    .dataframe tbody tr th:only-of-type {\n",
       "        vertical-align: middle;\n",
       "    }\n",
       "\n",
       "    .dataframe tbody tr th {\n",
       "        vertical-align: top;\n",
       "    }\n",
       "\n",
       "    .dataframe thead th {\n",
       "        text-align: right;\n",
       "    }\n",
       "</style>\n",
       "<table border=\"1\" class=\"dataframe\">\n",
       "  <thead>\n",
       "    <tr style=\"text-align: right;\">\n",
       "      <th></th>\n",
       "      <th>Country</th>\n",
       "      <th>RoC (%) Broadband</th>\n",
       "      <th>RoC (%) Mobile</th>\n",
       "      <th>Rural electricity access (%)</th>\n",
       "    </tr>\n",
       "  </thead>\n",
       "  <tbody>\n",
       "    <tr>\n",
       "      <th>Algeria</th>\n",
       "      <td>Algeria</td>\n",
       "      <td>10.43</td>\n",
       "      <td>0.22</td>\n",
       "      <td>97.61</td>\n",
       "    </tr>\n",
       "    <tr>\n",
       "      <th>Angola</th>\n",
       "      <td>Angola</td>\n",
       "      <td>-5.40</td>\n",
       "      <td>-1.45</td>\n",
       "      <td>5.92</td>\n",
       "    </tr>\n",
       "    <tr>\n",
       "      <th>Argentina</th>\n",
       "      <td>Argentina</td>\n",
       "      <td>5.41</td>\n",
       "      <td>-3.21</td>\n",
       "      <td>85.19</td>\n",
       "    </tr>\n",
       "    <tr>\n",
       "      <th>Australia</th>\n",
       "      <td>Australia</td>\n",
       "      <td>5.05</td>\n",
       "      <td>0.68</td>\n",
       "      <td>100.00</td>\n",
       "    </tr>\n",
       "    <tr>\n",
       "      <th>Austria</th>\n",
       "      <td>Austria</td>\n",
       "      <td>-0.14</td>\n",
       "      <td>-5.97</td>\n",
       "      <td>100.00</td>\n",
       "    </tr>\n",
       "    <tr>\n",
       "      <th>...</th>\n",
       "      <td>...</td>\n",
       "      <td>...</td>\n",
       "      <td>...</td>\n",
       "      <td>...</td>\n",
       "    </tr>\n",
       "    <tr>\n",
       "      <th>Uzbekistan</th>\n",
       "      <td>Uzbekistan</td>\n",
       "      <td>25.51</td>\n",
       "      <td>10.86</td>\n",
       "      <td>100.00</td>\n",
       "    </tr>\n",
       "    <tr>\n",
       "      <th>Venezuela</th>\n",
       "      <td>Venezuela</td>\n",
       "      <td>1.06</td>\n",
       "      <td>-15.55</td>\n",
       "      <td>98.77</td>\n",
       "    </tr>\n",
       "    <tr>\n",
       "      <th>Vietnam</th>\n",
       "      <td>Vietnam</td>\n",
       "      <td>16.82</td>\n",
       "      <td>2.42</td>\n",
       "      <td>98.79</td>\n",
       "    </tr>\n",
       "    <tr>\n",
       "      <th>Zambia</th>\n",
       "      <td>Zambia</td>\n",
       "      <td>39.06</td>\n",
       "      <td>7.35</td>\n",
       "      <td>5.76</td>\n",
       "    </tr>\n",
       "    <tr>\n",
       "      <th>Zimbabwe</th>\n",
       "      <td>Zimbabwe</td>\n",
       "      <td>4.21</td>\n",
       "      <td>-0.40</td>\n",
       "      <td>17.43</td>\n",
       "    </tr>\n",
       "  </tbody>\n",
       "</table>\n",
       "<p>120 rows × 4 columns</p>\n",
       "</div>"
      ],
      "text/plain": [
       "               Country RoC (%) Broadband RoC (%) Mobile  \\\n",
       "Algeria        Algeria             10.43           0.22   \n",
       "Angola          Angola             -5.40          -1.45   \n",
       "Argentina    Argentina              5.41          -3.21   \n",
       "Australia    Australia              5.05           0.68   \n",
       "Austria        Austria             -0.14          -5.97   \n",
       "...                ...               ...            ...   \n",
       "Uzbekistan  Uzbekistan             25.51          10.86   \n",
       "Venezuela    Venezuela              1.06         -15.55   \n",
       "Vietnam        Vietnam             16.82           2.42   \n",
       "Zambia          Zambia             39.06           7.35   \n",
       "Zimbabwe      Zimbabwe              4.21          -0.40   \n",
       "\n",
       "           Rural electricity access (%)  \n",
       "Algeria                           97.61  \n",
       "Angola                             5.92  \n",
       "Argentina                         85.19  \n",
       "Australia                        100.00  \n",
       "Austria                          100.00  \n",
       "...                                 ...  \n",
       "Uzbekistan                       100.00  \n",
       "Venezuela                         98.77  \n",
       "Vietnam                           98.79  \n",
       "Zambia                             5.76  \n",
       "Zimbabwe                          17.43  \n",
       "\n",
       "[120 rows x 4 columns]"
      ]
     },
     "execution_count": 12,
     "metadata": {},
     "output_type": "execute_result"
    }
   ],
   "source": [
    "# Combine each of the scores above into single DataFrame called `math_scores_by_grade`\n",
    "internet_summary = pd.DataFrame(\n",
    "    {\n",
    "        \"Country\" : country,\n",
    "        \"RoC (%) Broadband\" : clean_broadband,\n",
    "        \"RoC (%) Mobile\" : clean_mobile,\n",
    "        \"Rural electricity access (%)\" : clean_elec\n",
    "    }\n",
    ")\n",
    "\n",
    "# Minor data wrangling\n",
    "internet_summary.index.name = None\n",
    "\n",
    "# Minor data cleaning\n",
    "internet_summary[\"RoC (%) Broadband\"] = internet_summary[\"RoC (%) Broadband\"].map(\"{:,.2f}\".format)\n",
    "internet_summary[\"RoC (%) Mobile\"] = internet_summary[\"RoC (%) Mobile\"].map(\"{:,.2f}\".format)\n",
    "internet_summary[\"Rural electricity access (%)\"] = internet_summary[\"Rural electricity access (%)\"].map(\"{:,.2f}\".format)\n",
    "\n",
    "#export to CSV\n",
    "internet_summary.to_csv(\"Resources/internet_summary.csv\")\n",
    "\n",
    "# Display the DataFrame\n",
    "internet_summary"
   ]
  },
  {
   "cell_type": "markdown",
   "metadata": {},
   "source": [
    "## Broadband V. Rural Electricity "
   ]
  },
  {
   "cell_type": "code",
   "execution_count": 33,
   "metadata": {},
   "outputs": [],
   "source": [
    "# Define a function to create Linear Regression plots\n",
    "def regression_line(arg1, arg2):\n",
    "    slope, intercept, r_value, p_value, std_err = linregress(arg1, arg2)\n",
    "    line = slope * arg1 + intercept\n",
    "    equation_text = f\"y = {round(slope,2)}x + {round(intercept,2)}\"\n",
    "    return line, r_value, round(slope,2), round(intercept,2), equation_text"
   ]
  },
  {
   "cell_type": "code",
   "execution_count": 54,
   "metadata": {},
   "outputs": [
    {
     "data": {
      "image/png": "[encoded data removed]",
      "text/plain": [
       "<Figure size 640x480 with 1 Axes>"
      ]
     },
     "metadata": {},
     "output_type": "display_data"
    }
   ],
   "source": [
    "# Linear regression on Broadband V. Rural Electricity\n",
    "#Data Setup\n",
    "broadband_change = internet_summary['RoC (%) Broadband']\n",
    "rural_electricity = internet_summary['Rural electricity access (%)']\n",
    "#nh_reg_line, r_value, slope, intercept, equation_text = regression_line(broadband_change, rural_electricity)\n",
    "alpha_value = .5\n",
    "\n",
    "# Print the r value\n",
    "#print(f\"The r-value is: {r_value**2}.\")\n",
    "\n",
    "# Plot and Regression Line\n",
    "plt.scatter(rural_electricity, broadband_change, alpha=alpha_value, color='#0099FF', edgecolors='black')\n",
    "#plt.plot(broadband, nh_reg_line, color='#FF0000')\n",
    "#plt.text(2, -25, equation_text, fontsize=15, color='#FF0000')\n",
    "\n",
    "#new_y_scale = 50  # Set your desired interval between tick marks\n",
    "#new_y_min = -30\n",
    "#new_y_max = 1200\n",
    "#plt.ylim(new_y_min, new_y_max)\n",
    "#plt.yticks(range(new_y_min, new_y_max + 1, new_y_scale))\n",
    "\n",
    "\n",
    "# Label\n",
    "plt.title(\"Rate of Change (%) Broadband (2018-2021)  v. Rural Electricty Access (%)\")\n",
    "plt.ylabel(\"Rate of Change (%) Broadband\")\n",
    "plt.yscale('log')\n",
    "plt.xlabel(\"Rural Electricty Access (%)\")\n",
    "plt.grid(False)\n",
    "  \n",
    "#Cleanup\n",
    "plt.show()"
   ]
  },
  {
   "cell_type": "markdown",
   "metadata": {},
   "source": [
    "## Crazy Idea"
   ]
  },
  {
   "cell_type": "code",
   "execution_count": 14,
   "metadata": {},
   "outputs": [
    {
     "data": {
      "text/html": [
       "<div>\n",
       "<style scoped>\n",
       "    .dataframe tbody tr th:only-of-type {\n",
       "        vertical-align: middle;\n",
       "    }\n",
       "\n",
       "    .dataframe tbody tr th {\n",
       "        vertical-align: top;\n",
       "    }\n",
       "\n",
       "    .dataframe thead th {\n",
       "        text-align: right;\n",
       "    }\n",
       "</style>\n",
       "<table border=\"1\" class=\"dataframe\">\n",
       "  <thead>\n",
       "    <tr style=\"text-align: right;\">\n",
       "      <th></th>\n",
       "      <th>Country</th>\n",
       "      <th>Lat</th>\n",
       "      <th>Lng</th>\n",
       "      <th>Unnamed: 0</th>\n",
       "      <th>RoC (%) Broadband</th>\n",
       "      <th>RoC (%) Mobile</th>\n",
       "      <th>Rural electricity access (%)</th>\n",
       "    </tr>\n",
       "  </thead>\n",
       "  <tbody>\n",
       "    <tr>\n",
       "      <th>0</th>\n",
       "      <td>Algeria</td>\n",
       "      <td>28.0000</td>\n",
       "      <td>3.0000</td>\n",
       "      <td>Algeria</td>\n",
       "      <td>10.43</td>\n",
       "      <td>0.22</td>\n",
       "      <td>97.61</td>\n",
       "    </tr>\n",
       "    <tr>\n",
       "      <th>1</th>\n",
       "      <td>Angola</td>\n",
       "      <td>-12.5000</td>\n",
       "      <td>18.5000</td>\n",
       "      <td>Angola</td>\n",
       "      <td>-5.40</td>\n",
       "      <td>-1.45</td>\n",
       "      <td>5.92</td>\n",
       "    </tr>\n",
       "    <tr>\n",
       "      <th>2</th>\n",
       "      <td>Argentina</td>\n",
       "      <td>-34.0000</td>\n",
       "      <td>-64.0000</td>\n",
       "      <td>Argentina</td>\n",
       "      <td>5.41</td>\n",
       "      <td>-3.21</td>\n",
       "      <td>85.19</td>\n",
       "    </tr>\n",
       "    <tr>\n",
       "      <th>3</th>\n",
       "      <td>Australia</td>\n",
       "      <td>-25.0000</td>\n",
       "      <td>135.0000</td>\n",
       "      <td>Australia</td>\n",
       "      <td>5.05</td>\n",
       "      <td>0.68</td>\n",
       "      <td>100.00</td>\n",
       "    </tr>\n",
       "    <tr>\n",
       "      <th>4</th>\n",
       "      <td>Austria</td>\n",
       "      <td>47.3333</td>\n",
       "      <td>13.3333</td>\n",
       "      <td>Austria</td>\n",
       "      <td>-0.14</td>\n",
       "      <td>-5.97</td>\n",
       "      <td>100.00</td>\n",
       "    </tr>\n",
       "    <tr>\n",
       "      <th>...</th>\n",
       "      <td>...</td>\n",
       "      <td>...</td>\n",
       "      <td>...</td>\n",
       "      <td>...</td>\n",
       "      <td>...</td>\n",
       "      <td>...</td>\n",
       "      <td>...</td>\n",
       "    </tr>\n",
       "    <tr>\n",
       "      <th>111</th>\n",
       "      <td>Uzbekistan</td>\n",
       "      <td>41.7075</td>\n",
       "      <td>63.8491</td>\n",
       "      <td>Uzbekistan</td>\n",
       "      <td>25.51</td>\n",
       "      <td>10.86</td>\n",
       "      <td>100.00</td>\n",
       "    </tr>\n",
       "    <tr>\n",
       "      <th>112</th>\n",
       "      <td>Venezuela</td>\n",
       "      <td>8.0000</td>\n",
       "      <td>-66.0000</td>\n",
       "      <td>Venezuela</td>\n",
       "      <td>1.06</td>\n",
       "      <td>-15.55</td>\n",
       "      <td>98.77</td>\n",
       "    </tr>\n",
       "    <tr>\n",
       "      <th>113</th>\n",
       "      <td>Vietnam</td>\n",
       "      <td>16.1667</td>\n",
       "      <td>107.8333</td>\n",
       "      <td>Vietnam</td>\n",
       "      <td>16.82</td>\n",
       "      <td>2.42</td>\n",
       "      <td>98.79</td>\n",
       "    </tr>\n",
       "    <tr>\n",
       "      <th>114</th>\n",
       "      <td>Zambia</td>\n",
       "      <td>-15.0000</td>\n",
       "      <td>30.0000</td>\n",
       "      <td>Zambia</td>\n",
       "      <td>39.06</td>\n",
       "      <td>7.35</td>\n",
       "      <td>5.76</td>\n",
       "    </tr>\n",
       "    <tr>\n",
       "      <th>115</th>\n",
       "      <td>Zimbabwe</td>\n",
       "      <td>-19.0000</td>\n",
       "      <td>29.0000</td>\n",
       "      <td>Zimbabwe</td>\n",
       "      <td>4.21</td>\n",
       "      <td>-0.40</td>\n",
       "      <td>17.43</td>\n",
       "    </tr>\n",
       "  </tbody>\n",
       "</table>\n",
       "<p>116 rows × 7 columns</p>\n",
       "</div>"
      ],
      "text/plain": [
       "        Country      Lat       Lng  Unnamed: 0 RoC (%) Broadband  \\\n",
       "0       Algeria  28.0000    3.0000     Algeria             10.43   \n",
       "1        Angola -12.5000   18.5000      Angola             -5.40   \n",
       "2     Argentina -34.0000  -64.0000   Argentina              5.41   \n",
       "3     Australia -25.0000  135.0000   Australia              5.05   \n",
       "4       Austria  47.3333   13.3333     Austria             -0.14   \n",
       "..          ...      ...       ...         ...               ...   \n",
       "111  Uzbekistan  41.7075   63.8491  Uzbekistan             25.51   \n",
       "112   Venezuela   8.0000  -66.0000   Venezuela              1.06   \n",
       "113     Vietnam  16.1667  107.8333     Vietnam             16.82   \n",
       "114      Zambia -15.0000   30.0000      Zambia             39.06   \n",
       "115    Zimbabwe -19.0000   29.0000    Zimbabwe              4.21   \n",
       "\n",
       "     RoC (%) Mobile  Rural electricity access (%)  \n",
       "0              0.22                         97.61  \n",
       "1             -1.45                          5.92  \n",
       "2             -3.21                         85.19  \n",
       "3              0.68                        100.00  \n",
       "4             -5.97                        100.00  \n",
       "..              ...                           ...  \n",
       "111           10.86                        100.00  \n",
       "112          -15.55                         98.77  \n",
       "113            2.42                         98.79  \n",
       "114            7.35                          5.76  \n",
       "115           -0.40                         17.43  \n",
       "\n",
       "[116 rows x 7 columns]"
      ]
     },
     "execution_count": 14,
     "metadata": {},
     "output_type": "execute_result"
    }
   ],
   "source": [
    "lat_lon_path = \"Resources/Country_Lat_Lon.csv\"\n",
    "internet_summary_path = \"Resources/internet_summary.csv\"\n",
    "\n",
    "# Read the mouse data and the study results\n",
    "lat_lon = pd.read_csv(lat_lon_path)\n",
    "internet_summary = pd.read_csv(internet_summary_path)\n",
    "\n",
    "summary_merge = pd.merge(lat_lon, internet_summary, how=\"left\")\n",
    "\n",
    "summary_merge"
   ]
  },
  {
   "cell_type": "code",
   "execution_count": 25,
   "metadata": {},
   "outputs": [
    {
     "data": {
      "application/vnd.plotly.v1+json": {
       "config": {
        "plotlyServerURL": "https://plot.ly"
       },
       "data": [
        {
         "a": [
          3,
          18.5,
          -64,
          135,
          13.3333,
          47.5,
          50.5,
          90,
          -87.8504,
          2.25,
          24,
          -87.125,
          25,
          -2,
          30,
          105,
          12,
          -0.8141,
          -71,
          -99.2333,
          -77.4297,
          -54.65,
          -5,
          15.5,
          -79.5,
          15,
          -81.1423,
          -70.6667,
          -77.5,
          -75.5299,
          -88.9167,
          26,
          38,
          26,
          -3.7396,
          11.75,
          10.5,
          -2,
          -77.6931,
          -90.5133,
          -10,
          -86.5,
          114.1577,
          20,
          12.2797,
          120,
          53,
          -8,
          34.75,
          -96.8847,
          -82.1703,
          139.7531,
          36,
          68,
          38,
          47.9783,
          105,
          25,
          -86.2911,
          -9.5,
          24,
          47,
          34,
          112.5,
          -12.2982,
          120.7198,
          105,
          -87.4534,
          35,
          98,
          17,
          84,
          5.75,
          174,
          -85,
          8,
          8,
          57,
          70,
          -80,
          147,
          -57.9964,
          -86.0689,
          122,
          -70.3937,
          -8,
          51.25,
          25,
          100,
          30,
          45,
          -14,
          -11.5,
          103.8501,
          19.5,
          -4,
          81,
          30,
          15,
          8.0143,
          121,
          35,
          100,
          -79.9842,
          9,
          34.9115,
          33,
          32,
          -2.6953,
          -98.5,
          -56,
          63.8491,
          -66,
          107.8333,
          30,
          29
         ],
         "b": [
          28,
          -12.5,
          -34,
          -25,
          47.3333,
          40.5,
          26,
          24,
          43.4997,
          9.5,
          -22,
          39.5237,
          43,
          13,
          -3.5,
          13,
          6,
          38.6767,
          -30,
          25.7,
          20.9881,
          -23.4167,
          8,
          45.1667,
          22,
          49.75,
          33.3227,
          19,
          -2,
          40.6801,
          13.8333,
          59,
          8,
          64,
          5.2038,
          -1,
          51.5,
          8,
          43.2098,
          14.6407,
          11,
          15,
          22.2855,
          47,
          46.7406,
          -5,
          32,
          53,
          31.5,
          32.184,
          22.9792,
          35.6854,
          31,
          48,
          1,
          29.3697,
          18,
          57,
          36.2081,
          6.5,
          56,
          -20,
          -13.5,
          2.5,
          12.079,
          15.0646,
          46,
          40.9462,
          -18.25,
          22,
          -22,
          28,
          52.5,
          -42,
          13,
          16,
          10,
          21,
          30,
          9,
          -6,
          -22.9933,
          40.7537,
          13,
          44.0606,
          39.5,
          25.5,
          46,
          60,
          -2,
          25,
          14,
          8.5,
          1.2897,
          48.6667,
          40,
          7,
          16,
          62,
          47.0002,
          24,
          -6,
          15,
          21.8019,
          34,
          39.059,
          2,
          49,
          54.7584,
          39.76,
          -33,
          41.7075,
          8,
          16.1667,
          -15,
          -19
         ],
         "c": [
          "10.43",
          "-5.40",
          "5.41",
          "5.05",
          "-0.14",
          "-0.44",
          "-15.82",
          "12.85",
          "2.17",
          "-16.49",
          "13.01",
          "5.79",
          "6.44",
          "7.02",
          "2.08",
          "20.34",
          "397.72",
          "2.92",
          "4.57",
          "12.54",
          "4.39",
          "11.72",
          "4.67",
          "122.88",
          "6.06",
          "15.93",
          "0.98",
          "7.37",
          "7.02",
          "16.37",
          "8.40",
          "2.37",
          "-18.50",
          "0.74",
          "2.33",
          "23.26",
          "2.83",
          "-5.62",
          "5.27",
          "2.68",
          "0.00",
          "17.65",
          "3.75",
          "4.33",
          "2.22",
          "25.78",
          "6.88",
          "1.57",
          "1.69",
          "4.08",
          "9.26",
          "2.48",
          "8.34",
          "0.97",
          "40.76",
          "14.73",
          "50.42",
          "1.48",
          "1,044.46",
          "4.50",
          "0.30",
          "0.23",
          "21.67",
          "-1.86",
          "292.51",
          "5.80",
          "9.43",
          "9.74",
          "10.14",
          "55.29",
          "-4.27",
          "37.53",
          "1.26",
          "2.53",
          "17.34",
          "-17.86",
          "116.67",
          "17.04",
          "-2.37",
          "12.56",
          "2.63",
          "13.62",
          "4.90",
          "19.46",
          "1.85",
          "6.37",
          "2.07",
          "6.25",
          "5.07",
          "-13.82",
          "-0.14",
          "8.00",
          "7.99",
          "-0.51",
          "5.53",
          "3.58",
          "27.84",
          "3.57",
          "2.98",
          "1.28",
          "0.54",
          "86.33",
          "12.51",
          "5.41",
          "18.90",
          "9.00",
          "-20.45",
          "8.97",
          "1.46",
          "2.18",
          "2.60",
          "25.51",
          "1.06",
          "16.82",
          "39.06",
          "4.21"
         ],
         "hovertemplate": "Lng=%{a}<br>Lat=%{b}<br>RoC (%) Broadband=%{c}<extra></extra>",
         "legendgroup": "",
         "marker": {
          "color": "#636efa",
          "symbol": "circle"
         },
         "mode": "markers",
         "name": "",
         "showlegend": false,
         "subplot": "ternary",
         "type": "scatterternary"
        }
       ],
       "layout": {
        "legend": {
         "tracegroupgap": 0
        },
        "margin": {
         "t": 60
        },
        "template": {
         "data": {
          "bar": [
           {
            "error_x": {
             "color": "#2a3f5f"
            },
            "error_y": {
             "color": "#2a3f5f"
            },
            "marker": {
             "line": {
              "color": "#E5ECF6",
              "width": 0.5
             },
             "pattern": {
              "fillmode": "overlay",
              "size": 10,
              "solidity": 0.2
             }
            },
            "type": "bar"
           }
          ],
          "barpolar": [
           {
            "marker": {
             "line": {
              "color": "#E5ECF6",
              "width": 0.5
             },
             "pattern": {
              "fillmode": "overlay",
              "size": 10,
              "solidity": 0.2
             }
            },
            "type": "barpolar"
           }
          ],
          "carpet": [
           {
            "aaxis": {
             "endlinecolor": "#2a3f5f",
             "gridcolor": "white",
             "linecolor": "white",
             "minorgridcolor": "white",
             "startlinecolor": "#2a3f5f"
            },
            "baxis": {
             "endlinecolor": "#2a3f5f",
             "gridcolor": "white",
             "linecolor": "white",
             "minorgridcolor": "white",
             "startlinecolor": "#2a3f5f"
            },
            "type": "carpet"
           }
          ],
          "choropleth": [
           {
            "colorbar": {
             "outlinewidth": 0,
             "ticks": ""
            },
            "type": "choropleth"
           }
          ],
          "contour": [
           {
            "colorbar": {
             "outlinewidth": 0,
             "ticks": ""
            },
            "colorscale": [
             [
              0,
              "#0d0887"
             ],
             [
              0.1111111111111111,
              "#46039f"
             ],
             [
              0.2222222222222222,
              "#7201a8"
             ],
             [
              0.3333333333333333,
              "#9c179e"
             ],
             [
              0.4444444444444444,
              "#bd3786"
             ],
             [
              0.5555555555555556,
              "#d8576b"
             ],
             [
              0.6666666666666666,
              "#ed7953"
             ],
             [
              0.7777777777777778,
              "#fb9f3a"
             ],
             [
              0.8888888888888888,
              "#fdca26"
             ],
             [
              1,
              "#f0f921"
             ]
            ],
            "type": "contour"
           }
          ],
          "contourcarpet": [
           {
            "colorbar": {
             "outlinewidth": 0,
             "ticks": ""
            },
            "type": "contourcarpet"
           }
          ],
          "heatmap": [
           {
            "colorbar": {
             "outlinewidth": 0,
             "ticks": ""
            },
            "colorscale": [
             [
              0,
              "#0d0887"
             ],
             [
              0.1111111111111111,
              "#46039f"
             ],
             [
              0.2222222222222222,
              "#7201a8"
             ],
             [
              0.3333333333333333,
              "#9c179e"
             ],
             [
              0.4444444444444444,
              "#bd3786"
             ],
             [
              0.5555555555555556,
              "#d8576b"
             ],
             [
              0.6666666666666666,
              "#ed7953"
             ],
             [
              0.7777777777777778,
              "#fb9f3a"
             ],
             [
              0.8888888888888888,
              "#fdca26"
             ],
             [
              1,
              "#f0f921"
             ]
            ],
            "type": "heatmap"
           }
          ],
          "heatmapgl": [
           {
            "colorbar": {
             "outlinewidth": 0,
             "ticks": ""
            },
            "colorscale": [
             [
              0,
              "#0d0887"
             ],
             [
              0.1111111111111111,
              "#46039f"
             ],
             [
              0.2222222222222222,
              "#7201a8"
             ],
             [
              0.3333333333333333,
              "#9c179e"
             ],
             [
              0.4444444444444444,
              "#bd3786"
             ],
             [
              0.5555555555555556,
              "#d8576b"
             ],
             [
              0.6666666666666666,
              "#ed7953"
             ],
             [
              0.7777777777777778,
              "#fb9f3a"
             ],
             [
              0.8888888888888888,
              "#fdca26"
             ],
             [
              1,
              "#f0f921"
             ]
            ],
            "type": "heatmapgl"
           }
          ],
          "histogram": [
           {
            "marker": {
             "pattern": {
              "fillmode": "overlay",
              "size": 10,
              "solidity": 0.2
             }
            },
            "type": "histogram"
           }
          ],
          "histogram2d": [
           {
            "colorbar": {
             "outlinewidth": 0,
             "ticks": ""
            },
            "colorscale": [
             [
              0,
              "#0d0887"
             ],
             [
              0.1111111111111111,
              "#46039f"
             ],
             [
              0.2222222222222222,
              "#7201a8"
             ],
             [
              0.3333333333333333,
              "#9c179e"
             ],
             [
              0.4444444444444444,
              "#bd3786"
             ],
             [
              0.5555555555555556,
              "#d8576b"
             ],
             [
              0.6666666666666666,
              "#ed7953"
             ],
             [
              0.7777777777777778,
              "#fb9f3a"
             ],
             [
              0.8888888888888888,
              "#fdca26"
             ],
             [
              1,
              "#f0f921"
             ]
            ],
            "type": "histogram2d"
           }
          ],
          "histogram2dcontour": [
           {
            "colorbar": {
             "outlinewidth": 0,
             "ticks": ""
            },
            "colorscale": [
             [
              0,
              "#0d0887"
             ],
             [
              0.1111111111111111,
              "#46039f"
             ],
             [
              0.2222222222222222,
              "#7201a8"
             ],
             [
              0.3333333333333333,
              "#9c179e"
             ],
             [
              0.4444444444444444,
              "#bd3786"
             ],
             [
              0.5555555555555556,
              "#d8576b"
             ],
             [
              0.6666666666666666,
              "#ed7953"
             ],
             [
              0.7777777777777778,
              "#fb9f3a"
             ],
             [
              0.8888888888888888,
              "#fdca26"
             ],
             [
              1,
              "#f0f921"
             ]
            ],
            "type": "histogram2dcontour"
           }
          ],
          "mesh3d": [
           {
            "colorbar": {
             "outlinewidth": 0,
             "ticks": ""
            },
            "type": "mesh3d"
           }
          ],
          "parcoords": [
           {
            "line": {
             "colorbar": {
              "outlinewidth": 0,
              "ticks": ""
             }
            },
            "type": "parcoords"
           }
          ],
          "pie": [
           {
            "automargin": true,
            "type": "pie"
           }
          ],
          "scatter": [
           {
            "fillpattern": {
             "fillmode": "overlay",
             "size": 10,
             "solidity": 0.2
            },
            "type": "scatter"
           }
          ],
          "scatter3d": [
           {
            "line": {
             "colorbar": {
              "outlinewidth": 0,
              "ticks": ""
             }
            },
            "marker": {
             "colorbar": {
              "outlinewidth": 0,
              "ticks": ""
             }
            },
            "type": "scatter3d"
           }
          ],
          "scattercarpet": [
           {
            "marker": {
             "colorbar": {
              "outlinewidth": 0,
              "ticks": ""
             }
            },
            "type": "scattercarpet"
           }
          ],
          "scattergeo": [
           {
            "marker": {
             "colorbar": {
              "outlinewidth": 0,
              "ticks": ""
             }
            },
            "type": "scattergeo"
           }
          ],
          "scattergl": [
           {
            "marker": {
             "colorbar": {
              "outlinewidth": 0,
              "ticks": ""
             }
            },
            "type": "scattergl"
           }
          ],
          "scattermapbox": [
           {
            "marker": {
             "colorbar": {
              "outlinewidth": 0,
              "ticks": ""
             }
            },
            "type": "scattermapbox"
           }
          ],
          "scatterpolar": [
           {
            "marker": {
             "colorbar": {
              "outlinewidth": 0,
              "ticks": ""
             }
            },
            "type": "scatterpolar"
           }
          ],
          "scatterpolargl": [
           {
            "marker": {
             "colorbar": {
              "outlinewidth": 0,
              "ticks": ""
             }
            },
            "type": "scatterpolargl"
           }
          ],
          "scatterternary": [
           {
            "marker": {
             "colorbar": {
              "outlinewidth": 0,
              "ticks": ""
             }
            },
            "type": "scatterternary"
           }
          ],
          "surface": [
           {
            "colorbar": {
             "outlinewidth": 0,
             "ticks": ""
            },
            "colorscale": [
             [
              0,
              "#0d0887"
             ],
             [
              0.1111111111111111,
              "#46039f"
             ],
             [
              0.2222222222222222,
              "#7201a8"
             ],
             [
              0.3333333333333333,
              "#9c179e"
             ],
             [
              0.4444444444444444,
              "#bd3786"
             ],
             [
              0.5555555555555556,
              "#d8576b"
             ],
             [
              0.6666666666666666,
              "#ed7953"
             ],
             [
              0.7777777777777778,
              "#fb9f3a"
             ],
             [
              0.8888888888888888,
              "#fdca26"
             ],
             [
              1,
              "#f0f921"
             ]
            ],
            "type": "surface"
           }
          ],
          "table": [
           {
            "cells": {
             "fill": {
              "color": "#EBF0F8"
             },
             "line": {
              "color": "white"
             }
            },
            "header": {
             "fill": {
              "color": "#C8D4E3"
             },
             "line": {
              "color": "white"
             }
            },
            "type": "table"
           }
          ]
         },
         "layout": {
          "annotationdefaults": {
           "arrowcolor": "#2a3f5f",
           "arrowhead": 0,
           "arrowwidth": 1
          },
          "autotypenumbers": "strict",
          "coloraxis": {
           "colorbar": {
            "outlinewidth": 0,
            "ticks": ""
           }
          },
          "colorscale": {
           "diverging": [
            [
             0,
             "#8e0152"
            ],
            [
             0.1,
             "#c51b7d"
            ],
            [
             0.2,
             "#de77ae"
            ],
            [
             0.3,
             "#f1b6da"
            ],
            [
             0.4,
             "#fde0ef"
            ],
            [
             0.5,
             "#f7f7f7"
            ],
            [
             0.6,
             "#e6f5d0"
            ],
            [
             0.7,
             "#b8e186"
            ],
            [
             0.8,
             "#7fbc41"
            ],
            [
             0.9,
             "#4d9221"
            ],
            [
             1,
             "#276419"
            ]
           ],
           "sequential": [
            [
             0,
             "#0d0887"
            ],
            [
             0.1111111111111111,
             "#46039f"
            ],
            [
             0.2222222222222222,
             "#7201a8"
            ],
            [
             0.3333333333333333,
             "#9c179e"
            ],
            [
             0.4444444444444444,
             "#bd3786"
            ],
            [
             0.5555555555555556,
             "#d8576b"
            ],
            [
             0.6666666666666666,
             "#ed7953"
            ],
            [
             0.7777777777777778,
             "#fb9f3a"
            ],
            [
             0.8888888888888888,
             "#fdca26"
            ],
            [
             1,
             "#f0f921"
            ]
           ],
           "sequentialminus": [
            [
             0,
             "#0d0887"
            ],
            [
             0.1111111111111111,
             "#46039f"
            ],
            [
             0.2222222222222222,
             "#7201a8"
            ],
            [
             0.3333333333333333,
             "#9c179e"
            ],
            [
             0.4444444444444444,
             "#bd3786"
            ],
            [
             0.5555555555555556,
             "#d8576b"
            ],
            [
             0.6666666666666666,
             "#ed7953"
            ],
            [
             0.7777777777777778,
             "#fb9f3a"
            ],
            [
             0.8888888888888888,
             "#fdca26"
            ],
            [
             1,
             "#f0f921"
            ]
           ]
          },
          "colorway": [
           "#636efa",
           "#EF553B",
           "#00cc96",
           "#ab63fa",
           "#FFA15A",
           "#19d3f3",
           "#FF6692",
           "#B6E880",
           "#FF97FF",
           "#FECB52"
          ],
          "font": {
           "color": "#2a3f5f"
          },
          "geo": {
           "bgcolor": "white",
           "lakecolor": "white",
           "landcolor": "#E5ECF6",
           "showlakes": true,
           "showland": true,
           "subunitcolor": "white"
          },
          "hoverlabel": {
           "align": "left"
          },
          "hovermode": "closest",
          "mapbox": {
           "style": "light"
          },
          "paper_bgcolor": "white",
          "plot_bgcolor": "#E5ECF6",
          "polar": {
           "angularaxis": {
            "gridcolor": "white",
            "linecolor": "white",
            "ticks": ""
           },
           "bgcolor": "#E5ECF6",
           "radialaxis": {
            "gridcolor": "white",
            "linecolor": "white",
            "ticks": ""
           }
          },
          "scene": {
           "xaxis": {
            "backgroundcolor": "#E5ECF6",
            "gridcolor": "white",
            "gridwidth": 2,
            "linecolor": "white",
            "showbackground": true,
            "ticks": "",
            "zerolinecolor": "white"
           },
           "yaxis": {
            "backgroundcolor": "#E5ECF6",
            "gridcolor": "white",
            "gridwidth": 2,
            "linecolor": "white",
            "showbackground": true,
            "ticks": "",
            "zerolinecolor": "white"
           },
           "zaxis": {
            "backgroundcolor": "#E5ECF6",
            "gridcolor": "white",
            "gridwidth": 2,
            "linecolor": "white",
            "showbackground": true,
            "ticks": "",
            "zerolinecolor": "white"
           }
          },
          "shapedefaults": {
           "line": {
            "color": "#2a3f5f"
           }
          },
          "ternary": {
           "aaxis": {
            "gridcolor": "white",
            "linecolor": "white",
            "ticks": ""
           },
           "baxis": {
            "gridcolor": "white",
            "linecolor": "white",
            "ticks": ""
           },
           "bgcolor": "#E5ECF6",
           "caxis": {
            "gridcolor": "white",
            "linecolor": "white",
            "ticks": ""
           }
          },
          "title": {
           "x": 0.05
          },
          "xaxis": {
           "automargin": true,
           "gridcolor": "white",
           "linecolor": "white",
           "ticks": "",
           "title": {
            "standoff": 15
           },
           "zerolinecolor": "white",
           "zerolinewidth": 2
          },
          "yaxis": {
           "automargin": true,
           "gridcolor": "white",
           "linecolor": "white",
           "ticks": "",
           "title": {
            "standoff": 15
           },
           "zerolinecolor": "white",
           "zerolinewidth": 2
          }
         }
        },
        "ternary": {
         "aaxis": {
          "title": {
           "text": "Lng"
          }
         },
         "baxis": {
          "title": {
           "text": "Lat"
          }
         },
         "caxis": {
          "title": {
           "text": "RoC (%) Broadband"
          }
         },
         "domain": {
          "x": [
           0,
           1
          ],
          "y": [
           0,
           1
          ]
         }
        }
       }
      },
      "text/html": [
       "<div>                            <div id=\"c5482054-54c1-4cde-ad1e-a08f8e4db262\" class=\"plotly-graph-div\" style=\"height:525px; width:100%;\"></div>            <script type=\"text/javascript\">                require([\"plotly\"], function(Plotly) {                    window.PLOTLYENV=window.PLOTLYENV || {};                                    if (document.getElementById(\"c5482054-54c1-4cde-ad1e-a08f8e4db262\")) {                    Plotly.newPlot(                        \"c5482054-54c1-4cde-ad1e-a08f8e4db262\",                        [{\"a\":[3.0,18.5,-64.0,135.0,13.3333,47.5,50.5,90.0,-87.8504,2.25,24.0,-87.125,25.0,-2.0,30.0,105.0,12.0,-0.8141,-71.0,-99.2333,-77.4297,-54.65,-5.0,15.5,-79.5,15.0,-81.1423,-70.6667,-77.5,-75.5299,-88.9167,26.0,38.0,26.0,-3.7396,11.75,10.5,-2.0,-77.6931,-90.5133,-10.0,-86.5,114.1577,20.0,12.2797,120.0,53.0,-8.0,34.75,-96.8847,-82.1703,139.7531,36.0,68.0,38.0,47.9783,105.0,25.0,-86.2911,-9.5,24.0,47.0,34.0,112.5,-12.2982,120.7198,105.0,-87.4534,35.0,98.0,17.0,84.0,5.75,174.0,-85.0,8.0,8.0,57.0,70.0,-80.0,147.0,-57.9964,-86.0689,122.0,-70.3937,-8.0,51.25,25.0,100.0,30.0,45.0,-14.0,-11.5,103.8501,19.5,-4.0,81.0,30.0,15.0,8.0143,121.0,35.0,100.0,-79.9842,9.0,34.9115,33.0,32.0,-2.6953,-98.5,-56.0,63.8491,-66.0,107.8333,30.0,29.0],\"b\":[28.0,-12.5,-34.0,-25.0,47.3333,40.5,26.0,24.0,43.4997,9.5,-22.0,39.5237,43.0,13.0,-3.5,13.0,6.0,38.6767,-30.0,25.7,20.9881,-23.4167,8.0,45.1667,22.0,49.75,33.3227,19.0,-2.0,40.6801,13.8333,59.0,8.0,64.0,5.2038,-1.0,51.5,8.0,43.2098,14.6407,11.0,15.0,22.2855,47.0,46.7406,-5.0,32.0,53.0,31.5,32.184,22.9792,35.6854,31.0,48.0,1.0,29.3697,18.0,57.0,36.2081,6.5,56.0,-20.0,-13.5,2.5,12.079,15.0646,46.0,40.9462,-18.25,22.0,-22.0,28.0,52.5,-42.0,13.0,16.0,10.0,21.0,30.0,9.0,-6.0,-22.9933,40.7537,13.0,44.0606,39.5,25.5,46.0,60.0,-2.0,25.0,14.0,8.5,1.2897,48.6667,40.0,7.0,16.0,62.0,47.0002,24.0,-6.0,15.0,21.8019,34.0,39.059,2.0,49.0,54.7584,39.76,-33.0,41.7075,8.0,16.1667,-15.0,-19.0],\"c\":[\"10.43\",\"-5.40\",\"5.41\",\"5.05\",\"-0.14\",\"-0.44\",\"-15.82\",\"12.85\",\"2.17\",\"-16.49\",\"13.01\",\"5.79\",\"6.44\",\"7.02\",\"2.08\",\"20.34\",\"397.72\",\"2.92\",\"4.57\",\"12.54\",\"4.39\",\"11.72\",\"4.67\",\"122.88\",\"6.06\",\"15.93\",\"0.98\",\"7.37\",\"7.02\",\"16.37\",\"8.40\",\"2.37\",\"-18.50\",\"0.74\",\"2.33\",\"23.26\",\"2.83\",\"-5.62\",\"5.27\",\"2.68\",\"0.00\",\"17.65\",\"3.75\",\"4.33\",\"2.22\",\"25.78\",\"6.88\",\"1.57\",\"1.69\",\"4.08\",\"9.26\",\"2.48\",\"8.34\",\"0.97\",\"40.76\",\"14.73\",\"50.42\",\"1.48\",\"1,044.46\",\"4.50\",\"0.30\",\"0.23\",\"21.67\",\"-1.86\",\"292.51\",\"5.80\",\"9.43\",\"9.74\",\"10.14\",\"55.29\",\"-4.27\",\"37.53\",\"1.26\",\"2.53\",\"17.34\",\"-17.86\",\"116.67\",\"17.04\",\"-2.37\",\"12.56\",\"2.63\",\"13.62\",\"4.90\",\"19.46\",\"1.85\",\"6.37\",\"2.07\",\"6.25\",\"5.07\",\"-13.82\",\"-0.14\",\"8.00\",\"7.99\",\"-0.51\",\"5.53\",\"3.58\",\"27.84\",\"3.57\",\"2.98\",\"1.28\",\"0.54\",\"86.33\",\"12.51\",\"5.41\",\"18.90\",\"9.00\",\"-20.45\",\"8.97\",\"1.46\",\"2.18\",\"2.60\",\"25.51\",\"1.06\",\"16.82\",\"39.06\",\"4.21\"],\"hovertemplate\":\"Lng=%{a}\\u003cbr\\u003eLat=%{b}\\u003cbr\\u003eRoC (%) Broadband=%{c}\\u003cextra\\u003e\\u003c\\u002fextra\\u003e\",\"legendgroup\":\"\",\"marker\":{\"color\":\"#636efa\",\"symbol\":\"circle\"},\"mode\":\"markers\",\"name\":\"\",\"showlegend\":false,\"subplot\":\"ternary\",\"type\":\"scatterternary\"}],                        {\"template\":{\"data\":{\"histogram2dcontour\":[{\"type\":\"histogram2dcontour\",\"colorbar\":{\"outlinewidth\":0,\"ticks\":\"\"},\"colorscale\":[[0.0,\"#0d0887\"],[0.1111111111111111,\"#46039f\"],[0.2222222222222222,\"#7201a8\"],[0.3333333333333333,\"#9c179e\"],[0.4444444444444444,\"#bd3786\"],[0.5555555555555556,\"#d8576b\"],[0.6666666666666666,\"#ed7953\"],[0.7777777777777778,\"#fb9f3a\"],[0.8888888888888888,\"#fdca26\"],[1.0,\"#f0f921\"]]}],\"choropleth\":[{\"type\":\"choropleth\",\"colorbar\":{\"outlinewidth\":0,\"ticks\":\"\"}}],\"histogram2d\":[{\"type\":\"histogram2d\",\"colorbar\":{\"outlinewidth\":0,\"ticks\":\"\"},\"colorscale\":[[0.0,\"#0d0887\"],[0.1111111111111111,\"#46039f\"],[0.2222222222222222,\"#7201a8\"],[0.3333333333333333,\"#9c179e\"],[0.4444444444444444,\"#bd3786\"],[0.5555555555555556,\"#d8576b\"],[0.6666666666666666,\"#ed7953\"],[0.7777777777777778,\"#fb9f3a\"],[0.8888888888888888,\"#fdca26\"],[1.0,\"#f0f921\"]]}],\"heatmap\":[{\"type\":\"heatmap\",\"colorbar\":{\"outlinewidth\":0,\"ticks\":\"\"},\"colorscale\":[[0.0,\"#0d0887\"],[0.1111111111111111,\"#46039f\"],[0.2222222222222222,\"#7201a8\"],[0.3333333333333333,\"#9c179e\"],[0.4444444444444444,\"#bd3786\"],[0.5555555555555556,\"#d8576b\"],[0.6666666666666666,\"#ed7953\"],[0.7777777777777778,\"#fb9f3a\"],[0.8888888888888888,\"#fdca26\"],[1.0,\"#f0f921\"]]}],\"heatmapgl\":[{\"type\":\"heatmapgl\",\"colorbar\":{\"outlinewidth\":0,\"ticks\":\"\"},\"colorscale\":[[0.0,\"#0d0887\"],[0.1111111111111111,\"#46039f\"],[0.2222222222222222,\"#7201a8\"],[0.3333333333333333,\"#9c179e\"],[0.4444444444444444,\"#bd3786\"],[0.5555555555555556,\"#d8576b\"],[0.6666666666666666,\"#ed7953\"],[0.7777777777777778,\"#fb9f3a\"],[0.8888888888888888,\"#fdca26\"],[1.0,\"#f0f921\"]]}],\"contourcarpet\":[{\"type\":\"contourcarpet\",\"colorbar\":{\"outlinewidth\":0,\"ticks\":\"\"}}],\"contour\":[{\"type\":\"contour\",\"colorbar\":{\"outlinewidth\":0,\"ticks\":\"\"},\"colorscale\":[[0.0,\"#0d0887\"],[0.1111111111111111,\"#46039f\"],[0.2222222222222222,\"#7201a8\"],[0.3333333333333333,\"#9c179e\"],[0.4444444444444444,\"#bd3786\"],[0.5555555555555556,\"#d8576b\"],[0.6666666666666666,\"#ed7953\"],[0.7777777777777778,\"#fb9f3a\"],[0.8888888888888888,\"#fdca26\"],[1.0,\"#f0f921\"]]}],\"surface\":[{\"type\":\"surface\",\"colorbar\":{\"outlinewidth\":0,\"ticks\":\"\"},\"colorscale\":[[0.0,\"#0d0887\"],[0.1111111111111111,\"#46039f\"],[0.2222222222222222,\"#7201a8\"],[0.3333333333333333,\"#9c179e\"],[0.4444444444444444,\"#bd3786\"],[0.5555555555555556,\"#d8576b\"],[0.6666666666666666,\"#ed7953\"],[0.7777777777777778,\"#fb9f3a\"],[0.8888888888888888,\"#fdca26\"],[1.0,\"#f0f921\"]]}],\"mesh3d\":[{\"type\":\"mesh3d\",\"colorbar\":{\"outlinewidth\":0,\"ticks\":\"\"}}],\"scatter\":[{\"fillpattern\":{\"fillmode\":\"overlay\",\"size\":10,\"solidity\":0.2},\"type\":\"scatter\"}],\"parcoords\":[{\"type\":\"parcoords\",\"line\":{\"colorbar\":{\"outlinewidth\":0,\"ticks\":\"\"}}}],\"scatterpolargl\":[{\"type\":\"scatterpolargl\",\"marker\":{\"colorbar\":{\"outlinewidth\":0,\"ticks\":\"\"}}}],\"bar\":[{\"error_x\":{\"color\":\"#2a3f5f\"},\"error_y\":{\"color\":\"#2a3f5f\"},\"marker\":{\"line\":{\"color\":\"#E5ECF6\",\"width\":0.5},\"pattern\":{\"fillmode\":\"overlay\",\"size\":10,\"solidity\":0.2}},\"type\":\"bar\"}],\"scattergeo\":[{\"type\":\"scattergeo\",\"marker\":{\"colorbar\":{\"outlinewidth\":0,\"ticks\":\"\"}}}],\"scatterpolar\":[{\"type\":\"scatterpolar\",\"marker\":{\"colorbar\":{\"outlinewidth\":0,\"ticks\":\"\"}}}],\"histogram\":[{\"marker\":{\"pattern\":{\"fillmode\":\"overlay\",\"size\":10,\"solidity\":0.2}},\"type\":\"histogram\"}],\"scattergl\":[{\"type\":\"scattergl\",\"marker\":{\"colorbar\":{\"outlinewidth\":0,\"ticks\":\"\"}}}],\"scatter3d\":[{\"type\":\"scatter3d\",\"line\":{\"colorbar\":{\"outlinewidth\":0,\"ticks\":\"\"}},\"marker\":{\"colorbar\":{\"outlinewidth\":0,\"ticks\":\"\"}}}],\"scattermapbox\":[{\"type\":\"scattermapbox\",\"marker\":{\"colorbar\":{\"outlinewidth\":0,\"ticks\":\"\"}}}],\"scatterternary\":[{\"type\":\"scatterternary\",\"marker\":{\"colorbar\":{\"outlinewidth\":0,\"ticks\":\"\"}}}],\"scattercarpet\":[{\"type\":\"scattercarpet\",\"marker\":{\"colorbar\":{\"outlinewidth\":0,\"ticks\":\"\"}}}],\"carpet\":[{\"aaxis\":{\"endlinecolor\":\"#2a3f5f\",\"gridcolor\":\"white\",\"linecolor\":\"white\",\"minorgridcolor\":\"white\",\"startlinecolor\":\"#2a3f5f\"},\"baxis\":{\"endlinecolor\":\"#2a3f5f\",\"gridcolor\":\"white\",\"linecolor\":\"white\",\"minorgridcolor\":\"white\",\"startlinecolor\":\"#2a3f5f\"},\"type\":\"carpet\"}],\"table\":[{\"cells\":{\"fill\":{\"color\":\"#EBF0F8\"},\"line\":{\"color\":\"white\"}},\"header\":{\"fill\":{\"color\":\"#C8D4E3\"},\"line\":{\"color\":\"white\"}},\"type\":\"table\"}],\"barpolar\":[{\"marker\":{\"line\":{\"color\":\"#E5ECF6\",\"width\":0.5},\"pattern\":{\"fillmode\":\"overlay\",\"size\":10,\"solidity\":0.2}},\"type\":\"barpolar\"}],\"pie\":[{\"automargin\":true,\"type\":\"pie\"}]},\"layout\":{\"autotypenumbers\":\"strict\",\"colorway\":[\"#636efa\",\"#EF553B\",\"#00cc96\",\"#ab63fa\",\"#FFA15A\",\"#19d3f3\",\"#FF6692\",\"#B6E880\",\"#FF97FF\",\"#FECB52\"],\"font\":{\"color\":\"#2a3f5f\"},\"hovermode\":\"closest\",\"hoverlabel\":{\"align\":\"left\"},\"paper_bgcolor\":\"white\",\"plot_bgcolor\":\"#E5ECF6\",\"polar\":{\"bgcolor\":\"#E5ECF6\",\"angularaxis\":{\"gridcolor\":\"white\",\"linecolor\":\"white\",\"ticks\":\"\"},\"radialaxis\":{\"gridcolor\":\"white\",\"linecolor\":\"white\",\"ticks\":\"\"}},\"ternary\":{\"bgcolor\":\"#E5ECF6\",\"aaxis\":{\"gridcolor\":\"white\",\"linecolor\":\"white\",\"ticks\":\"\"},\"baxis\":{\"gridcolor\":\"white\",\"linecolor\":\"white\",\"ticks\":\"\"},\"caxis\":{\"gridcolor\":\"white\",\"linecolor\":\"white\",\"ticks\":\"\"}},\"coloraxis\":{\"colorbar\":{\"outlinewidth\":0,\"ticks\":\"\"}},\"colorscale\":{\"sequential\":[[0.0,\"#0d0887\"],[0.1111111111111111,\"#46039f\"],[0.2222222222222222,\"#7201a8\"],[0.3333333333333333,\"#9c179e\"],[0.4444444444444444,\"#bd3786\"],[0.5555555555555556,\"#d8576b\"],[0.6666666666666666,\"#ed7953\"],[0.7777777777777778,\"#fb9f3a\"],[0.8888888888888888,\"#fdca26\"],[1.0,\"#f0f921\"]],\"sequentialminus\":[[0.0,\"#0d0887\"],[0.1111111111111111,\"#46039f\"],[0.2222222222222222,\"#7201a8\"],[0.3333333333333333,\"#9c179e\"],[0.4444444444444444,\"#bd3786\"],[0.5555555555555556,\"#d8576b\"],[0.6666666666666666,\"#ed7953\"],[0.7777777777777778,\"#fb9f3a\"],[0.8888888888888888,\"#fdca26\"],[1.0,\"#f0f921\"]],\"diverging\":[[0,\"#8e0152\"],[0.1,\"#c51b7d\"],[0.2,\"#de77ae\"],[0.3,\"#f1b6da\"],[0.4,\"#fde0ef\"],[0.5,\"#f7f7f7\"],[0.6,\"#e6f5d0\"],[0.7,\"#b8e186\"],[0.8,\"#7fbc41\"],[0.9,\"#4d9221\"],[1,\"#276419\"]]},\"xaxis\":{\"gridcolor\":\"white\",\"linecolor\":\"white\",\"ticks\":\"\",\"title\":{\"standoff\":15},\"zerolinecolor\":\"white\",\"automargin\":true,\"zerolinewidth\":2},\"yaxis\":{\"gridcolor\":\"white\",\"linecolor\":\"white\",\"ticks\":\"\",\"title\":{\"standoff\":15},\"zerolinecolor\":\"white\",\"automargin\":true,\"zerolinewidth\":2},\"scene\":{\"xaxis\":{\"backgroundcolor\":\"#E5ECF6\",\"gridcolor\":\"white\",\"linecolor\":\"white\",\"showbackground\":true,\"ticks\":\"\",\"zerolinecolor\":\"white\",\"gridwidth\":2},\"yaxis\":{\"backgroundcolor\":\"#E5ECF6\",\"gridcolor\":\"white\",\"linecolor\":\"white\",\"showbackground\":true,\"ticks\":\"\",\"zerolinecolor\":\"white\",\"gridwidth\":2},\"zaxis\":{\"backgroundcolor\":\"#E5ECF6\",\"gridcolor\":\"white\",\"linecolor\":\"white\",\"showbackground\":true,\"ticks\":\"\",\"zerolinecolor\":\"white\",\"gridwidth\":2}},\"shapedefaults\":{\"line\":{\"color\":\"#2a3f5f\"}},\"annotationdefaults\":{\"arrowcolor\":\"#2a3f5f\",\"arrowhead\":0,\"arrowwidth\":1},\"geo\":{\"bgcolor\":\"white\",\"landcolor\":\"#E5ECF6\",\"subunitcolor\":\"white\",\"showland\":true,\"showlakes\":true,\"lakecolor\":\"white\"},\"title\":{\"x\":0.05},\"mapbox\":{\"style\":\"light\"}}},\"ternary\":{\"domain\":{\"x\":[0.0,1.0],\"y\":[0.0,1.0]},\"aaxis\":{\"title\":{\"text\":\"Lng\"}},\"baxis\":{\"title\":{\"text\":\"Lat\"}},\"caxis\":{\"title\":{\"text\":\"RoC (%) Broadband\"}}},\"legend\":{\"tracegroupgap\":0},\"margin\":{\"t\":60}},                        {\"responsive\": true}                    ).then(function(){\n",
       "                            \n",
       "var gd = document.getElementById('c5482054-54c1-4cde-ad1e-a08f8e4db262');\n",
       "var x = new MutationObserver(function (mutations, observer) {{\n",
       "        var display = window.getComputedStyle(gd).display;\n",
       "        if (!display || display === 'none') {{\n",
       "            console.log([gd, 'removed!']);\n",
       "            Plotly.purge(gd);\n",
       "            observer.disconnect();\n",
       "        }}\n",
       "}});\n",
       "\n",
       "// Listen for the removal of the full notebook cells\n",
       "var notebookContainer = gd.closest('#notebook-container');\n",
       "if (notebookContainer) {{\n",
       "    x.observe(notebookContainer, {childList: true});\n",
       "}}\n",
       "\n",
       "// Listen for the clearing of the current output cell\n",
       "var outputEl = gd.closest('.output');\n",
       "if (outputEl) {{\n",
       "    x.observe(outputEl, {childList: true});\n",
       "}}\n",
       "\n",
       "                        })                };                });            </script>        </div>"
      ]
     },
     "metadata": {},
     "output_type": "display_data"
    }
   ],
   "source": [
    "fig = px.scatter_ternary(summary_merge, a='Lng',b='Lat',c='RoC (%) Broadband', color_continuous_scale=\"Viridis\")\n",
    "#fig.xlabel(\"Longitude\")\n",
    "#plt.ylabel(\"Latitude\")\n",
    "#clb.set_label(\"Rate of Change (%) Broadband\")\n",
    "fig.show()"
   ]
  },
  {
   "cell_type": "code",
   "execution_count": 53,
   "metadata": {},
   "outputs": [
    {
     "data": {
      "image/png": "[encoded data removed]",
      "text/plain": [
       "<Figure size 640x480 with 1 Axes>"
      ]
     },
     "metadata": {},
     "output_type": "display_data"
    }
   ],
   "source": [
    "#bubble plot\n",
    "plt.scatter(\n",
    "    x=summary_merge['Rural electricity access (%)'],\n",
    "    y=summary_merge['RoC (%) Broadband'],\n",
    "    s=summary_merge['Rural electricity access (%)'],  # Replace 'Bubble Size' with the actual column name for bubble size\n",
    "    alpha=0.7,\n",
    "    c='blue',\n",
    "    edgecolors='w',\n",
    "    linewidth=1\n",
    ")\n",
    "\n",
    "# Add labels and title\n",
    "plt.ylabel('Rate of Change (%) Broadband (2018-2021)')\n",
    "plt.yscale('log')\n",
    "plt.xlabel('Rural Electricity Access (%)')\n",
    "plt.title('Bubble Chart: Rate of Change Broadband vs Rural Electricity Access')\n",
    "\n",
    "\n",
    "# Show the plot\n",
    "plt.show()\n"
   ]
  },
  {
   "cell_type": "code",
   "execution_count": 42,
   "metadata": {},
   "outputs": [
    {
     "data": {
      "image/png": "[encoded data removed]",
      "text/plain": [
       "<Figure size 640x480 with 1 Axes>"
      ]
     },
     "metadata": {},
     "output_type": "display_data"
    }
   ],
   "source": [
    "# Create a violin plot\n",
    "sns.violinplot(x=summary_merge['RoC (%) Broadband'], y=summary_merge['Rural electricity access (%)'], color='skyblue')\n",
    "\n",
    "# Add labels and title\n",
    "plt.xlabel('Rate of Change (%) Broadband (2018-2021)')\n",
    "plt.xscale('log')\n",
    "plt.ylabel('Rural Electricity Access (%)')\n",
    "plt.title('Violin Plot: Rate of Change Broadband vs Rural Electricity Access')\n",
    "\n",
    "# Show the plot\n",
    "plt.show()"
   ]
  },
  {
   "cell_type": "code",
   "execution_count": null,
   "metadata": {},
   "outputs": [],
   "source": []
  }
 ],
 "metadata": {
  "anaconda-cloud": {},
  "kernel_info": {
   "name": "python3"
  },
  "kernelspec": {
   "display_name": "Python 3 (ipykernel)",
   "language": "python",
   "name": "python3"
  },
  "language_info": {
   "codemirror_mode": {
    "name": "ipython",
    "version": 3
   },
   "file_extension": ".py",
   "mimetype": "text/x-python",
   "name": "python",
   "nbconvert_exporter": "python",
   "pygments_lexer": "ipython3",
   "version": "3.11.5"
  },
  "latex_envs": {
   "LaTeX_envs_menu_present": true,
   "autoclose": false,
   "autocomplete": true,
   "bibliofile": "biblio.bib",
   "cite_by": "apalike",
   "current_citInitial": 1,
   "eqLabelWithNumbers": true,
   "eqNumInitial": 1,
   "hotkeys": {
    "equation": "Ctrl-E",
    "itemize": "Ctrl-I"
   },
   "labels_anchors": false,
   "latex_user_defs": false,
   "report_style_numbering": false,
   "user_envs_cfg": false
  },
  "nteract": {
   "version": "0.8.4"
  },
  "vscode": {
   "interpreter": {
    "hash": "5384d77d82de63fd599f73e77f9ec786e7719288bf80a29ec0288c670ac3cf32"
   }
  }
 },
 "nbformat": 4,
 "nbformat_minor": 4
}
